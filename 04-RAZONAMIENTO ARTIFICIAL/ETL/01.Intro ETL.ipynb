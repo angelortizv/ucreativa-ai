{
 "cells": [
  {
   "cell_type": "markdown",
   "id": "169412c4-09cc-46e5-8309-7a99a8c6b7e6",
   "metadata": {},
   "source": [
    "# 🧪 Notebook 1 – Introducción a ETL (Extract, Transform, Load)"
   ]
  },
  {
   "cell_type": "markdown",
   "id": "30c24c1f-59c3-4fd7-bd43-a4412728ca62",
   "metadata": {},
   "source": [
    "## 📘 ¿Qué es ETL?\n",
    "ETL significa:\n",
    "- Extract: Extraer datos - Desde archivos, bases de datos, APIs u otros orígenes\n",
    "- Transform: Transformar datos - Limpiar, filtrar, reestructurar o enriquecer la información\n",
    "- Load: Cargar datos - Guardar en un destino final como una base de datos o archivo"
   ]
  },
  {
   "cell_type": "markdown",
   "id": "6b96a94f-e6fb-4b30-9c32-d2e514f06a87",
   "metadata": {},
   "source": [
    "## 🧠 Ejemplo conceptual (con listas de Python)"
   ]
  },
  {
   "cell_type": "markdown",
   "id": "ed939760-7a94-4d8b-b248-4c5700aa423b",
   "metadata": {},
   "source": [
    "### Paso 1: Extracción de datos (simulado)"
   ]
  },
  {
   "cell_type": "code",
   "execution_count": 1,
   "id": "8ae0a28c-57b8-4381-837f-8fb5f0be36df",
   "metadata": {},
   "outputs": [
    {
     "name": "stdout",
     "output_type": "stream",
     "text": [
      "🟡 Datos extraídos:\n",
      "{'nombre': 'Ana', 'ventas': '1200'}\n",
      "{'nombre': 'Luis', 'ventas': '950'}\n",
      "{'nombre': 'Carla', 'ventas': '1600'}\n",
      "{'nombre': 'José', 'ventas': None}\n",
      "{'nombre': 'María', 'ventas': 'error'}\n"
     ]
    }
   ],
   "source": [
    "# Datos simulados como si vinieran de un archivo o API\n",
    "raw_data = [\n",
    "    {\"nombre\": \"Ana\", \"ventas\": \"1200\"},\n",
    "    {\"nombre\": \"Luis\", \"ventas\": \"950\"},\n",
    "    {\"nombre\": \"Carla\", \"ventas\": \"1600\"},\n",
    "    {\"nombre\": \"José\", \"ventas\": None},  # dato faltante\n",
    "    {\"nombre\": \"María\", \"ventas\": \"error\"}  # dato erróneo\n",
    "]\n",
    "\n",
    "print(\"🟡 Datos extraídos:\")\n",
    "for fila in raw_data:\n",
    "    print(fila)\n"
   ]
  },
  {
   "cell_type": "markdown",
   "id": "74dd59d0-1f8c-4a2a-bc56-c1ace7a71106",
   "metadata": {},
   "source": [
    "### Paso 2: Transformación de datos"
   ]
  },
  {
   "cell_type": "code",
   "execution_count": 2,
   "id": "aee9804e-8a26-406d-9dbb-30713020853f",
   "metadata": {},
   "outputs": [
    {
     "name": "stdout",
     "output_type": "stream",
     "text": [
      "❌ Dato inválido para José, se omite.\n",
      "❌ Dato inválido para María, se omite.\n"
     ]
    }
   ],
   "source": [
    "# Transformamos: convertir ventas a entero y limpiar errores\n",
    "transformed_data = []\n",
    "\n",
    "for fila in raw_data:\n",
    "    try:\n",
    "        ventas = int(fila[\"ventas\"])\n",
    "        transformed_data.append({\"nombre\": fila[\"nombre\"], \"ventas\": ventas})\n",
    "    except (TypeError, ValueError):\n",
    "        print(f\"❌ Dato inválido para {fila['nombre']}, se omite.\")\n"
   ]
  },
  {
   "cell_type": "markdown",
   "id": "a9bd8b02-91bc-45f1-add2-8a08b734f891",
   "metadata": {},
   "source": [
    "### Paso 3: Carga de datos"
   ]
  },
  {
   "cell_type": "code",
   "execution_count": 3,
   "id": "de53c0b6-8467-43c6-a851-5c0b8f1b95cd",
   "metadata": {},
   "outputs": [
    {
     "name": "stdout",
     "output_type": "stream",
     "text": [
      "\n",
      "🟢 Datos listos para cargar:\n",
      "{'nombre': 'Ana', 'ventas': 1200}\n",
      "{'nombre': 'Luis', 'ventas': 950}\n",
      "{'nombre': 'Carla', 'ventas': 1600}\n"
     ]
    }
   ],
   "source": [
    "# Cargar los datos procesados (simulado: impresión o guardado en lista final)\n",
    "print(\"\\n🟢 Datos listos para cargar:\")\n",
    "for fila in transformed_data:\n",
    "    print(fila)\n"
   ]
  },
  {
   "cell_type": "markdown",
   "id": "61435eee-a675-4714-8944-59d4bda23db9",
   "metadata": {},
   "source": [
    "## ✅ Resultado final\n",
    "El flujo completo nos da una versión depurada de los datos lista para ser utilizada en análisis o almacenada en otro sistema."
   ]
  },
  {
   "cell_type": "code",
   "execution_count": null,
   "id": "98c10616-fa90-4125-b8d5-563aa9eba33a",
   "metadata": {},
   "outputs": [],
   "source": []
  }
 ],
 "metadata": {
  "kernelspec": {
   "display_name": "Python 3 (ipykernel)",
   "language": "python",
   "name": "python3"
  },
  "language_info": {
   "codemirror_mode": {
    "name": "ipython",
    "version": 3
   },
   "file_extension": ".py",
   "mimetype": "text/x-python",
   "name": "python",
   "nbconvert_exporter": "python",
   "pygments_lexer": "ipython3",
   "version": "3.10.5"
  }
 },
 "nbformat": 4,
 "nbformat_minor": 5
}
