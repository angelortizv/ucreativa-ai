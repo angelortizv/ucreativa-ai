{
 "cells": [
  {
   "cell_type": "markdown",
   "id": "abf6f026-b10b-4911-8803-4cb7384b413e",
   "metadata": {},
   "source": [
    "# 🧪 Notebook 3 – ETL: Transformación de Datos (Transform)"
   ]
  },
  {
   "cell_type": "markdown",
   "id": "93239984-5fbc-4700-9a70-5c9772017288",
   "metadata": {},
   "source": [
    "## 🎯 Objetivo\n",
    "Aplicar técnicas de limpieza, tipado, filtrado, renombrado y normalización de datos utilizando pandas, para preparar la información antes de cargarla o analizarla."
   ]
  },
  {
   "cell_type": "code",
   "execution_count": 1,
   "id": "ef60df83-2344-41ab-a77e-3f45a68e20fa",
   "metadata": {},
   "outputs": [],
   "source": [
    "import pandas as pd\n",
    "import numpy as np"
   ]
  },
  {
   "cell_type": "markdown",
   "id": "1c62cf03-a761-4dce-8954-82b36bd55bd9",
   "metadata": {},
   "source": [
    "## 1. Cargar los datos (desde CSV)"
   ]
  },
  {
   "cell_type": "code",
   "execution_count": 2,
   "id": "e2d78d0b-0abd-47ec-8318-40cbf9b72339",
   "metadata": {},
   "outputs": [
    {
     "name": "stdout",
     "output_type": "stream",
     "text": [
      "🔹 Vista previa de los datos sin transformar:\n",
      "                     nombre ventas\n",
      "0   Alondra Guillén Fuertes   1110\n",
      "1                Flor Amigó    778\n",
      "2      Toño Pinto Domínguez  error\n",
      "3     Esteban Tenorio Acero  error\n",
      "4  Marita Guardiola Company   1469\n"
     ]
    }
   ],
   "source": [
    "df = pd.read_csv(\"data/datos.csv\")  \n",
    "print(\"🔹 Vista previa de los datos sin transformar:\")\n",
    "print(df.head())"
   ]
  },
  {
   "cell_type": "markdown",
   "id": "ff5528ac-634a-400c-9793-b3fd33352288",
   "metadata": {},
   "source": [
    "## 2. Revisar tipos de datos y valores faltantes"
   ]
  },
  {
   "cell_type": "code",
   "execution_count": 3,
   "id": "1e800307-d8c0-492c-a0e1-9c54e7fe7b1f",
   "metadata": {},
   "outputs": [
    {
     "name": "stdout",
     "output_type": "stream",
     "text": [
      "🔍 Tipos de datos:\n",
      "nombre    object\n",
      "ventas    object\n",
      "dtype: object\n",
      "\n",
      "📉 Datos faltantes por columna:\n",
      "nombre     0\n",
      "ventas    28\n",
      "dtype: int64\n"
     ]
    }
   ],
   "source": [
    "print(\"🔍 Tipos de datos:\")\n",
    "print(df.dtypes)\n",
    "\n",
    "print(\"\\n📉 Datos faltantes por columna:\")\n",
    "print(df.isnull().sum())\n"
   ]
  },
  {
   "cell_type": "markdown",
   "id": "f76b43b9-c39a-4656-a287-9a0b78915a23",
   "metadata": {},
   "source": [
    "## 3. Limpieza básica de datos"
   ]
  },
  {
   "cell_type": "markdown",
   "id": "19ecc43f-9784-4962-afdf-3747bdd1c4cb",
   "metadata": {},
   "source": [
    "### 3.1 Eliminar o imputar valores faltantes"
   ]
  },
  {
   "cell_type": "code",
   "execution_count": 4,
   "id": "1120dda5-2a6b-4403-be14-5b6e19ceb316",
   "metadata": {},
   "outputs": [],
   "source": [
    "# Opción 1: Eliminar filas con valores faltantes\n",
    "df_clean = df.dropna()\n",
    "\n",
    "# Opción 2 (recomendado): Imputar ventas faltantes con promedio\n",
    "# df[\"ventas\"] = pd.to_numeric(df[\"ventas\"], errors=\"coerce\")\n",
    "# df[\"ventas\"].fillna(df[\"ventas\"].mean(), inplace=True)\n"
   ]
  },
  {
   "cell_type": "markdown",
   "id": "a44f2f5a-2818-4865-bcd7-2b3a51806172",
   "metadata": {},
   "source": [
    "### 3.2 Eliminar o corregir valores erróneos"
   ]
  },
  {
   "cell_type": "code",
   "execution_count": 5,
   "id": "3512044a-6d55-419b-ac0b-31bbfb47e67a",
   "metadata": {},
   "outputs": [
    {
     "name": "stderr",
     "output_type": "stream",
     "text": [
      "C:\\Users\\PC MASTER\\AppData\\Local\\Temp\\ipykernel_38584\\1013875699.py:2: SettingWithCopyWarning: \n",
      "A value is trying to be set on a copy of a slice from a DataFrame.\n",
      "Try using .loc[row_indexer,col_indexer] = value instead\n",
      "\n",
      "See the caveats in the documentation: https://pandas.pydata.org/pandas-docs/stable/user_guide/indexing.html#returning-a-view-versus-a-copy\n",
      "  df_clean[\"ventas\"] = pd.to_numeric(df_clean[\"ventas\"], errors=\"coerce\")\n"
     ]
    }
   ],
   "source": [
    "# Forzar tipo numérico y convertir errores en NaN\n",
    "df_clean[\"ventas\"] = pd.to_numeric(df_clean[\"ventas\"], errors=\"coerce\")\n",
    "\n",
    "# Eliminar filas con errores\n",
    "df_clean = df_clean.dropna(subset=[\"ventas\"])\n"
   ]
  },
  {
   "cell_type": "markdown",
   "id": "f7431b3e-e39d-4302-b4ec-6e11892a72e6",
   "metadata": {},
   "source": [
    "## 4. Normalizar nombres de columnas"
   ]
  },
  {
   "cell_type": "code",
   "execution_count": 6,
   "id": "3498cbf3-50be-4035-903f-34575dd3bbe3",
   "metadata": {},
   "outputs": [],
   "source": [
    "df_clean.columns = df_clean.columns.str.strip().str.lower()\n"
   ]
  },
  {
   "cell_type": "markdown",
   "id": "25c3d70e-6643-4a1f-a475-12740c1c6492",
   "metadata": {},
   "source": [
    "## 5. Filtrar por condiciones específicas"
   ]
  },
  {
   "cell_type": "code",
   "execution_count": 7,
   "id": "195ca944-1bc7-4458-8f1e-edcd1cf8c32a",
   "metadata": {},
   "outputs": [
    {
     "name": "stdout",
     "output_type": "stream",
     "text": [
      "🧼 Filtrado por ventas > 1000:\n",
      "                        nombre  ventas\n",
      "0      Alondra Guillén Fuertes  1110.0\n",
      "4     Marita Guardiola Company  1469.0\n",
      "11         Anna Benito Cardona  1727.0\n",
      "14   Agustina Marquez Aragonés  1466.0\n",
      "21  José Luis Mancebo Cañellas  1605.0\n"
     ]
    }
   ],
   "source": [
    "# Filtrar empleados con ventas mayores a 1000\n",
    "df_filtrado = df_clean[df_clean[\"ventas\"] > 1000]\n",
    "print(\"🧼 Filtrado por ventas > 1000:\")\n",
    "print(df_filtrado.head())\n"
   ]
  },
  {
   "cell_type": "markdown",
   "id": "755ee361-4373-4307-a673-75613b6ed7b9",
   "metadata": {},
   "source": [
    "## 6. Clasificar el rendimiento"
   ]
  },
  {
   "cell_type": "code",
   "execution_count": 10,
   "id": "531821f8-6234-43b4-8794-ff0f822821b3",
   "metadata": {},
   "outputs": [],
   "source": [
    "def clasificar_ventas(v):\n",
    "    if v >= 1500:\n",
    "        return \"Excelente\"\n",
    "    elif v >= 1000:\n",
    "        return \"Bueno\"\n",
    "    else:\n",
    "        return \"Mejorable\"\n",
    "\n",
    "df_clean[\"clasificacion\"] = df_clean[\"ventas\"].apply(clasificar_ventas)"
   ]
  },
  {
   "cell_type": "code",
   "execution_count": 11,
   "id": "65834234-b917-414b-8a0c-10ee914d8302",
   "metadata": {},
   "outputs": [
    {
     "name": "stdout",
     "output_type": "stream",
     "text": [
      "📊 Cantidad por clasificación:\n",
      "clasificacion\n",
      "Bueno        15\n",
      "Excelente    11\n",
      "Mejorable     9\n",
      "Name: count, dtype: int64\n",
      "\n",
      "📈 Estadísticas generales:\n",
      "count      35.000000\n",
      "mean     1296.400000\n",
      "std       357.747298\n",
      "min       607.000000\n",
      "25%      1038.500000\n",
      "50%      1343.000000\n",
      "75%      1574.500000\n",
      "max      1857.000000\n",
      "Name: ventas, dtype: float64\n"
     ]
    }
   ],
   "source": [
    "print(\"📊 Cantidad por clasificación:\")\n",
    "print(df_clean[\"clasificacion\"].value_counts())\n",
    "\n",
    "print(\"\\n📈 Estadísticas generales:\")\n",
    "print(df_clean[\"ventas\"].describe())\n"
   ]
  },
  {
   "cell_type": "code",
   "execution_count": null,
   "id": "199a7fbc-ff40-4fbd-bc9e-59e60b6305f4",
   "metadata": {},
   "outputs": [],
   "source": []
  }
 ],
 "metadata": {
  "kernelspec": {
   "display_name": "Python 3 (ipykernel)",
   "language": "python",
   "name": "python3"
  },
  "language_info": {
   "codemirror_mode": {
    "name": "ipython",
    "version": 3
   },
   "file_extension": ".py",
   "mimetype": "text/x-python",
   "name": "python",
   "nbconvert_exporter": "python",
   "pygments_lexer": "ipython3",
   "version": "3.10.5"
  }
 },
 "nbformat": 4,
 "nbformat_minor": 5
}
