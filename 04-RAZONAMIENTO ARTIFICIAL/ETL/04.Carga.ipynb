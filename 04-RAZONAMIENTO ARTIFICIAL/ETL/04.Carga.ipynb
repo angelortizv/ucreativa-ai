{
 "cells": [
  {
   "cell_type": "markdown",
   "id": "4e5af550-18ad-44b5-b3b3-e5e6cab389bd",
   "metadata": {},
   "source": [
    "# 🧪 Notebook 4 – ETL: Carga de Datos (Load)"
   ]
  },
  {
   "cell_type": "markdown",
   "id": "f8a3b8a5-e431-4000-a9f2-ce69722d0b0c",
   "metadata": {},
   "source": [
    "## 🎯 Objetivo\n",
    "Aprender cómo guardar datos transformados desde un DataFrame de pandas hacia:\n",
    "- Archivos locales (CSV y Excel)\n",
    "- Google Drive (opcional, vía Google Colab)\n",
    "- SQLite (mencionado al final como plus)"
   ]
  },
  {
   "cell_type": "code",
   "execution_count": 2,
   "id": "5998ed43-02fb-4a63-9b36-bf9cf170adae",
   "metadata": {},
   "outputs": [],
   "source": [
    "import pandas as pd"
   ]
  },
  {
   "cell_type": "markdown",
   "id": "121c46e6-acfa-4bc9-8cdf-15170dd44cd8",
   "metadata": {},
   "source": [
    "## 🛠️ Supongamos que ya tenemos el DataFrame limpio df_clean desde el notebook anterior"
   ]
  },
  {
   "cell_type": "code",
   "execution_count": 5,
   "id": "34a20c33-ffb6-422e-8801-65d806130c75",
   "metadata": {},
   "outputs": [],
   "source": [
    "df_clean = pd.read_csv(\"data/ventas_limpias.csv\")  "
   ]
  },
  {
   "cell_type": "code",
   "execution_count": 6,
   "id": "a5e27834-126e-4649-a845-c8eca2f17206",
   "metadata": {},
   "outputs": [
    {
     "data": {
      "text/html": [
       "<div>\n",
       "<style scoped>\n",
       "    .dataframe tbody tr th:only-of-type {\n",
       "        vertical-align: middle;\n",
       "    }\n",
       "\n",
       "    .dataframe tbody tr th {\n",
       "        vertical-align: top;\n",
       "    }\n",
       "\n",
       "    .dataframe thead th {\n",
       "        text-align: right;\n",
       "    }\n",
       "</style>\n",
       "<table border=\"1\" class=\"dataframe\">\n",
       "  <thead>\n",
       "    <tr style=\"text-align: right;\">\n",
       "      <th></th>\n",
       "      <th>nombre</th>\n",
       "      <th>ventas</th>\n",
       "      <th>clasificacion</th>\n",
       "    </tr>\n",
       "  </thead>\n",
       "  <tbody>\n",
       "    <tr>\n",
       "      <th>0</th>\n",
       "      <td>Cipriano Yuste</td>\n",
       "      <td>1671</td>\n",
       "      <td>Excelente</td>\n",
       "    </tr>\n",
       "    <tr>\n",
       "      <th>1</th>\n",
       "      <td>Severo Andrés</td>\n",
       "      <td>824</td>\n",
       "      <td>Mejorable</td>\n",
       "    </tr>\n",
       "    <tr>\n",
       "      <th>2</th>\n",
       "      <td>Andrés Felipe Gargallo Navas</td>\n",
       "      <td>1655</td>\n",
       "      <td>Excelente</td>\n",
       "    </tr>\n",
       "    <tr>\n",
       "      <th>3</th>\n",
       "      <td>Azahara Sabater Barco</td>\n",
       "      <td>1373</td>\n",
       "      <td>Bueno</td>\n",
       "    </tr>\n",
       "    <tr>\n",
       "      <th>4</th>\n",
       "      <td>Elpidio Landa</td>\n",
       "      <td>1657</td>\n",
       "      <td>Excelente</td>\n",
       "    </tr>\n",
       "  </tbody>\n",
       "</table>\n",
       "</div>"
      ],
      "text/plain": [
       "                         nombre  ventas clasificacion\n",
       "0                Cipriano Yuste    1671     Excelente\n",
       "1                 Severo Andrés     824     Mejorable\n",
       "2  Andrés Felipe Gargallo Navas    1655     Excelente\n",
       "3         Azahara Sabater Barco    1373         Bueno\n",
       "4                 Elpidio Landa    1657     Excelente"
      ]
     },
     "execution_count": 6,
     "metadata": {},
     "output_type": "execute_result"
    }
   ],
   "source": [
    "df_clean.head()"
   ]
  },
  {
   "cell_type": "code",
   "execution_count": 7,
   "id": "1471cb9e-0460-4c53-b2fb-f3996ac00e9c",
   "metadata": {},
   "outputs": [
    {
     "name": "stdout",
     "output_type": "stream",
     "text": [
      "📁 Archivo CSV guardado como 'ventas_limpias.csv'\n"
     ]
    }
   ],
   "source": [
    "df_clean.to_csv(\"data/ventas_limpias.csv\", index=False)\n",
    "print(\"📁 Archivo CSV guardado como 'ventas_limpias.csv'\")"
   ]
  },
  {
   "cell_type": "code",
   "execution_count": 8,
   "id": "4ae3965a-7d40-4fc0-b08a-acc391c12e91",
   "metadata": {},
   "outputs": [
    {
     "name": "stdout",
     "output_type": "stream",
     "text": [
      "📁 Archivo Excel guardado como 'ventas_limpias.xlsx'\n"
     ]
    }
   ],
   "source": [
    "df_clean.to_excel(\"data/ventas_limpias.xlsx\", index=False)\n",
    "print(\"📁 Archivo Excel guardado como 'ventas_limpias.xlsx'\")"
   ]
  }
 ],
 "metadata": {
  "kernelspec": {
   "display_name": "Python 3 (ipykernel)",
   "language": "python",
   "name": "python3"
  },
  "language_info": {
   "codemirror_mode": {
    "name": "ipython",
    "version": 3
   },
   "file_extension": ".py",
   "mimetype": "text/x-python",
   "name": "python",
   "nbconvert_exporter": "python",
   "pygments_lexer": "ipython3",
   "version": "3.10.5"
  }
 },
 "nbformat": 4,
 "nbformat_minor": 5
}
