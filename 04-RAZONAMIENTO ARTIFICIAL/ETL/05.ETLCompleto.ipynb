{
 "cells": [
  {
   "cell_type": "markdown",
   "id": "2477d29b",
   "metadata": {},
   "source": [
    "# 🧪 Notebook 5 – Proceso ETL Completo"
   ]
  },
  {
   "cell_type": "code",
   "execution_count": 1,
   "id": "dc60e19d",
   "metadata": {},
   "outputs": [],
   "source": [
    "import pandas as pd\n",
    "import matplotlib.pyplot as plt"
   ]
  },
  {
   "cell_type": "markdown",
   "id": "509f9e4a",
   "metadata": {},
   "source": [
    "## 1. EXTRACT – Cargar los datos"
   ]
  },
  {
   "cell_type": "code",
   "execution_count": 3,
   "id": "59c7c547",
   "metadata": {},
   "outputs": [
    {
     "name": "stdout",
     "output_type": "stream",
     "text": [
      "📂 Datos extraídos:\n"
     ]
    },
    {
     "data": {
      "text/html": [
       "<div>\n",
       "<style scoped>\n",
       "    .dataframe tbody tr th:only-of-type {\n",
       "        vertical-align: middle;\n",
       "    }\n",
       "\n",
       "    .dataframe tbody tr th {\n",
       "        vertical-align: top;\n",
       "    }\n",
       "\n",
       "    .dataframe thead th {\n",
       "        text-align: right;\n",
       "    }\n",
       "</style>\n",
       "<table border=\"1\" class=\"dataframe\">\n",
       "  <thead>\n",
       "    <tr style=\"text-align: right;\">\n",
       "      <th></th>\n",
       "      <th>nombre</th>\n",
       "      <th>ventas</th>\n",
       "    </tr>\n",
       "  </thead>\n",
       "  <tbody>\n",
       "    <tr>\n",
       "      <th>0</th>\n",
       "      <td>Alondra Guillén Fuertes</td>\n",
       "      <td>1110</td>\n",
       "    </tr>\n",
       "    <tr>\n",
       "      <th>1</th>\n",
       "      <td>Flor Amigó</td>\n",
       "      <td>778</td>\n",
       "    </tr>\n",
       "    <tr>\n",
       "      <th>2</th>\n",
       "      <td>Toño Pinto Domínguez</td>\n",
       "      <td>error</td>\n",
       "    </tr>\n",
       "    <tr>\n",
       "      <th>3</th>\n",
       "      <td>Esteban Tenorio Acero</td>\n",
       "      <td>error</td>\n",
       "    </tr>\n",
       "    <tr>\n",
       "      <th>4</th>\n",
       "      <td>Marita Guardiola Company</td>\n",
       "      <td>1469</td>\n",
       "    </tr>\n",
       "  </tbody>\n",
       "</table>\n",
       "</div>"
      ],
      "text/plain": [
       "                     nombre ventas\n",
       "0   Alondra Guillén Fuertes   1110\n",
       "1                Flor Amigó    778\n",
       "2      Toño Pinto Domínguez  error\n",
       "3     Esteban Tenorio Acero  error\n",
       "4  Marita Guardiola Company   1469"
      ]
     },
     "execution_count": 3,
     "metadata": {},
     "output_type": "execute_result"
    }
   ],
   "source": [
    "df = pd.read_csv(\"data/datos.csv\")\n",
    "print(\"📂 Datos extraídos:\")\n",
    "df.head()"
   ]
  },
  {
   "cell_type": "markdown",
   "id": "4fdb37a4",
   "metadata": {},
   "source": [
    "## 2. TRANSFORM – Limpieza y Clasificación"
   ]
  },
  {
   "cell_type": "code",
   "execution_count": 4,
   "id": "0570cad8",
   "metadata": {},
   "outputs": [
    {
     "name": "stderr",
     "output_type": "stream",
     "text": [
      "C:\\Users\\PC MASTER\\AppData\\Local\\Temp\\ipykernel_42224\\1891339375.py:12: SettingWithCopyWarning: \n",
      "A value is trying to be set on a copy of a slice from a DataFrame.\n",
      "Try using .loc[row_indexer,col_indexer] = value instead\n",
      "\n",
      "See the caveats in the documentation: https://pandas.pydata.org/pandas-docs/stable/user_guide/indexing.html#returning-a-view-versus-a-copy\n",
      "  df_clean[\"clasificacion\"] = df_clean[\"ventas\"].apply(clasificar_ventas)\n"
     ]
    },
    {
     "data": {
      "text/html": [
       "<div>\n",
       "<style scoped>\n",
       "    .dataframe tbody tr th:only-of-type {\n",
       "        vertical-align: middle;\n",
       "    }\n",
       "\n",
       "    .dataframe tbody tr th {\n",
       "        vertical-align: top;\n",
       "    }\n",
       "\n",
       "    .dataframe thead th {\n",
       "        text-align: right;\n",
       "    }\n",
       "</style>\n",
       "<table border=\"1\" class=\"dataframe\">\n",
       "  <thead>\n",
       "    <tr style=\"text-align: right;\">\n",
       "      <th></th>\n",
       "      <th>nombre</th>\n",
       "      <th>ventas</th>\n",
       "      <th>clasificacion</th>\n",
       "    </tr>\n",
       "  </thead>\n",
       "  <tbody>\n",
       "    <tr>\n",
       "      <th>0</th>\n",
       "      <td>Alondra Guillén Fuertes</td>\n",
       "      <td>1110.0</td>\n",
       "      <td>Bueno</td>\n",
       "    </tr>\n",
       "    <tr>\n",
       "      <th>1</th>\n",
       "      <td>Flor Amigó</td>\n",
       "      <td>778.0</td>\n",
       "      <td>Mejorable</td>\n",
       "    </tr>\n",
       "    <tr>\n",
       "      <th>4</th>\n",
       "      <td>Marita Guardiola Company</td>\n",
       "      <td>1469.0</td>\n",
       "      <td>Bueno</td>\n",
       "    </tr>\n",
       "    <tr>\n",
       "      <th>10</th>\n",
       "      <td>Virginia Andres Goñi</td>\n",
       "      <td>910.0</td>\n",
       "      <td>Mejorable</td>\n",
       "    </tr>\n",
       "    <tr>\n",
       "      <th>11</th>\n",
       "      <td>Anna Benito Cardona</td>\n",
       "      <td>1727.0</td>\n",
       "      <td>Excelente</td>\n",
       "    </tr>\n",
       "  </tbody>\n",
       "</table>\n",
       "</div>"
      ],
      "text/plain": [
       "                      nombre  ventas clasificacion\n",
       "0    Alondra Guillén Fuertes  1110.0         Bueno\n",
       "1                 Flor Amigó   778.0     Mejorable\n",
       "4   Marita Guardiola Company  1469.0         Bueno\n",
       "10      Virginia Andres Goñi   910.0     Mejorable\n",
       "11       Anna Benito Cardona  1727.0     Excelente"
      ]
     },
     "execution_count": 4,
     "metadata": {},
     "output_type": "execute_result"
    }
   ],
   "source": [
    "\n",
    "df[\"ventas\"] = pd.to_numeric(df[\"ventas\"], errors=\"coerce\")\n",
    "df_clean = df.dropna(subset=[\"nombre\", \"ventas\"])\n",
    "\n",
    "def clasificar_ventas(v):\n",
    "    if v >= 1500:\n",
    "        return \"Excelente\"\n",
    "    elif v >= 1000:\n",
    "        return \"Bueno\"\n",
    "    else:\n",
    "        return \"Mejorable\"\n",
    "\n",
    "df_clean[\"clasificacion\"] = df_clean[\"ventas\"].apply(clasificar_ventas)\n",
    "df_clean.head()\n"
   ]
  },
  {
   "cell_type": "markdown",
   "id": "67cc70ae",
   "metadata": {},
   "source": [
    "## 3. LOAD – Guardar resultados"
   ]
  },
  {
   "cell_type": "code",
   "execution_count": 5,
   "id": "d0445694",
   "metadata": {},
   "outputs": [],
   "source": [
    "\n",
    "df_clean.to_csv(\"data/completo/ventas_limpias_etl.csv\", index=False)\n",
    "df_clean.to_excel(\"data/completo/ventas_limpias_etl.xlsx\", index=False)\n"
   ]
  },
  {
   "cell_type": "markdown",
   "id": "c8f7f9b0",
   "metadata": {},
   "source": [
    "## 4. ANÁLISIS – Visualización y estadísticas"
   ]
  },
  {
   "cell_type": "code",
   "execution_count": 6,
   "id": "b132c031",
   "metadata": {},
   "outputs": [
    {
     "name": "stdout",
     "output_type": "stream",
     "text": [
      "📊 Clasificación:\n",
      "clasificacion\n",
      "Bueno        15\n",
      "Excelente    11\n",
      "Mejorable     9\n",
      "Name: count, dtype: int64\n",
      "\n",
      "📈 Estadísticas:\n",
      "count      35.000000\n",
      "mean     1296.400000\n",
      "std       357.747298\n",
      "min       607.000000\n",
      "25%      1038.500000\n",
      "50%      1343.000000\n",
      "75%      1574.500000\n",
      "max      1857.000000\n",
      "Name: ventas, dtype: float64\n"
     ]
    },
    {
     "data": {
      "image/png": "[encoded data removed]",
      "text/plain": [
       "<Figure size 800x500 with 1 Axes>"
      ]
     },
     "metadata": {},
     "output_type": "display_data"
    },
    {
     "data": {
      "image/png": "[encoded data removed]",
      "text/plain": [
       "<Figure size 800x500 with 1 Axes>"
      ]
     },
     "metadata": {},
     "output_type": "display_data"
    }
   ],
   "source": [
    "\n",
    "print(\"📊 Clasificación:\")\n",
    "print(df_clean[\"clasificacion\"].value_counts())\n",
    "\n",
    "print(\"\\n📈 Estadísticas:\")\n",
    "print(df_clean[\"ventas\"].describe())\n",
    "\n",
    "# Gráfico de barras\n",
    "plt.figure(figsize=(8, 5))\n",
    "df_clean[\"clasificacion\"].value_counts().plot(kind=\"bar\", color=[\"green\", \"blue\", \"orange\"])\n",
    "plt.title(\"Empleados por Clasificación\")\n",
    "plt.xlabel(\"Clasificación\")\n",
    "plt.ylabel(\"Cantidad\")\n",
    "plt.xticks(rotation=0)\n",
    "plt.tight_layout()\n",
    "plt.show()\n",
    "\n",
    "# Histograma\n",
    "plt.figure(figsize=(8, 5))\n",
    "plt.hist(df_clean[\"ventas\"], bins=20, color=\"skyblue\", edgecolor=\"black\")\n",
    "plt.title(\"Distribución de Ventas\")\n",
    "plt.xlabel(\"Ventas\")\n",
    "plt.ylabel(\"Frecuencia\")\n",
    "plt.tight_layout()\n",
    "plt.show()\n"
   ]
  },
  {
   "cell_type": "markdown",
   "id": "cc9530ed",
   "metadata": {},
   "source": [
    "## ✅ Conclusión\n",
    "\n",
    "Este notebook ejecuta un flujo ETL completo con visualización de resultados."
   ]
  }
 ],
 "metadata": {
  "kernelspec": {
   "display_name": "Python 3 (ipykernel)",
   "language": "python",
   "name": "python3"
  },
  "language_info": {
   "codemirror_mode": {
    "name": "ipython",
    "version": 3
   },
   "file_extension": ".py",
   "mimetype": "text/x-python",
   "name": "python",
   "nbconvert_exporter": "python",
   "pygments_lexer": "ipython3",
   "version": "3.10.5"
  }
 },
 "nbformat": 4,
 "nbformat_minor": 5
}
