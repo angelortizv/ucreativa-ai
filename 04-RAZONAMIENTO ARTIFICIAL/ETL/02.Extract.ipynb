{
 "cells": [
  {
   "cell_type": "markdown",
   "id": "c3bf2bc8-6f51-4fae-8dff-57c3d68087e6",
   "metadata": {},
   "source": [
    "# 🧪 Notebook 2 – ETL: Fase de Extracción (Extract)"
   ]
  },
  {
   "cell_type": "markdown",
   "id": "d2827deb-5444-4af7-a6f8-a9fcf2ca5044",
   "metadata": {},
   "source": [
    "## 🎯 Objetivo:\n",
    "Aprender diferentes formas de extraer datos usando Python y pandas, desde archivos locales y estructuras en memoria, hasta datos descargados desde internet."
   ]
  },
  {
   "cell_type": "code",
   "execution_count": 7,
   "id": "8011d4d4-5062-4827-a82b-ac426c5b14d2",
   "metadata": {},
   "outputs": [],
   "source": [
    "import pandas as pd\n",
    "import json\n",
    "import requests"
   ]
  },
  {
   "cell_type": "markdown",
   "id": "3b670ed4-95df-4d9d-8429-40993fa78518",
   "metadata": {},
   "source": [
    "## 🟡 1. Extracción desde un archivo CSV"
   ]
  },
  {
   "cell_type": "code",
   "execution_count": 5,
   "id": "782a4f1b-001c-4a63-998e-6c6253b8b584",
   "metadata": {},
   "outputs": [
    {
     "name": "stdout",
     "output_type": "stream",
     "text": [
      "                     nombre ventas\n",
      "0   Alondra Guillén Fuertes   1110\n",
      "1                Flor Amigó    778\n",
      "2      Toño Pinto Domínguez  error\n",
      "3     Esteban Tenorio Acero  error\n",
      "4  Marita Guardiola Company   1469\n"
     ]
    }
   ],
   "source": [
    "df_csv = pd.read_csv(\"data/datos.csv\") \n",
    "print(df_csv.head())"
   ]
  },
  {
   "cell_type": "markdown",
   "id": "e36e0369-79d5-4475-8dac-a844014328ab",
   "metadata": {},
   "source": [
    "## 🟢 2. Extracción desde archivo Excel"
   ]
  },
  {
   "cell_type": "code",
   "execution_count": 8,
   "id": "ee85df13-e55b-4d3f-bf1c-241efa26c2bd",
   "metadata": {},
   "outputs": [
    {
     "name": "stdout",
     "output_type": "stream",
     "text": [
      "  Nombre Departamento  Ventas\n",
      "0    Ana       Ventas    1200\n",
      "1   Luis    Marketing     950\n",
      "2  Carla       Ventas    1600\n",
      "3   José      Soporte     870\n",
      "4  María       Ventas    1550\n"
     ]
    }
   ],
   "source": [
    "# Leer archivo Excel (requiere openpyxl)\n",
    "df_excel = pd.read_excel(\"data/datos_ventas.xlsx\")\n",
    "print(df_excel.head())\n"
   ]
  },
  {
   "cell_type": "markdown",
   "id": "d06bbcb8-234b-42b6-97d9-82516158f302",
   "metadata": {},
   "source": [
    "## 🔵 3. Extracción desde JSON local"
   ]
  },
  {
   "cell_type": "code",
   "execution_count": 11,
   "id": "d06bf0c8-8ac4-413f-a38f-5de265e0e0a1",
   "metadata": {},
   "outputs": [
    {
     "name": "stdout",
     "output_type": "stream",
     "text": [
      "  nombre  ventas\n",
      "0    Ana    1200\n",
      "1   Luis     950\n"
     ]
    }
   ],
   "source": [
    "with open(\"data/datos.json\", \"w\") as f:\n",
    "    json.dump([{\"nombre\": \"Ana\", \"ventas\": 1200}, {\"nombre\": \"Luis\", \"ventas\": 950}], f)\n",
    "\n",
    "# Leer JSON con pandas\n",
    "df_json = pd.read_json(\"data/datos.json\")\n",
    "print(df_json)\n"
   ]
  },
  {
   "cell_type": "markdown",
   "id": "81cc330f-eb5e-4b08-830d-93f8e99e8c79",
   "metadata": {},
   "source": [
    "## 🔶 4. Extracción desde estructura en memoria (simulación de API)"
   ]
  },
  {
   "cell_type": "code",
   "execution_count": 13,
   "id": "e638392d-d1bb-4683-97b3-a35d77c06ad0",
   "metadata": {},
   "outputs": [
    {
     "name": "stdout",
     "output_type": "stream",
     "text": [
      "   nombre  ventas\n",
      "0  Carlos    1300\n",
      "1   Laura     980\n"
     ]
    }
   ],
   "source": [
    "# Simular datos de una API\n",
    "api_data = [\n",
    "    {\"nombre\": \"Carlos\", \"ventas\": 1300},\n",
    "    {\"nombre\": \"Laura\", \"ventas\": 980}\n",
    "]\n",
    "\n",
    "df_api = pd.DataFrame(api_data)\n",
    "print(df_api)\n"
   ]
  },
  {
   "cell_type": "markdown",
   "id": "485f25f8-beeb-4a7d-bc45-5ce16e0fa486",
   "metadata": {},
   "source": [
    "## 🌐 5. Descargar archivo desde una URL externa (ejemplo con CSV)"
   ]
  },
  {
   "cell_type": "code",
   "execution_count": 14,
   "id": "7fd505b6-29aa-4d89-ae05-9b098f6b467d",
   "metadata": {},
   "outputs": [
    {
     "name": "stdout",
     "output_type": "stream",
     "text": [
      "🌍 Datos descargados desde internet (airtravel dataset):\n",
      "  Month   \"1958\"   \"1959\"   \"1960\"\n",
      "0   JAN      340      360      417\n",
      "1   FEB      318      342      391\n",
      "2   MAR      362      406      419\n",
      "3   APR      348      396      461\n",
      "4   MAY      363      420      472\n"
     ]
    }
   ],
   "source": [
    "url = \"https://people.sc.fsu.edu/~jburkardt/data/csv/airtravel.csv\"\n",
    "df_url = pd.read_csv(url)\n",
    "print(\"🌍 Datos descargados desde internet (airtravel dataset):\")\n",
    "print(df_url.head())"
   ]
  },
  {
   "cell_type": "code",
   "execution_count": null,
   "id": "19bcfdc5-f3b8-4fbb-a9dd-d36537026376",
   "metadata": {},
   "outputs": [],
   "source": []
  }
 ],
 "metadata": {
  "kernelspec": {
   "display_name": "Python 3 (ipykernel)",
   "language": "python",
   "name": "python3"
  },
  "language_info": {
   "codemirror_mode": {
    "name": "ipython",
    "version": 3
   },
   "file_extension": ".py",
   "mimetype": "text/x-python",
   "name": "python",
   "nbconvert_exporter": "python",
   "pygments_lexer": "ipython3",
   "version": "3.10.5"
  }
 },
 "nbformat": 4,
 "nbformat_minor": 5
}
