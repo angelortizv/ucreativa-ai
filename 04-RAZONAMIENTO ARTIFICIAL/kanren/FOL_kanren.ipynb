{
 "cells": [
  {
   "cell_type": "markdown",
   "id": "f45ee775-1512-4efb-9264-f5e69c181f00",
   "metadata": {},
   "source": [
    "# Lógica de Primer Orden (FOL) y **kanren** en Python"
   ]
  },
  {
   "cell_type": "markdown",
   "id": "86ea4203-29c2-43f8-a7c6-be8354f68c11",
   "metadata": {},
   "source": [
    "## Objetivo\n",
    "\n",
    "Este notebook explica, paso a paso y con ejemplos ejecutables, los conceptos clave de la **Lógica de Primer Orden (FOL)** y cómo experimentar con lógica relacional en Python usando la librería **kanren**."
   ]
  },
  {
   "cell_type": "markdown",
   "id": "97b6b036-9581-456f-b27c-7763a759e291",
   "metadata": {},
   "source": [
    "## Estructura\n",
    "\n",
    "1. Introducción y objetivos\n",
    "2. Conceptos teóricos de FOL (sintaxis y semántica)\n",
    "3. Inferencia en FOL: un panorama (unificación, resolución, CNF, Skolemización)\n",
    "4. Ejemplos formales (dominio de parentesco)\n",
    "5. Introducción a `kanren` — instalación y primeros pasos\n",
    "6. Ejemplos prácticos con `kanren`: hechos, reglas, consultas y recursión"
   ]
  },
  {
   "cell_type": "markdown",
   "id": "084b2db2-bda4-4c9e-b618-e41ab58936c1",
   "metadata": {},
   "source": [
    "## 1) Requisitos previos\n",
    "\n",
    "- Python 3.8+ (recomendado). Algunos usuarios han reportado incompatibilidades con versiones muy recientes en librerías antiguas; si ves errores relativos a `collections.Iterator` podría ser por compatibilidad con la versión de la librería. Ejecuta el ambiente en un `virtualenv` o `venv` para aislar dependencias.\n",
    "\n",
    "\n",
    "Instalación (terminal):\n",
    "\n",
    "\n",
    "```bash\n",
    "pip install kanren\n",
    "```\n",
    "\n",
    "\n",
    "(En este notebook supondremos que `kanren` ya está instalado.)"
   ]
  },
  {
   "cell_type": "code",
   "execution_count": 3,
   "id": "7a004c8a-f759-4791-9369-eee00b9409c5",
   "metadata": {},
   "outputs": [
    {
     "name": "stdout",
     "output_type": "stream",
     "text": [
      "Collecting kanren\n",
      "  Downloading kanren-0.2.3.tar.gz (23 kB)\n",
      "  Preparing metadata (setup.py): started\n",
      "  Preparing metadata (setup.py): finished with status 'done'\n",
      "Requirement already satisfied: toolz in c:\\users\\angelo ortiz\\anaconda3\\lib\\site-packages (from kanren) (0.12.0)\n",
      "Collecting multipledispatch (from kanren)\n",
      "  Downloading multipledispatch-1.0.0-py3-none-any.whl.metadata (3.8 kB)\n",
      "Collecting unification (from kanren)\n",
      "  Downloading unification-0.2.2-py2.py3-none-any.whl.metadata (3.3 kB)\n",
      "Downloading multipledispatch-1.0.0-py3-none-any.whl (12 kB)\n",
      "Downloading unification-0.2.2-py2.py3-none-any.whl (10 kB)\n",
      "Building wheels for collected packages: kanren\n",
      "  Building wheel for kanren (setup.py): started\n",
      "  Building wheel for kanren (setup.py): finished with status 'done'\n",
      "  Created wheel for kanren: filename=kanren-0.2.3-py3-none-any.whl size=15893 sha256=8617de739a058048d2f11ea8942d456ba96998cf9c3a167ddbc509dded93b391\n",
      "  Stored in directory: c:\\users\\angelo ortiz\\appdata\\local\\pip\\cache\\wheels\\38\\4f\\35\\e04a31cf00ecb89a3a31853a6207c9b3c44d3c3562e729fbf1\n",
      "Successfully built kanren\n",
      "Installing collected packages: multipledispatch, unification, kanren\n",
      "Successfully installed kanren-0.2.3 multipledispatch-1.0.0 unification-0.2.2\n",
      "Note: you may need to restart the kernel to use updated packages.\n"
     ]
    }
   ],
   "source": [
    "pip install kanren"
   ]
  },
  {
   "cell_type": "markdown",
   "id": "4c9a172f-1650-469a-892d-abf28ffbb236",
   "metadata": {},
   "source": [
    "## 2) ¿Qué es la Lógica de Primer Orden (FOL)? — Resumen conceptual\n",
    "\n",
    "**Idea:** FOL extiende la lógica proposicional permitiendo hablar de **predicados**, **funciones**, **constantes** y **cuantificadores** (\\forall, \\exists). Permite expresar propiedades sobre objetos y relaciones entre ellos.\n",
    "\n",
    "\n",
    "**Elementos básicos:**\n",
    "- **Constantes:** símbolos que representan objetos concretos (ej. `juan`, `marta`).\n",
    "- **Variables:** símbolos que representan objetos no especificados (ej. `x`, `y`).\n",
    "- **Funciones:** mapeos desde tuplas de objetos a objetos (ej. `padre_de(x)`).\n",
    "- **Predicados:** propiedades o relaciones que pueden ser verdaderas/falsas sobre términos (ej. `Padre(x,y)`).\n",
    "- **Átomos:** `Padre(juan, maria)` es una fórmula atómica.\n",
    "- **Cuantificadores:** `\\forall x P(x)` (para todo x), `\\exists x P(x)` (existe x tal que P(x)).\n",
    "\n",
    "\n",
    "**Sintaxis vs Semántica:**\n",
    "- La sintaxis define qué expresiones son bien formadas (WFF).\n",
    "- La semántica define lo que significan esas expresiones en un **interpretación** (modelo): dominio, asignación de constantes, funciones y predicados."
   ]
  },
  {
   "cell_type": "markdown",
   "id": "92e178ae-f4ba-4734-b70f-1ea8057ad322",
   "metadata": {},
   "source": [
    "## 3) Inferencia en FOL — panorama rápido\n",
    "\n",
    "- **Entailment (Consecuencia lógica):** una teoría \\(T\\) implica una sentencia \\(\\varphi\\) si todas las interpretaciones que satisfacen \\(T\\) también satisfacen \\(\\varphi\\).\n",
    "- **Prueba automática:** se usan técnicas como **unificación**, **resolución** y conversión a **Clausal Normal Form (CNF)**.\n",
    "- **Skolemización:** paso para eliminar cuantificadores existenciales introduciendo funciones de Skolem.\n",
    "- **Completitud/Decidibilidad:** la FOL es **completamente axiomática en el sentido de que la resolución es semi-decidible**; la validez en FOL es indecidible en general (no hay algoritmo que decida para toda fórmula si es válida)."
   ]
  },
  {
   "cell_type": "markdown",
   "id": "44354691-3a51-4673-91fd-9e3530192781",
   "metadata": {},
   "source": [
    "## 4) Ejemplo formal — dominio de parentesco (en notación FOL)\n",
    "\n",
    "Hechos (en notación FOL):\n",
    "\n",
    "\n",
    "- `Padre(juan, maria)`\n",
    "- `Padre(ana, juan)`\n",
    "\n",
    "\n",
    "Regla:\n",
    "\n",
    "\n",
    "- `∀x, y, z (Padre(x, y) ∧ Padre(y, z) -> Abuelo(x, z))`\n",
    "\n",
    "\n",
    "Consultas que queremos responder (ej.):\n",
    "\n",
    "\n",
    "- ¿Quiénes son los abuelos de María? (equivalente a `∃x Abuelo(x, maria)` — pero en práctica queremos enumerar los `x` que satisfacen la relación)\n",
    "\n",
    "\n",
    "La transición a un sistema programable hace la representación explícita y nos da mecanismos para enumerar soluciones (si existen).\n"
   ]
  },
  {
   "cell_type": "markdown",
   "id": "c579b709-8708-4011-9f76-be644a4c66fb",
   "metadata": {},
   "source": [
    "## 5) De FOL a programación relacional: qué espera kanren\n",
    "\n",
    "`kanren` es una librería de **programación relacional** (familia de miniKanren) que permite declarar relaciones y realizar **búsquedas declarativas**: en lugar de escribir un algoritmo imperativo, declaras reglas/hechos y preguntas \"¿qué valores satisfacen estas condiciones?\".\n",
    "\n",
    "\n",
    "Concepto clave: **las consultas en kanren corresponden a fórmulas existenciales**. Por ejemplo, preguntar \"¿existe x tal que `Padre(x, maria)`?\" se expresa pidiendo soluciones para la variable lógica `x` con la meta `padre(x, 'maria')`."
   ]
  },
  {
   "cell_type": "markdown",
   "id": "cce6e562-1e1c-487e-9d46-2ce9030c72a1",
   "metadata": {},
   "source": [
    "## 6) Primeros pasos con `kanren` — importaciones y conceptos\n",
    "\n",
    "\n",
    "- `var()` crea una variable lógica.\n",
    "- `run(n, var, *goals)` ejecuta una consulta: devuelve hasta `n` soluciones (usar `0` para todas).\n",
    "- `Relation()` y `facts(relation, ...)` permiten introducir hechos.\n",
    "- `conde(...)` permite expresar disyunciones/conjunciones lógicas en forma de metas compuestas.\n",
    "- `eq(a,b)` construye la meta que exige la igualdad entre `a` y `b`."
   ]
  },
  {
   "cell_type": "code",
   "execution_count": 6,
   "id": "40cefe17-5334-418f-b16b-2fba24f2f529",
   "metadata": {},
   "outputs": [],
   "source": [
    "from kanren import run, eq, var"
   ]
  },
  {
   "cell_type": "code",
   "execution_count": 7,
   "id": "a3d40f0c-b87a-4756-962b-79be233f1165",
   "metadata": {},
   "outputs": [
    {
     "name": "stdout",
     "output_type": "stream",
     "text": [
      "run(1, x, eq(x, 5)) -> (5,)\n"
     ]
    }
   ],
   "source": [
    "# Creamos una variable lógica\n",
    "x = var()\n",
    "# Pregunta: ¿qué x satisface x == 5 ?\n",
    "print('run(1, x, eq(x, 5)) ->', run(1, x, eq(x, 5)))"
   ]
  },
  {
   "cell_type": "code",
   "execution_count": 8,
   "id": "75447389-b6c2-4df6-89ba-2302bf5ecbe4",
   "metadata": {},
   "outputs": [
    {
     "name": "stdout",
     "output_type": "stream",
     "text": [
      "run(0, x, eq(x, 5)) -> (5,)\n"
     ]
    }
   ],
   "source": [
    "# Pedir todas las soluciones (0) para x == 5\n",
    "print('run(0, x, eq(x, 5)) ->', run(0, x, eq(x, 5)))"
   ]
  },
  {
   "cell_type": "markdown",
   "id": "36b61df9-3ecd-460b-8706-455f10f90716",
   "metadata": {},
   "source": [
    "### 6.1) Hechos y relaciones: ejemplo de parentesco\n",
    "\n",
    "Vamos a modelar `parent` (padre/madre), `ancestor` (ancestro) y consultas típicas."
   ]
  },
  {
   "cell_type": "code",
   "execution_count": 9,
   "id": "cfdd8de8-6651-4093-a3bd-ad68729f2db7",
   "metadata": {},
   "outputs": [
    {
     "name": "stdout",
     "output_type": "stream",
     "text": [
      "Padres de 'juan': ('ana', 'pedro')\n"
     ]
    }
   ],
   "source": [
    "from kanren import Relation, facts, run, var, conde\n",
    "\n",
    "\n",
    "# Definimos la relación `parent`\n",
    "parent = Relation()\n",
    "# Añadimos hechos: facts(relation, tuple1, tuple2, ...)\n",
    "facts(parent,\n",
    "(\"ana\", \"juan\"),\n",
    "(\"juan\", \"maria\"),\n",
    "(\"marta\", \"ana\"),\n",
    "(\"pedro\", \"juan\")\n",
    ")\n",
    "\n",
    "\n",
    "# Ejemplo: quiénes son los padres de 'juan'?\n",
    "y = var()\n",
    "print(\"Padres de 'juan':\", run(0, y, parent(y, 'juan')))"
   ]
  },
  {
   "cell_type": "markdown",
   "id": "d819aa1c-7c43-4a43-a0b6-c0d0be2d7700",
   "metadata": {},
   "source": [
    "### 6.2) Reglas: definición de abuelo y ancestro\n",
    "\n",
    "- Abuelo(x, z) si existe y tal que Padre(x, y) ∧ Padre(y, z).\n",
    "- Ancestro se define recursivamente: Ancestro(x, z) si Padre(x, z) o (∃y Padre(x, y) ∧ Ancestro(y, z)).\n",
    "\n",
    "Definimos la regla de abuelo (no recursiva) como una función que devuelve una meta"
   ]
  },
  {
   "cell_type": "code",
   "execution_count": 15,
   "id": "2d106b6f-256f-47de-ae88-2a6c2b3281cd",
   "metadata": {},
   "outputs": [
    {
     "name": "stdout",
     "output_type": "stream",
     "text": [
      "Abuelos de 'maria': ('ana', 'pedro')\n"
     ]
    }
   ],
   "source": [
    "from kanren import run, var, conde, Relation, facts\n",
    "\n",
    "# Definimos la relación parent\n",
    "parent = Relation()\n",
    "facts(parent,\n",
    "      (\"ana\", \"juan\"),\n",
    "      (\"juan\", \"maria\"),\n",
    "      (\"marta\", \"ana\"),\n",
    "      (\"pedro\", \"juan\")\n",
    "     )\n",
    "\n",
    "# Definimos la regla de abuelo\n",
    "def ancestor(x, z):\n",
    "    \"\"\"Existe y tal que parent(x, y) y parent(y, z)\"\"\"\n",
    "    y = var()\n",
    "    return conde((parent(x, y), parent(y, z)))\n",
    "\n",
    "# Consulta: ¿quiénes son abuelos de 'maria'?\n",
    "x = var()\n",
    "print(\"Abuelos de 'maria':\", run(0, x, ancestor(x, 'maria')))\n"
   ]
  },
  {
   "cell_type": "markdown",
   "id": "34cea284-dec8-48a5-ad70-a713d326f7d1",
   "metadata": {},
   "source": [
    "### 6.3) Ejemplos de consultas frecuentes y su interpretación en FOL\n",
    "\n",
    "\n",
    "- ¿Existe un ancestro de 'maria'?: run(1, x, ancestor(x, 'maria')) devuelve alguna solución -> corresponde a ∃x Ancestor(x, maria).\n",
    "- ¿Quiénes son los ancestros?: run(0, x, ancestor(x, 'maria')) -> lista de todos los x que satisfacen Ancestor(x,maria).\n",
    "- ¿Ana es ancestro de Maria? -> preguntar si la consulta tiene solución con x = 'ana'"
   ]
  },
  {
   "cell_type": "code",
   "execution_count": 16,
   "id": "d7b86e59-1786-4f22-bf40-b8426145376e",
   "metadata": {},
   "outputs": [
    {
     "name": "stdout",
     "output_type": "stream",
     "text": [
      "¿'ana' es ancestro de 'maria'? -> True\n"
     ]
    }
   ],
   "source": [
    "print(\"¿'ana' es ancestro de 'maria'? ->\", bool(run(1, x, ancestor('ana', 'maria'))))"
   ]
  },
  {
   "cell_type": "code",
   "execution_count": null,
   "id": "a80c5a70-0a38-49cf-85c1-a8e10383a515",
   "metadata": {},
   "outputs": [],
   "source": []
  }
 ],
 "metadata": {
  "kernelspec": {
   "display_name": "Python 3 (ipykernel)",
   "language": "python",
   "name": "python3"
  },
  "language_info": {
   "codemirror_mode": {
    "name": "ipython",
    "version": 3
   },
   "file_extension": ".py",
   "mimetype": "text/x-python",
   "name": "python",
   "nbconvert_exporter": "python",
   "pygments_lexer": "ipython3",
   "version": "3.12.4"
  }
 },
 "nbformat": 4,
 "nbformat_minor": 5
}
