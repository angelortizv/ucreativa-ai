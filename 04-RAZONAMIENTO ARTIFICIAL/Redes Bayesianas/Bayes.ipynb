{
 "cells": [
  {
   "cell_type": "markdown",
   "id": "32b4a592-d997-428f-8cd5-faddfc316011",
   "metadata": {},
   "source": [
    "# Introducción a Redes Bayesianas"
   ]
  },
  {
   "cell_type": "markdown",
   "id": "a8e88552-62db-46e4-b65e-f6146766a887",
   "metadata": {},
   "source": [
    "## ¿Qué es una Red Bayesiana?\n",
    "\n",
    "Una red bayesiana es un grafo dirigido acíclico donde:\n",
    "- Los nodos representan variables aleatorias.\n",
    "- Los arcos representan dependencias probabilísticas.\n",
    "- Cada nodo tiene una tabla de probabilidad condicional (CPD).\n",
    "\n",
    "Ejemplo: Queremos modelar si una persona lleva paraguas.\n",
    "\n",
    "Variables:\n",
    "Clima: **{Lluvia, No lluvia}**\n",
    "Nubes: **{Nublado, Despejado}**\n",
    "Paraguas: **{Sí, No}**"
   ]
  },
  {
   "cell_type": "code",
   "execution_count": 2,
   "id": "6b04b70f-2a27-47d8-8708-03fb2c7f2519",
   "metadata": {},
   "outputs": [
    {
     "name": "stderr",
     "output_type": "stream",
     "text": [
      "WARNING: Ignoring invalid distribution -lotly (c:\\users\\pc master\\appdata\\local\\programs\\python\\python310\\lib\\site-packages)\n",
      "WARNING: Ignoring invalid distribution -orch (c:\\users\\pc master\\appdata\\local\\programs\\python\\python310\\lib\\site-packages)\n",
      "WARNING: Ignoring invalid distribution -lotly (c:\\users\\pc master\\appdata\\local\\programs\\python\\python310\\lib\\site-packages)\n",
      "WARNING: Ignoring invalid distribution -orch (c:\\users\\pc master\\appdata\\local\\programs\\python\\python310\\lib\\site-packages)\n",
      "WARNING: Ignoring invalid distribution -lotly (c:\\users\\pc master\\appdata\\local\\programs\\python\\python310\\lib\\site-packages)\n",
      "WARNING: Ignoring invalid distribution -orch (c:\\users\\pc master\\appdata\\local\\programs\\python\\python310\\lib\\site-packages)\n",
      "\n",
      "[notice] A new release of pip is available: 24.3.1 -> 25.2\n",
      "[notice] To update, run: python.exe -m pip install --upgrade pip\n"
     ]
    }
   ],
   "source": [
    "!pip install pgmpy --quiet"
   ]
  },
  {
   "cell_type": "code",
   "execution_count": 6,
   "id": "6501ecf1-7b0b-4584-af60-202fd4f2143a",
   "metadata": {},
   "outputs": [],
   "source": [
    "from pgmpy.models import DiscreteBayesianNetwork \n",
    "from pgmpy.factors.discrete import TabularCPD\n",
    "from pgmpy.inference import VariableElimination"
   ]
  },
  {
   "cell_type": "markdown",
   "id": "f445693c-1ba8-40bd-b53a-1335ef619fda",
   "metadata": {},
   "source": [
    "## Construcción del modelo"
   ]
  },
  {
   "cell_type": "code",
   "execution_count": 7,
   "id": "7f49e661-d96c-47de-8afd-964584c76121",
   "metadata": {},
   "outputs": [],
   "source": [
    "modelo = DiscreteBayesianNetwork([\n",
    "(\"Clima\", \"Nubes\"),\n",
    "(\"Clima\", \"Paraguas\"),\n",
    "(\"Nubes\", \"Paraguas\")\n",
    "])"
   ]
  },
  {
   "cell_type": "markdown",
   "id": "97300e23-9b68-4d51-8437-6f354aeff3f1",
   "metadata": {},
   "source": [
    "## Definir las Tablas de Probabilidad Condicional (CPDs)"
   ]
  },
  {
   "cell_type": "code",
   "execution_count": 8,
   "id": "53cbb0b4-17bc-4792-a60e-6b98462a5c4a",
   "metadata": {},
   "outputs": [],
   "source": [
    "# Probabilidades del clima\n",
    "cpd_clima = TabularCPD(\n",
    "    variable=\"Clima\", variable_card=2,\n",
    "    values=[[0.3], # Probabilidad de Lluvia\n",
    "    [0.7]] # Probabilidad de No Lluvia\n",
    ")"
   ]
  },
  {
   "cell_type": "code",
   "execution_count": 9,
   "id": "77f9f8b7-8883-46a8-b2e5-bc8e399057e0",
   "metadata": {},
   "outputs": [],
   "source": [
    "# Probabilidades de nubes dado el clima\n",
    "cpd_nubes = TabularCPD(\n",
    "    variable=\"Nubes\", variable_card=2,\n",
    "    values=[[0.8, 0.2], # Prob(Nublado | Lluvia), Prob(Nublado | No Lluvia)\n",
    "    [0.2, 0.8]], # Prob(Despejado | Lluvia), Prob(Despejado | No Lluvia)\n",
    "    evidence=[\"Clima\"], evidence_card=[2]\n",
    ")"
   ]
  },
  {
   "cell_type": "code",
   "execution_count": 10,
   "id": "ea328f09-26ea-4666-bff3-0299369c5de5",
   "metadata": {},
   "outputs": [],
   "source": [
    "# Probabilidades de paraguas dado clima y nubes\n",
    "cpd_paraguas = TabularCPD(\n",
    "    variable=\"Paraguas\", variable_card=2,\n",
    "    values=[\n",
    "        [0.9, 0.7, 0.6, 0.1], # Prob(Sí | combinaciones de Clima y Nubes)\n",
    "        [0.1, 0.3, 0.4, 0.9] # Prob(No | combinaciones de Clima y Nubes)\n",
    "    ],\n",
    "    evidence=[\"Clima\", \"Nubes\"], evidence_card=[2, 2]\n",
    ")"
   ]
  },
  {
   "cell_type": "code",
   "execution_count": 13,
   "id": "7a7fe0c0-31b8-46b5-b66f-06b31d631b13",
   "metadata": {},
   "outputs": [
    {
     "name": "stderr",
     "output_type": "stream",
     "text": [
      "WARNING:pgmpy:Replacing existing CPD for Clima\n",
      "WARNING:pgmpy:Replacing existing CPD for Nubes\n",
      "WARNING:pgmpy:Replacing existing CPD for Paraguas\n"
     ]
    }
   ],
   "source": [
    "# Añadir CPDs al modelo\n",
    "# En las redes bayesianas, los CPDs (Conditional Probability Distributions o Distribuciones de Probabilidad Condicional) \n",
    "# son las tablas que describen cómo se comporta cada variable dado el estado de sus padres en el grafo.\n",
    "modelo.add_cpds(cpd_clima, cpd_nubes, cpd_paraguas)"
   ]
  },
  {
   "cell_type": "code",
   "execution_count": 12,
   "id": "e0558e39-564a-4f07-9be1-334f0ec6bf07",
   "metadata": {},
   "outputs": [
    {
     "name": "stdout",
     "output_type": "stream",
     "text": [
      "¿El modelo es válido? True\n"
     ]
    }
   ],
   "source": [
    "# Verificación de consistencia\n",
    "print(\"¿El modelo es válido?\", modelo.check_model())"
   ]
  },
  {
   "cell_type": "markdown",
   "id": "0bf7c97e-9eda-4370-b1a5-3e07993cd6f0",
   "metadata": {},
   "source": [
    "## Inferencia en la Red Bayesiana"
   ]
  },
  {
   "cell_type": "code",
   "execution_count": 14,
   "id": "76ced917-55e8-4394-ba6b-34f30981af19",
   "metadata": {},
   "outputs": [],
   "source": [
    "inferencia = VariableElimination(modelo)"
   ]
  },
  {
   "cell_type": "markdown",
   "id": "623389dc-6b79-4d56-8d4f-d815159683a2",
   "metadata": {},
   "source": [
    "### Ejemplo 1: Probabilidad de que alguien lleve paraguas sin evidencia"
   ]
  },
  {
   "cell_type": "code",
   "execution_count": 15,
   "id": "cefa6155-2fbd-465d-bf93-94c581e1f81b",
   "metadata": {},
   "outputs": [
    {
     "name": "stdout",
     "output_type": "stream",
     "text": [
      "\n",
      "Probabilidad de llevar paraguas:\n",
      "+-------------+-----------------+\n",
      "| Paraguas    |   phi(Paraguas) |\n",
      "+=============+=================+\n",
      "| Paraguas(0) |          0.3980 |\n",
      "+-------------+-----------------+\n",
      "| Paraguas(1) |          0.6020 |\n",
      "+-------------+-----------------+\n"
     ]
    }
   ],
   "source": [
    "resultado1 = inferencia.query(variables=[\"Paraguas\"])\n",
    "print(\"\\nProbabilidad de llevar paraguas:\")\n",
    "print(resultado1)"
   ]
  },
  {
   "cell_type": "markdown",
   "id": "03f263cc-cc86-4491-8444-c693889f635e",
   "metadata": {},
   "source": [
    "### Ejemplo 2: Probabilidad de llevar paraguas si está nublado"
   ]
  },
  {
   "cell_type": "code",
   "execution_count": 16,
   "id": "4aec8f9c-1e74-4af7-a918-c2ea9dfb2df9",
   "metadata": {},
   "outputs": [
    {
     "name": "stdout",
     "output_type": "stream",
     "text": [
      "\n",
      "Probabilidad de llevar paraguas si está nublado:\n",
      "+-------------+-----------------+\n",
      "| Paraguas    |   phi(Paraguas) |\n",
      "+=============+=================+\n",
      "| Paraguas(0) |          0.7895 |\n",
      "+-------------+-----------------+\n",
      "| Paraguas(1) |          0.2105 |\n",
      "+-------------+-----------------+\n"
     ]
    }
   ],
   "source": [
    "resultado2 = inferencia.query(variables=[\"Paraguas\"], evidence={\"Nubes\": 0})\n",
    "print(\"\\nProbabilidad de llevar paraguas si está nublado:\")\n",
    "print(resultado2)"
   ]
  },
  {
   "cell_type": "markdown",
   "id": "bfdc5858-16ec-4ffd-b772-d15865001c33",
   "metadata": {},
   "source": [
    "### Ejemplo 3: Probabilidad de lluvia dado que alguien lleva paraguas"
   ]
  },
  {
   "cell_type": "code",
   "execution_count": 17,
   "id": "be7ad695-bdd0-4b06-b5d0-4268fa4a99c7",
   "metadata": {},
   "outputs": [
    {
     "name": "stdout",
     "output_type": "stream",
     "text": [
      "\n",
      "Probabilidad de lluvia si la persona lleva paraguas:\n",
      "+----------+--------------+\n",
      "| Clima    |   phi(Clima) |\n",
      "+==========+==============+\n",
      "| Clima(0) |       0.6482 |\n",
      "+----------+--------------+\n",
      "| Clima(1) |       0.3518 |\n",
      "+----------+--------------+\n"
     ]
    }
   ],
   "source": [
    "resultado3 = inferencia.query(variables=[\"Clima\"], evidence={\"Paraguas\": 0})\n",
    "print(\"\\nProbabilidad de lluvia si la persona lleva paraguas:\")\n",
    "print(resultado3)"
   ]
  },
  {
   "cell_type": "markdown",
   "id": "3f5e4d20-4b55-4b16-a242-9f1a0f836377",
   "metadata": {},
   "source": [
    "## Visualización de la Red Bayesiana"
   ]
  },
  {
   "cell_type": "code",
   "execution_count": 21,
   "id": "d0b677f4-170e-4b23-ab45-8defc9002ddd",
   "metadata": {},
   "outputs": [],
   "source": [
    "import networkx as nx\n",
    "import matplotlib.pyplot as plt"
   ]
  },
  {
   "cell_type": "code",
   "execution_count": 23,
   "id": "f99c53f9-9e7b-4162-8060-0949d141d06f",
   "metadata": {},
   "outputs": [
    {
     "data": {
      "image/png": "[encoded data removed]",
      "text/plain": [
       "<Figure size 600x400 with 1 Axes>"
      ]
     },
     "metadata": {},
     "output_type": "display_data"
    }
   ],
   "source": [
    "plt.figure(figsize=(6,4))\n",
    "\n",
    "# Crear grafo de networkx a partir de nodos y aristas del modelo\n",
    "G = nx.DiGraph()\n",
    "G.add_nodes_from(modelo.nodes())\n",
    "G.add_edges_from(modelo.edges())\n",
    "\n",
    "# Dibujar el grafo\n",
    "pos = nx.spring_layout(G, seed=42)  # layout para posiciones\n",
    "nx.draw(\n",
    "    G,\n",
    "    pos,\n",
    "    with_labels=True,\n",
    "    node_size=3000,\n",
    "    node_color=\"lightblue\",\n",
    "    font_size=10,\n",
    "    font_weight=\"bold\",\n",
    "    arrows=True,\n",
    "    arrowsize=20\n",
    ")\n",
    "\n",
    "plt.title(\"Red Bayesiana: Clima - Nubes - Paraguas\")\n",
    "plt.show()"
   ]
  },
  {
   "cell_type": "code",
   "execution_count": null,
   "id": "a6b13003-4c86-4021-9829-4d5ddca590c2",
   "metadata": {},
   "outputs": [],
   "source": []
  }
 ],
 "metadata": {
  "kernelspec": {
   "display_name": "Python 3 (ipykernel)",
   "language": "python",
   "name": "python3"
  },
  "language_info": {
   "codemirror_mode": {
    "name": "ipython",
    "version": 3
   },
   "file_extension": ".py",
   "mimetype": "text/x-python",
   "name": "python",
   "nbconvert_exporter": "python",
   "pygments_lexer": "ipython3",
   "version": "3.10.5"
  }
 },
 "nbformat": 4,
 "nbformat_minor": 5
}
