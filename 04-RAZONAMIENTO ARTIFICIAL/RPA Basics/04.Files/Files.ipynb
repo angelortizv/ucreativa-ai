{
 "cells": [
  {
   "cell_type": "markdown",
   "id": "d79c0bf3-7c91-47bd-b953-81543ebe2370",
   "metadata": {},
   "source": [
    "## 🧪 Notebook 4: Automatización de Archivos y Excel con Python"
   ]
  },
  {
   "cell_type": "markdown",
   "id": "b82d1775-8d6c-4241-88e2-f5533d79af8a",
   "metadata": {},
   "source": [
    "## 🎯 Objetivo:\n",
    "Crear un bot que lea datos de un archivo Excel, los procese y genere un nuevo archivo Excel con los resultados."
   ]
  },
  {
   "cell_type": "markdown",
   "id": "ba6fbca1-c725-455e-a696-493d5fe27f35",
   "metadata": {},
   "source": [
    "### 🧰 Requisitos previos:\n",
    "Instala la biblioteca openpyxl:  pip install openpyxl"
   ]
  },
  {
   "cell_type": "code",
   "execution_count": 1,
   "id": "2a7e7443-ffdb-416f-b9e8-3c39d450c191",
   "metadata": {},
   "outputs": [
    {
     "name": "stdout",
     "output_type": "stream",
     "text": [
      "Collecting openpyxl\n",
      "  Downloading openpyxl-3.1.5-py2.py3-none-any.whl.metadata (2.5 kB)\n",
      "Collecting et-xmlfile (from openpyxl)\n",
      "  Downloading et_xmlfile-2.0.0-py3-none-any.whl.metadata (2.7 kB)\n",
      "Downloading openpyxl-3.1.5-py2.py3-none-any.whl (250 kB)\n",
      "Downloading et_xmlfile-2.0.0-py3-none-any.whl (18 kB)\n",
      "Installing collected packages: et-xmlfile, openpyxl\n",
      "Successfully installed et-xmlfile-2.0.0 openpyxl-3.1.5\n",
      "Note: you may need to restart the kernel to use updated packages.\n"
     ]
    },
    {
     "name": "stderr",
     "output_type": "stream",
     "text": [
      "WARNING: Ignoring invalid distribution -lotly (c:\\users\\pc master\\appdata\\local\\programs\\python\\python310\\lib\\site-packages)\n",
      "WARNING: Ignoring invalid distribution -orch (c:\\users\\pc master\\appdata\\local\\programs\\python\\python310\\lib\\site-packages)\n",
      "WARNING: Ignoring invalid distribution -lotly (c:\\users\\pc master\\appdata\\local\\programs\\python\\python310\\lib\\site-packages)\n",
      "WARNING: Ignoring invalid distribution -orch (c:\\users\\pc master\\appdata\\local\\programs\\python\\python310\\lib\\site-packages)\n",
      "WARNING: Ignoring invalid distribution -lotly (c:\\users\\pc master\\appdata\\local\\programs\\python\\python310\\lib\\site-packages)\n",
      "WARNING: Ignoring invalid distribution -orch (c:\\users\\pc master\\appdata\\local\\programs\\python\\python310\\lib\\site-packages)\n",
      "\n",
      "[notice] A new release of pip is available: 24.3.1 -> 25.1.1\n",
      "[notice] To update, run: python.exe -m pip install --upgrade pip\n"
     ]
    }
   ],
   "source": [
    "pip install openpyxl"
   ]
  },
  {
   "cell_type": "code",
   "execution_count": 2,
   "id": "f0a599a7-c06c-4b6f-8386-c1911e602597",
   "metadata": {},
   "outputs": [],
   "source": [
    "from openpyxl import load_workbook, Workbook"
   ]
  },
  {
   "cell_type": "code",
   "execution_count": 3,
   "id": "6c23a703-7ae5-47ab-9a40-46d29264d5d5",
   "metadata": {},
   "outputs": [
    {
     "name": "stdout",
     "output_type": "stream",
     "text": [
      "✅ Archivo 'resumen_ventas.xlsx' creado con éxito.\n"
     ]
    }
   ],
   "source": [
    "# Cargar archivo de entrada\n",
    "wb = load_workbook(\"datos.xlsx\")\n",
    "hoja = wb.active\n",
    "\n",
    "# Crear nuevo libro de resultados\n",
    "nuevo_wb = Workbook()\n",
    "nueva_hoja = nuevo_wb.active\n",
    "nueva_hoja.title = \"Resumen\"\n",
    "\n",
    "# Escribir encabezados\n",
    "nueva_hoja.append([\"Nombre\", \"Ventas\", \"Categoría\"])\n",
    "\n",
    "# Procesar fila por fila\n",
    "for fila in hoja.iter_rows(min_row=2, values_only=True):\n",
    "    nombre, ventas = fila\n",
    "    categoria = \"Alto\" if ventas >= 1000 else \"Bajo\"\n",
    "    nueva_hoja.append([nombre, ventas, categoria])\n",
    "\n",
    "# Guardar el nuevo archivo\n",
    "nuevo_wb.save(\"resumen_ventas.xlsx\")\n",
    "print(\"✅ Archivo 'resumen_ventas.xlsx' creado con éxito.\")"
   ]
  },
  {
   "cell_type": "code",
   "execution_count": null,
   "id": "241803bd-d70d-454f-a74b-7184a99685ec",
   "metadata": {},
   "outputs": [],
   "source": []
  }
 ],
 "metadata": {
  "kernelspec": {
   "display_name": "Python 3 (ipykernel)",
   "language": "python",
   "name": "python3"
  },
  "language_info": {
   "codemirror_mode": {
    "name": "ipython",
    "version": 3
   },
   "file_extension": ".py",
   "mimetype": "text/x-python",
   "name": "python",
   "nbconvert_exporter": "python",
   "pygments_lexer": "ipython3",
   "version": "3.10.5"
  }
 },
 "nbformat": 4,
 "nbformat_minor": 5
}
