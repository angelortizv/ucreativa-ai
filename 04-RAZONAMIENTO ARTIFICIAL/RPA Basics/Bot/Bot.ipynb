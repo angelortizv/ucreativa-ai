{
 "cells": [
  {
   "cell_type": "markdown",
   "id": "25953f1c-ca1b-4da8-a114-26b2987d1c5d",
   "metadata": {},
   "source": [
    "# 🧠 Bot de Automatización con Archivos CSV y TXT"
   ]
  },
  {
   "cell_type": "markdown",
   "id": "adfa233f-edca-4776-bb13-56ad451ad292",
   "metadata": {},
   "source": [
    "Este bot está diseñado para leer un archivo CSV, procesar su contenido y generar un archivo de texto (.txt) con los datos formateados. Es una introducción sencilla a la automatización de tareas de oficina usando Python.\n",
    "\n",
    "---\n",
    "\n",
    "## 📄 Objetivo\n",
    "- Leer información estructurada desde un archivo .csv (por ejemplo, nombre y correo de usuarios).\n",
    "- Procesar y formatear los datos.\n",
    "- Guardar la salida como un archivo .txt legible.\n",
    "\n",
    "## 🛠️ Herramientas Utilizadas\n",
    "- csv: Módulo estándar de Python para leer archivos CSV.\n",
    "- print(): Para dar seguimiento al progreso del bot.\n",
    "- with open(...): Manejo seguro de archivos.\n",
    "- utf-8: Codificación recomendada para soportar caracteres especiales y emojis.\n"
   ]
  },
  {
   "cell_type": "code",
   "execution_count": 4,
   "id": "d974169c-0312-40c9-9ecb-09972ee64c16",
   "metadata": {},
   "outputs": [
    {
     "name": "stdout",
     "output_type": "stream",
     "text": [
      "📂 Abriendo archivo CSV: datos.csv\n",
      "📤 Creando/limpiando archivo de salida: salida.txt\n",
      "🧠 Procesando fila 1: 1. Nombre: Ana, Correo: ana@example.com\n",
      "🧠 Procesando fila 2: 2. Nombre: Luis, Correo: luis@example.com\n",
      "🧠 Procesando fila 3: 3. Nombre: Carlos, Correo: carlos@example.com\n",
      "✅ Bot completó la tarea y generó el archivo de texto.\n"
     ]
    }
   ],
   "source": [
    "import csv\n",
    "\n",
    "csv_file = \"datos.csv\"\n",
    "txt_file = \"salida.txt\"\n",
    "\n",
    "print(f\"📂 Abriendo archivo CSV: {csv_file}\")\n",
    "with open(csv_file, newline='', encoding='utf-8') as csvfile:\n",
    "    reader = csv.DictReader(csvfile)\n",
    "\n",
    "    print(f\"📤 Creando/limpiando archivo de salida: {txt_file}\")\n",
    "    with open(txt_file, \"w\", encoding='utf-8') as salida:\n",
    "        salida.write(\"📋 Registro de usuarios procesado por el bot:\\n\\n\")\n",
    "\n",
    "        for i, fila in enumerate(reader, start=1):\n",
    "            nombre = fila[\"Nombre\"]\n",
    "            correo = fila[\"Correo\"]\n",
    "            mensaje = f\"{i}. Nombre: {nombre}, Correo: {correo}\"\n",
    "            print(f\"🧠 Procesando fila {i}: {mensaje}\")\n",
    "            salida.write(mensaje + \"\\n\")\n",
    "\n",
    "print(\"✅ Bot completó la tarea y generó el archivo de texto.\")\n"
   ]
  },
  {
   "cell_type": "code",
   "execution_count": null,
   "id": "376a6064-535d-4558-8e60-b6a13eea326e",
   "metadata": {},
   "outputs": [],
   "source": []
  }
 ],
 "metadata": {
  "kernelspec": {
   "display_name": "Python 3 (ipykernel)",
   "language": "python",
   "name": "python3"
  },
  "language_info": {
   "codemirror_mode": {
    "name": "ipython",
    "version": 3
   },
   "file_extension": ".py",
   "mimetype": "text/x-python",
   "name": "python",
   "nbconvert_exporter": "python",
   "pygments_lexer": "ipython3",
   "version": "3.10.5"
  }
 },
 "nbformat": 4,
 "nbformat_minor": 5
}
