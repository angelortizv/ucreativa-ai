{
 "cells": [
  {
   "cell_type": "markdown",
   "id": "3b0565b0-ab84-4489-9874-85ed266f9de8",
   "metadata": {},
   "source": [
    "# 🧪 Notebook 2: Comunicación entre Bots con sockets"
   ]
  },
  {
   "cell_type": "markdown",
   "id": "222d911f-3e07-457d-b024-4dbc8cca4918",
   "metadata": {},
   "source": [
    "## 🎯 Objetivo:\n",
    "Simular un bot servidor que escucha peticiones y otro bot cliente que se conecta y le envía mensajes. Esto representa bots que colaboran o consultan datos."
   ]
  },
  {
   "cell_type": "code",
   "execution_count": 7,
   "id": "8533426e-5f88-4c8f-a655-88d3a0646b4d",
   "metadata": {},
   "outputs": [],
   "source": [
    "import socket\n",
    "import threading\n",
    "import time"
   ]
  },
  {
   "cell_type": "markdown",
   "id": "ccdf174f-988e-4d69-bb0e-be6b10236bcc",
   "metadata": {},
   "source": [
    "## 🟢 Bot Servidor"
   ]
  },
  {
   "cell_type": "code",
   "execution_count": 9,
   "id": "56319c9e-ffe3-432c-82df-106a66f77149",
   "metadata": {},
   "outputs": [],
   "source": [
    "def bot_servidor():\n",
    "    host = '127.0.0.1'  # Localhost\n",
    "    port = 5050         # Puerto del servidor\n",
    "    servidor = socket.socket(socket.AF_INET, socket.SOCK_STREAM)\n",
    "    servidor.bind((host, port))\n",
    "    servidor.listen(1)\n",
    "\n",
    "    print(\"🟢 Bot Servidor esperando conexión...\")\n",
    "    conn, addr = servidor.accept()\n",
    "    print(f\"📥 Conexión establecida desde {addr}\")\n",
    "\n",
    "    while True:\n",
    "        data = conn.recv(1024).decode()\n",
    "        if not data:\n",
    "            break\n",
    "        print(f\"📨 Servidor recibió: {data}\")\n",
    "        respuesta = f\"✅ Recibido: {data}\"\n",
    "        conn.send(respuesta.encode())\n",
    "\n",
    "    conn.close()\n",
    "    print(\"🔴 Servidor cerrado.\")\n"
   ]
  },
  {
   "cell_type": "markdown",
   "id": "b42302c6-2124-496a-a00e-4c0e4a529268",
   "metadata": {},
   "source": [
    "## 🔵 Bot Cliente"
   ]
  },
  {
   "cell_type": "code",
   "execution_count": 10,
   "id": "e5ffa94c-a159-4598-9c88-919b2c01985a",
   "metadata": {},
   "outputs": [],
   "source": [
    "def bot_cliente():\n",
    "    time.sleep(2)  # Esperar a que el servidor esté listo\n",
    "    host = '127.0.0.1'\n",
    "    port = 5050\n",
    "    cliente = socket.socket(socket.AF_INET, socket.SOCK_STREAM)\n",
    "    cliente.connect((host, port))\n",
    "    print(\"🔵 Cliente conectado al servidor.\")\n",
    "\n",
    "    for i in range(3):\n",
    "        mensaje = f\"Solicitud {i + 1}\"\n",
    "        print(f\"➡️ Cliente envía: {mensaje}\")\n",
    "        cliente.send(mensaje.encode())\n",
    "        respuesta = cliente.recv(1024).decode()\n",
    "        print(f\"⬅️ Cliente recibió: {respuesta}\")\n",
    "        time.sleep(2)\n",
    "\n",
    "    cliente.close()\n",
    "    print(\"🔴 Cliente desconectado.\")\n"
   ]
  },
  {
   "cell_type": "markdown",
   "id": "2a00f010-e4cc-44e7-8c7e-7d86bce3a3fb",
   "metadata": {},
   "source": [
    "## 🚀 Lanzar los bots con threading"
   ]
  },
  {
   "cell_type": "code",
   "execution_count": 11,
   "id": "d889b791-eb8a-4f21-bb0c-7895c80c4472",
   "metadata": {},
   "outputs": [
    {
     "name": "stdout",
     "output_type": "stream",
     "text": [
      "🟢 Bot Servidor esperando conexión...\n",
      "🔵 Cliente conectado al servidor.📥 Conexión establecida desde ('127.0.0.1', 54737)\n",
      "\n",
      "➡️ Cliente envía: Solicitud 1\n",
      "📨 Servidor recibió: Solicitud 1\n",
      "⬅️ Cliente recibió: ✅ Recibido: Solicitud 1\n",
      "➡️ Cliente envía: Solicitud 2\n",
      "📨 Servidor recibió: Solicitud 2\n",
      "⬅️ Cliente recibió: ✅ Recibido: Solicitud 2\n",
      "➡️ Cliente envía: Solicitud 3\n",
      "📨 Servidor recibió: Solicitud 3\n",
      "⬅️ Cliente recibió: ✅ Recibido: Solicitud 3\n",
      "🔴 Cliente desconectado.🔴 Servidor cerrado.\n",
      "\n",
      "✅ Comunicación entre bots finalizada.\n"
     ]
    }
   ],
   "source": [
    "t_server = threading.Thread(target=bot_servidor)\n",
    "t_client = threading.Thread(target=bot_cliente)\n",
    "\n",
    "# Iniciar los hilos\n",
    "t_server.start()\n",
    "t_client.start()\n",
    "\n",
    "# Esperar a que terminen\n",
    "t_server.join()\n",
    "t_client.join()\n",
    "\n",
    "print(\"✅ Comunicación entre bots finalizada.\")\n"
   ]
  },
  {
   "cell_type": "code",
   "execution_count": null,
   "id": "a1d4b251-6ea1-4761-ab5b-61cd0c09dcd3",
   "metadata": {},
   "outputs": [],
   "source": []
  }
 ],
 "metadata": {
  "kernelspec": {
   "display_name": "Python 3 (ipykernel)",
   "language": "python",
   "name": "python3"
  },
  "language_info": {
   "codemirror_mode": {
    "name": "ipython",
    "version": 3
   },
   "file_extension": ".py",
   "mimetype": "text/x-python",
   "name": "python",
   "nbconvert_exporter": "python",
   "pygments_lexer": "ipython3",
   "version": "3.10.5"
  }
 },
 "nbformat": 4,
 "nbformat_minor": 5
}
