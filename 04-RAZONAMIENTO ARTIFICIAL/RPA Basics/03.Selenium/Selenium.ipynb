{
 "cells": [
  {
   "cell_type": "markdown",
   "id": "9f4e60f4-fca8-4f55-bc31-bec6386f579e",
   "metadata": {},
   "source": [
    "# 🧪 Notebook 3: Automatización Web con Selenium"
   ]
  },
  {
   "cell_type": "markdown",
   "id": "3bed9c5a-001a-4491-a186-147c33c4d07a",
   "metadata": {},
   "source": [
    "## 🎯 Objetivo:\n",
    "Automatizar un bot que abre una página web, llena un formulario de ejemplo y lo envía."
   ]
  },
  {
   "cell_type": "markdown",
   "id": "0686fbd0-2c4c-405b-ba44-1e8d011918c2",
   "metadata": {},
   "source": [
    "### 🧰 Requisitos previos:\n",
    "- Instala Selenium: pip install selenium\n",
    "- Descarga el WebDriver adecuado para tu navegador (por ejemplo, ChromeDriver) y colócalo en una ruta conocida."
   ]
  },
  {
   "cell_type": "code",
   "execution_count": 1,
   "id": "72c77e37-f7ff-4caa-859d-59f2fb5b8481",
   "metadata": {},
   "outputs": [
    {
     "name": "stdout",
     "output_type": "stream",
     "text": [
      "Requirement already satisfied: selenium in c:\\users\\pc master\\appdata\\local\\programs\\python\\python310\\lib\\site-packages (4.33.0)\n",
      "Requirement already satisfied: urllib3~=2.4.0 in c:\\users\\pc master\\appdata\\local\\programs\\python\\python310\\lib\\site-packages (from urllib3[socks]~=2.4.0->selenium) (2.4.0)\n",
      "Requirement already satisfied: trio~=0.30.0 in c:\\users\\pc master\\appdata\\local\\programs\\python\\python310\\lib\\site-packages (from selenium) (0.30.0)\n",
      "Requirement already satisfied: trio-websocket~=0.12.2 in c:\\users\\pc master\\appdata\\local\\programs\\python\\python310\\lib\\site-packages (from selenium) (0.12.2)\n",
      "Requirement already satisfied: certifi>=2025.4.26 in c:\\users\\pc master\\appdata\\local\\programs\\python\\python310\\lib\\site-packages (from selenium) (2025.6.15)\n",
      "Requirement already satisfied: typing_extensions~=4.13.2 in c:\\users\\pc master\\appdata\\local\\programs\\python\\python310\\lib\\site-packages (from selenium) (4.13.2)\n",
      "Requirement already satisfied: websocket-client~=1.8.0 in c:\\users\\pc master\\appdata\\local\\programs\\python\\python310\\lib\\site-packages (from selenium) (1.8.0)\n",
      "Requirement already satisfied: attrs>=23.2.0 in c:\\users\\pc master\\appdata\\local\\programs\\python\\python310\\lib\\site-packages (from trio~=0.30.0->selenium) (24.2.0)\n",
      "Requirement already satisfied: sortedcontainers in c:\\users\\pc master\\appdata\\local\\programs\\python\\python310\\lib\\site-packages (from trio~=0.30.0->selenium) (2.4.0)\n",
      "Requirement already satisfied: idna in c:\\users\\pc master\\appdata\\local\\programs\\python\\python310\\lib\\site-packages (from trio~=0.30.0->selenium) (3.4)\n",
      "Requirement already satisfied: outcome in c:\\users\\pc master\\appdata\\local\\programs\\python\\python310\\lib\\site-packages (from trio~=0.30.0->selenium) (1.3.0.post0)\n",
      "Requirement already satisfied: sniffio>=1.3.0 in c:\\users\\pc master\\appdata\\local\\programs\\python\\python310\\lib\\site-packages (from trio~=0.30.0->selenium) (1.3.1)\n",
      "Requirement already satisfied: cffi>=1.14 in c:\\users\\pc master\\appdata\\local\\programs\\python\\python310\\lib\\site-packages (from trio~=0.30.0->selenium) (1.15.1)\n",
      "Requirement already satisfied: exceptiongroup in c:\\users\\pc master\\appdata\\local\\programs\\python\\python310\\lib\\site-packages (from trio~=0.30.0->selenium) (1.2.2)\n",
      "Requirement already satisfied: wsproto>=0.14 in c:\\users\\pc master\\appdata\\local\\programs\\python\\python310\\lib\\site-packages (from trio-websocket~=0.12.2->selenium) (1.2.0)\n",
      "Requirement already satisfied: pysocks!=1.5.7,<2.0,>=1.5.6 in c:\\users\\pc master\\appdata\\local\\programs\\python\\python310\\lib\\site-packages (from urllib3[socks]~=2.4.0->selenium) (1.7.1)\n",
      "Requirement already satisfied: pycparser in c:\\users\\pc master\\appdata\\local\\programs\\python\\python310\\lib\\site-packages (from cffi>=1.14->trio~=0.30.0->selenium) (2.21)\n",
      "Requirement already satisfied: h11<1,>=0.9.0 in c:\\users\\pc master\\appdata\\local\\programs\\python\\python310\\lib\\site-packages (from wsproto>=0.14->trio-websocket~=0.12.2->selenium) (0.14.0)\n",
      "Note: you may need to restart the kernel to use updated packages.\n"
     ]
    },
    {
     "name": "stderr",
     "output_type": "stream",
     "text": [
      "WARNING: Ignoring invalid distribution -lotly (c:\\users\\pc master\\appdata\\local\\programs\\python\\python310\\lib\\site-packages)\n",
      "WARNING: Ignoring invalid distribution -orch (c:\\users\\pc master\\appdata\\local\\programs\\python\\python310\\lib\\site-packages)\n",
      "WARNING: Ignoring invalid distribution -lotly (c:\\users\\pc master\\appdata\\local\\programs\\python\\python310\\lib\\site-packages)\n",
      "WARNING: Ignoring invalid distribution -orch (c:\\users\\pc master\\appdata\\local\\programs\\python\\python310\\lib\\site-packages)\n",
      "WARNING: Ignoring invalid distribution -lotly (c:\\users\\pc master\\appdata\\local\\programs\\python\\python310\\lib\\site-packages)\n",
      "WARNING: Ignoring invalid distribution -orch (c:\\users\\pc master\\appdata\\local\\programs\\python\\python310\\lib\\site-packages)\n",
      "\n",
      "[notice] A new release of pip is available: 24.3.1 -> 25.1.1\n",
      "[notice] To update, run: python.exe -m pip install --upgrade pip\n"
     ]
    }
   ],
   "source": [
    "pip install selenium"
   ]
  },
  {
   "cell_type": "code",
   "execution_count": 2,
   "id": "8c59759a-65b3-49e8-a187-34774f93cdea",
   "metadata": {},
   "outputs": [],
   "source": [
    "from selenium import webdriver\n",
    "from selenium.webdriver.common.by import By\n",
    "import time"
   ]
  },
  {
   "cell_type": "code",
   "execution_count": 18,
   "id": "3a3622e0-ba9b-4e6e-80f8-030f5be78a91",
   "metadata": {},
   "outputs": [],
   "source": [
    "# Ruta local del formulario\n",
    "formulario_url = \"file:///C:/Users/PC MASTER/Desktop/ucreativa-ai/04-RAZONAMIENTO ARTIFICIAL/RPA Basics/03.Selenium/formulario.html\" "
   ]
  },
  {
   "cell_type": "code",
   "execution_count": 19,
   "id": "7e6967b0-bc90-4b29-9ed5-fa50e1d79453",
   "metadata": {},
   "outputs": [
    {
     "name": "stdout",
     "output_type": "stream",
     "text": [
      "file:///C:/Users/PC MASTER/Desktop/ucreativa-ai/04-RAZONAMIENTO ARTIFICIAL/RPA Basics/03.Selenium/formulario.html\n"
     ]
    }
   ],
   "source": [
    "print(formulario_url)"
   ]
  },
  {
   "cell_type": "code",
   "execution_count": 20,
   "id": "994ad3d5-19d4-4334-bdb2-06225e836be8",
   "metadata": {},
   "outputs": [],
   "source": [
    "# Abre navegador\n",
    "navegador = webdriver.Chrome()  # o webdriver.Firefox()"
   ]
  },
  {
   "cell_type": "code",
   "execution_count": 21,
   "id": "7b6b6364-0a67-4781-9006-6f649453237b",
   "metadata": {},
   "outputs": [],
   "source": [
    "# Abre la página\n",
    "navegador.get(formulario_url)"
   ]
  },
  {
   "cell_type": "code",
   "execution_count": 23,
   "id": "53ff32f9-ce6a-44ab-95be-c833638d4d3c",
   "metadata": {},
   "outputs": [
    {
     "name": "stdout",
     "output_type": "stream",
     "text": [
      "✅ Bot llenó y envió el formulario.\n"
     ]
    }
   ],
   "source": [
    "# Llenar el formulario\n",
    "time.sleep(1)\n",
    "navegador.find_element(By.ID, \"nombre\").send_keys(\"Juan Pérez\")\n",
    "navegador.find_element(By.ID, \"correo\").send_keys(\"juan@example.com\")\n",
    "\n",
    "navegador.find_element(By.XPATH, \"//input[@type='submit']\").click()\n",
    "\n",
    "print(\"✅ Bot llenó y envió el formulario.\")\n",
    "time.sleep(3)\n",
    "navegador.quit()"
   ]
  },
  {
   "cell_type": "markdown",
   "id": "b30751f3-b251-44d2-bff0-5d98b2d3fba0",
   "metadata": {},
   "source": [
    "## Investigación Recomendada:\n",
    "\n",
    "- Uso de identificadores como ID, XPATH, etc.\n",
    "- Automatización útil para pruebas, scraping y bots RPA reales."
   ]
  },
  {
   "cell_type": "code",
   "execution_count": null,
   "id": "60589102-1155-449d-979a-0d9765db38c1",
   "metadata": {},
   "outputs": [],
   "source": []
  }
 ],
 "metadata": {
  "kernelspec": {
   "display_name": "Python 3 (ipykernel)",
   "language": "python",
   "name": "python3"
  },
  "language_info": {
   "codemirror_mode": {
    "name": "ipython",
    "version": 3
   },
   "file_extension": ".py",
   "mimetype": "text/x-python",
   "name": "python",
   "nbconvert_exporter": "python",
   "pygments_lexer": "ipython3",
   "version": "3.10.5"
  }
 },
 "nbformat": 4,
 "nbformat_minor": 5
}
