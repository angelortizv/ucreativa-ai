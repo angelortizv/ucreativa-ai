{
 "cells": [
  {
   "cell_type": "markdown",
   "id": "3495881a-87b9-47a4-98a9-a94e00009d04",
   "metadata": {},
   "source": [
    "# 1. Introducción a Jupyter Notebook"
   ]
  },
  {
   "cell_type": "markdown",
   "id": "e22126f1-d40a-4031-91e3-620094bc65bf",
   "metadata": {},
   "source": [
    "Objetivo: Entender qué es un notebook, su utilidad, y cómo se usa.\n",
    "\n",
    "Secciones:\n",
    "* ¿Qué es un Jupyter Notebook?\n",
    "* Explicación breve.\n",
    "* Casos de uso: Data Science, Machine Learning, Educación, Prototipado.\n",
    "* Ventajas: Interactividad, combinación de código y texto."
   ]
  },
  {
   "cell_type": "code",
   "execution_count": 1,
   "id": "1f8c6b8d-007f-4dc4-9947-5843299944b9",
   "metadata": {},
   "outputs": [
    {
     "name": "stdout",
     "output_type": "stream",
     "text": [
      "¡Hola desde un notebook!\n"
     ]
    }
   ],
   "source": [
    "# Este es un ejemplo de código Python en un notebook\n",
    "print(\"¡Hola desde un notebook!\")"
   ]
  },
  {
   "cell_type": "markdown",
   "id": "f1f4f530-5169-40da-830f-572d373f02de",
   "metadata": {},
   "source": [
    "# 2. Estructura de un Notebook"
   ]
  },
  {
   "cell_type": "markdown",
   "id": "5b22c94f-a4d3-40d2-ab06-b46b2377925c",
   "metadata": {},
   "source": [
    "Objetivo: Familiarizarse con las diferentes partes de un notebook.\n",
    "\n",
    "Secciones:\n",
    "\n",
    "* Celdas:\n",
    "    * Texto (Markdown).\n",
    "    * Código (Python u otros lenguajes).\n",
    "* Cómo ejecutar una celda:\n",
    "    * Shift + Enter.\n",
    "    * Botón \"Run\" (Ejecutar).\n",
    "* Menús y herramientas útiles:\n",
    "    * Guardar (Ctrl + S).\n",
    "    * Insertar celdas, moverlas, y eliminarlas."
   ]
  },
  {
   "cell_type": "markdown",
   "id": "8a136996-d5f7-474f-9148-0a6f62952a6e",
   "metadata": {},
   "source": [
    "## 2.1. Markdown"
   ]
  },
  {
   "cell_type": "markdown",
   "id": "860e51af-160c-48b2-8dee-71a7f4903c54",
   "metadata": {},
   "source": [
    "# Esto es un título grande\n",
    "## Esto es un subtítulo\n",
    "**Negrita**, *Cursiva*, `Código`\n",
    "- Listas con viñetas\n",
    "1. Listas numeradas"
   ]
  },
  {
   "cell_type": "markdown",
   "id": "f3bcbaa3-90d3-4bac-bce4-3130ab3683db",
   "metadata": {},
   "source": [
    "# 3. Escribiendo Código en Notebooks"
   ]
  },
  {
   "cell_type": "markdown",
   "id": "6ee7eff2-b9e6-4f6a-ae0e-cfdd59c24093",
   "metadata": {},
   "source": [
    "Objetivo: Ejecutar código y entender la salida.\n",
    "\n",
    "Secciones:\n",
    "* Ejecución de código paso a paso.\n",
    "* Mostrar la salida en celdas de resultado.\n",
    "* Manejo de errores comunes."
   ]
  },
  {
   "cell_type": "code",
   "execution_count": 1,
   "id": "d623d51d-07d4-44d8-9060-5e19a0535159",
   "metadata": {},
   "outputs": [
    {
     "name": "stdout",
     "output_type": "stream",
     "text": [
      "Suma: 15\n"
     ]
    }
   ],
   "source": [
    "# Código básico\n",
    "a = 5\n",
    "b = 10\n",
    "print(\"Suma:\", a + b)"
   ]
  },
  {
   "cell_type": "markdown",
   "id": "168826b4-90dc-486b-b01b-b313c632f955",
   "metadata": {},
   "source": [
    "<span style=\"color: red;\">Tarea Moral: Escribir un código para sumar dos números ingresados por el usuario.</span>"
   ]
  },
  {
   "cell_type": "markdown",
   "id": "7f2b2693-f108-4e88-bf0b-81079d12bd8f",
   "metadata": {},
   "source": [
    "# 4. Importar Librerías y Usar Datos"
   ]
  },
  {
   "cell_type": "markdown",
   "id": "c4a52e07-cc4c-412b-aed6-c3f97602e1bf",
   "metadata": {},
   "source": [
    "Objetivo: Introducir bibliotecas básicas y manejar datos en notebooks.\n",
    "\n",
    "Secciones:\n",
    "* Importación de librerías como numpy, pandas y matplotlib.\n",
    "* Cargar datos en el notebook (archivos CSV)."
   ]
  },
  {
   "cell_type": "code",
   "execution_count": 6,
   "id": "5cf72bfa-889e-46eb-a64f-109e6ed48076",
   "metadata": {},
   "outputs": [
    {
     "data": {
      "text/html": [
       "<div>\n",
       "<style scoped>\n",
       "    .dataframe tbody tr th:only-of-type {\n",
       "        vertical-align: middle;\n",
       "    }\n",
       "\n",
       "    .dataframe tbody tr th {\n",
       "        vertical-align: top;\n",
       "    }\n",
       "\n",
       "    .dataframe thead th {\n",
       "        text-align: right;\n",
       "    }\n",
       "</style>\n",
       "<table border=\"1\" class=\"dataframe\">\n",
       "  <thead>\n",
       "    <tr style=\"text-align: right;\">\n",
       "      <th></th>\n",
       "      <th>Nombre</th>\n",
       "      <th>Edad</th>\n",
       "      <th>Ciudad</th>\n",
       "      <th>Puntaje</th>\n",
       "    </tr>\n",
       "  </thead>\n",
       "  <tbody>\n",
       "    <tr>\n",
       "      <th>0</th>\n",
       "      <td>Ana</td>\n",
       "      <td>23</td>\n",
       "      <td>Madrid</td>\n",
       "      <td>87</td>\n",
       "    </tr>\n",
       "    <tr>\n",
       "      <th>1</th>\n",
       "      <td>Luis</td>\n",
       "      <td>34</td>\n",
       "      <td>Barcelona</td>\n",
       "      <td>92</td>\n",
       "    </tr>\n",
       "    <tr>\n",
       "      <th>2</th>\n",
       "      <td>María</td>\n",
       "      <td>29</td>\n",
       "      <td>Valencia</td>\n",
       "      <td>88</td>\n",
       "    </tr>\n",
       "    <tr>\n",
       "      <th>3</th>\n",
       "      <td>Juan</td>\n",
       "      <td>41</td>\n",
       "      <td>Sevilla</td>\n",
       "      <td>76</td>\n",
       "    </tr>\n",
       "    <tr>\n",
       "      <th>4</th>\n",
       "      <td>Sofía</td>\n",
       "      <td>25</td>\n",
       "      <td>Bilbao</td>\n",
       "      <td>95</td>\n",
       "    </tr>\n",
       "  </tbody>\n",
       "</table>\n",
       "</div>"
      ],
      "text/plain": [
       "  Nombre  Edad     Ciudad  Puntaje\n",
       "0    Ana    23     Madrid       87\n",
       "1   Luis    34  Barcelona       92\n",
       "2  María    29   Valencia       88\n",
       "3   Juan    41    Sevilla       76\n",
       "4  Sofía    25     Bilbao       95"
      ]
     },
     "execution_count": 6,
     "metadata": {},
     "output_type": "execute_result"
    }
   ],
   "source": [
    "import pandas as pd\n",
    "# Cargar un archivo CSV (asegúrate de proporcionar un archivo de ejemplo en la carpeta)\n",
    "df = pd.read_csv('ejemplo.csv')\n",
    "df.head()\n"
   ]
  },
  {
   "cell_type": "markdown",
   "id": "3846c94f-2fe8-4983-90f7-f041694bbf9a",
   "metadata": {},
   "source": [
    "<span style=\"color: red;\">Tarea Moral: Crear un archivo csv, cargarlo y mostrar las primeras filas.</span>"
   ]
  },
  {
   "cell_type": "markdown",
   "id": "9bd5e136-6ab6-4fcc-82e1-c885419f0a48",
   "metadata": {},
   "source": [
    "# 5. Visualizaciones Básicas"
   ]
  },
  {
   "cell_type": "markdown",
   "id": "bf0a4e74-769c-4900-8bcb-184f4c989044",
   "metadata": {},
   "source": [
    "Objetivo: Introducir gráficos básicos."
   ]
  },
  {
   "cell_type": "code",
   "execution_count": 8,
   "id": "c0d9e680-6499-40bd-89f1-98cccb13a559",
   "metadata": {},
   "outputs": [
    {
     "data": {
      "image/png": "[encoded data removed]",
      "text/plain": [
       "<Figure size 640x480 with 1 Axes>"
      ]
     },
     "metadata": {},
     "output_type": "display_data"
    }
   ],
   "source": [
    "import matplotlib.pyplot as plt\n",
    "\n",
    "# Gráfico simple\n",
    "x = [1, 2, 3, 4]\n",
    "y = [10, 20, 25, 30]\n",
    "plt.plot(x, y)\n",
    "plt.title(\"Gráfico Simple\")\n",
    "plt.xlabel(\"Eje X\")\n",
    "plt.ylabel(\"Eje Y\")\n",
    "plt.show()"
   ]
  },
  {
   "cell_type": "markdown",
   "id": "a41940ae-138d-4da2-8fa5-ec96b378ff5a",
   "metadata": {},
   "source": [
    "<span style=\"color: red;\">Tarea Moral: Crear un gráfico personalizado con etiquetas y colores.</span>"
   ]
  },
  {
   "cell_type": "markdown",
   "id": "2b79e5b7-40e4-4bff-a0c8-71cc8226c268",
   "metadata": {},
   "source": [
    "# 6. Conexión entre Markdown y Código"
   ]
  },
  {
   "cell_type": "markdown",
   "id": "24793375-ea94-4a5a-bfd6-33095b7869b6",
   "metadata": {},
   "source": [
    "# Análisis de Datos: Promedio de Puntajes\n",
    "\n",
    "En este análisis, cargaremos un archivo CSV que contiene información de un grupo de personas, como sus nombres, edades, ciudades y puntajes.  \n",
    "El objetivo es calcular el promedio de los puntajes y visualizar los datos.  \n",
    "A continuación, mostramos el contenido del archivo, seguido del cálculo del promedio y un gráfico para representarlo.\n"
   ]
  },
  {
   "cell_type": "code",
   "execution_count": 9,
   "id": "380c157d-a797-4513-a924-8a6c09b8e2c8",
   "metadata": {},
   "outputs": [
    {
     "name": "stdout",
     "output_type": "stream",
     "text": [
      "Datos cargados del archivo:\n",
      "  Nombre  Edad     Ciudad  Puntaje\n",
      "0    Ana    23     Madrid       87\n",
      "1   Luis    34  Barcelona       92\n",
      "2  María    29   Valencia       88\n",
      "3   Juan    41    Sevilla       76\n",
      "4  Sofía    25     Bilbao       95\n",
      "\n",
      "El promedio de los puntajes es: 87.60\n"
     ]
    },
    {
     "data": {
      "image/png": "[encoded data removed]",
      "text/plain": [
       "<Figure size 640x480 with 1 Axes>"
      ]
     },
     "metadata": {},
     "output_type": "display_data"
    }
   ],
   "source": [
    "# Importar las librerías necesarias\n",
    "import pandas as pd\n",
    "import matplotlib.pyplot as plt\n",
    "\n",
    "# Cargar el archivo CSV\n",
    "df = pd.read_csv('ejemplo.csv')\n",
    "\n",
    "# Mostrar los datos\n",
    "print(\"Datos cargados del archivo:\")\n",
    "print(df)\n",
    "\n",
    "# Calcular el promedio de los puntajes\n",
    "promedio_puntaje = df['Puntaje'].mean()\n",
    "print(f\"\\nEl promedio de los puntajes es: {promedio_puntaje:.2f}\")\n",
    "\n",
    "# Visualizar los puntajes individuales\n",
    "plt.bar(df['Nombre'], df['Puntaje'], color='skyblue', label='Puntajes')\n",
    "plt.axhline(promedio_puntaje, color='red', linestyle='--', label=f'Promedio ({promedio_puntaje:.2f})')\n",
    "plt.title('Puntajes individuales y promedio')\n",
    "plt.xlabel('Nombre')\n",
    "plt.ylabel('Puntaje')\n",
    "plt.legend()\n",
    "plt.show()\n"
   ]
  },
  {
   "cell_type": "code",
   "execution_count": null,
   "id": "e9affde7-985c-4429-a78a-80f276dfb814",
   "metadata": {},
   "outputs": [],
   "source": []
  }
 ],
 "metadata": {
  "kernelspec": {
   "display_name": "Python 3 (ipykernel)",
   "language": "python",
   "name": "python3"
  },
  "language_info": {
   "codemirror_mode": {
    "name": "ipython",
    "version": 3
   },
   "file_extension": ".py",
   "mimetype": "text/x-python",
   "name": "python",
   "nbconvert_exporter": "python",
   "pygments_lexer": "ipython3",
   "version": "3.10.5"
  }
 },
 "nbformat": 4,
 "nbformat_minor": 5
}
