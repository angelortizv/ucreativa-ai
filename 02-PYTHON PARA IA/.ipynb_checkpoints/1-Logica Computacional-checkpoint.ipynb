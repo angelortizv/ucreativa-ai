{
 "cells": [
  {
   "cell_type": "markdown",
   "id": "5f8f8493-a9d8-4317-b940-0c73b3570b79",
   "metadata": {},
   "source": [
    "### Lógica Computacional - Jupyter Notebook\n",
    "\n",
    "## Introducción a la lógica computacional\n",
    "\n",
    "La lógica computacional es un área de la informática y las matemáticas que estudia la aplicación de la lógica formal en sistemas computacionales. Se utiliza en inteligencia artificial, verificación de software y bases de datos. Esta disciplina nos permite formalizar el razonamiento y diseñar sistemas capaces de tomar decisiones basadas en reglas lógicas.\n",
    "\n",
    "## Proposiciones y conectivos lógicos\n",
    "\n",
    "Una proposición es una afirmación que puede ser verdadera o falsa. Algunos ejemplos son:\n",
    "- \"El cielo es azul\" (puede ser verdadera o falsa dependiendo del contexto)\n",
    "- \"2 + 2 = 4\" (siempre verdadera)\n",
    "- \"La Luna es un planeta\" (falsa)\n",
    "\n",
    "Los principales conectivos lógicos son:\n",
    "- **Conjunción (AND, ∧)**: Verdadero solo si ambas proposiciones son verdaderas.\n",
    "- **Disyunción (OR, ∨)**: Verdadero si al menos una proposición es verdadera.\n",
    "- **Negación (NOT, ¬)**: Invierte el valor de verdad de una proposición.\n",
    "- **Implicación (→)**: \"Si p entonces q\" (p implica q).\n",
    "- **Bicondicional (↔)**: \"p si y solo si q\" (p es equivalente a q).\n"
   ]
  },
  {
   "cell_type": "markdown",
   "id": "4eb5cdaa-9dac-4e37-8833-69288e78f771",
   "metadata": {},
   "source": [
    "### Ejemplo de Conectivos"
   ]
  },
  {
   "cell_type": "code",
   "execution_count": 1,
   "id": "9dba4af2-1cd1-4191-b543-36c6e6778237",
   "metadata": {},
   "outputs": [
    {
     "name": "stdout",
     "output_type": "stream",
     "text": [
      "Conjunción (AND): False\n",
      "Disyunción (OR): True\n",
      "Negación (NOT p): False\n"
     ]
    }
   ],
   "source": [
    "p = True\n",
    "q = False\n",
    "\n",
    "print(\"Conjunción (AND):\", p and q)\n",
    "print(\"Disyunción (OR):\", p or q)\n",
    "print(\"Negación (NOT p):\", not p)"
   ]
  },
  {
   "cell_type": "markdown",
   "id": "ee2cb3fd-07c7-4859-95b6-822a1dd391fd",
   "metadata": {},
   "source": [
    "## Tablas de verdad\n",
    "\n",
    "Las tablas de verdad nos permiten visualizar los valores resultantes de las operaciones lógicas para todas las combinaciones posibles de verdad de sus operandos.\n"
   ]
  },
  {
   "cell_type": "markdown",
   "id": "df33eb27-d41c-410f-a829-073c8a5b671f",
   "metadata": {},
   "source": [
    "### Ejemplo de tabla de verdad para AND, OR y NOT:"
   ]
  },
  {
   "cell_type": "code",
   "execution_count": 2,
   "id": "736a9c64-1b0f-477d-9e94-87eebb04e65c",
   "metadata": {},
   "outputs": [
    {
     "name": "stdout",
     "output_type": "stream",
     "text": [
      "p | q | p AND q | p OR q | NOT p\n",
      "True | True | True     | True  | False\n",
      "True | False | False     | True  | False\n",
      "False | True | False     | True  | True\n",
      "False | False | False     | False  | True\n"
     ]
    }
   ],
   "source": [
    "import itertools\n",
    "\n",
    "def truth_table():\n",
    "    print(\"p | q | p AND q | p OR q | NOT p\")\n",
    "    for p, q in itertools.product([True, False], repeat=2):\n",
    "        print(f\"{p} | {q} | {p and q}     | {p or q}  | {not p}\")\n",
    "\n",
    "truth_table()"
   ]
  },
  {
   "cell_type": "markdown",
   "id": "7acf516d-5a7f-4bf8-b780-2b37ee55ce8d",
   "metadata": {},
   "source": [
    "## Lógica de primer orden\n",
    "\n",
    "La lógica de primer orden introduce cuantificadores como \"para todo\" (∀) y \"existe\" (∃). Esto nos permite generalizar proposiciones y definir relaciones entre elementos de un conjunto.\n"
   ]
  },
  {
   "cell_type": "code",
   "execution_count": 3,
   "id": "85f3fd31-f177-4c5d-a214-023d9363ddac",
   "metadata": {},
   "outputs": [
    {
     "name": "stdout",
     "output_type": "stream",
     "text": [
      "Todos los elementos son mayores que 0: True\n",
      "Existe un elemento mayor que 4: True\n"
     ]
    }
   ],
   "source": [
    "universo = [1, 2, 3, 4, 5]\n",
    "\n",
    "# \"Para todo x en universo, x es mayor que 0\"\n",
    "todos_mayores_cero = all(x > 0 for x in universo)\n",
    "print(\"Todos los elementos son mayores que 0:\", todos_mayores_cero)\n",
    "\n",
    "# \"Existe un x en universo tal que x es mayor que 4\"\n",
    "existe_mayor_cuatro = any(x > 4 for x in universo)\n",
    "print(\"Existe un elemento mayor que 4:\", existe_mayor_cuatro)"
   ]
  },
  {
   "cell_type": "markdown",
   "id": "6352e91b-00f5-4671-aacd-3fe4fc35582e",
   "metadata": {},
   "source": [
    "## Inferencia lógica y resolución\n",
    "\n",
    "La inferencia lógica permite deducir nuevas proposiciones a partir de reglas dadas. Se basa en reglas de inferencia como:\n",
    "- **Modus Ponens**: Si \"p → q\" y \"p\" son verdaderos, entonces \"q\" es verdadero.\n",
    "- **Modus Tollens**: Si \"p → q\" y \"¬q\" son verdaderos, entonces \"¬p\" es verdadero.\n"
   ]
  },
  {
   "cell_type": "code",
   "execution_count": 4,
   "id": "24ff4ee7-e6e8-4959-a66b-cbec4c32a105",
   "metadata": {},
   "outputs": [
    {
     "name": "stdout",
     "output_type": "stream",
     "text": [
      "Regla de inferencia: Implies(A, B)\n"
     ]
    }
   ],
   "source": [
    "from sympy import symbols, Implies\n",
    "\n",
    "A, B = symbols('A B')\n",
    "implicacion = Implies(A, B)\n",
    "print(\"Regla de inferencia:\", implicacion)\n"
   ]
  },
  {
   "cell_type": "markdown",
   "id": "b46843fb-666c-4a5a-81c5-ec6e3c38373d",
   "metadata": {},
   "source": [
    "## Álgebra booleana y su aplicación en circuitos lógicos\n",
    "\n",
    "El álgebra booleana es una rama de la matemática que estudia las operaciones lógicas.\n",
    "Sus principios son fundamentales para el diseño de circuitos digitales y la optimización de expresiones lógicas.\n",
    "Las tres operaciones básicas son:\n",
    "- **AND (∧):** Multiplicación lógica\n",
    "- **OR (∨):** Suma lógica\n",
    "- **NOT (¬):** Complemento lógico\n",
    "\n",
    "### Implementación en Python\n",
    "Vamos a implementar una función que evalúe expresiones lógicas simples en Python.\n"
   ]
  },
  {
   "cell_type": "code",
   "execution_count": 5,
   "id": "abed415c-9a56-41d0-b87e-ff845fa3b0ac",
   "metadata": {},
   "outputs": [
    {
     "name": "stdout",
     "output_type": "stream",
     "text": [
      "Resultado de la operación XOR: True\n"
     ]
    }
   ],
   "source": [
    "def evaluar_expresion(p, q, operador):\n",
    "    if operador == 'AND':\n",
    "        return p and q\n",
    "    elif operador == 'OR':\n",
    "        return p or q\n",
    "    elif operador == 'XOR':\n",
    "        return p != q\n",
    "    elif operador == 'IMPLICA':\n",
    "        return not p or q\n",
    "    else:\n",
    "        return \"Operador no válido\"\n",
    "\n",
    "# Prueba de la función\n",
    "evaluacion = evaluar_expresion(True, False, 'XOR')\n",
    "print(\"Resultado de la operación XOR:\", evaluacion)\n"
   ]
  },
  {
   "cell_type": "markdown",
   "id": "ef9bd5d1-38da-4c71-aa62-502522cc36ef",
   "metadata": {},
   "source": [
    "# <span style=\"color: red;\">Tarea Moral: Realizar los siguientes ejercicios:</span>\n",
    "\n",
    "\n",
    "1. Implementa una función que reciba tres valores lógicos y aplique una operación elegida por el usuario.\n",
    "2. Crea una tabla de verdad para la operación XOR.\n",
    "3. Diseña una función que verifique si una expresión lógica es una tautología.\n"
   ]
  }
 ],
 "metadata": {
  "kernelspec": {
   "display_name": "Python 3 (ipykernel)",
   "language": "python",
   "name": "python3"
  },
  "language_info": {
   "codemirror_mode": {
    "name": "ipython",
    "version": 3
   },
   "file_extension": ".py",
   "mimetype": "text/x-python",
   "name": "python",
   "nbconvert_exporter": "python",
   "pygments_lexer": "ipython3",
   "version": "3.10.5"
  }
 },
 "nbformat": 4,
 "nbformat_minor": 5
}
