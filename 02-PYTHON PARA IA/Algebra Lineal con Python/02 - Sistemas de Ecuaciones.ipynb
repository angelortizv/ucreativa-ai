{
 "cells": [
  {
   "cell_type": "markdown",
   "metadata": {
    "id": "RVxHpsbcExUD"
   },
   "source": [
    "<br />\n",
    "<div align=\"center\">\n",
    "  <a>\n",
    "    <img src=\"https://biblioteca.aurens.com/universidades/colleges/logos/LaUdelFuturo.png\" alt=\"Logo\" width=\"30%\">\n",
    "  </a>\n",
    "</div>\n",
    "\n",
    "\n",
    "## 🔢 Álgebra Lineal con Python\n",
    "\n",
    "- 📌 Curso: **Python para Inteligencia Artificial - Universidad Creativa**\n",
    "- 👨‍🏫 Profesor: **Angelo Ortiz Vega**\n",
    "- 📖 Descripción: *ste repositorio proporciona una guía práctica para aprender y aplicar conceptos fundamentales de álgebra lineal utilizando Python. Desde la manipulación de vectores hasta la resolución de sistemas de ecuaciones, cubriremos herramientas esenciales para el análisis matemático y científico.*\n",
    "\n",
    "### 🎯 Objetivos del Curso\n",
    "\n",
    "- Comprender la representación y operaciones básicas con vectores.\n",
    "- Graficar vectores en 2D y 3D usando matplotlib.\n",
    "- Resolver sistemas de ecuaciones lineales utilizando matrices.\n",
    "- Analizar y clasificar sistemas de ecuaciones según su solución.\n",
    "- Trabajar con matrices y operaciones matriciales fundamentales.\n",
    "- Aplicar la regla de Cramer y el cálculo de determinantes en la resolución de ecuaciones.\n",
    "  \n",
    "### 📂 Contenido\n",
    "\n",
    "1. Vectores y Operaciones\n",
    "- Suma, resta y multiplicación de vectores.\n",
    "- Producto punto y producto cruz.\n",
    "\n",
    "2. Graficación de Vectores\n",
    "- Representación en 2D y 3D con matplotlib.\n",
    "\n",
    "3. Sistemas de Ecuaciones\n",
    "- Métodos de resolución: eliminación de Gauss, matriz inversa.\n",
    "- Clasificación de sistemas (compatible determinado, compatible indeterminado, incompatible).\n",
    "\n",
    "4. Rectas y Planos en el Espacio\n",
    "- Representación algebraica y gráfica.\n",
    "- Intersección entre rectas y planos.\n",
    "\n",
    "5. Operaciones con Matrices\n",
    "- Suma, multiplicación, inversa y transposición.\n",
    "- Espacio columna y espacio nulo.\n",
    "\n",
    "6. Determinantes y Regla de Cramer\n",
    "- Propiedades de los determinantes.\n",
    "- Aplicación en sistemas de ecuaciones lineales.\n",
    "\n",
    "### 🛠 Requisitos\n",
    "\n",
    "- Conocimientos básicos de programación (deseable).\n",
    "- Instalación de Python 3.x y Jupyter Notebook.\n",
    "- Bibliotecas recomendadas: numpy, pandas, matplotlib, scikit-learn.\n",
    "\n",
    "Repositorio Completo: [ucreativa-ai/Conceptos Básicos de Python para IA](https://github.com/angelortizv/ucreativa-ai/tree/main/02-PYTHON%20PARA%20IA)"
   ]
  },
  {
   "cell_type": "markdown",
   "metadata": {
    "id": "pELON3yz_46g"
   },
   "source": [
    "# **SISTEMA DE ECUACIONES, MÉTODO DE ELIMINACIÓN DE GAUSS-JORDAN**"
   ]
  },
  {
   "cell_type": "markdown",
   "metadata": {
    "id": "StPcFiQlYfrM"
   },
   "source": [
    "## **Instalación librería PlotLinearAlgebra**\n",
    "La librería **PlotLinearAlgebra** fue creada para la visualización bidimensional y tridimensional de objetos geométricos abordados en un curso de álgebra lineal, apoyado desde el lenguaje de programación Python, en particular con el uso de la librería de cálculo simbólico SymPy.[PlotLinearAlgebra](https://pypi.org/project/PlotLinearAlgebra/)"
   ]
  },
  {
   "cell_type": "code",
   "execution_count": 1,
   "metadata": {
    "colab": {
     "background_save": true
    },
    "id": "6JRJgBgMmhtj"
   },
   "outputs": [
    {
     "name": "stdout",
     "output_type": "stream",
     "text": [
      "Requirement already satisfied: PlotLinearAlgebra in c:\\users\\pc master\\appdata\\local\\programs\\python\\python310\\lib\\site-packages (1.15.0)\n",
      "Requirement already satisfied: plotly==5.1.0 in c:\\users\\pc master\\appdata\\local\\programs\\python\\python310\\lib\\site-packages (from PlotLinearAlgebra) (5.1.0)\n",
      "Requirement already satisfied: numpy in c:\\users\\pc master\\appdata\\local\\programs\\python\\python310\\lib\\site-packages (from PlotLinearAlgebra) (1.26.4)\n",
      "Requirement already satisfied: sympy in c:\\users\\pc master\\appdata\\local\\programs\\python\\python310\\lib\\site-packages (from PlotLinearAlgebra) (1.13.1)\n",
      "Requirement already satisfied: latex in c:\\users\\pc master\\appdata\\local\\programs\\python\\python310\\lib\\site-packages (from PlotLinearAlgebra) (0.7.0)\n",
      "Requirement already satisfied: tenacity>=6.2.0 in c:\\users\\pc master\\appdata\\local\\programs\\python\\python310\\lib\\site-packages (from plotly==5.1.0->PlotLinearAlgebra) (9.0.0)\n",
      "Requirement already satisfied: six in c:\\users\\pc master\\appdata\\local\\programs\\python\\python310\\lib\\site-packages (from plotly==5.1.0->PlotLinearAlgebra) (1.16.0)\n",
      "Requirement already satisfied: tempdir in c:\\users\\pc master\\appdata\\local\\programs\\python\\python310\\lib\\site-packages (from latex->PlotLinearAlgebra) (0.7.1)\n",
      "Requirement already satisfied: data in c:\\users\\pc master\\appdata\\local\\programs\\python\\python310\\lib\\site-packages (from latex->PlotLinearAlgebra) (0.4)\n",
      "Requirement already satisfied: future in c:\\users\\pc master\\appdata\\local\\programs\\python\\python310\\lib\\site-packages (from latex->PlotLinearAlgebra) (1.0.0)\n",
      "Requirement already satisfied: shutilwhich in c:\\users\\pc master\\appdata\\local\\programs\\python\\python310\\lib\\site-packages (from latex->PlotLinearAlgebra) (1.1.0)\n",
      "Requirement already satisfied: mpmath<1.4,>=1.1.0 in c:\\users\\pc master\\appdata\\local\\programs\\python\\python310\\lib\\site-packages (from sympy->PlotLinearAlgebra) (1.3.0)\n",
      "Requirement already satisfied: decorator in c:\\users\\pc master\\appdata\\local\\programs\\python\\python310\\lib\\site-packages (from data->latex->PlotLinearAlgebra) (5.1.1)\n",
      "Requirement already satisfied: funcsigs in c:\\users\\pc master\\appdata\\local\\programs\\python\\python310\\lib\\site-packages (from data->latex->PlotLinearAlgebra) (1.0.2)\n",
      "Note: you may need to restart the kernel to use updated packages.\n"
     ]
    },
    {
     "name": "stderr",
     "output_type": "stream",
     "text": [
      "WARNING: Ignoring invalid distribution -lotly (c:\\users\\pc master\\appdata\\local\\programs\\python\\python310\\lib\\site-packages)\n",
      "WARNING: Ignoring invalid distribution -orch (c:\\users\\pc master\\appdata\\local\\programs\\python\\python310\\lib\\site-packages)\n",
      "WARNING: Ignoring invalid distribution -lotly (c:\\users\\pc master\\appdata\\local\\programs\\python\\python310\\lib\\site-packages)\n",
      "WARNING: Ignoring invalid distribution -orch (c:\\users\\pc master\\appdata\\local\\programs\\python\\python310\\lib\\site-packages)\n",
      "WARNING: Ignoring invalid distribution -lotly (c:\\users\\pc master\\appdata\\local\\programs\\python\\python310\\lib\\site-packages)\n",
      "WARNING: Ignoring invalid distribution -orch (c:\\users\\pc master\\appdata\\local\\programs\\python\\python310\\lib\\site-packages)\n",
      "\n",
      "[notice] A new release of pip is available: 24.3.1 -> 25.0\n",
      "[notice] To update, run: python.exe -m pip install --upgrade pip\n"
     ]
    }
   ],
   "source": [
    "pip install PlotLinearAlgebra"
   ]
  },
  {
   "cell_type": "markdown",
   "metadata": {
    "id": "LBsUKbFnm62J"
   },
   "source": [
    "## **Importación de los módulos de graficación plot2d y plot3d**\n",
    "\n",
    "El módulo **plot2d** permite graficar : puntos, rectas y vectores en el espacio bidimensional, contiene la función plot2D, el módulo **plot3d** permite graficar : puntos, rectas, vectores y planos en el espacio tridimensional, contiene la función plot3D.\n",
    "\n"
   ]
  },
  {
   "cell_type": "code",
   "execution_count": 2,
   "metadata": {
    "id": "dyWsf3ZNnoa0"
   },
   "outputs": [],
   "source": [
    "from PlotLinearAlgebra.plot2d import *\n",
    "from PlotLinearAlgebra.plot3d import *"
   ]
  },
  {
   "cell_type": "markdown",
   "metadata": {
    "id": "U515Q-sM2m9k"
   },
   "source": [
    "## **Importamos librería simbólica SymPy**\n",
    "**SymPy** es una biblioteca de Python para matemáticas simbólicas. Su objetivo es convertirse en un sistema de álgebra computacional (CAS) con todas las funciones, manteniendo el código lo más simple posible para que sea comprensible y fácilmente extensible. SymPy está escrito completamente en Python.[sympy.org](https://www.sympy.org/en/index.html)"
   ]
  },
  {
   "cell_type": "code",
   "execution_count": 3,
   "metadata": {
    "id": "4wHJ9dZ3405h"
   },
   "outputs": [],
   "source": [
    "from sympy import *\n",
    "init_printing()\n",
    "x,y,z,w = symbols(\"x y z w \")\n",
    "a,b,c,A,B,C = symbols(\"a b c A B C \")"
   ]
  },
  {
   "cell_type": "markdown",
   "metadata": {
    "id": "3Hyo-LBSIayP"
   },
   "source": [
    "# **TIPOS SISTEMAS DE ECUACIONES**\n",
    "\n",
    "## **SISTEMA COMPATIBLE DETERMINADO** *(sistema con única solución)*\n",
    "\n",
    "$$\\left\\{\n",
    "\\begin{array}{rcl}\n",
    "     2x+ 4y+6z  & = & 18\n",
    "  \\\\ 4x+ 5y+6z & = & 24\n",
    "  \\\\ 3x+y-2z & = & 4\n",
    "\\end{array}\n",
    "\\right.$$"
   ]
  },
  {
   "cell_type": "markdown",
   "metadata": {
    "id": "hnEusJtlfBf5"
   },
   "source": [
    "### **Forma 1** "
   ]
  },
  {
   "cell_type": "code",
   "execution_count": 4,
   "metadata": {
    "colab": {
     "base_uri": "https://localhost:8080/"
    },
    "id": "gJhVTkT4b_dt",
    "outputId": "274eb2bb-9dfe-46d7-82c5-e2d079cc1b04"
   },
   "outputs": [
    {
     "data": {
      "image/png": "[encoded data removed]",
      "text/latex": [
       "$\\displaystyle \\left\\{ x : 4, \\  y : -2, \\  z : 3\\right\\}$"
      ],
      "text/plain": [
       "{x: 4, y: -2, z: 3}"
      ]
     },
     "execution_count": 4,
     "metadata": {},
     "output_type": "execute_result"
    }
   ],
   "source": [
    "solve( [ 2*x + 4*y + 6*z -18, 4*x + 5*y +6*z -24, 3*x + y - 2*z - 4])"
   ]
  },
  {
   "cell_type": "markdown",
   "metadata": {
    "id": "Z6pJKYTlfEHf"
   },
   "source": [
    "### **Forma 2** "
   ]
  },
  {
   "cell_type": "code",
   "execution_count": 5,
   "metadata": {
    "colab": {
     "base_uri": "https://localhost:8080/"
    },
    "id": "rvaDm5SRcABF",
    "outputId": "7f6fb50e-8511-4ace-9ce6-87eb1dcc6225"
   },
   "outputs": [
    {
     "data": {
      "image/png": "[encoded data removed]",
      "text/latex": [
       "$\\displaystyle \\left\\{ x : 4, \\  y : -2, \\  z : 3\\right\\}$"
      ],
      "text/plain": [
       "{x: 4, y: -2, z: 3}"
      ]
     },
     "execution_count": 5,
     "metadata": {},
     "output_type": "execute_result"
    }
   ],
   "source": [
    "Eq1 = Eq(2*x + 4*y + 6*z,18)\n",
    "Eq2 = Eq(4*x + 5*y +6*z,24)\n",
    "Eq3 = Eq( 3*x + y - 2*z,4)\n",
    "solve( [ Eq1,Eq2,Eq3], [x, y, z])"
   ]
  },
  {
   "cell_type": "markdown",
   "metadata": {
    "id": "VnjYrBnUfw9I"
   },
   "source": [
    "### **Forma 3**"
   ]
  },
  {
   "cell_type": "code",
   "execution_count": 6,
   "metadata": {
    "colab": {
     "base_uri": "https://localhost:8080/"
    },
    "id": "k7t0Y_msfwNd",
    "outputId": "e6c5e7e9-ceee-47a2-b171-41360e5f7019"
   },
   "outputs": [
    {
     "data": {
      "image/png": "[encoded data removed]",
      "text/latex": [
       "$\\displaystyle \\left\\{ x : 4, \\  y : -2, \\  z : 3\\right\\}$"
      ],
      "text/plain": [
       "{x: 4, y: -2, z: 3}"
      ]
     },
     "execution_count": 6,
     "metadata": {},
     "output_type": "execute_result"
    }
   ],
   "source": [
    "Eq1 = 2*x + 4*y + 6*z - 18\n",
    "Eq2 = 4*x + 5*y + 6*z - 24\n",
    "Eq3 = 3*x + y - 2*z - 4\n",
    "solve( [ Eq1,Eq2,Eq3])"
   ]
  },
  {
   "cell_type": "markdown",
   "metadata": {
    "id": "mWHsRP7sqUr2"
   },
   "source": [
    "## **SISTEMA INCOMPATIBLE O INCONSISTENTE** *(sistema sin solución)*\n",
    "\n",
    "$$\\left\\{\n",
    "\\begin{array}{rcl}\n",
    "     2x - y+ z  & = & 3\n",
    "  \\\\ 3x+ y-2z & = & -2\n",
    "  \\\\ x-y+z & = & 7\n",
    "  \\\\ x+5y+7z & = & 13\n",
    "  \\\\ x-7y-5z & = & 12\n",
    "\\end{array}\n",
    "\\right.$$"
   ]
  },
  {
   "cell_type": "code",
   "execution_count": 7,
   "metadata": {
    "colab": {
     "base_uri": "https://localhost:8080/"
    },
    "id": "x4fJfccOomN0",
    "outputId": "e5d57c37-3c4c-41dd-8b3a-52f7630f35a8"
   },
   "outputs": [
    {
     "data": {
      "image/png": "[encoded data removed]",
      "text/latex": [
       "$\\displaystyle \\left[ \\right]$"
      ],
      "text/plain": [
       "[]"
      ]
     },
     "execution_count": 7,
     "metadata": {},
     "output_type": "execute_result"
    }
   ],
   "source": [
    "Eq1 = Eq(2*x -y + z,3)\n",
    "Eq2 = Eq(3*x + y -2*z,-2)\n",
    "Eq3 = Eq( x - y + z,7)\n",
    "Eq4 = Eq( x + 5* y + 7*z,13)\n",
    "Eq5 = Eq( x - 7* y - 5*z,12)\n",
    "solve( [ Eq1,Eq2,Eq3,Eq4,Eq5], [x, y, z])"
   ]
  },
  {
   "cell_type": "markdown",
   "metadata": {
    "id": "X1PSmjfQqa-x"
   },
   "source": [
    "## **SISTEMA COMPATIBLE INDETERMINADO** *(sistema con infinitas soluciones)*\n",
    "### **Ejemplo 1:**\n",
    "\n",
    "\n",
    "\n",
    "$$\\left\\{\n",
    "\\begin{array}{rcl}\n",
    "     2x + y+ z + w  & = & 6\n",
    "  \\\\ 2x+ y-z & = & 3\n",
    "  \\\\ x-y+z & = & 7\n",
    "  \\\\ 3x+y+2w & = & 6\n",
    "\\end{array}\n",
    "\\right.$$"
   ]
  },
  {
   "cell_type": "code",
   "execution_count": 8,
   "metadata": {
    "colab": {
     "base_uri": "https://localhost:8080/"
    },
    "id": "xrmFLjAwprJM",
    "outputId": "4660508d-d83f-4366-b28b-d17142a77165"
   },
   "outputs": [
    {
     "data": {
      "image/png": "[encoded data removed]",
      "text/latex": [
       "$\\displaystyle \\left\\{ x : 1 - w, \\  y : w + 3, \\  z : 2 - w\\right\\}$"
      ],
      "text/plain": [
       "{x: 1 - w, y: w + 3, z: 2 - w}"
      ]
     },
     "execution_count": 8,
     "metadata": {},
     "output_type": "execute_result"
    }
   ],
   "source": [
    "Eq1 = Eq(x + y + z + w,6)\n",
    "Eq2 = Eq(2*x + y -z,3)\n",
    "Eq3 = Eq( 3*x + y +2*w,6)\n",
    "solve( [ Eq1,Eq2,Eq3], [x, y, z,w])"
   ]
  },
  {
   "cell_type": "markdown",
   "metadata": {
    "id": "ai6ErXM5Qrq_"
   },
   "source": [
    "### **Ejemplo 2:**\n",
    "\n",
    "\n",
    "\n",
    "$$\\left\\{\n",
    "\\begin{array}{rcl}\n",
    "     -x_1+x_2  & = & 50\n",
    "  \\\\ -x_2 +x_3-x_4+x_5 & = & 0\n",
    "  \\\\ x_5-x_6& = & 60\n",
    "  \\\\ x_4-x_6 & = & 50\n",
    "  \\\\ -x_1+x_3 & = & 40\n",
    "\\end{array}\n",
    "\\right.$$"
   ]
  },
  {
   "cell_type": "code",
   "execution_count": 9,
   "metadata": {
    "colab": {
     "base_uri": "https://localhost:8080/"
    },
    "id": "j8Nhc0OLCXFk",
    "outputId": "0cef6903-4d3a-4361-ccdd-e13c8125ddb3"
   },
   "outputs": [
    {
     "data": {
      "image/png": "[encoded data removed]",
      "text/latex": [
       "$\\displaystyle \\left\\{ x_{1} : x_{3} - 40, \\  x_{2} : x_{3} + 10, \\  x_{4} : x_{6} + 50, \\  x_{5} : x_{6} + 60\\right\\}$"
      ],
      "text/plain": [
       "{x₁: x₃ - 40, x₂: x₃ + 10, x₄: x₆ + 50, x₅: x₆ + 60}"
      ]
     },
     "execution_count": 9,
     "metadata": {},
     "output_type": "execute_result"
    }
   ],
   "source": [
    "x1,x2,x3,x4,x5,x6 = symbols(\"x1 x2 x3 x4 x5 x6 \")\n",
    "\n",
    "Eq1 = Eq(-x1+x2,50)\n",
    "Eq2 = Eq(-x2 + x3-x4+x5,0)\n",
    "Eq3 = Eq(x5-x6,60)\n",
    "Eq4 = Eq(x4-x6,50)\n",
    "Eq5 = Eq(-x1+x3,40)\n",
    "solve( [ Eq1,Eq2,Eq3,Eq4,Eq5])"
   ]
  },
  {
   "cell_type": "markdown",
   "metadata": {
    "id": "b42xq_Z-gYvc"
   },
   "source": [
    "# **MÉTODO DE ELIMINACIÓN DE GAUSS-JORDAN**\n",
    "\n",
    "## **Eliminación de Gauss-Jordan** --> *verificación rápida*\n",
    "\n",
    "### **Ejemplo 1:**\n",
    "\n",
    "Encuentra la solución o soluciones del siguiente sistema de ecuaciones, si es posible, usando el método de eliminación de **Gauss-jordan**:\n",
    "\n",
    "$$\\left\\{\n",
    "\\begin{array}{rcl}\n",
    "     x_1-3x_3& = & 0\n",
    "  \\\\ x_1+ 8x_2-5x_3-2x_4 & = & 0\n",
    "   \\\\ x_1+ 6x_2-6x_3-x_5 & = & 0\n",
    "   \\\\ 3x_1+ 7x_2-7x_3-x_4-2x_5 & = & 0\n",
    "\\end{array}\n",
    "\\right.$$"
   ]
  },
  {
   "cell_type": "code",
   "execution_count": 10,
   "metadata": {
    "colab": {
     "base_uri": "https://localhost:8080/",
     "height": 98
    },
    "id": "Nq57WA6FcARL",
    "outputId": "b35582ba-21ef-4cd1-ca0d-83203b4bf525"
   },
   "outputs": [
    {
     "data": {
      "text/latex": [
       "$\\displaystyle \\left[\\begin{matrix}1 & 0 & 0 & 0 & -1 & 0\\\\0 & 1 & 0 & 0 & - \\frac{1}{3} & 0\\\\0 & 0 & 1 & 0 & - \\frac{1}{3} & 0\\\\0 & 0 & 0 & 1 & -1 & 0\\end{matrix}\\right]$"
      ],
      "text/plain": [
       "⎡1  0  0  0   -1   0⎤\n",
       "⎢                   ⎥\n",
       "⎢0  1  0  0  -1/3  0⎥\n",
       "⎢                   ⎥\n",
       "⎢0  0  1  0  -1/3  0⎥\n",
       "⎢                   ⎥\n",
       "⎣0  0  0  1   -1   0⎦"
      ]
     },
     "execution_count": 10,
     "metadata": {},
     "output_type": "execute_result"
    }
   ],
   "source": [
    "A = Matrix([[1,0,-3,0,0,0],[1,8,-5,-2,0,0],[1,6,-6,0,-1,0],[3,7,-7,-1,-2,0]])\n",
    "B = A.rref(pivots=False) # rref: row reduced echelon form\n",
    "B"
   ]
  },
  {
   "cell_type": "markdown",
   "metadata": {
    "id": "k36nvWUwTXJf"
   },
   "source": [
    "### **Ejemplo 2:**\n",
    "\n",
    "Encuentra la solución o soluciones del siguiente sistema de ecuaciones, si es posible, usando el método de eliminación de **Gauss-jordan**:\n",
    "$$\\left\\{\n",
    "\\begin{array}{rcl}\n",
    "     x + z  & = & 20\n",
    "  \\\\ y-z-w & = & 0\n",
    "  \\\\ x+y & = & 80\n",
    "\\end{array}\n",
    "\\right.$$"
   ]
  },
  {
   "cell_type": "code",
   "execution_count": 11,
   "metadata": {
    "colab": {
     "base_uri": "https://localhost:8080/",
     "height": 78
    },
    "id": "Czawo8dwSYq0",
    "outputId": "59dde92c-43dc-48ad-ac60-6a0ccfb779c8"
   },
   "outputs": [
    {
     "data": {
      "text/latex": [
       "$\\displaystyle \\left[\\begin{matrix}1 & 0 & 1 & 0 & 20\\\\0 & 1 & -1 & 0 & 60\\\\0 & 0 & 0 & 1 & 60\\end{matrix}\\right]$"
      ],
      "text/plain": [
       "⎡1  0  1   0  20⎤\n",
       "⎢               ⎥\n",
       "⎢0  1  -1  0  60⎥\n",
       "⎢               ⎥\n",
       "⎣0  0  0   1  60⎦"
      ]
     },
     "execution_count": 11,
     "metadata": {},
     "output_type": "execute_result"
    }
   ],
   "source": [
    "A = Matrix([[1,0,1,0,20],[0,1,-1,-1,0],[1,1,0,0,80]])\n",
    "B = A.rref(pivots=False)\n",
    "B"
   ]
  },
  {
   "cell_type": "markdown",
   "metadata": {
    "id": "KXkkSMhGUrfm"
   },
   "source": [
    "### **Ejemplo 3:**\n",
    "\n",
    "Encuentra la solución o soluciones del siguiente sistema de ecuaciones, si es posible, usando el método de eliminación de **Gauss-jordan**:\n",
    "$$\\left\\{\n",
    "\\begin{array}{rcl}\n",
    "     x + z  & = & 20\n",
    "  \\\\ y-z-w & = & 0\n",
    "  \\\\ x+y & = & 80\n",
    "\\end{array}\n",
    "\\right.$$"
   ]
  },
  {
   "cell_type": "code",
   "execution_count": 12,
   "metadata": {
    "colab": {
     "base_uri": "https://localhost:8080/",
     "height": 78
    },
    "id": "xvXHlqobI6xv",
    "outputId": "8b0bd22f-0c09-443f-e8a8-63aa1c8a971b"
   },
   "outputs": [
    {
     "data": {
      "text/latex": [
       "$\\displaystyle \\left[\\begin{matrix}1 & 0 & 1 & 0 & 20\\\\0 & 1 & -1 & 0 & 60\\\\0 & 0 & 0 & 1 & 60\\end{matrix}\\right]$"
      ],
      "text/plain": [
       "⎡1  0  1   0  20⎤\n",
       "⎢               ⎥\n",
       "⎢0  1  -1  0  60⎥\n",
       "⎢               ⎥\n",
       "⎣0  0  0   1  60⎦"
      ]
     },
     "execution_count": 12,
     "metadata": {},
     "output_type": "execute_result"
    }
   ],
   "source": [
    "A = Matrix([[1,0,1,0,20],[0,1,-1,-1,0],[1,1,0,0,80]])\n",
    "B = A.rref(pivots=False)\n",
    "B"
   ]
  },
  {
   "cell_type": "markdown",
   "metadata": {
    "id": "OeZfDuJFZISz"
   },
   "source": [
    "### **Ejemplo 4:**\n",
    "\n",
    "Encuentra la solución o soluciones del siguiente sistema de ecuaciones, si es posible, usando el método de eliminación de **Gauss-jordan**:\n",
    "$$\\left\\{\n",
    "\\begin{array}{rcl}\n",
    "     x + z  & = & 0\n",
    "  \\\\ 3x +y+6z+w & = & 1\n",
    "  \\\\ 3x+9z+6w & = & 0\n",
    "  \\\\ 9x+3y+9w & = & 15\n",
    "\\end{array}\n",
    "\\right.$$"
   ]
  },
  {
   "cell_type": "code",
   "execution_count": 13,
   "metadata": {
    "colab": {
     "base_uri": "https://localhost:8080/",
     "height": 98
    },
    "id": "8qtsgjgDq0QH",
    "outputId": "4d665e51-529c-46e3-a40d-321fa249a0b6"
   },
   "outputs": [
    {
     "data": {
      "text/latex": [
       "$\\displaystyle \\left[\\begin{matrix}1 & 0 & 0 & 0 & \\frac{1}{2}\\\\0 & 1 & 0 & 0 & 2\\\\0 & 0 & 1 & 0 & - \\frac{1}{2}\\\\0 & 0 & 0 & 1 & \\frac{1}{2}\\end{matrix}\\right]$"
      ],
      "text/plain": [
       "⎡1  0  0  0  1/2 ⎤\n",
       "⎢                ⎥\n",
       "⎢0  1  0  0   2  ⎥\n",
       "⎢                ⎥\n",
       "⎢0  0  1  0  -1/2⎥\n",
       "⎢                ⎥\n",
       "⎣0  0  0  1  1/2 ⎦"
      ]
     },
     "execution_count": 13,
     "metadata": {},
     "output_type": "execute_result"
    }
   ],
   "source": [
    "A = Matrix([[1,0,1,0,0],[3,1,6,1,1],[3,0,9,6,0],[9,3,0,9,15]])\n",
    "B = A.rref(pivots=False)\n",
    "B"
   ]
  },
  {
   "cell_type": "markdown",
   "metadata": {
    "id": "HhAkBy3OZx7O"
   },
   "source": [
    "### **Ejemplo 5:**\n",
    "\n",
    "Encuentra la solución o soluciones del siguiente sistema de ecuaciones, si es posible, usando el método de eliminación de **Gauss-jordan**:\n",
    "$$\\left\\{\n",
    "\\begin{array}{rcl}\n",
    "     16x -8y + 4z -2w & = & 2\n",
    "  \\\\ x -y+z-w & = & 4\n",
    "  \\\\ x+y+z+w & = & 3\n",
    "  \\\\ 16x+8y+4z+2w & = & 9\n",
    "\\end{array}\n",
    "\\right.$$"
   ]
  },
  {
   "cell_type": "code",
   "execution_count": 14,
   "metadata": {
    "colab": {
     "base_uri": "https://localhost:8080/",
     "height": 98
    },
    "id": "pPZPd-ufwHsx",
    "outputId": "e73d78ad-f58b-492c-8234-0ecaa7926aa1"
   },
   "outputs": [
    {
     "data": {
      "text/latex": [
       "$\\displaystyle \\left[\\begin{matrix}1 & 0 & 0 & 0 & - \\frac{17}{24}\\\\0 & 1 & 0 & 0 & \\frac{3}{4}\\\\0 & 0 & 1 & 0 & \\frac{101}{24}\\\\0 & 0 & 0 & 1 & - \\frac{5}{4}\\end{matrix}\\right]$"
      ],
      "text/plain": [
       "⎡            -17 ⎤\n",
       "⎢1  0  0  0  ────⎥\n",
       "⎢             24 ⎥\n",
       "⎢                ⎥\n",
       "⎢0  1  0  0  3/4 ⎥\n",
       "⎢                ⎥\n",
       "⎢            101 ⎥\n",
       "⎢0  0  1  0  ─── ⎥\n",
       "⎢            24  ⎥\n",
       "⎢                ⎥\n",
       "⎣0  0  0  1  -5/4⎦"
      ]
     },
     "execution_count": 14,
     "metadata": {},
     "output_type": "execute_result"
    }
   ],
   "source": [
    "A = Matrix([[16,-8,4,-2,2],[1,-1,1,-1,4],[1,1,1,1,3],[16,8,4,2,9]])\n",
    "B = A.rref(pivots=False)\n",
    "B"
   ]
  },
  {
   "cell_type": "markdown",
   "metadata": {
    "id": "W3IXxUGgv7OI"
   },
   "source": [
    "### **Ejemplo 6:**\n",
    "\n",
    "Encuentra la solución o soluciones del siguiente sistema de ecuaciones, si es posible, usando el método de eliminación de **Gauss-jordan**:\n",
    "$$\\left\\{\n",
    "\\begin{array}{rcl}\n",
    "     -x_1 -x_2 & = & 50\n",
    "  \\\\ -x_2+x_3-x_4+x_5 & = & 0\n",
    "  \\\\ x_5-x_6 & = & 60\n",
    "  \\\\ x_4-x_6 & = & 50\n",
    "  \\\\ -x_1+x_2 & = & 40\n",
    "\\end{array}\n",
    "\\right.$$"
   ]
  },
  {
   "cell_type": "code",
   "execution_count": 15,
   "metadata": {
    "colab": {
     "base_uri": "https://localhost:8080/",
     "height": 119
    },
    "id": "KEblnuohqVT5",
    "outputId": "41780351-fc2f-4bd7-9cbe-848ee4b72f02"
   },
   "outputs": [
    {
     "data": {
      "text/latex": [
       "$\\displaystyle \\left[\\begin{matrix}1 & 0 & -1 & 0 & 0 & 0 & -40\\\\0 & 1 & -1 & 0 & 0 & 0 & 10\\\\0 & 0 & 0 & 1 & 0 & -1 & 50\\\\0 & 0 & 0 & 0 & 1 & -1 & 60\\\\0 & 0 & 0 & 0 & 0 & 0 & 0\\end{matrix}\\right]$"
      ],
      "text/plain": [
       "⎡1  0  -1  0  0  0   -40⎤\n",
       "⎢                       ⎥\n",
       "⎢0  1  -1  0  0  0   10 ⎥\n",
       "⎢                       ⎥\n",
       "⎢0  0  0   1  0  -1  50 ⎥\n",
       "⎢                       ⎥\n",
       "⎢0  0  0   0  1  -1  60 ⎥\n",
       "⎢                       ⎥\n",
       "⎣0  0  0   0  0  0    0 ⎦"
      ]
     },
     "execution_count": 15,
     "metadata": {},
     "output_type": "execute_result"
    }
   ],
   "source": [
    "A = Matrix([[-1,1,0,0,0,0,50],[0,-1,1,-1,1,0,0],[0,0,0,0,1,-1,60],[0,0,0,1,0,-1,50],[-1,0,1,0,0,0,40]])\n",
    "B = A.rref(pivots=False)\n",
    "B"
   ]
  },
  {
   "cell_type": "markdown",
   "metadata": {
    "id": "VpsgVrhtaep1"
   },
   "source": [
    "### **Ejemplo 7:**\n",
    "\n",
    "Encuentra la solución o soluciones del siguiente sistema de ecuaciones, si es posible, usando el método de eliminación de **Gauss-jordan**:\n",
    "\n",
    "$$\\left\\{\n",
    "\\begin{array}{rcl}\n",
    "     3x+ 2y+2z  & = & 34\n",
    "  \\\\ 2x+ 3y+2z & = & 32\n",
    "  \\\\ x+y+z & = & 14\n",
    "\\end{array}\n",
    "\\right.$$\n",
    "\n"
   ]
  },
  {
   "cell_type": "code",
   "execution_count": 16,
   "metadata": {
    "colab": {
     "base_uri": "https://localhost:8080/",
     "height": 78
    },
    "id": "EX2XjmI2KUKk",
    "outputId": "6eab4f87-9955-4fe0-8fe4-65d9117c0f2a"
   },
   "outputs": [
    {
     "data": {
      "text/latex": [
       "$\\displaystyle \\left[\\begin{matrix}1 & 0 & 0 & 6\\\\0 & 1 & 0 & 4\\\\0 & 0 & 1 & 4\\end{matrix}\\right]$"
      ],
      "text/plain": [
       "⎡1  0  0  6⎤\n",
       "⎢          ⎥\n",
       "⎢0  1  0  4⎥\n",
       "⎢          ⎥\n",
       "⎣0  0  1  4⎦"
      ]
     },
     "execution_count": 16,
     "metadata": {},
     "output_type": "execute_result"
    }
   ],
   "source": [
    "A = Matrix([[3,2,2,34],[2,3,2,32],[1,1,1,14]])\n",
    "B = A.rref(pivots=False)\n",
    "B"
   ]
  },
  {
   "cell_type": "markdown",
   "metadata": {
    "id": "zw7ZDQVJa8_w"
   },
   "source": [
    "### **Ejemplo 8:**\n",
    "\n",
    "Encuentra la solución o soluciones del siguiente sistema de ecuaciones, si es posible, usando el método de eliminación de **Gauss-jordan**:\n",
    "\n",
    "$$\\left\\{\n",
    "\\begin{array}{rcl}\n",
    "      2y+3z  & = & 4\n",
    "  \\\\ 2x-6y+7z & = & 15\n",
    "  \\\\ x-2y+5z & = & 10\n",
    "\\end{array}\n",
    "\\right.$$\n"
   ]
  },
  {
   "cell_type": "code",
   "execution_count": 17,
   "metadata": {
    "colab": {
     "base_uri": "https://localhost:8080/",
     "height": 78
    },
    "id": "LKejlVzxSyJZ",
    "outputId": "c5fc29de-861f-4aa0-d4e1-4b0987251047"
   },
   "outputs": [
    {
     "data": {
      "text/latex": [
       "$\\displaystyle \\left[\\begin{matrix}1 & 0 & 8 & 0\\\\0 & 1 & \\frac{3}{2} & 0\\\\0 & 0 & 0 & 1\\end{matrix}\\right]$"
      ],
      "text/plain": [
       "⎡1  0   8   0⎤\n",
       "⎢            ⎥\n",
       "⎢0  1  3/2  0⎥\n",
       "⎢            ⎥\n",
       "⎣0  0   0   1⎦"
      ]
     },
     "execution_count": 17,
     "metadata": {},
     "output_type": "execute_result"
    }
   ],
   "source": [
    "A = Matrix([[0,2,3,4],[2,-6,7,15],[1,-2,5,10]])\n",
    "B = A.rref(pivots=False)\n",
    "B"
   ]
  },
  {
   "cell_type": "markdown",
   "metadata": {
    "id": "YtVtluDOcyeO"
   },
   "source": [
    "### **Ejemplo 9:**\n",
    "\n",
    "Encuentra la solución o soluciones del siguiente sistema de ecuaciones, si es posible, usando el método de eliminación de **Gauss-jordan**:\n",
    "\n",
    "$$\\left\\{\n",
    "\\begin{array}{rcl}\n",
    "      2x-y+z  & = & 3\n",
    "  \\\\ 3x+y-2z & = & -2\n",
    "  \\\\ x-y+z & = & 7\n",
    "  \\\\ x+5y+7z & = & 13\n",
    "  \\\\ x-7y-5z & = & 12\n",
    "\\end{array}\n",
    "\\right.$$"
   ]
  },
  {
   "cell_type": "code",
   "execution_count": 18,
   "metadata": {
    "colab": {
     "base_uri": "https://localhost:8080/",
     "height": 119
    },
    "id": "dBOqTFtkF8GJ",
    "outputId": "e7c84b26-6e02-412e-8e0f-c658ef80d3d8"
   },
   "outputs": [
    {
     "data": {
      "text/latex": [
       "$\\displaystyle \\left[\\begin{matrix}2 & -1 & 1 & 3\\\\0 & 5 & -7 & -13\\\\0 & 0 & -2 & 42\\\\0 & 0 & 0 & -6480\\\\0 & 0 & 0 & 0\\end{matrix}\\right]$"
      ],
      "text/plain": [
       "⎡2  -1  1     3  ⎤\n",
       "⎢                ⎥\n",
       "⎢0  5   -7   -13 ⎥\n",
       "⎢                ⎥\n",
       "⎢0  0   -2   42  ⎥\n",
       "⎢                ⎥\n",
       "⎢0  0   0   -6480⎥\n",
       "⎢                ⎥\n",
       "⎣0  0   0     0  ⎦"
      ]
     },
     "execution_count": 18,
     "metadata": {},
     "output_type": "execute_result"
    }
   ],
   "source": [
    "A = Matrix([[2,-1,1,3],[3,1,-2,-2],[1,-1,1,7],[1,5,7,13],[1,-7,-5,12]])\n",
    "B = A.echelon_form(with_pivots=False)\n",
    "B"
   ]
  },
  {
   "cell_type": "markdown",
   "metadata": {
    "id": "T60nQdXid0K5"
   },
   "source": [
    "### **Ejemplo 10:**\n",
    "\n",
    "Encuentra la solución o soluciones del siguiente sistema de ecuaciones, si es posible, usando el método de eliminación de **Gauss-jordan**:\n",
    "\n",
    "$$\\left\\{\n",
    "\\begin{array}{rcl}\n",
    "     x +y + z +w & = & 6\n",
    "  \\\\ 2x +y-z & = & 3\n",
    "  \\\\ 3x+y+2w & = & 6\n",
    "\\end{array}\n",
    "\\right.$$"
   ]
  },
  {
   "cell_type": "code",
   "execution_count": 19,
   "metadata": {
    "colab": {
     "base_uri": "https://localhost:8080/",
     "height": 78
    },
    "id": "tdfV3DH1cGQV",
    "outputId": "cfab1913-b366-4d30-ecc1-6db5b08e70d7"
   },
   "outputs": [
    {
     "data": {
      "text/latex": [
       "$\\displaystyle \\left[\\begin{matrix}1 & 0 & 0 & 1 & 1\\\\0 & 1 & 0 & -1 & 3\\\\0 & 0 & 1 & 1 & 2\\end{matrix}\\right]$"
      ],
      "text/plain": [
       "⎡1  0  0  1   1⎤\n",
       "⎢              ⎥\n",
       "⎢0  1  0  -1  3⎥\n",
       "⎢              ⎥\n",
       "⎣0  0  1  1   2⎦"
      ]
     },
     "execution_count": 19,
     "metadata": {},
     "output_type": "execute_result"
    }
   ],
   "source": [
    "A = Matrix([[1,1,1,1,6],[2,1,-1,0,3],[3,1,0,2,6]])\n",
    "B = A.rref(pivots=False) \n",
    "B"
   ]
  },
  {
   "cell_type": "markdown",
   "metadata": {
    "id": "vA8cXYWvebCa"
   },
   "source": [
    "### **Ejemplo 11:**\n",
    "\n",
    "Encuentra la solución o soluciones del siguiente sistema de ecuaciones, si es posible, usando el método de eliminación de **Gauss-jordan**:\n",
    "$$\\left\\{\n",
    "\\begin{array}{rcl}\n",
    "     x  + z & = & 0\n",
    "  \\\\ 3x +y+6z+w & = & 1\n",
    "  \\\\ 3x+9z+6w & = & 0\n",
    "  \\\\ 9x +3y+9w & = & 15\n",
    "\\end{array}\n",
    "\\right.$$"
   ]
  },
  {
   "cell_type": "code",
   "execution_count": 20,
   "metadata": {
    "colab": {
     "base_uri": "https://localhost:8080/",
     "height": 98
    },
    "id": "oJOz4yqjXIZK",
    "outputId": "e2af8ec1-dc75-4aa7-b2df-e3a7d8a5d27e"
   },
   "outputs": [
    {
     "data": {
      "text/latex": [
       "$\\displaystyle \\left[\\begin{matrix}1 & 0 & 0 & 0 & \\frac{1}{2}\\\\0 & 1 & 0 & 0 & 2\\\\0 & 0 & 1 & 0 & - \\frac{1}{2}\\\\0 & 0 & 0 & 1 & \\frac{1}{2}\\end{matrix}\\right]$"
      ],
      "text/plain": [
       "⎡1  0  0  0  1/2 ⎤\n",
       "⎢                ⎥\n",
       "⎢0  1  0  0   2  ⎥\n",
       "⎢                ⎥\n",
       "⎢0  0  1  0  -1/2⎥\n",
       "⎢                ⎥\n",
       "⎣0  0  0  1  1/2 ⎦"
      ]
     },
     "execution_count": 20,
     "metadata": {},
     "output_type": "execute_result"
    }
   ],
   "source": [
    "A = Matrix([[1,0,1,0,0],[3 ,1,6,1,1],[3,0,9,6,0],[9,3,0,9,15]])\n",
    "B = A.rref(pivots=False) \n",
    "B"
   ]
  },
  {
   "cell_type": "markdown",
   "metadata": {
    "id": "a48EPyOWwdIc"
   },
   "source": [
    "# **Eliminación de Gauss-Jordan** --> *paso a paso*\n",
    "## **Operaciones elemantales sobre matrices**"
   ]
  },
  {
   "cell_type": "markdown",
   "metadata": {
    "id": "a8DSGsswon8y"
   },
   "source": [
    "|             Notación utilizada                  |         Operación sobre fila         | Código |\n",
    "|:-------------------------------:|:--------------------------------------:|:--------------:|\n",
    "|     $F_i \\longleftrightarrow F_j $  | Interrarcambiar la fila<br> $F_i$ con $F_j$ | **` M.row_swap(i, j)`**   |\n",
    "|            $k F_i \\rightarrow F_i  $           |  Multiplicar la fila $F_i$ <br> por la constante $k$ |     **`M[i ,:] = k*M[ i ,:]`**   |\n",
    "| $kF_i + F_j \\rightarrow F_j  $|  Sumar $k$ veces la fila $F_i$ <br> a la fila $F_j$ |    **`M[j ,:] = k*M[ i ,:] + M[j ,:]`**    |"
   ]
  },
  {
   "cell_type": "markdown",
   "metadata": {
    "id": "Nh3w3jQuwQxT"
   },
   "source": [
    "## **Interrarcambiar la fila $F_i$ con $F_j$** \n",
    "\n",
    "Dada la matriz $A$ aumentada intercambia la primera fila con la última fila.&nbsp;&nbsp;&nbsp;&nbsp;($F_1 \\longleftrightarrow F_3$)\n",
    "\n",
    "$$A=\\begin{bmatrix}\n",
    "2 & 7 & 5  & 6\\\\\n",
    "0 & 6 & 7  & 2\\\\\n",
    "1 & 4 & 3  & 1\\\\\n",
    "\\end{bmatrix}$$"
   ]
  },
  {
   "cell_type": "code",
   "execution_count": 21,
   "metadata": {
    "colab": {
     "base_uri": "https://localhost:8080/",
     "height": 78
    },
    "id": "u1-53fFuj9E_",
    "outputId": "458e8d00-3ab2-44f0-cbbc-f0982e9563ac"
   },
   "outputs": [
    {
     "data": {
      "text/latex": [
       "$\\displaystyle \\left[\\begin{matrix}1 & 4 & 3 & 1\\\\0 & 6 & 7 & 2\\\\2 & 7 & 5 & 6\\end{matrix}\\right]$"
      ],
      "text/plain": [
       "⎡1  4  3  1⎤\n",
       "⎢          ⎥\n",
       "⎢0  6  7  2⎥\n",
       "⎢          ⎥\n",
       "⎣2  7  5  6⎦"
      ]
     },
     "execution_count": 21,
     "metadata": {},
     "output_type": "execute_result"
    }
   ],
   "source": [
    "A = Matrix([[2,7,5,6],[0,6,7,2],[1,4,3,1]])\n",
    "A.row_swap(0,2)\n",
    "A"
   ]
  },
  {
   "cell_type": "markdown",
   "metadata": {
    "id": "9rR4h1bcyR84"
   },
   "source": [
    "## **Multiplicar la fila $F_i$ por la constante $k$** \n",
    "\n",
    "Dada la matriz $A$ aumentada multiplica por $\\frac{1}{5}$ la segunda fila.  &nbsp;&nbsp;&nbsp;&nbsp;($\\frac{1}{5} F_2 \\rightarrow F_2  $ )\n",
    "\n",
    "$$A=\\begin{bmatrix}\n",
    "2 & 7 & 5  & 6\\\\\n",
    "0 & 6 & 7  & 2\\\\\n",
    "1 & 4 & 3  & 1\\\\\n",
    "\\end{bmatrix}$$"
   ]
  },
  {
   "cell_type": "code",
   "execution_count": 22,
   "metadata": {
    "colab": {
     "base_uri": "https://localhost:8080/",
     "height": 78
    },
    "id": "TwOi9g_jyR8_",
    "outputId": "1f2198b3-72bc-4359-d1ed-31466d685fc1"
   },
   "outputs": [
    {
     "data": {
      "text/latex": [
       "$\\displaystyle \\left[\\begin{matrix}2 & 7 & 5 & 6\\\\0 & \\frac{6}{5} & \\frac{7}{5} & \\frac{2}{5}\\\\1 & 4 & 3 & 1\\end{matrix}\\right]$"
      ],
      "text/plain": [
       "⎡2   7    5    6 ⎤\n",
       "⎢                ⎥\n",
       "⎢0  6/5  7/5  2/5⎥\n",
       "⎢                ⎥\n",
       "⎣1   4    3    1 ⎦"
      ]
     },
     "execution_count": 22,
     "metadata": {},
     "output_type": "execute_result"
    }
   ],
   "source": [
    "A = Matrix([[2,7,5,6],[0,6,7,2],[1,4,3,1]])\n",
    "A[1,:] = S(\"1/5\")*A[1,:]\n",
    "A"
   ]
  },
  {
   "cell_type": "markdown",
   "metadata": {
    "id": "nD75gHLAzcH1"
   },
   "source": [
    " ## **Sumar $k$ veces la fila $F_i$  a la fila $F_j$** \n",
    "\n",
    "Dada la matriz $A$ aumentada multiplica por $-5$ la segunda fila y adicionala a la fila 3  &nbsp;&nbsp;&nbsp;&nbsp;($-5F_2 + F_3 \\rightarrow F_3$ )\n",
    "\n",
    "$$A=\\begin{bmatrix}\n",
    "3 & 7 & 5  & 6\\\\\n",
    "1 & 6 & 7  & 2\\\\\n",
    "5 & 4 & 3  & 1\\\\\n",
    "\\end{bmatrix}$$"
   ]
  },
  {
   "cell_type": "code",
   "execution_count": 23,
   "metadata": {
    "colab": {
     "base_uri": "https://localhost:8080/",
     "height": 78
    },
    "id": "KJhUqW8IzbT5",
    "outputId": "aee302ae-067c-4671-aefb-397ed50b7037"
   },
   "outputs": [
    {
     "data": {
      "text/latex": [
       "$\\displaystyle \\left[\\begin{matrix}3 & 7 & 5 & 6\\\\1 & 6 & 7 & 2\\\\0 & -26 & -32 & -9\\end{matrix}\\right]$"
      ],
      "text/plain": [
       "⎡3   7    5   6 ⎤\n",
       "⎢               ⎥\n",
       "⎢1   6    7   2 ⎥\n",
       "⎢               ⎥\n",
       "⎣0  -26  -32  -9⎦"
      ]
     },
     "execution_count": 23,
     "metadata": {},
     "output_type": "execute_result"
    }
   ],
   "source": [
    "A = Matrix([[3,7,5,6],[1,6,7,2],[5,4,3,1]])\n",
    "A[2,:] = -5*A[1,:] + A[2,:]\n",
    "A"
   ]
  },
  {
   "cell_type": "markdown",
   "metadata": {
    "id": "hhKNEekl0H-l"
   },
   "source": [
    "# **Ejercicio 1 : reducción de Gauss-Jordan** --> *paso a paso*\n",
    "\n",
    "Utilice el método de Gauss-Jordan para encontar todas las soluciones si existen del siguiente sistema dado\n",
    "\n",
    "$$\\left\\{\n",
    "\\begin{array}{rcl}\n",
    "     2x+ 4y+6z  & = & 18\n",
    "  \\\\ 4x+ 5y+6z & = & 24\n",
    "  \\\\ 3x+y-2z & = & 4\n",
    "\\end{array}\n",
    "\\right.$$\n"
   ]
  },
  {
   "cell_type": "markdown",
   "metadata": {
    "id": "M_sv0FmQ_l1u"
   },
   "source": [
    "### **Definimos la matriz**"
   ]
  },
  {
   "cell_type": "code",
   "execution_count": 24,
   "metadata": {
    "colab": {
     "base_uri": "https://localhost:8080/",
     "height": 78
    },
    "id": "2ZckkdOkOaJB",
    "outputId": "4dcd4ce8-635f-4f8e-98e9-65082d081421"
   },
   "outputs": [
    {
     "data": {
      "text/latex": [
       "$\\displaystyle \\left[\\begin{matrix}2 & 4 & 6 & 18\\\\4 & 5 & 6 & 24\\\\3 & 1 & -2 & 4\\end{matrix}\\right]$"
      ],
      "text/plain": [
       "⎡2  4  6   18⎤\n",
       "⎢            ⎥\n",
       "⎢4  5  6   24⎥\n",
       "⎢            ⎥\n",
       "⎣3  1  -2  4 ⎦"
      ]
     },
     "execution_count": 24,
     "metadata": {},
     "output_type": "execute_result"
    }
   ],
   "source": [
    "A = Matrix([[2,4,6,18],[4,5,6,24],[3,1,-2,4]])\n",
    "A"
   ]
  },
  {
   "cell_type": "markdown",
   "metadata": {
    "id": "eCsb0NKS_9hk"
   },
   "source": [
    "### **Multiplicamos por $\\frac{1}{2}$ la fila 1:**&nbsp;&nbsp;&nbsp;&nbsp;($\\frac{1}{2} F_1 \\rightarrow F_1  $ )"
   ]
  },
  {
   "cell_type": "code",
   "execution_count": 25,
   "metadata": {
    "colab": {
     "base_uri": "https://localhost:8080/",
     "height": 78
    },
    "id": "cqHky56zOaJD",
    "outputId": "0dc211b7-1e12-4e59-bf0d-32d068790530"
   },
   "outputs": [
    {
     "data": {
      "text/latex": [
       "$\\displaystyle \\left[\\begin{matrix}1 & 2 & 3 & 9\\\\4 & 5 & 6 & 24\\\\3 & 1 & -2 & 4\\end{matrix}\\right]$"
      ],
      "text/plain": [
       "⎡1  2  3   9 ⎤\n",
       "⎢            ⎥\n",
       "⎢4  5  6   24⎥\n",
       "⎢            ⎥\n",
       "⎣3  1  -2  4 ⎦"
      ]
     },
     "execution_count": 25,
     "metadata": {},
     "output_type": "execute_result"
    }
   ],
   "source": [
    "A[0,:] = S(\"1/2\")*A[0,:]\n",
    "A"
   ]
  },
  {
   "cell_type": "markdown",
   "metadata": {
    "id": "vOd7PisBCO0r"
   },
   "source": [
    "### **Multiplicamos por $-4$ &nbsp; la fila&nbsp; $1$ &nbsp; y se la sumamos a la fila&nbsp; $2$:**&nbsp;&nbsp;&nbsp;&nbsp;($-4F_1 + F_2 \\rightarrow F_2 $ )"
   ]
  },
  {
   "cell_type": "code",
   "execution_count": 26,
   "metadata": {
    "colab": {
     "base_uri": "https://localhost:8080/",
     "height": 78
    },
    "id": "Xsv7Z3AFOaJF",
    "outputId": "f519c9dd-c59e-4121-fce9-e8bab9fa5a07"
   },
   "outputs": [
    {
     "data": {
      "text/latex": [
       "$\\displaystyle \\left[\\begin{matrix}1 & 2 & 3 & 9\\\\0 & -3 & -6 & -12\\\\3 & 1 & -2 & 4\\end{matrix}\\right]$"
      ],
      "text/plain": [
       "⎡1  2   3    9 ⎤\n",
       "⎢              ⎥\n",
       "⎢0  -3  -6  -12⎥\n",
       "⎢              ⎥\n",
       "⎣3  1   -2   4 ⎦"
      ]
     },
     "execution_count": 26,
     "metadata": {},
     "output_type": "execute_result"
    }
   ],
   "source": [
    "A[1,:] = -4*A[0,:] + A[1,:]\n",
    "A"
   ]
  },
  {
   "cell_type": "markdown",
   "metadata": {
    "id": "IEOTgBnTEWf8"
   },
   "source": [
    "### **Multiplicamos por $-3$ &nbsp; la fila&nbsp; $1$ &nbsp; y se la sumamos a la fila&nbsp; $3$:**&nbsp;&nbsp;&nbsp;&nbsp;($-3F_1 + F_3 \\rightarrow F_3 $ )"
   ]
  },
  {
   "cell_type": "code",
   "execution_count": 27,
   "metadata": {
    "colab": {
     "base_uri": "https://localhost:8080/",
     "height": 78
    },
    "id": "Uesr2p1-EWgZ",
    "outputId": "6fd83d58-c68c-4746-94b6-91786f86e8ca"
   },
   "outputs": [
    {
     "data": {
      "text/latex": [
       "$\\displaystyle \\left[\\begin{matrix}1 & 2 & 3 & 9\\\\0 & -3 & -6 & -12\\\\0 & -5 & -11 & -23\\end{matrix}\\right]$"
      ],
      "text/plain": [
       "⎡1  2    3    9 ⎤\n",
       "⎢               ⎥\n",
       "⎢0  -3  -6   -12⎥\n",
       "⎢               ⎥\n",
       "⎣0  -5  -11  -23⎦"
      ]
     },
     "execution_count": 27,
     "metadata": {},
     "output_type": "execute_result"
    }
   ],
   "source": [
    "A[2,:] = -3*A[0,:] + A[2,:]\n",
    "A"
   ]
  },
  {
   "cell_type": "markdown",
   "metadata": {
    "id": "KOI3-j__FRdq"
   },
   "source": [
    "### **Multiplicamos por $-\\frac{1}{3}$ la fila 1:**&nbsp;&nbsp;&nbsp;&nbsp;($-\\frac{1}{3} F_2 \\rightarrow F_2  $ )"
   ]
  },
  {
   "cell_type": "code",
   "execution_count": 28,
   "metadata": {
    "colab": {
     "base_uri": "https://localhost:8080/",
     "height": 78
    },
    "id": "hvhS2bEzOaJH",
    "outputId": "f3db81b6-7ea6-4554-f15d-cfffa71671e6"
   },
   "outputs": [
    {
     "data": {
      "text/latex": [
       "$\\displaystyle \\left[\\begin{matrix}1 & 2 & 3 & 9\\\\0 & 1 & 2 & 4\\\\0 & -5 & -11 & -23\\end{matrix}\\right]$"
      ],
      "text/plain": [
       "⎡1  2    3    9 ⎤\n",
       "⎢               ⎥\n",
       "⎢0  1    2    4 ⎥\n",
       "⎢               ⎥\n",
       "⎣0  -5  -11  -23⎦"
      ]
     },
     "execution_count": 28,
     "metadata": {},
     "output_type": "execute_result"
    }
   ],
   "source": [
    "A[1,:] = S(\"-1/3\")*A[1,:]\n",
    "A"
   ]
  },
  {
   "cell_type": "markdown",
   "metadata": {
    "id": "z1g6jIbVGosZ"
   },
   "source": [
    "### **Multiplicamos por &nbsp; $2$ &nbsp; la fila&nbsp; $2$ &nbsp; y se la sumamos a la fila&nbsp; $1$:**&nbsp;&nbsp;&nbsp;&nbsp;($-2F_2 + F_1 \\rightarrow F_1 $ )"
   ]
  },
  {
   "cell_type": "code",
   "execution_count": 29,
   "metadata": {
    "colab": {
     "base_uri": "https://localhost:8080/",
     "height": 78
    },
    "id": "C72KvuqgGmKw",
    "outputId": "78c5b093-e461-4fc9-ff11-bff73a057b42"
   },
   "outputs": [
    {
     "data": {
      "text/latex": [
       "$\\displaystyle \\left[\\begin{matrix}1 & 0 & -1 & 1\\\\0 & 1 & 2 & 4\\\\0 & -5 & -11 & -23\\end{matrix}\\right]$"
      ],
      "text/plain": [
       "⎡1  0   -1    1 ⎤\n",
       "⎢               ⎥\n",
       "⎢0  1    2    4 ⎥\n",
       "⎢               ⎥\n",
       "⎣0  -5  -11  -23⎦"
      ]
     },
     "execution_count": 29,
     "metadata": {},
     "output_type": "execute_result"
    }
   ],
   "source": [
    "A[0,:] = -2*A[1,:] + A[0,:]\n",
    "A"
   ]
  },
  {
   "cell_type": "markdown",
   "metadata": {
    "id": "sHyM0T-bHhtE"
   },
   "source": [
    "### **Multiplicamos por &nbsp; $5$ &nbsp; la fila&nbsp; $2$ &nbsp; y se la sumamos a la fila&nbsp; $3$:**&nbsp;&nbsp;&nbsp;&nbsp;($5F_2 + F_3 \\rightarrow F_3 $ )"
   ]
  },
  {
   "cell_type": "code",
   "execution_count": 30,
   "metadata": {
    "colab": {
     "base_uri": "https://localhost:8080/",
     "height": 78
    },
    "id": "mopE0RuKOaJK",
    "outputId": "67b65972-9963-488f-b003-b79d97287ac6"
   },
   "outputs": [
    {
     "data": {
      "text/latex": [
       "$\\displaystyle \\left[\\begin{matrix}1 & 0 & -1 & 1\\\\0 & 1 & 2 & 4\\\\0 & 0 & -1 & -3\\end{matrix}\\right]$"
      ],
      "text/plain": [
       "⎡1  0  -1  1 ⎤\n",
       "⎢            ⎥\n",
       "⎢0  1  2   4 ⎥\n",
       "⎢            ⎥\n",
       "⎣0  0  -1  -3⎦"
      ]
     },
     "execution_count": 30,
     "metadata": {},
     "output_type": "execute_result"
    }
   ],
   "source": [
    "A[2,:] = 5*A[1,:] + A[2,:]\n",
    "A"
   ]
  },
  {
   "cell_type": "markdown",
   "metadata": {
    "id": "QE6nsSVvIRho"
   },
   "source": [
    "### **Multiplicamos por $-1$ la fila 3:**&nbsp;&nbsp;&nbsp;&nbsp;($-1 F_3 \\rightarrow F_3  $ )"
   ]
  },
  {
   "cell_type": "code",
   "execution_count": 31,
   "metadata": {
    "colab": {
     "base_uri": "https://localhost:8080/",
     "height": 78
    },
    "id": "YOz6Km7YOaJM",
    "outputId": "f1208351-acaf-45ce-8df2-2fc7bcf3e284"
   },
   "outputs": [
    {
     "data": {
      "text/latex": [
       "$\\displaystyle \\left[\\begin{matrix}1 & 0 & -1 & 1\\\\0 & 1 & 2 & 4\\\\0 & 0 & 1 & 3\\end{matrix}\\right]$"
      ],
      "text/plain": [
       "⎡1  0  -1  1⎤\n",
       "⎢           ⎥\n",
       "⎢0  1  2   4⎥\n",
       "⎢           ⎥\n",
       "⎣0  0  1   3⎦"
      ]
     },
     "execution_count": 31,
     "metadata": {},
     "output_type": "execute_result"
    }
   ],
   "source": [
    "A[2,:] = -1*A[2,:]\n",
    "A"
   ]
  },
  {
   "cell_type": "markdown",
   "metadata": {
    "id": "czXg3hSOJmFX"
   },
   "source": [
    "### **Multiplicamos por &nbsp; $-2$ &nbsp; la fila&nbsp; $3$ &nbsp; y se la sumamos a la fila&nbsp; $2$:**&nbsp;&nbsp;&nbsp;&nbsp;($-2F_3 + F_2 \\rightarrow F_2 $ )"
   ]
  },
  {
   "cell_type": "code",
   "execution_count": 32,
   "metadata": {
    "colab": {
     "base_uri": "https://localhost:8080/",
     "height": 78
    },
    "id": "NSF53SECJmF3",
    "outputId": "b22f7ad6-e8ab-44ad-954a-d13511b3f654"
   },
   "outputs": [
    {
     "data": {
      "text/latex": [
       "$\\displaystyle \\left[\\begin{matrix}1 & 0 & -1 & 1\\\\0 & 1 & 0 & -2\\\\0 & 0 & 1 & 3\\end{matrix}\\right]$"
      ],
      "text/plain": [
       "⎡1  0  -1  1 ⎤\n",
       "⎢            ⎥\n",
       "⎢0  1  0   -2⎥\n",
       "⎢            ⎥\n",
       "⎣0  0  1   3 ⎦"
      ]
     },
     "execution_count": 32,
     "metadata": {},
     "output_type": "execute_result"
    }
   ],
   "source": [
    "A[1,:] = -2*A[2,:] + A[1,:]\n",
    "A"
   ]
  },
  {
   "cell_type": "markdown",
   "metadata": {
    "id": "1qfibHwAKecg"
   },
   "source": [
    "### **Multiplicamos por &nbsp; $1$ &nbsp; la fila&nbsp; $3$ &nbsp; y se la sumamos a la fila&nbsp; $1$:**&nbsp;&nbsp;&nbsp;&nbsp;($1F_3 + F_1 \\rightarrow F_1 $ )"
   ]
  },
  {
   "cell_type": "code",
   "execution_count": 33,
   "metadata": {
    "colab": {
     "base_uri": "https://localhost:8080/",
     "height": 78
    },
    "id": "TGGl_rZ3Keci",
    "outputId": "7ad0eab5-a5a2-4921-a3f9-183aa853230d"
   },
   "outputs": [
    {
     "data": {
      "text/latex": [
       "$\\displaystyle \\left[\\begin{matrix}1 & 0 & 0 & 4\\\\0 & 1 & 0 & -2\\\\0 & 0 & 1 & 3\\end{matrix}\\right]$"
      ],
      "text/plain": [
       "⎡1  0  0  4 ⎤\n",
       "⎢           ⎥\n",
       "⎢0  1  0  -2⎥\n",
       "⎢           ⎥\n",
       "⎣0  0  1  3 ⎦"
      ]
     },
     "execution_count": 33,
     "metadata": {},
     "output_type": "execute_result"
    }
   ],
   "source": [
    "A[0,:] = 1*A[2,:] + A[0,:]\n",
    "A"
   ]
  },
  {
   "cell_type": "markdown",
   "metadata": {
    "id": "3oNhmN8Nh8AC"
   },
   "source": [
    "# **Ejercicio 2 : reducción de Gauss-Jordan** --> *paso a paso*\n",
    "\n",
    "Utilice el método de Gauss-Jordan para encontar todas las soluciones si existen del siguiente sistema dado\n",
    "\n",
    "$$\\left\\{\n",
    "\\begin{array}{rcl}\n",
    "     2x+ 4y+6z  & = & 18\n",
    "  \\\\ 4x+ 5y+6z & = & 24\n",
    "  \\\\ 2x+7y+12z & = & 30\n",
    "\\end{array}\n",
    "\\right.$$"
   ]
  },
  {
   "cell_type": "code",
   "execution_count": 34,
   "metadata": {
    "id": "6KfAd_lRWL3R"
   },
   "outputs": [
    {
     "data": {
      "text/latex": [
       "$\\displaystyle \\left[\\begin{matrix}2 & 4 & 6 & 18\\\\4 & 5 & 6 & 24\\\\2 & 7 & 12 & 30\\end{matrix}\\right]$"
      ],
      "text/plain": [
       "⎡2  4  6   18⎤\n",
       "⎢            ⎥\n",
       "⎢4  5  6   24⎥\n",
       "⎢            ⎥\n",
       "⎣2  7  12  30⎦"
      ]
     },
     "execution_count": 34,
     "metadata": {},
     "output_type": "execute_result"
    }
   ],
   "source": [
    "A=Matrix([[2,4,6,18], [4,5,6,24],[2,7,12,30]])\n",
    "A"
   ]
  },
  {
   "cell_type": "code",
   "execution_count": 35,
   "metadata": {
    "id": "ZMVfoV1nMX9i"
   },
   "outputs": [
    {
     "data": {
      "text/latex": [
       "$\\displaystyle \\left[\\begin{matrix}1 & 2 & 3 & 9\\\\4 & 5 & 6 & 24\\\\2 & 7 & 12 & 30\\end{matrix}\\right]$"
      ],
      "text/plain": [
       "⎡1  2  3   9 ⎤\n",
       "⎢            ⎥\n",
       "⎢4  5  6   24⎥\n",
       "⎢            ⎥\n",
       "⎣2  7  12  30⎦"
      ]
     },
     "execution_count": 35,
     "metadata": {},
     "output_type": "execute_result"
    }
   ],
   "source": [
    "A[0,:] = S(\"1/2\")*A[0,:]\n",
    "A"
   ]
  },
  {
   "cell_type": "code",
   "execution_count": 36,
   "metadata": {
    "id": "IGJ32WG_NKo8"
   },
   "outputs": [
    {
     "data": {
      "text/latex": [
       "$\\displaystyle \\left[\\begin{matrix}1 & 2 & 3 & 9\\\\0 & -3 & -6 & -12\\\\0 & 3 & 6 & 12\\end{matrix}\\right]$"
      ],
      "text/plain": [
       "⎡1  2   3    9 ⎤\n",
       "⎢              ⎥\n",
       "⎢0  -3  -6  -12⎥\n",
       "⎢              ⎥\n",
       "⎣0  3   6   12 ⎦"
      ]
     },
     "execution_count": 36,
     "metadata": {},
     "output_type": "execute_result"
    }
   ],
   "source": [
    "A[1,:] = -4*A[0,:] + A[1,:] \n",
    "A[2,:] = -2*A[0,:] + A[2,:] \n",
    "A"
   ]
  },
  {
   "cell_type": "code",
   "execution_count": 37,
   "metadata": {
    "id": "dc0UAIgGNrYx"
   },
   "outputs": [
    {
     "data": {
      "text/latex": [
       "$\\displaystyle \\left[\\begin{matrix}1 & 2 & 3 & 9\\\\0 & 1 & 2 & 4\\\\0 & 3 & 6 & 12\\end{matrix}\\right]$"
      ],
      "text/plain": [
       "⎡1  2  3  9 ⎤\n",
       "⎢           ⎥\n",
       "⎢0  1  2  4 ⎥\n",
       "⎢           ⎥\n",
       "⎣0  3  6  12⎦"
      ]
     },
     "execution_count": 37,
     "metadata": {},
     "output_type": "execute_result"
    }
   ],
   "source": [
    "A[1,:] = S(\"-1/3\")*A[1,:]\n",
    "A"
   ]
  },
  {
   "cell_type": "code",
   "execution_count": 38,
   "metadata": {
    "id": "-T8O6OjJOIPT"
   },
   "outputs": [
    {
     "data": {
      "text/latex": [
       "$\\displaystyle \\left[\\begin{matrix}1 & 0 & -1 & 1\\\\0 & 1 & 2 & 4\\\\0 & 0 & 0 & 0\\end{matrix}\\right]$"
      ],
      "text/plain": [
       "⎡1  0  -1  1⎤\n",
       "⎢           ⎥\n",
       "⎢0  1  2   4⎥\n",
       "⎢           ⎥\n",
       "⎣0  0  0   0⎦"
      ]
     },
     "execution_count": 38,
     "metadata": {},
     "output_type": "execute_result"
    }
   ],
   "source": [
    "A[0,:] = -2*A[1,:] + A[0,:] \n",
    "A[2,:] = -3*A[1,:] + A[2,:] \n",
    "A"
   ]
  },
  {
   "cell_type": "markdown",
   "metadata": {
    "id": "eGyDcVCCijHg"
   },
   "source": [
    "# **Ejercicio 3 : reducción de Gauss-Jordan** --> *paso a paso*\n",
    "\n",
    "Encuentra la solución o soluciones del siguiente sistema de ecuaciones, si es posible, usando el método de eliminación de **Gauss-jordan**:\n",
    "\n",
    "$$\\left\\{\n",
    "\\begin{array}{rcl}\n",
    "     x +y + z +w & = & 6\n",
    "  \\\\ 2x +y-z & = & 3\n",
    "  \\\\ 3x+y+2w & = & 6\n",
    "\\end{array}\n",
    "\\right.$$"
   ]
  },
  {
   "cell_type": "code",
   "execution_count": 39,
   "metadata": {
    "id": "AG9xtf8COdpC"
   },
   "outputs": [
    {
     "data": {
      "text/latex": [
       "$\\displaystyle \\left[\\begin{matrix}1 & 1 & 1 & 1 & 6\\\\2 & 1 & -1 & 0 & 3\\\\3 & 1 & 0 & 2 & 6\\end{matrix}\\right]$"
      ],
      "text/plain": [
       "⎡1  1  1   1  6⎤\n",
       "⎢              ⎥\n",
       "⎢2  1  -1  0  3⎥\n",
       "⎢              ⎥\n",
       "⎣3  1  0   2  6⎦"
      ]
     },
     "execution_count": 39,
     "metadata": {},
     "output_type": "execute_result"
    }
   ],
   "source": [
    "A=Matrix([[1,1,1,1,6], [2, 1,-1,0,3],[3, 1, 0, 2,6]])\n",
    "A"
   ]
  },
  {
   "cell_type": "code",
   "execution_count": 40,
   "metadata": {
    "id": "qTHXE_DzamTZ"
   },
   "outputs": [
    {
     "data": {
      "text/latex": [
       "$\\displaystyle \\left[\\begin{matrix}1 & 1 & 1 & 1 & 6\\\\0 & -1 & -3 & -2 & -9\\\\0 & -2 & -3 & -1 & -12\\end{matrix}\\right]$"
      ],
      "text/plain": [
       "⎡1  1   1   1    6 ⎤\n",
       "⎢                  ⎥\n",
       "⎢0  -1  -3  -2  -9 ⎥\n",
       "⎢                  ⎥\n",
       "⎣0  -2  -3  -1  -12⎦"
      ]
     },
     "execution_count": 40,
     "metadata": {},
     "output_type": "execute_result"
    }
   ],
   "source": [
    "A[1,:] = -2*A[0,:] + A[1,:]\n",
    "A[2,:] = -3*A[0,:] + A[2,:]\n",
    "A"
   ]
  },
  {
   "cell_type": "code",
   "execution_count": 41,
   "metadata": {
    "id": "mF6HEJ13b7n-"
   },
   "outputs": [
    {
     "data": {
      "text/latex": [
       "$\\displaystyle \\left[\\begin{matrix}1 & 1 & 1 & 1 & 6\\\\0 & 1 & 3 & 2 & 9\\\\0 & -2 & -3 & -1 & -12\\end{matrix}\\right]$"
      ],
      "text/plain": [
       "⎡1  1   1   1    6 ⎤\n",
       "⎢                  ⎥\n",
       "⎢0  1   3   2    9 ⎥\n",
       "⎢                  ⎥\n",
       "⎣0  -2  -3  -1  -12⎦"
      ]
     },
     "execution_count": 41,
     "metadata": {},
     "output_type": "execute_result"
    }
   ],
   "source": [
    "A[1,:] = -1*A[1,:]\n",
    "A"
   ]
  },
  {
   "cell_type": "code",
   "execution_count": 42,
   "metadata": {
    "id": "YRcF5RK6cK6O"
   },
   "outputs": [
    {
     "data": {
      "text/latex": [
       "$\\displaystyle \\left[\\begin{matrix}1 & 0 & -2 & -1 & -3\\\\0 & 1 & 3 & 2 & 9\\\\0 & 0 & 3 & 3 & 6\\end{matrix}\\right]$"
      ],
      "text/plain": [
       "⎡1  0  -2  -1  -3⎤\n",
       "⎢                ⎥\n",
       "⎢0  1  3   2   9 ⎥\n",
       "⎢                ⎥\n",
       "⎣0  0  3   3   6 ⎦"
      ]
     },
     "execution_count": 42,
     "metadata": {},
     "output_type": "execute_result"
    }
   ],
   "source": [
    "A[0,:] = -1*A[1,:] + A[0,:]\n",
    "A[2,:] = 2*A[1,:] + A[2,:]\n",
    "A"
   ]
  },
  {
   "cell_type": "code",
   "execution_count": 43,
   "metadata": {
    "id": "75v1MJyLcdMy"
   },
   "outputs": [
    {
     "data": {
      "text/latex": [
       "$\\displaystyle \\left[\\begin{matrix}1 & 0 & -2 & -1 & -3\\\\0 & 1 & 3 & 2 & 9\\\\0 & 0 & 1 & 1 & 2\\end{matrix}\\right]$"
      ],
      "text/plain": [
       "⎡1  0  -2  -1  -3⎤\n",
       "⎢                ⎥\n",
       "⎢0  1  3   2   9 ⎥\n",
       "⎢                ⎥\n",
       "⎣0  0  1   1   2 ⎦"
      ]
     },
     "execution_count": 43,
     "metadata": {},
     "output_type": "execute_result"
    }
   ],
   "source": [
    "A[2,:] = S(\"1/3\")*A[2,:]\n",
    "A"
   ]
  },
  {
   "cell_type": "code",
   "execution_count": 44,
   "metadata": {
    "id": "IWK_5ny3cv_m"
   },
   "outputs": [
    {
     "data": {
      "text/latex": [
       "$\\displaystyle \\left[\\begin{matrix}1 & 0 & 0 & 1 & 1\\\\0 & 1 & 0 & -1 & 3\\\\0 & 0 & 1 & 1 & 2\\end{matrix}\\right]$"
      ],
      "text/plain": [
       "⎡1  0  0  1   1⎤\n",
       "⎢              ⎥\n",
       "⎢0  1  0  -1  3⎥\n",
       "⎢              ⎥\n",
       "⎣0  0  1  1   2⎦"
      ]
     },
     "execution_count": 44,
     "metadata": {},
     "output_type": "execute_result"
    }
   ],
   "source": [
    "A[0,:] = 2*A[2,:] + A[0,:]\n",
    "A[1,:] = -3*A[2,:] + A[1,:]\n",
    "A"
   ]
  },
  {
   "cell_type": "markdown",
   "metadata": {
    "id": "GrtQPJLBOTfy"
   },
   "source": [
    "# **Ejercicio 4: reducción de Gauss-Jordan** --> *paso a paso*\n",
    "\n",
    "Encuentra la solución o soluciones del siguiente sistema de ecuaciones, si es posible, usando el método de eliminación de **Gauss-jordan** paso a paso:\n",
    "\n",
    "$$\\left\\{\n",
    "\\begin{array}{rcl}\n",
    "      2y+3z  & = & 4\n",
    "  \\\\ 2x-6y+7z & = & 15\n",
    "  \\\\ x-2y+5z & = & 10\n",
    "\\end{array}\n",
    "\\right.$$"
   ]
  },
  {
   "cell_type": "code",
   "execution_count": 45,
   "metadata": {
    "id": "0Oj8a6epPc5g"
   },
   "outputs": [
    {
     "data": {
      "text/latex": [
       "$\\displaystyle \\left[\\begin{matrix}0 & 2 & 3 & 4\\\\2 & -6 & 7 & 15\\\\1 & -2 & 5 & 10\\end{matrix}\\right]$"
      ],
      "text/plain": [
       "⎡0  2   3  4 ⎤\n",
       "⎢            ⎥\n",
       "⎢2  -6  7  15⎥\n",
       "⎢            ⎥\n",
       "⎣1  -2  5  10⎦"
      ]
     },
     "execution_count": 45,
     "metadata": {},
     "output_type": "execute_result"
    }
   ],
   "source": [
    "A=Matrix([[0,2,3,4], [2,-6,7,15],[1,-2,5,10]])\n",
    "A"
   ]
  },
  {
   "cell_type": "code",
   "execution_count": 46,
   "metadata": {
    "id": "V-Tdeq8IPuGo"
   },
   "outputs": [
    {
     "data": {
      "text/latex": [
       "$\\displaystyle \\left[\\begin{matrix}1 & -2 & 5 & 10\\\\2 & -6 & 7 & 15\\\\0 & 2 & 3 & 4\\end{matrix}\\right]$"
      ],
      "text/plain": [
       "⎡1  -2  5  10⎤\n",
       "⎢            ⎥\n",
       "⎢2  -6  7  15⎥\n",
       "⎢            ⎥\n",
       "⎣0  2   3  4 ⎦"
      ]
     },
     "execution_count": 46,
     "metadata": {},
     "output_type": "execute_result"
    }
   ],
   "source": [
    "A.row_swap(0,2)\n",
    "A"
   ]
  },
  {
   "cell_type": "code",
   "execution_count": 47,
   "metadata": {
    "id": "QdXIAGVoP4uW"
   },
   "outputs": [
    {
     "data": {
      "text/latex": [
       "$\\displaystyle \\left[\\begin{matrix}1 & -2 & 5 & 10\\\\0 & -2 & -3 & -5\\\\0 & 2 & 3 & 4\\end{matrix}\\right]$"
      ],
      "text/plain": [
       "⎡1  -2  5   10⎤\n",
       "⎢             ⎥\n",
       "⎢0  -2  -3  -5⎥\n",
       "⎢             ⎥\n",
       "⎣0  2   3   4 ⎦"
      ]
     },
     "execution_count": 47,
     "metadata": {},
     "output_type": "execute_result"
    }
   ],
   "source": [
    "A[1,:] = -2*A[0,:] + A[1,:]\n",
    "A"
   ]
  },
  {
   "cell_type": "code",
   "execution_count": 48,
   "metadata": {
    "colab": {
     "background_save": true
    },
    "id": "P57lfjXZQJ8D",
    "outputId": "5ffca58f-cbbb-40ee-c2bb-6176968c03f3"
   },
   "outputs": [
    {
     "data": {
      "text/latex": [
       "$\\displaystyle \\left[\\begin{matrix}1 & -2 & 5 & 10\\\\0 & 1 & \\frac{3}{2} & \\frac{5}{2}\\\\0 & 2 & 3 & 4\\end{matrix}\\right]$"
      ],
      "text/plain": [
       "⎡1  -2   5   10 ⎤\n",
       "⎢               ⎥\n",
       "⎢0  1   3/2  5/2⎥\n",
       "⎢               ⎥\n",
       "⎣0  2    3    4 ⎦"
      ]
     },
     "execution_count": 48,
     "metadata": {},
     "output_type": "execute_result"
    }
   ],
   "source": [
    "A[1,:] = S(\"-1/2\")*A[1,:]\n",
    "A"
   ]
  },
  {
   "cell_type": "code",
   "execution_count": 49,
   "metadata": {
    "colab": {
     "background_save": true
    },
    "id": "t4j-pjQsQWTc",
    "outputId": "77a02c91-31fb-4fae-eb2f-f956b61360c2"
   },
   "outputs": [
    {
     "data": {
      "text/latex": [
       "$\\displaystyle \\left[\\begin{matrix}1 & 0 & 8 & 15\\\\0 & 1 & \\frac{3}{2} & \\frac{5}{2}\\\\0 & 0 & 0 & -1\\end{matrix}\\right]$"
      ],
      "text/plain": [
       "⎡1  0   8   15 ⎤\n",
       "⎢              ⎥\n",
       "⎢0  1  3/2  5/2⎥\n",
       "⎢              ⎥\n",
       "⎣0  0   0   -1 ⎦"
      ]
     },
     "execution_count": 49,
     "metadata": {},
     "output_type": "execute_result"
    }
   ],
   "source": [
    "A[0,:] = 2*A[1,:] +  A[0,:]\n",
    "A[2,:] = -2*A[1,:] + A[2,:]\n",
    "A"
   ]
  },
  {
   "cell_type": "markdown",
   "metadata": {
    "id": "776yomQ3iurQ"
   },
   "source": [
    "# **Ejercicio 5 : reducción de Gauss-Jordan** --> *paso a paso*\n",
    "\n",
    "Utilice el **método de Gauss-Jordan** para encontar todas las soluciones si existen del siguiente sistema dado\n",
    "\n",
    "$$\\left\\{\n",
    "\\begin{array}{rcl}\n",
    "      2x-y+z  & = & 3\n",
    "  \\\\ 3x+y-2z & = & -2\n",
    "  \\\\ x-y+z & = & 7\n",
    "  \\\\ x+5y+7z & = & 13\n",
    "  \\\\ x-7y-5z & = & 12\n",
    "\\end{array}\n",
    "\\right.$$"
   ]
  },
  {
   "cell_type": "code",
   "execution_count": 50,
   "metadata": {
    "colab": {
     "background_save": true
    },
    "id": "O-mqwHn0VbED",
    "outputId": "37109888-39f6-45e4-d32c-341f7348fb5d"
   },
   "outputs": [
    {
     "data": {
      "text/latex": [
       "$\\displaystyle \\left[\\begin{matrix}2 & -1 & 1 & 3\\\\3 & 1 & -2 & -2\\\\1 & -1 & 1 & 7\\\\1 & 5 & 7 & 13\\\\1 & -7 & -5 & 12\\end{matrix}\\right]$"
      ],
      "text/plain": [
       "⎡2  -1  1   3 ⎤\n",
       "⎢             ⎥\n",
       "⎢3  1   -2  -2⎥\n",
       "⎢             ⎥\n",
       "⎢1  -1  1   7 ⎥\n",
       "⎢             ⎥\n",
       "⎢1  5   7   13⎥\n",
       "⎢             ⎥\n",
       "⎣1  -7  -5  12⎦"
      ]
     },
     "execution_count": 50,
     "metadata": {},
     "output_type": "execute_result"
    }
   ],
   "source": [
    "A=Matrix([[2,-1,1,3], [3,1,-2,-2],[1,-1,1,7],[1,5,7,13],[1,-7,-5,12]])\n",
    "A"
   ]
  },
  {
   "cell_type": "code",
   "execution_count": 51,
   "metadata": {
    "colab": {
     "background_save": true
    },
    "id": "L0hmOrfWWK7k",
    "outputId": "98782fc5-46e4-425c-dbce-eface42ddf4c"
   },
   "outputs": [
    {
     "data": {
      "text/latex": [
       "$\\displaystyle \\left[\\begin{matrix}1 & -1 & 1 & 7\\\\3 & 1 & -2 & -2\\\\2 & -1 & 1 & 3\\\\1 & 5 & 7 & 13\\\\1 & -7 & -5 & 12\\end{matrix}\\right]$"
      ],
      "text/plain": [
       "⎡1  -1  1   7 ⎤\n",
       "⎢             ⎥\n",
       "⎢3  1   -2  -2⎥\n",
       "⎢             ⎥\n",
       "⎢2  -1  1   3 ⎥\n",
       "⎢             ⎥\n",
       "⎢1  5   7   13⎥\n",
       "⎢             ⎥\n",
       "⎣1  -7  -5  12⎦"
      ]
     },
     "execution_count": 51,
     "metadata": {},
     "output_type": "execute_result"
    }
   ],
   "source": [
    "A.row_swap(0,2)\n",
    "A"
   ]
  },
  {
   "cell_type": "code",
   "execution_count": 52,
   "metadata": {
    "colab": {
     "background_save": true
    },
    "id": "8mvvTDKlWehI",
    "outputId": "1d5a0fd0-ace2-4149-a4ff-2617835eaafc"
   },
   "outputs": [
    {
     "data": {
      "text/latex": [
       "$\\displaystyle \\left[\\begin{matrix}1 & -1 & 1 & 7\\\\0 & 4 & -5 & -23\\\\0 & 1 & -1 & -11\\\\0 & 6 & 6 & 6\\\\0 & -6 & -6 & 5\\end{matrix}\\right]$"
      ],
      "text/plain": [
       "⎡1  -1  1    7 ⎤\n",
       "⎢              ⎥\n",
       "⎢0  4   -5  -23⎥\n",
       "⎢              ⎥\n",
       "⎢0  1   -1  -11⎥\n",
       "⎢              ⎥\n",
       "⎢0  6   6    6 ⎥\n",
       "⎢              ⎥\n",
       "⎣0  -6  -6   5 ⎦"
      ]
     },
     "execution_count": 52,
     "metadata": {},
     "output_type": "execute_result"
    }
   ],
   "source": [
    "A[1,:] = -3*A[0,:] +  A[1,:]\n",
    "A[2,:] = -2*A[0,:] +  A[2,:]\n",
    "A[3,:] = -1*A[0,:] +  A[3,:]\n",
    "A[4,:] = -1*A[0,:] +  A[4,:]\n",
    "A"
   ]
  },
  {
   "cell_type": "code",
   "execution_count": 53,
   "metadata": {
    "colab": {
     "background_save": true
    },
    "id": "vqf2eULbXK4M",
    "outputId": "567a3a89-8f9e-48a8-eec0-16621675b08b"
   },
   "outputs": [
    {
     "data": {
      "text/latex": [
       "$\\displaystyle \\left[\\begin{matrix}1 & -1 & 1 & 7\\\\0 & 1 & - \\frac{5}{4} & - \\frac{23}{4}\\\\0 & 1 & -1 & -11\\\\0 & 6 & 6 & 6\\\\0 & -6 & -6 & 5\\end{matrix}\\right]$"
      ],
      "text/plain": [
       "⎡1  -1   1      7  ⎤\n",
       "⎢                  ⎥\n",
       "⎢0  1   -5/4  -23/4⎥\n",
       "⎢                  ⎥\n",
       "⎢0  1    -1    -11 ⎥\n",
       "⎢                  ⎥\n",
       "⎢0  6    6      6  ⎥\n",
       "⎢                  ⎥\n",
       "⎣0  -6   -6     5  ⎦"
      ]
     },
     "execution_count": 53,
     "metadata": {},
     "output_type": "execute_result"
    }
   ],
   "source": [
    "A[1,:] = S(\"1/4\")*A[1,:]\n",
    "A"
   ]
  },
  {
   "cell_type": "code",
   "execution_count": 54,
   "metadata": {
    "colab": {
     "background_save": true
    },
    "id": "juPDK3z2XUwP",
    "outputId": "f8f84fd2-eaa6-4989-a67b-0f2a15ff58c4"
   },
   "outputs": [
    {
     "data": {
      "text/latex": [
       "$\\displaystyle \\left[\\begin{matrix}1 & 0 & - \\frac{1}{4} & \\frac{5}{4}\\\\0 & 1 & - \\frac{5}{4} & - \\frac{23}{4}\\\\0 & 0 & \\frac{1}{4} & - \\frac{21}{4}\\\\0 & 0 & \\frac{27}{2} & \\frac{81}{2}\\\\0 & 0 & - \\frac{27}{2} & - \\frac{59}{2}\\end{matrix}\\right]$"
      ],
      "text/plain": [
       "⎡1  0  -1/4    5/4 ⎤\n",
       "⎢                  ⎥\n",
       "⎢0  1  -5/4   -23/4⎥\n",
       "⎢                  ⎥\n",
       "⎢0  0   1/4   -21/4⎥\n",
       "⎢                  ⎥\n",
       "⎢0  0  27/2   81/2 ⎥\n",
       "⎢                  ⎥\n",
       "⎣0  0  -27/2  -59/2⎦"
      ]
     },
     "execution_count": 54,
     "metadata": {},
     "output_type": "execute_result"
    }
   ],
   "source": [
    "A[0,:] = 1*A[1,:] +  A[0,:]\n",
    "A[2,:] = -1*A[1,:] +  A[2,:]\n",
    "A[3,:] = -6*A[1,:] +  A[3,:]\n",
    "A[4,:] = 6*A[1,:] +  A[4,:]\n",
    "A"
   ]
  },
  {
   "cell_type": "code",
   "execution_count": 55,
   "metadata": {
    "colab": {
     "background_save": true
    },
    "id": "tW59Aon7Xz79",
    "outputId": "2d311321-db23-4004-a389-54542cc36003"
   },
   "outputs": [
    {
     "data": {
      "text/latex": [
       "$\\displaystyle \\left[\\begin{matrix}1 & 0 & - \\frac{1}{4} & \\frac{5}{4}\\\\0 & 1 & - \\frac{5}{4} & - \\frac{23}{4}\\\\0 & 0 & 1 & -21\\\\0 & 0 & \\frac{27}{2} & \\frac{81}{2}\\\\0 & 0 & - \\frac{27}{2} & - \\frac{59}{2}\\end{matrix}\\right]$"
      ],
      "text/plain": [
       "⎡1  0  -1/4    5/4 ⎤\n",
       "⎢                  ⎥\n",
       "⎢0  1  -5/4   -23/4⎥\n",
       "⎢                  ⎥\n",
       "⎢0  0    1     -21 ⎥\n",
       "⎢                  ⎥\n",
       "⎢0  0  27/2   81/2 ⎥\n",
       "⎢                  ⎥\n",
       "⎣0  0  -27/2  -59/2⎦"
      ]
     },
     "execution_count": 55,
     "metadata": {},
     "output_type": "execute_result"
    }
   ],
   "source": [
    "A[2,:] = 4*A[2,:]\n",
    "A"
   ]
  },
  {
   "cell_type": "code",
   "execution_count": 56,
   "metadata": {
    "colab": {
     "background_save": true
    },
    "id": "dnHXiAyPYFhK",
    "outputId": "4a1981ea-9325-4ffd-be7a-a5ab30b6273b"
   },
   "outputs": [
    {
     "data": {
      "text/latex": [
       "$\\displaystyle \\left[\\begin{matrix}1 & 0 & 0 & -4\\\\0 & 1 & 0 & -32\\\\0 & 0 & 1 & -21\\\\0 & 0 & 0 & 324\\\\0 & 0 & 0 & -313\\end{matrix}\\right]$"
      ],
      "text/plain": [
       "⎡1  0  0   -4 ⎤\n",
       "⎢             ⎥\n",
       "⎢0  1  0  -32 ⎥\n",
       "⎢             ⎥\n",
       "⎢0  0  1  -21 ⎥\n",
       "⎢             ⎥\n",
       "⎢0  0  0  324 ⎥\n",
       "⎢             ⎥\n",
       "⎣0  0  0  -313⎦"
      ]
     },
     "execution_count": 56,
     "metadata": {},
     "output_type": "execute_result"
    }
   ],
   "source": [
    "A[0,:] = S(\"1/4\")*A[2,:] +  A[0,:]\n",
    "A[1,:] = S(\"5/4\")*A[2,:] +  A[1,:]\n",
    "A[3,:] = S(\"-27/2\")*A[2,:] +  A[3,:]\n",
    "A[4,:] = S(\"27/2\")*A[2,:] +  A[4,:]\n",
    "A"
   ]
  },
  {
   "cell_type": "markdown",
   "metadata": {
    "id": "AnzvupknWWhG"
   },
   "source": [
    "# **Ejercicio 6: reducción de Gauss-Jordan** --> *paso a paso*\n",
    "\n",
    "Utilice el método de Gauss-Jordan para encontar todas las soluciones si existen del siguiente sistema dado\n",
    "\n",
    "$$\\left\\{\n",
    "\\begin{array}{rcl}\n",
    "     2x+3z  & = & 4\n",
    "  \\\\ 2x- 6y+7z & = & 15\n",
    "  \\\\ x-2y+5z & = & 10\n",
    "\\end{array}\n",
    "\\right.$$\n"
   ]
  },
  {
   "cell_type": "code",
   "execution_count": 57,
   "metadata": {
    "colab": {
     "background_save": true
    },
    "id": "JCYNIn4gWWhN",
    "outputId": "1ac20f41-b915-4417-e34e-4e8622a52c3d"
   },
   "outputs": [
    {
     "data": {
      "text/latex": [
       "$\\displaystyle \\left[\\begin{matrix}2 & 0 & 3 & 4\\\\2 & -6 & 7 & 15\\\\1 & -2 & 5 & 10\\end{matrix}\\right]$"
      ],
      "text/plain": [
       "⎡2  0   3  4 ⎤\n",
       "⎢            ⎥\n",
       "⎢2  -6  7  15⎥\n",
       "⎢            ⎥\n",
       "⎣1  -2  5  10⎦"
      ]
     },
     "execution_count": 57,
     "metadata": {},
     "output_type": "execute_result"
    }
   ],
   "source": [
    "A=Matrix([[2,0,3,4], [2,-6,7,15],[1,-2,5,10]])\n",
    "A"
   ]
  },
  {
   "cell_type": "code",
   "execution_count": 58,
   "metadata": {
    "colab": {
     "background_save": true
    },
    "id": "9rJl1MRbXdgH",
    "outputId": "9880fc6b-5190-4025-cbe4-bb82d0eb8e1a"
   },
   "outputs": [
    {
     "data": {
      "text/latex": [
       "$\\displaystyle \\left[\\begin{matrix}1 & -2 & 5 & 10\\\\2 & -6 & 7 & 15\\\\2 & 0 & 3 & 4\\end{matrix}\\right]$"
      ],
      "text/plain": [
       "⎡1  -2  5  10⎤\n",
       "⎢            ⎥\n",
       "⎢2  -6  7  15⎥\n",
       "⎢            ⎥\n",
       "⎣2  0   3  4 ⎦"
      ]
     },
     "execution_count": 58,
     "metadata": {},
     "output_type": "execute_result"
    }
   ],
   "source": [
    "A.row_swap(0,2)\n",
    "A"
   ]
  },
  {
   "cell_type": "code",
   "execution_count": 59,
   "metadata": {
    "colab": {
     "background_save": true
    },
    "id": "IbeT5V4SWWhQ",
    "outputId": "b601dd91-3252-4ca9-f32b-678c7d2d64fe"
   },
   "outputs": [
    {
     "data": {
      "text/latex": [
       "$\\displaystyle \\left[\\begin{matrix}1 & -2 & 5 & 10\\\\0 & -2 & -3 & -5\\\\0 & 4 & -7 & -16\\end{matrix}\\right]$"
      ],
      "text/plain": [
       "⎡1  -2  5   10 ⎤\n",
       "⎢              ⎥\n",
       "⎢0  -2  -3  -5 ⎥\n",
       "⎢              ⎥\n",
       "⎣0  4   -7  -16⎦"
      ]
     },
     "execution_count": 59,
     "metadata": {},
     "output_type": "execute_result"
    }
   ],
   "source": [
    "A[1,:] = -2*A[0,:]+A[1,:]\n",
    "A[2,:] = -2*A[0,:] +A[2,:]\n",
    "A"
   ]
  },
  {
   "cell_type": "code",
   "execution_count": 60,
   "metadata": {
    "colab": {
     "background_save": true
    },
    "id": "yWrx6ZThYlYl",
    "outputId": "01f09662-5bff-4562-bb31-bb64fa7597f4"
   },
   "outputs": [
    {
     "data": {
      "text/latex": [
       "$\\displaystyle \\left[\\begin{matrix}1 & -2 & 5 & 10\\\\0 & 1 & \\frac{3}{2} & \\frac{5}{2}\\\\0 & 4 & -7 & -16\\end{matrix}\\right]$"
      ],
      "text/plain": [
       "⎡1  -2   5   10 ⎤\n",
       "⎢               ⎥\n",
       "⎢0  1   3/2  5/2⎥\n",
       "⎢               ⎥\n",
       "⎣0  4   -7   -16⎦"
      ]
     },
     "execution_count": 60,
     "metadata": {},
     "output_type": "execute_result"
    }
   ],
   "source": [
    "A[1,:] = S(\"-1/2\")*A[1,:]\n",
    "A"
   ]
  },
  {
   "cell_type": "code",
   "execution_count": 61,
   "metadata": {
    "colab": {
     "background_save": true
    },
    "id": "boxh_wZ-Y2UH",
    "outputId": "16333c2d-15af-4780-b257-69f9c50f8221"
   },
   "outputs": [
    {
     "data": {
      "text/latex": [
       "$\\displaystyle \\left[\\begin{matrix}1 & 0 & 8 & 15\\\\0 & 1 & \\frac{3}{2} & \\frac{5}{2}\\\\0 & 0 & -13 & -26\\end{matrix}\\right]$"
      ],
      "text/plain": [
       "⎡1  0   8   15 ⎤\n",
       "⎢              ⎥\n",
       "⎢0  1  3/2  5/2⎥\n",
       "⎢              ⎥\n",
       "⎣0  0  -13  -26⎦"
      ]
     },
     "execution_count": 61,
     "metadata": {},
     "output_type": "execute_result"
    }
   ],
   "source": [
    "A[0,:] =2*A[1,:] +A[0,:]\n",
    "A[2,:] =-4*A[1,:] +A[2,:]\n",
    "A"
   ]
  },
  {
   "cell_type": "code",
   "execution_count": 62,
   "metadata": {
    "colab": {
     "background_save": true
    },
    "id": "MZ8Rv2DHZQZJ",
    "outputId": "6ccb55b2-1a55-4303-98e0-8d9ed107e19c"
   },
   "outputs": [
    {
     "data": {
      "text/latex": [
       "$\\displaystyle \\left[\\begin{matrix}1 & 0 & 8 & 15\\\\0 & 1 & \\frac{3}{2} & \\frac{5}{2}\\\\0 & 0 & 1 & 2\\end{matrix}\\right]$"
      ],
      "text/plain": [
       "⎡1  0   8   15 ⎤\n",
       "⎢              ⎥\n",
       "⎢0  1  3/2  5/2⎥\n",
       "⎢              ⎥\n",
       "⎣0  0   1    2 ⎦"
      ]
     },
     "execution_count": 62,
     "metadata": {},
     "output_type": "execute_result"
    }
   ],
   "source": [
    "A[2,:] = S(\"-1/13\")*A[2,:]\n",
    "A"
   ]
  },
  {
   "cell_type": "code",
   "execution_count": 63,
   "metadata": {
    "colab": {
     "background_save": true
    },
    "id": "JSZpWCJ_ZkqV",
    "outputId": "c5d8c767-96f0-46ee-c487-645bc255040b"
   },
   "outputs": [
    {
     "data": {
      "text/latex": [
       "$\\displaystyle \\left[\\begin{matrix}1 & 0 & 0 & -1\\\\0 & 1 & 0 & - \\frac{1}{2}\\\\0 & 0 & 1 & 2\\end{matrix}\\right]$"
      ],
      "text/plain": [
       "⎡1  0  0   -1 ⎤\n",
       "⎢             ⎥\n",
       "⎢0  1  0  -1/2⎥\n",
       "⎢             ⎥\n",
       "⎣0  0  1   2  ⎦"
      ]
     },
     "execution_count": 63,
     "metadata": {},
     "output_type": "execute_result"
    }
   ],
   "source": [
    "A[0,:] =-8*A[2,:] +A[0,:]\n",
    "A[1,:] =S(\"-3/2\")*A[2,:] +A[1,:]\n",
    "A"
   ]
  },
  {
   "cell_type": "code",
   "execution_count": null,
   "metadata": {
    "id": "2ZdiGlN9-w1Q"
   },
   "outputs": [],
   "source": []
  },
  {
   "cell_type": "code",
   "execution_count": null,
   "metadata": {},
   "outputs": [],
   "source": []
  }
 ],
 "metadata": {
  "colab": {
   "collapsed_sections": [],
   "include_colab_link": true,
   "name": "Álgebra lineal con Python- Sistema de ecuaciones.ipynb",
   "provenance": []
  },
  "kernelspec": {
   "display_name": "Python 3 (ipykernel)",
   "language": "python",
   "name": "python3"
  },
  "language_info": {
   "codemirror_mode": {
    "name": "ipython",
    "version": 3
   },
   "file_extension": ".py",
   "mimetype": "text/x-python",
   "name": "python",
   "nbconvert_exporter": "python",
   "pygments_lexer": "ipython3",
   "version": "3.10.5"
  }
 },
 "nbformat": 4,
 "nbformat_minor": 4
}
