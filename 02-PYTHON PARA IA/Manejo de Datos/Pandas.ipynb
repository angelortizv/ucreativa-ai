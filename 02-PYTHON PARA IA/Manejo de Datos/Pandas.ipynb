{
 "cells": [
  {
   "cell_type": "markdown",
   "id": "986fee70-1e61-46e7-91a2-d604e10ca4ac",
   "metadata": {},
   "source": [
    "## 📊 Introducción a la librería Pandas"
   ]
  },
  {
   "cell_type": "markdown",
   "id": "d6e92e48-c522-4516-9199-128c76c38bd8",
   "metadata": {},
   "source": [
    "Pandas es una de las bibliotecas más populares de Python para el análisis y manipulación de datos. Su nombre proviene de **\"Panel Data\", un término económico para describir conjuntos de datos estructurados**. Fue desarrollada inicialmente por Wes McKinney en 2008 y desde entonces se ha convertido en una herramienta fundamental en ciencia de datos, análisis financiero, ingeniería y más.\n",
    "\n",
    "Pandas proporciona dos estructuras de datos principales:\n",
    "\n",
    "- Series: una estructura unidimensional similar a un array o lista, pero con etiquetas.\n",
    "- DataFrame: una estructura bidimensional (tabla) con filas y columnas etiquetadas, similar a una hoja de cálculo o tabla SQL.\n",
    "\n",
    "Gracias a su diseño eficiente y flexible, Pandas permite:\n",
    "- Leer y escribir datos desde múltiples fuentes (CSV, Excel, SQL, JSON, etc.).\n",
    "- Limpiar, transformar y combinar datos fácilmente.\n",
    "- Realizar estadísticas descriptivas y operaciones de agrupamiento.\n",
    "- Visualizar datos en combinación con bibliotecas como Matplotlib o Seaborn.\n",
    "\n",
    "En resumen, **Pandas es una herramienta esencial para trabajar con datos estructurados en Python**, permitiendo desde tareas básicas hasta análisis avanzados con pocas líneas de código."
   ]
  },
  {
   "cell_type": "markdown",
   "id": "b072e9dc-be34-4a76-8a93-2e393591089a",
   "metadata": {},
   "source": [
    "### Instalación e Importe"
   ]
  },
  {
   "cell_type": "markdown",
   "id": "e75c205f-396b-4b98-a8af-df8c8d00b265",
   "metadata": {},
   "source": [
    "- Para realizar su instalación, se puede usar el comando `conda list pandas` o con el comando `pip install pandas`.\n",
    "- Para importar la biblioteca, se puede utilizar `import pandas as pd`\n",
    "\n",
    "Al importar pandas, se dará una referencia al objeto pandas para trabajar a lo largo del documento."
   ]
  },
  {
   "cell_type": "code",
   "execution_count": null,
   "id": "2fa9d17a-4852-4ccc-be1f-007db3407bd4",
   "metadata": {},
   "outputs": [],
   "source": [
    "pip install \"numpy<2.0\""
   ]
  },
  {
   "cell_type": "code",
   "execution_count": 1,
   "id": "2a4c61ca-cb7f-4504-9672-7ab7afee2724",
   "metadata": {},
   "outputs": [
    {
     "name": "stdout",
     "output_type": "stream",
     "text": [
      "Requirement already satisfied: pandas in c:\\users\\angelo ortiz\\anaconda3\\lib\\site-packages (2.2.2)\n",
      "Requirement already satisfied: numpy>=1.26.0 in c:\\users\\angelo ortiz\\anaconda3\\lib\\site-packages (from pandas) (1.26.4)\n",
      "Requirement already satisfied: python-dateutil>=2.8.2 in c:\\users\\angelo ortiz\\anaconda3\\lib\\site-packages (from pandas) (2.9.0.post0)\n",
      "Requirement already satisfied: pytz>=2020.1 in c:\\users\\angelo ortiz\\anaconda3\\lib\\site-packages (from pandas) (2024.1)\n",
      "Requirement already satisfied: tzdata>=2022.7 in c:\\users\\angelo ortiz\\anaconda3\\lib\\site-packages (from pandas) (2023.3)\n",
      "Requirement already satisfied: six>=1.5 in c:\\users\\angelo ortiz\\anaconda3\\lib\\site-packages (from python-dateutil>=2.8.2->pandas) (1.16.0)\n",
      "Note: you may need to restart the kernel to use updated packages.\n"
     ]
    }
   ],
   "source": [
    "pip install pandas"
   ]
  },
  {
   "cell_type": "code",
   "execution_count": 2,
   "id": "de2dcaa2-f2e0-4eda-a637-7b4924ab18c7",
   "metadata": {},
   "outputs": [],
   "source": [
    "import pandas as pd"
   ]
  },
  {
   "cell_type": "markdown",
   "id": "40aad64c-609a-4a4e-950c-a81c069d58d9",
   "metadata": {},
   "source": [
    "## 1.0 Series"
   ]
  },
  {
   "cell_type": "markdown",
   "id": "70c2e186-5321-436f-871c-0297fe98979a",
   "metadata": {},
   "source": [
    "### 🔹 ¿Qué es una Series en Pandas?\n",
    "\n",
    "Una Series es el objeto básico de Pandas para representar estructuras de datos unidimensionales. Podría verse como un array mejorado que incluye etiquetas (índices) asociadas a cada dato, lo que permite acceder y manipular los elementos de forma más flexible y expresiva. A nivel conceptual, una Series se puede imaginar como una composición de dos arrays relacionados:\n",
    "\n",
    "- Un array de datos (por ejemplo, números, strings, valores booleanos, etc.).\n",
    "- Un array de índices que etiqueta cada dato individualmente.\n",
    "\n",
    "Esta combinación permite que cada elemento pueda ser identificado no solo por su posición, sino también por su etiqueta personalizada, lo que facilita el análisis y el acceso a los datos."
   ]
  },
  {
   "cell_type": "code",
   "execution_count": 21,
   "id": "197a3101-56d7-4ceb-aeee-65c31f62ff82",
   "metadata": {},
   "outputs": [
    {
     "data": {
      "text/plain": [
       "0     2\n",
       "1     4\n",
       "2     6\n",
       "3     8\n",
       "4    10\n",
       "5    12\n",
       "dtype: int64"
      ]
     },
     "execution_count": 21,
     "metadata": {},
     "output_type": "execute_result"
    }
   ],
   "source": [
    "list_of_pairs = [2,4,6,8,10,12]\n",
    "series1 = pd.Series(list_of_pairs)\n",
    "series1"
   ]
  },
  {
   "cell_type": "code",
   "execution_count": 22,
   "id": "d6f93eb6-0e42-4496-86b9-080e0fcb5b86",
   "metadata": {},
   "outputs": [
    {
     "data": {
      "text/plain": [
       "6"
      ]
     },
     "execution_count": 22,
     "metadata": {},
     "output_type": "execute_result"
    }
   ],
   "source": [
    "len(list_of_pairs)"
   ]
  },
  {
   "cell_type": "code",
   "execution_count": 23,
   "id": "41b25aba-384f-4e11-abdb-f038dcf0172a",
   "metadata": {},
   "outputs": [
    {
     "data": {
      "text/plain": [
       "6"
      ]
     },
     "execution_count": 23,
     "metadata": {},
     "output_type": "execute_result"
    }
   ],
   "source": [
    "len(series1)"
   ]
  },
  {
   "cell_type": "code",
   "execution_count": 24,
   "id": "bddf4c86-4fb9-4852-8f93-ffce418d1bd3",
   "metadata": {},
   "outputs": [],
   "source": [
    "expanded_list_of_pairs = [2,4,6,8,10,12,14,16,18,20]\n",
    "indexes = ['a', 'b', 'c', 'd', 'e', 'f','g','h','i','j']\n",
    "series2 = pd.Series(expanded_list_of_pairs, indexes)"
   ]
  },
  {
   "cell_type": "code",
   "execution_count": 25,
   "id": "4b11fb52-8ca3-4f8d-945f-84f25718b391",
   "metadata": {},
   "outputs": [
    {
     "data": {
      "text/plain": [
       "a     2\n",
       "b     4\n",
       "c     6\n",
       "d     8\n",
       "e    10\n",
       "f    12\n",
       "g    14\n",
       "h    16\n",
       "i    18\n",
       "j    20\n",
       "dtype: int64"
      ]
     },
     "execution_count": 25,
     "metadata": {},
     "output_type": "execute_result"
    }
   ],
   "source": [
    "series2"
   ]
  },
  {
   "cell_type": "code",
   "execution_count": 26,
   "id": "42829b5e-4add-442c-9515-c412f565c6a4",
   "metadata": {},
   "outputs": [
    {
     "data": {
      "text/plain": [
       "2     a\n",
       "4     b\n",
       "6     c\n",
       "8     d\n",
       "10    e\n",
       "12    f\n",
       "14    g\n",
       "16    h\n",
       "18    i\n",
       "20    j\n",
       "dtype: object"
      ]
     },
     "execution_count": 26,
     "metadata": {},
     "output_type": "execute_result"
    }
   ],
   "source": [
    "series_2_1 = pd.Series(indexes, expanded_list_of_pairs)\n",
    "series_2_1"
   ]
  },
  {
   "cell_type": "markdown",
   "id": "e462398d-ea1c-46b0-ac94-6486e5c43215",
   "metadata": {},
   "source": [
    "### ¿ Qué pasa si la longitud de los 2 arrays no son los mismos?"
   ]
  },
  {
   "cell_type": "code",
   "execution_count": 27,
   "id": "b9d471ec-18fd-4afe-ac8d-c155f1fa57cf",
   "metadata": {},
   "outputs": [
    {
     "ename": "ValueError",
     "evalue": "Length of values (10) does not match length of index (5)",
     "output_type": "error",
     "traceback": [
      "\u001b[1;31m---------------------------------------------------------------------------\u001b[0m",
      "\u001b[1;31mValueError\u001b[0m                                Traceback (most recent call last)",
      "Cell \u001b[1;32mIn[27], line 2\u001b[0m\n\u001b[0;32m      1\u001b[0m new_indexes \u001b[38;5;241m=\u001b[39m [\u001b[38;5;124m'\u001b[39m\u001b[38;5;124ma\u001b[39m\u001b[38;5;124m'\u001b[39m, \u001b[38;5;124m'\u001b[39m\u001b[38;5;124mb\u001b[39m\u001b[38;5;124m'\u001b[39m, \u001b[38;5;124m'\u001b[39m\u001b[38;5;124mc\u001b[39m\u001b[38;5;124m'\u001b[39m, \u001b[38;5;124m'\u001b[39m\u001b[38;5;124md\u001b[39m\u001b[38;5;124m'\u001b[39m, \u001b[38;5;124m'\u001b[39m\u001b[38;5;124me\u001b[39m\u001b[38;5;124m'\u001b[39m]\n\u001b[1;32m----> 2\u001b[0m series2 \u001b[38;5;241m=\u001b[39m pd\u001b[38;5;241m.\u001b[39mSeries(expanded_list_of_pairs, new_indexes)\n",
      "File \u001b[1;32m~\\anaconda3\\Lib\\site-packages\\pandas\\core\\series.py:575\u001b[0m, in \u001b[0;36mSeries.__init__\u001b[1;34m(self, data, index, dtype, name, copy, fastpath)\u001b[0m\n\u001b[0;32m    573\u001b[0m     index \u001b[38;5;241m=\u001b[39m default_index(\u001b[38;5;28mlen\u001b[39m(data))\n\u001b[0;32m    574\u001b[0m \u001b[38;5;28;01melif\u001b[39;00m is_list_like(data):\n\u001b[1;32m--> 575\u001b[0m     com\u001b[38;5;241m.\u001b[39mrequire_length_match(data, index)\n\u001b[0;32m    577\u001b[0m \u001b[38;5;66;03m# create/copy the manager\u001b[39;00m\n\u001b[0;32m    578\u001b[0m \u001b[38;5;28;01mif\u001b[39;00m \u001b[38;5;28misinstance\u001b[39m(data, (SingleBlockManager, SingleArrayManager)):\n",
      "File \u001b[1;32m~\\anaconda3\\Lib\\site-packages\\pandas\\core\\common.py:573\u001b[0m, in \u001b[0;36mrequire_length_match\u001b[1;34m(data, index)\u001b[0m\n\u001b[0;32m    569\u001b[0m \u001b[38;5;250m\u001b[39m\u001b[38;5;124;03m\"\"\"\u001b[39;00m\n\u001b[0;32m    570\u001b[0m \u001b[38;5;124;03mCheck the length of data matches the length of the index.\u001b[39;00m\n\u001b[0;32m    571\u001b[0m \u001b[38;5;124;03m\"\"\"\u001b[39;00m\n\u001b[0;32m    572\u001b[0m \u001b[38;5;28;01mif\u001b[39;00m \u001b[38;5;28mlen\u001b[39m(data) \u001b[38;5;241m!=\u001b[39m \u001b[38;5;28mlen\u001b[39m(index):\n\u001b[1;32m--> 573\u001b[0m     \u001b[38;5;28;01mraise\u001b[39;00m \u001b[38;5;167;01mValueError\u001b[39;00m(\n\u001b[0;32m    574\u001b[0m         \u001b[38;5;124m\"\u001b[39m\u001b[38;5;124mLength of values \u001b[39m\u001b[38;5;124m\"\u001b[39m\n\u001b[0;32m    575\u001b[0m         \u001b[38;5;124mf\u001b[39m\u001b[38;5;124m\"\u001b[39m\u001b[38;5;124m(\u001b[39m\u001b[38;5;132;01m{\u001b[39;00m\u001b[38;5;28mlen\u001b[39m(data)\u001b[38;5;132;01m}\u001b[39;00m\u001b[38;5;124m) \u001b[39m\u001b[38;5;124m\"\u001b[39m\n\u001b[0;32m    576\u001b[0m         \u001b[38;5;124m\"\u001b[39m\u001b[38;5;124mdoes not match length of index \u001b[39m\u001b[38;5;124m\"\u001b[39m\n\u001b[0;32m    577\u001b[0m         \u001b[38;5;124mf\u001b[39m\u001b[38;5;124m\"\u001b[39m\u001b[38;5;124m(\u001b[39m\u001b[38;5;132;01m{\u001b[39;00m\u001b[38;5;28mlen\u001b[39m(index)\u001b[38;5;132;01m}\u001b[39;00m\u001b[38;5;124m)\u001b[39m\u001b[38;5;124m\"\u001b[39m\n\u001b[0;32m    578\u001b[0m     )\n",
      "\u001b[1;31mValueError\u001b[0m: Length of values (10) does not match length of index (5)"
     ]
    }
   ],
   "source": [
    "new_indexes = ['a', 'b', 'c', 'd', 'e']\n",
    "series2 = pd.Series(expanded_list_of_pairs, new_indexes)"
   ]
  },
  {
   "cell_type": "markdown",
   "id": "ffc3d249-c39e-4e99-b243-d3de7082508d",
   "metadata": {},
   "source": [
    "<div class=\"alert alert-block alert-info\">\n",
    "    Nota:>La longitud de los arrays o listas a asociar deben tener la misma longitud.”.\r\n",
    "</div>"
   ]
  },
  {
   "cell_type": "code",
   "execution_count": 28,
   "id": "819f729f-d1b6-41b7-a6da-3e1e6396b490",
   "metadata": {},
   "outputs": [
    {
     "data": {
      "text/plain": [
       "primero        1\n",
       "segundo      dos\n",
       "tercero     True\n",
       "cuarto       4.0\n",
       "quinto     cinco\n",
       "sexto      False\n",
       "septimo        6\n",
       "octavo      True\n",
       "noveno      Ocho\n",
       "dtype: object"
      ]
     },
     "execution_count": 28,
     "metadata": {},
     "output_type": "execute_result"
    }
   ],
   "source": [
    "mixed_list = [1,\"dos\", True, 4.0, \"cinco\", False, 6, True, \"Ocho\" ]\n",
    "indexes = ['primero', 'segundo', 'tercero', 'cuarto', 'quinto', 'sexto', 'septimo', 'octavo', 'noveno']\n",
    "series3 = pd.Series(mixed_list, indexes)\n",
    "series3"
   ]
  },
  {
   "cell_type": "code",
   "execution_count": 29,
   "id": "ee7f16bc-3e69-4f11-8afa-a2dc74c9646f",
   "metadata": {},
   "outputs": [
    {
     "data": {
      "text/plain": [
       "Index(['primero', 'segundo', 'tercero', 'cuarto', 'quinto', 'sexto', 'septimo',\n",
       "       'octavo', 'noveno'],\n",
       "      dtype='object')"
      ]
     },
     "execution_count": 29,
     "metadata": {},
     "output_type": "execute_result"
    }
   ],
   "source": [
    "series3.index"
   ]
  },
  {
   "cell_type": "code",
   "execution_count": 30,
   "id": "7ecaca13-47e7-421a-835f-7cb58691a408",
   "metadata": {},
   "outputs": [
    {
     "data": {
      "text/plain": [
       "array([1, 'dos', True, 4.0, 'cinco', False, 6, True, 'Ocho'], dtype=object)"
      ]
     },
     "execution_count": 30,
     "metadata": {},
     "output_type": "execute_result"
    }
   ],
   "source": [
    "series3.values"
   ]
  },
  {
   "cell_type": "markdown",
   "id": "385dee3d-4422-47a0-9b7c-04b90cba5fe9",
   "metadata": {},
   "source": [
    "### Para acceder a un valor podemos utilizar el nombre de la etiqueta o la posición en la que se encuentre"
   ]
  },
  {
   "cell_type": "code",
   "execution_count": 31,
   "id": "abe1dba3-66ef-448a-b598-f0759873f2d9",
   "metadata": {},
   "outputs": [
    {
     "data": {
      "text/plain": [
       "a        una\n",
       "b     cadena\n",
       "c    literal\n",
       "d         de\n",
       "e      texto\n",
       "dtype: object"
      ]
     },
     "execution_count": 31,
     "metadata": {},
     "output_type": "execute_result"
    }
   ],
   "source": [
    "series4 = pd.Series([\"una\", \"cadena\",\"literal\",\"de\",\"texto\"], index=['a','b','c','d','e'])\n",
    "series4"
   ]
  },
  {
   "cell_type": "code",
   "execution_count": 41,
   "id": "68867ff0-41bd-4c44-bfc2-3af425ecbe5e",
   "metadata": {},
   "outputs": [
    {
     "data": {
      "text/plain": [
       "'una'"
      ]
     },
     "execution_count": 41,
     "metadata": {},
     "output_type": "execute_result"
    }
   ],
   "source": [
    "# DEPRECATED:\n",
    "# series4[0]\n",
    "series4.iloc[0]"
   ]
  },
  {
   "cell_type": "code",
   "execution_count": 42,
   "id": "e6879123-8fd7-49fa-a0da-3a5fd7b3361b",
   "metadata": {},
   "outputs": [
    {
     "data": {
      "text/plain": [
       "'literal'"
      ]
     },
     "execution_count": 42,
     "metadata": {},
     "output_type": "execute_result"
    }
   ],
   "source": [
    "series4.iloc[2]"
   ]
  },
  {
   "cell_type": "code",
   "execution_count": 43,
   "id": "ff08a723-9fb9-44e5-907c-3e85833c183c",
   "metadata": {},
   "outputs": [
    {
     "data": {
      "text/plain": [
       "a        una\n",
       "b     cadena\n",
       "c    literal\n",
       "dtype: object"
      ]
     },
     "execution_count": 43,
     "metadata": {},
     "output_type": "execute_result"
    }
   ],
   "source": [
    "series4.iloc[0:3]"
   ]
  },
  {
   "cell_type": "code",
   "execution_count": 45,
   "id": "510ac65a-c080-4e72-afa8-e0e6995d1f44",
   "metadata": {},
   "outputs": [],
   "source": [
    "## se le pueden asignar valores a las posiciones de una serie\n",
    "series4.iloc[1] = \"secuencia de caracteres\""
   ]
  },
  {
   "cell_type": "code",
   "execution_count": 46,
   "id": "47be5ed8-f0bf-42ad-9489-cc1033534167",
   "metadata": {},
   "outputs": [
    {
     "data": {
      "text/plain": [
       "a                        una\n",
       "b    secuencia de caracteres\n",
       "c                    literal\n",
       "d                         de\n",
       "e                      texto\n",
       "dtype: object"
      ]
     },
     "execution_count": 46,
     "metadata": {},
     "output_type": "execute_result"
    }
   ],
   "source": [
    "series4"
   ]
  },
  {
   "cell_type": "code",
   "execution_count": 47,
   "id": "82465ad4-11ea-4fa4-b3d5-657286ad8cfa",
   "metadata": {},
   "outputs": [],
   "source": [
    "series4['e'] = \"Texto en español\""
   ]
  },
  {
   "cell_type": "code",
   "execution_count": 48,
   "id": "a09d3680-577c-4a05-bca8-3878fa7e78c0",
   "metadata": {},
   "outputs": [
    {
     "data": {
      "text/plain": [
       "a                        una\n",
       "b    secuencia de caracteres\n",
       "c                    literal\n",
       "d                         de\n",
       "e           Texto en español\n",
       "dtype: object"
      ]
     },
     "execution_count": 48,
     "metadata": {},
     "output_type": "execute_result"
    }
   ],
   "source": [
    "series4"
   ]
  },
  {
   "cell_type": "markdown",
   "id": "3edd84e0-f618-437c-8041-4103764c9e27",
   "metadata": {},
   "source": [
    "### Uso de arrays con series"
   ]
  },
  {
   "cell_type": "markdown",
   "id": "9c2372e4-3bea-4a16-bfc0-782f7b86a6ed",
   "metadata": {},
   "source": [
    "Los valores que tiene una Serie a partir de un arreglo no son copiados sino pasados por referencia, es decir que si en la serie se modifican, el arreglo tambien cambiara su valor"
   ]
  },
  {
   "cell_type": "code",
   "execution_count": 49,
   "id": "0ffa125a-2c38-48b8-a9ad-9c6c05f69eb2",
   "metadata": {},
   "outputs": [],
   "source": [
    "import numpy as np"
   ]
  },
  {
   "cell_type": "code",
   "execution_count": 50,
   "id": "bf6d7e47-d3aa-473e-91dc-58a0fa8ca560",
   "metadata": {},
   "outputs": [],
   "source": [
    "current_array = np.array([10,20,40,80,160,320,640])"
   ]
  },
  {
   "cell_type": "code",
   "execution_count": 51,
   "id": "feb3f3ba-0000-491f-856d-bddf6eecac96",
   "metadata": {},
   "outputs": [
    {
     "data": {
      "text/plain": [
       "array([ 10,  20,  40,  80, 160, 320, 640])"
      ]
     },
     "execution_count": 51,
     "metadata": {},
     "output_type": "execute_result"
    }
   ],
   "source": [
    "current_array"
   ]
  },
  {
   "cell_type": "code",
   "execution_count": 52,
   "id": "b657c526-3a21-463d-b099-325e4d0c57b7",
   "metadata": {},
   "outputs": [
    {
     "data": {
      "text/plain": [
       "numpy.ndarray"
      ]
     },
     "execution_count": 52,
     "metadata": {},
     "output_type": "execute_result"
    }
   ],
   "source": [
    "type(current_array)"
   ]
  },
  {
   "cell_type": "code",
   "execution_count": 53,
   "id": "36c69731-998c-4674-b37c-7c09d6d8bfc0",
   "metadata": {},
   "outputs": [],
   "source": [
    "series_with_array = pd.Series(current_array)"
   ]
  },
  {
   "cell_type": "code",
   "execution_count": 54,
   "id": "a8aba410-d5e0-4e7e-99e9-4e805116c0a6",
   "metadata": {},
   "outputs": [
    {
     "data": {
      "text/plain": [
       "0     10\n",
       "1     20\n",
       "2     40\n",
       "3     80\n",
       "4    160\n",
       "5    320\n",
       "6    640\n",
       "dtype: int32"
      ]
     },
     "execution_count": 54,
     "metadata": {},
     "output_type": "execute_result"
    }
   ],
   "source": [
    "series_with_array"
   ]
  },
  {
   "cell_type": "code",
   "execution_count": 55,
   "id": "b8f434b1-2760-4ec4-819e-a213c6496fc5",
   "metadata": {},
   "outputs": [
    {
     "data": {
      "text/plain": [
       "0     10\n",
       "1     20\n",
       "2     40\n",
       "3     80\n",
       "4    200\n",
       "5    320\n",
       "6    640\n",
       "dtype: int32"
      ]
     },
     "execution_count": 55,
     "metadata": {},
     "output_type": "execute_result"
    }
   ],
   "source": [
    "series_with_array.iloc[4] = 200\n",
    "series_with_array"
   ]
  },
  {
   "cell_type": "code",
   "execution_count": 56,
   "id": "a8b8b932-9f85-4d1c-8497-c6101bc92c18",
   "metadata": {},
   "outputs": [
    {
     "data": {
      "text/plain": [
       "array([ 10,  20,  40,  80, 200, 320, 640])"
      ]
     },
     "execution_count": 56,
     "metadata": {},
     "output_type": "execute_result"
    }
   ],
   "source": [
    "current_array"
   ]
  },
  {
   "cell_type": "code",
   "execution_count": 57,
   "id": "90c5695c-23ab-4fd0-a849-69d570b32d50",
   "metadata": {},
   "outputs": [
    {
     "data": {
      "text/plain": [
       "0     10\n",
       "1     20\n",
       "2     40\n",
       "3     80\n",
       "4    200\n",
       "5    320\n",
       "6    640\n",
       "dtype: int32"
      ]
     },
     "execution_count": 57,
     "metadata": {},
     "output_type": "execute_result"
    }
   ],
   "source": [
    "series_with_array"
   ]
  },
  {
   "cell_type": "markdown",
   "id": "1fe506bb-77e3-4d24-8b18-378a609c875e",
   "metadata": {},
   "source": [
    "### Operaciones con Series"
   ]
  },
  {
   "cell_type": "code",
   "execution_count": 60,
   "id": "697dc757-0304-46de-ac8d-497bc6bb899a",
   "metadata": {},
   "outputs": [],
   "source": [
    "series = series_with_array"
   ]
  },
  {
   "cell_type": "code",
   "execution_count": 61,
   "id": "4c68124b-7699-49c1-afc6-d4353917c10e",
   "metadata": {},
   "outputs": [
    {
     "data": {
      "text/plain": [
       "3     80\n",
       "4    200\n",
       "5    320\n",
       "6    640\n",
       "dtype: int32"
      ]
     },
     "execution_count": 61,
     "metadata": {},
     "output_type": "execute_result"
    }
   ],
   "source": [
    "series[series >= 70]"
   ]
  },
  {
   "cell_type": "code",
   "execution_count": 62,
   "id": "98caae3f-d029-46e5-ac17-0335a171252b",
   "metadata": {},
   "outputs": [
    {
     "data": {
      "text/plain": [
       "0     10\n",
       "1     20\n",
       "2     40\n",
       "3     80\n",
       "4    200\n",
       "5    320\n",
       "dtype: int32"
      ]
     },
     "execution_count": 62,
     "metadata": {},
     "output_type": "execute_result"
    }
   ],
   "source": [
    "series[series <= 500]"
   ]
  },
  {
   "cell_type": "markdown",
   "id": "c587e564-a934-4dd8-9e50-2984a1ac8d56",
   "metadata": {},
   "source": [
    "**Filtros con múltiples condiciones se deben de colocar entre parentesis**."
   ]
  },
  {
   "cell_type": "code",
   "execution_count": 63,
   "id": "5e2767bf-2538-4884-b9cb-5cc06a305cba",
   "metadata": {},
   "outputs": [
    {
     "data": {
      "text/plain": [
       "3     80\n",
       "4    200\n",
       "5    320\n",
       "dtype: int32"
      ]
     },
     "execution_count": 63,
     "metadata": {},
     "output_type": "execute_result"
    }
   ],
   "source": [
    "series[(series >= 70) & (series <= 500)] # & -> and  | -> or"
   ]
  },
  {
   "cell_type": "code",
   "execution_count": 64,
   "id": "d2e486cb-75ef-46f8-be03-4215ea1d18bb",
   "metadata": {},
   "outputs": [
    {
     "data": {
      "text/plain": [
       "0     10\n",
       "1     20\n",
       "2     40\n",
       "3     80\n",
       "4    200\n",
       "5    320\n",
       "6    640\n",
       "dtype: int32"
      ]
     },
     "execution_count": 64,
     "metadata": {},
     "output_type": "execute_result"
    }
   ],
   "source": [
    "series[(series >= 70) | (series <= 500)]"
   ]
  },
  {
   "cell_type": "code",
   "execution_count": 65,
   "id": "aa952816-1744-4bb8-a367-500dda6244d7",
   "metadata": {},
   "outputs": [
    {
     "data": {
      "text/plain": [
       "0      50\n",
       "1     100\n",
       "2     200\n",
       "3     400\n",
       "4    1000\n",
       "5    1600\n",
       "6    3200\n",
       "dtype: int32"
      ]
     },
     "execution_count": 65,
     "metadata": {},
     "output_type": "execute_result"
    }
   ],
   "source": [
    "series * 5"
   ]
  },
  {
   "cell_type": "code",
   "execution_count": 66,
   "id": "c847f816-7a69-4b52-aceb-970a811e215e",
   "metadata": {},
   "outputs": [
    {
     "data": {
      "text/plain": [
       "0     10\n",
       "1     20\n",
       "2     40\n",
       "3     80\n",
       "4    200\n",
       "5    320\n",
       "6    640\n",
       "dtype: int32"
      ]
     },
     "execution_count": 66,
     "metadata": {},
     "output_type": "execute_result"
    }
   ],
   "source": [
    "series"
   ]
  },
  {
   "cell_type": "code",
   "execution_count": 67,
   "id": "c79ecf1a-88fa-4d18-a135-d76494532610",
   "metadata": {},
   "outputs": [
    {
     "data": {
      "text/plain": [
       "0      5.0\n",
       "1     10.0\n",
       "2     20.0\n",
       "3     40.0\n",
       "4    100.0\n",
       "5    160.0\n",
       "6    320.0\n",
       "dtype: float64"
      ]
     },
     "execution_count": 67,
     "metadata": {},
     "output_type": "execute_result"
    }
   ],
   "source": [
    "series/2"
   ]
  },
  {
   "cell_type": "code",
   "execution_count": 68,
   "id": "360d70fb-9a7f-4d9d-8918-0d3bce240215",
   "metadata": {},
   "outputs": [
    {
     "data": {
      "text/plain": [
       "a    7\n",
       "b    8\n",
       "c    9\n",
       "b    4\n",
       "d    7\n",
       "b    9\n",
       "a    2\n",
       "dtype: int64"
      ]
     },
     "execution_count": 68,
     "metadata": {},
     "output_type": "execute_result"
    }
   ],
   "source": [
    "series2 = pd.Series([7,8,9,4,7,9,2], index=['a','b','c','b','d','b','a'])\n",
    "series2"
   ]
  },
  {
   "cell_type": "code",
   "execution_count": 69,
   "id": "5b7418d1-6cb7-4c0d-9eb6-bcdb80e2752e",
   "metadata": {},
   "outputs": [
    {
     "data": {
      "text/plain": [
       "array([7, 8, 9, 4, 2], dtype=int64)"
      ]
     },
     "execution_count": 69,
     "metadata": {},
     "output_type": "execute_result"
    }
   ],
   "source": [
    "series2.unique()"
   ]
  },
  {
   "cell_type": "code",
   "execution_count": 70,
   "id": "a6cf6005-d1a9-4e44-af9a-6720f7a0b072",
   "metadata": {},
   "outputs": [
    {
     "data": {
      "text/plain": [
       "7    2\n",
       "9    2\n",
       "8    1\n",
       "4    1\n",
       "2    1\n",
       "Name: count, dtype: int64"
      ]
     },
     "execution_count": 70,
     "metadata": {},
     "output_type": "execute_result"
    }
   ],
   "source": [
    "# agrupa los valores de la serie por el numero de veces que aparece\n",
    "series2.value_counts()"
   ]
  },
  {
   "cell_type": "code",
   "execution_count": 71,
   "id": "00a14b91-a016-4b31-9596-18f2bc608b42",
   "metadata": {},
   "outputs": [
    {
     "data": {
      "text/plain": [
       "a     True\n",
       "b     True\n",
       "c    False\n",
       "b     True\n",
       "d     True\n",
       "b    False\n",
       "a    False\n",
       "dtype: bool"
      ]
     },
     "execution_count": 71,
     "metadata": {},
     "output_type": "execute_result"
    }
   ],
   "source": [
    "# evalua si los valores estan en la serie\n",
    "series2.isin([7,8,4])"
   ]
  },
  {
   "cell_type": "markdown",
   "id": "443a6e4f-37f6-4f21-b959-cdc3901c93e3",
   "metadata": {},
   "source": [
    "## NAN\n",
    "\n",
    "NAN significa **NOT A NUMBER** y se usa para representar datos que son el resultado de calculos que no se pueden especificar numericamente o campos que estan vacios.\n",
    "\n",
    "Deben tenerse en cuenta a la hora de realizar el analisis de datos para que no se afecte el modelo a construir."
   ]
  },
  {
   "cell_type": "code",
   "execution_count": 72,
   "id": "38a21501-d436-4433-8bb9-4df8a49824d4",
   "metadata": {},
   "outputs": [
    {
     "name": "stderr",
     "output_type": "stream",
     "text": [
      "C:\\Users\\Angelo Ortiz\\AppData\\Local\\Temp\\ipykernel_2628\\1586889907.py:4: RuntimeWarning: invalid value encountered in log\n",
      "  value2 = np.log(value1)\n"
     ]
    },
    {
     "data": {
      "text/plain": [
       "nan"
      ]
     },
     "execution_count": 72,
     "metadata": {},
     "output_type": "execute_result"
    }
   ],
   "source": [
    "# Ejemplo, logartimo de un numero negativo\n",
    "\n",
    "value1 = np.array(-45)\n",
    "value2 = np.log(value1)\n",
    "value2"
   ]
  },
  {
   "cell_type": "code",
   "execution_count": 73,
   "id": "45329ce0-90ae-41c0-9780-07c06cc288ab",
   "metadata": {},
   "outputs": [
    {
     "data": {
      "text/plain": [
       "0     3.0\n",
       "1     5.0\n",
       "2     7.0\n",
       "3     NaN\n",
       "4     9.0\n",
       "5    11.0\n",
       "6     NaN\n",
       "7    13.0\n",
       "8    15.0\n",
       "dtype: float64"
      ]
     },
     "execution_count": 73,
     "metadata": {},
     "output_type": "execute_result"
    }
   ],
   "source": [
    "# Se pueden detectar como valores null\n",
    "series3 = pd.Series([3,5,7,np.NaN,9,11, np.NaN,13,15])\n",
    "series3"
   ]
  },
  {
   "cell_type": "code",
   "execution_count": 74,
   "id": "a9348df0-448b-4cc7-8035-bb719fc32930",
   "metadata": {},
   "outputs": [],
   "source": [
    "series3_1 = series3.isnull()"
   ]
  },
  {
   "cell_type": "code",
   "execution_count": 75,
   "id": "46f7fbce-565b-48a7-a86d-2e775039e87b",
   "metadata": {},
   "outputs": [
    {
     "data": {
      "text/plain": [
       "0    False\n",
       "1    False\n",
       "2    False\n",
       "3     True\n",
       "4    False\n",
       "5    False\n",
       "6     True\n",
       "7    False\n",
       "8    False\n",
       "dtype: bool"
      ]
     },
     "execution_count": 75,
     "metadata": {},
     "output_type": "execute_result"
    }
   ],
   "source": [
    "series3_1"
   ]
  },
  {
   "cell_type": "code",
   "execution_count": 76,
   "id": "1fc3b6f0-db3c-4b16-9038-df505b6efc9a",
   "metadata": {},
   "outputs": [
    {
     "data": {
      "text/plain": [
       "0     True\n",
       "1     True\n",
       "2     True\n",
       "3    False\n",
       "4     True\n",
       "5     True\n",
       "6    False\n",
       "7     True\n",
       "8     True\n",
       "dtype: bool"
      ]
     },
     "execution_count": 76,
     "metadata": {},
     "output_type": "execute_result"
    }
   ],
   "source": [
    "series3.notnull()"
   ]
  },
  {
   "cell_type": "code",
   "execution_count": 77,
   "id": "7bc8b3de-1e93-40a0-87c2-88b8b4a1ce11",
   "metadata": {},
   "outputs": [
    {
     "data": {
      "text/plain": [
       "0     3.0\n",
       "1     5.0\n",
       "2     7.0\n",
       "3     NaN\n",
       "5    11.0\n",
       "6     NaN\n",
       "7    13.0\n",
       "8    15.0\n",
       "dtype: float64"
      ]
     },
     "execution_count": 77,
     "metadata": {},
     "output_type": "execute_result"
    }
   ],
   "source": [
    "# Borrar un valor para mostrar\n",
    "series3.drop(4)"
   ]
  },
  {
   "cell_type": "code",
   "execution_count": 78,
   "id": "79f3394e-2c30-4b29-bc5d-5cbdc0d80da6",
   "metadata": {},
   "outputs": [
    {
     "data": {
      "text/plain": [
       "0     3.0\n",
       "1     5.0\n",
       "2     7.0\n",
       "3     NaN\n",
       "4     9.0\n",
       "5    11.0\n",
       "6     NaN\n",
       "7    13.0\n",
       "8    15.0\n",
       "dtype: float64"
      ]
     },
     "execution_count": 78,
     "metadata": {},
     "output_type": "execute_result"
    }
   ],
   "source": [
    "series3"
   ]
  },
  {
   "cell_type": "code",
   "execution_count": 79,
   "id": "8e536b28-5cf8-479c-8341-5d8de6432794",
   "metadata": {},
   "outputs": [
    {
     "data": {
      "text/plain": [
       "0     3.0\n",
       "2     7.0\n",
       "3     NaN\n",
       "4     9.0\n",
       "5    11.0\n",
       "6     NaN\n",
       "8    15.0\n",
       "dtype: float64"
      ]
     },
     "execution_count": 79,
     "metadata": {},
     "output_type": "execute_result"
    }
   ],
   "source": [
    "series3.drop([1,7])"
   ]
  },
  {
   "cell_type": "markdown",
   "id": "69f7a34e-bdbf-4bb8-8faf-9abe7dfebaee",
   "metadata": {},
   "source": [
    "## 2.0 Dataframes"
   ]
  },
  {
   "cell_type": "markdown",
   "id": "9b022689-b8cb-41fb-9e24-548c39334c06",
   "metadata": {},
   "source": [
    "### 🧾 ¿Qué es un DataFrame?\n",
    "Un DataFrame es una estructura de datos bidimensional de la librería Pandas, muy parecida a una hoja de cálculo (como Excel) o a una tabla de base de datos.\n",
    "\n",
    "### 🔍 Características principales:\n",
    "\n",
    "- Está compuesto por filas e índices (como una Serie, pero extendida).\n",
    "- Tiene múltiples columnas, y cada columna puede tener un tipo de dato distinto (por ejemplo: números, cadenas, fechas).\n",
    "- Se puede considerar como una colección de Series alineadas por el mismo índice.\n",
    "- Es ideal para almacenar y manipular datos estructurados.\n",
    "\n",
    "### 🧠 Analogía útil\n",
    "\n",
    "Un DataFrame es como una tabla de Excel:\n",
    "\n",
    "- Las filas son registros.\n",
    "- Las columnas son atributos o variables.\n",
    "- El índice identifica cada fila, como una etiqueta."
   ]
  },
  {
   "cell_type": "code",
   "execution_count": 80,
   "id": "897d9426-9e39-47a3-b937-9a5397ba11b6",
   "metadata": {},
   "outputs": [
    {
     "data": {
      "text/html": [
       "<div>\n",
       "<style scoped>\n",
       "    .dataframe tbody tr th:only-of-type {\n",
       "        vertical-align: middle;\n",
       "    }\n",
       "\n",
       "    .dataframe tbody tr th {\n",
       "        vertical-align: top;\n",
       "    }\n",
       "\n",
       "    .dataframe thead th {\n",
       "        text-align: right;\n",
       "    }\n",
       "</style>\n",
       "<table border=\"1\" class=\"dataframe\">\n",
       "  <thead>\n",
       "    <tr style=\"text-align: right;\">\n",
       "      <th></th>\n",
       "      <th>Animal</th>\n",
       "      <th>Clasificación</th>\n",
       "      <th>Habitat</th>\n",
       "    </tr>\n",
       "  </thead>\n",
       "  <tbody>\n",
       "    <tr>\n",
       "      <th>0</th>\n",
       "      <td>Perro</td>\n",
       "      <td>Mamifero</td>\n",
       "      <td>Domestico</td>\n",
       "    </tr>\n",
       "    <tr>\n",
       "      <th>1</th>\n",
       "      <td>Gato</td>\n",
       "      <td>Mamifero</td>\n",
       "      <td>Domestico</td>\n",
       "    </tr>\n",
       "    <tr>\n",
       "      <th>2</th>\n",
       "      <td>Raton</td>\n",
       "      <td>Mamifero</td>\n",
       "      <td>Calle</td>\n",
       "    </tr>\n",
       "    <tr>\n",
       "      <th>3</th>\n",
       "      <td>Loro</td>\n",
       "      <td>Ave</td>\n",
       "      <td>Salvaje</td>\n",
       "    </tr>\n",
       "    <tr>\n",
       "      <th>4</th>\n",
       "      <td>Tortuga</td>\n",
       "      <td>Reptil</td>\n",
       "      <td>Salvaje</td>\n",
       "    </tr>\n",
       "  </tbody>\n",
       "</table>\n",
       "</div>"
      ],
      "text/plain": [
       "    Animal Clasificación    Habitat\n",
       "0    Perro      Mamifero  Domestico\n",
       "1     Gato      Mamifero  Domestico\n",
       "2    Raton      Mamifero      Calle\n",
       "3     Loro           Ave    Salvaje\n",
       "4  Tortuga        Reptil    Salvaje"
      ]
     },
     "execution_count": 80,
     "metadata": {},
     "output_type": "execute_result"
    }
   ],
   "source": [
    "# Una forma es definir un diccionario y luego pasarlo como un dataframe\n",
    "data = {'Animal':['Perro','Gato','Raton','Loro','Tortuga'],\n",
    "         'Clasificación':['Mamifero','Mamifero','Mamifero','Ave','Reptil'],\n",
    "        'Habitat':['Domestico','Domestico','Calle','Salvaje','Salvaje']}\n",
    "\n",
    "frame = pd.DataFrame(data)\n",
    "frame"
   ]
  },
  {
   "cell_type": "code",
   "execution_count": 81,
   "id": "0ec52f36-11fc-45a8-ae90-db11faf37af2",
   "metadata": {},
   "outputs": [
    {
     "data": {
      "text/html": [
       "<div>\n",
       "<style scoped>\n",
       "    .dataframe tbody tr th:only-of-type {\n",
       "        vertical-align: middle;\n",
       "    }\n",
       "\n",
       "    .dataframe tbody tr th {\n",
       "        vertical-align: top;\n",
       "    }\n",
       "\n",
       "    .dataframe thead th {\n",
       "        text-align: right;\n",
       "    }\n",
       "</style>\n",
       "<table border=\"1\" class=\"dataframe\">\n",
       "  <thead>\n",
       "    <tr style=\"text-align: right;\">\n",
       "      <th></th>\n",
       "      <th>Animal</th>\n",
       "      <th>Clasificación</th>\n",
       "      <th>Habitat</th>\n",
       "    </tr>\n",
       "  </thead>\n",
       "  <tbody>\n",
       "    <tr>\n",
       "      <th>Uno</th>\n",
       "      <td>Perro</td>\n",
       "      <td>Mamifero</td>\n",
       "      <td>Domestico</td>\n",
       "    </tr>\n",
       "    <tr>\n",
       "      <th>Dos</th>\n",
       "      <td>Gato</td>\n",
       "      <td>Mamifero</td>\n",
       "      <td>Domestico</td>\n",
       "    </tr>\n",
       "    <tr>\n",
       "      <th>Tres</th>\n",
       "      <td>Raton</td>\n",
       "      <td>Mamifero</td>\n",
       "      <td>Calle</td>\n",
       "    </tr>\n",
       "    <tr>\n",
       "      <th>Cuatro</th>\n",
       "      <td>Loro</td>\n",
       "      <td>Ave</td>\n",
       "      <td>Salvaje</td>\n",
       "    </tr>\n",
       "    <tr>\n",
       "      <th>Cinco</th>\n",
       "      <td>Tortuga</td>\n",
       "      <td>Reptil</td>\n",
       "      <td>Salvaje</td>\n",
       "    </tr>\n",
       "  </tbody>\n",
       "</table>\n",
       "</div>"
      ],
      "text/plain": [
       "         Animal Clasificación    Habitat\n",
       "Uno       Perro      Mamifero  Domestico\n",
       "Dos        Gato      Mamifero  Domestico\n",
       "Tres      Raton      Mamifero      Calle\n",
       "Cuatro     Loro           Ave    Salvaje\n",
       "Cinco   Tortuga        Reptil    Salvaje"
      ]
     },
     "execution_count": 81,
     "metadata": {},
     "output_type": "execute_result"
    }
   ],
   "source": [
    "# Cambiar los indices\n",
    "frame2 = pd.DataFrame(data, index=['Uno','Dos','Tres','Cuatro','Cinco'])\n",
    "frame2"
   ]
  },
  {
   "cell_type": "code",
   "execution_count": 82,
   "id": "1c076db6-49c8-4f4d-a84b-40c2db7befa5",
   "metadata": {},
   "outputs": [
    {
     "data": {
      "text/html": [
       "<div>\n",
       "<style scoped>\n",
       "    .dataframe tbody tr th:only-of-type {\n",
       "        vertical-align: middle;\n",
       "    }\n",
       "\n",
       "    .dataframe tbody tr th {\n",
       "        vertical-align: top;\n",
       "    }\n",
       "\n",
       "    .dataframe thead th {\n",
       "        text-align: right;\n",
       "    }\n",
       "</style>\n",
       "<table border=\"1\" class=\"dataframe\">\n",
       "  <thead>\n",
       "    <tr style=\"text-align: right;\">\n",
       "      <th></th>\n",
       "      <th>Animal</th>\n",
       "      <th>Clasificación</th>\n",
       "      <th>Habitat</th>\n",
       "    </tr>\n",
       "  </thead>\n",
       "  <tbody>\n",
       "    <tr>\n",
       "      <th>0</th>\n",
       "      <td>Perro</td>\n",
       "      <td>Mamifero</td>\n",
       "      <td>Domestico</td>\n",
       "    </tr>\n",
       "    <tr>\n",
       "      <th>1</th>\n",
       "      <td>Gato</td>\n",
       "      <td>Mamifero</td>\n",
       "      <td>Domestico</td>\n",
       "    </tr>\n",
       "    <tr>\n",
       "      <th>2</th>\n",
       "      <td>Raton</td>\n",
       "      <td>Mamifero</td>\n",
       "      <td>Calle</td>\n",
       "    </tr>\n",
       "  </tbody>\n",
       "</table>\n",
       "</div>"
      ],
      "text/plain": [
       "  Animal Clasificación    Habitat\n",
       "0  Perro      Mamifero  Domestico\n",
       "1   Gato      Mamifero  Domestico\n",
       "2  Raton      Mamifero      Calle"
      ]
     },
     "execution_count": 82,
     "metadata": {},
     "output_type": "execute_result"
    }
   ],
   "source": [
    "frame.head(3)"
   ]
  },
  {
   "cell_type": "code",
   "execution_count": 83,
   "id": "63bca93c-e996-4733-9a18-37f7a5ccbe2e",
   "metadata": {},
   "outputs": [
    {
     "data": {
      "text/plain": [
       "Index(['Animal', 'Clasificación', 'Habitat'], dtype='object')"
      ]
     },
     "execution_count": 83,
     "metadata": {},
     "output_type": "execute_result"
    }
   ],
   "source": [
    "frame.columns"
   ]
  },
  {
   "cell_type": "code",
   "execution_count": 84,
   "id": "b7950d8c-3da8-4c47-b64c-7ed5a899ea56",
   "metadata": {},
   "outputs": [
    {
     "data": {
      "text/plain": [
       "RangeIndex(start=0, stop=5, step=1)"
      ]
     },
     "execution_count": 84,
     "metadata": {},
     "output_type": "execute_result"
    }
   ],
   "source": [
    "frame.index"
   ]
  },
  {
   "cell_type": "code",
   "execution_count": 85,
   "id": "6fe4c36a-65aa-49e2-9d95-de109ce8e698",
   "metadata": {},
   "outputs": [
    {
     "data": {
      "text/plain": [
       "Index(['Animal', 'Clasificación', 'Habitat'], dtype='object')"
      ]
     },
     "execution_count": 85,
     "metadata": {},
     "output_type": "execute_result"
    }
   ],
   "source": [
    "frame2.columns"
   ]
  },
  {
   "cell_type": "code",
   "execution_count": 86,
   "id": "ccd77072-770a-446a-bba2-741471295abf",
   "metadata": {},
   "outputs": [
    {
     "data": {
      "text/plain": [
       "Index(['Uno', 'Dos', 'Tres', 'Cuatro', 'Cinco'], dtype='object')"
      ]
     },
     "execution_count": 86,
     "metadata": {},
     "output_type": "execute_result"
    }
   ],
   "source": [
    "frame2.index"
   ]
  },
  {
   "cell_type": "code",
   "execution_count": 87,
   "id": "5cfafa40-38aa-455f-95ab-8abdac228c77",
   "metadata": {},
   "outputs": [
    {
     "data": {
      "text/plain": [
       "array([['Perro', 'Mamifero', 'Domestico'],\n",
       "       ['Gato', 'Mamifero', 'Domestico'],\n",
       "       ['Raton', 'Mamifero', 'Calle'],\n",
       "       ['Loro', 'Ave', 'Salvaje'],\n",
       "       ['Tortuga', 'Reptil', 'Salvaje']], dtype=object)"
      ]
     },
     "execution_count": 87,
     "metadata": {},
     "output_type": "execute_result"
    }
   ],
   "source": [
    "# obtener las filas\n",
    "frame.values"
   ]
  },
  {
   "cell_type": "code",
   "execution_count": 88,
   "id": "048e5dc9-b0ba-4db8-8025-1a58939c1752",
   "metadata": {},
   "outputs": [
    {
     "data": {
      "text/plain": [
       "0    Domestico\n",
       "1    Domestico\n",
       "2        Calle\n",
       "3      Salvaje\n",
       "4      Salvaje\n",
       "Name: Habitat, dtype: object"
      ]
     },
     "execution_count": 88,
     "metadata": {},
     "output_type": "execute_result"
    }
   ],
   "source": [
    "# Primera forma de obtener una columna especifica\n",
    "frame['Habitat']"
   ]
  },
  {
   "cell_type": "code",
   "execution_count": 89,
   "id": "464c53e2-2ec0-4f63-a3d0-8632659a0220",
   "metadata": {},
   "outputs": [
    {
     "data": {
      "text/plain": [
       "0      Perro\n",
       "1       Gato\n",
       "2      Raton\n",
       "3       Loro\n",
       "4    Tortuga\n",
       "Name: Animal, dtype: object"
      ]
     },
     "execution_count": 89,
     "metadata": {},
     "output_type": "execute_result"
    }
   ],
   "source": [
    "# Segunda forma de obtener una columna especifica\n",
    "frame.Animal"
   ]
  },
  {
   "cell_type": "code",
   "execution_count": 90,
   "id": "e2f77c5d-37f4-480f-9b3c-31a6fcc8fd4e",
   "metadata": {},
   "outputs": [
    {
     "data": {
      "text/plain": [
       "Animal                Gato\n",
       "Clasificación     Mamifero\n",
       "Habitat          Domestico\n",
       "Name: 1, dtype: object"
      ]
     },
     "execution_count": 90,
     "metadata": {},
     "output_type": "execute_result"
    }
   ],
   "source": [
    "# Obtener fila con loc()\n",
    "frame.loc[1]"
   ]
  },
  {
   "cell_type": "code",
   "execution_count": 91,
   "id": "4640e71e-55bb-49c2-9e77-6343d9ac4999",
   "metadata": {},
   "outputs": [
    {
     "data": {
      "text/html": [
       "<div>\n",
       "<style scoped>\n",
       "    .dataframe tbody tr th:only-of-type {\n",
       "        vertical-align: middle;\n",
       "    }\n",
       "\n",
       "    .dataframe tbody tr th {\n",
       "        vertical-align: top;\n",
       "    }\n",
       "\n",
       "    .dataframe thead th {\n",
       "        text-align: right;\n",
       "    }\n",
       "</style>\n",
       "<table border=\"1\" class=\"dataframe\">\n",
       "  <thead>\n",
       "    <tr style=\"text-align: right;\">\n",
       "      <th></th>\n",
       "      <th>Animal</th>\n",
       "      <th>Clasificación</th>\n",
       "      <th>Habitat</th>\n",
       "    </tr>\n",
       "  </thead>\n",
       "  <tbody>\n",
       "    <tr>\n",
       "      <th>1</th>\n",
       "      <td>Gato</td>\n",
       "      <td>Mamifero</td>\n",
       "      <td>Domestico</td>\n",
       "    </tr>\n",
       "    <tr>\n",
       "      <th>4</th>\n",
       "      <td>Tortuga</td>\n",
       "      <td>Reptil</td>\n",
       "      <td>Salvaje</td>\n",
       "    </tr>\n",
       "  </tbody>\n",
       "</table>\n",
       "</div>"
      ],
      "text/plain": [
       "    Animal Clasificación    Habitat\n",
       "1     Gato      Mamifero  Domestico\n",
       "4  Tortuga        Reptil    Salvaje"
      ]
     },
     "execution_count": 91,
     "metadata": {},
     "output_type": "execute_result"
    }
   ],
   "source": [
    "# Obtener multiples filas\n",
    "frame.loc[[1,4]]"
   ]
  },
  {
   "cell_type": "code",
   "execution_count": 92,
   "id": "9222e238-7ce2-4e50-946c-67239438531f",
   "metadata": {},
   "outputs": [
    {
     "data": {
      "text/html": [
       "<div>\n",
       "<style scoped>\n",
       "    .dataframe tbody tr th:only-of-type {\n",
       "        vertical-align: middle;\n",
       "    }\n",
       "\n",
       "    .dataframe tbody tr th {\n",
       "        vertical-align: top;\n",
       "    }\n",
       "\n",
       "    .dataframe thead th {\n",
       "        text-align: right;\n",
       "    }\n",
       "</style>\n",
       "<table border=\"1\" class=\"dataframe\">\n",
       "  <thead>\n",
       "    <tr style=\"text-align: right;\">\n",
       "      <th></th>\n",
       "      <th>Animal</th>\n",
       "      <th>Clasificación</th>\n",
       "      <th>Habitat</th>\n",
       "    </tr>\n",
       "  </thead>\n",
       "  <tbody>\n",
       "    <tr>\n",
       "      <th>1</th>\n",
       "      <td>Gato</td>\n",
       "      <td>Mamifero</td>\n",
       "      <td>Domestico</td>\n",
       "    </tr>\n",
       "    <tr>\n",
       "      <th>2</th>\n",
       "      <td>Raton</td>\n",
       "      <td>Mamifero</td>\n",
       "      <td>Calle</td>\n",
       "    </tr>\n",
       "    <tr>\n",
       "      <th>3</th>\n",
       "      <td>Loro</td>\n",
       "      <td>Ave</td>\n",
       "      <td>Salvaje</td>\n",
       "    </tr>\n",
       "  </tbody>\n",
       "</table>\n",
       "</div>"
      ],
      "text/plain": [
       "  Animal Clasificación    Habitat\n",
       "1   Gato      Mamifero  Domestico\n",
       "2  Raton      Mamifero      Calle\n",
       "3   Loro           Ave    Salvaje"
      ]
     },
     "execution_count": 92,
     "metadata": {},
     "output_type": "execute_result"
    }
   ],
   "source": [
    "# Un conjunto de filas en un rango\n",
    "frame.loc[1:3] # El valor final se incluye"
   ]
  },
  {
   "cell_type": "code",
   "execution_count": 93,
   "id": "2afd86aa-5ad5-446f-acbe-679c51e0f4fb",
   "metadata": {},
   "outputs": [
    {
     "name": "stdout",
     "output_type": "stream",
     "text": [
      "El animal es  Gato\n"
     ]
    }
   ],
   "source": [
    "# Uso de indices para obtener un valor especifico, como en las matrices\n",
    "Animal = frame['Animal'][1]\n",
    "print(\"El animal es \", Animal)"
   ]
  },
  {
   "cell_type": "code",
   "execution_count": 94,
   "id": "a4d6c794-0615-4615-a77c-bfa67d29c966",
   "metadata": {},
   "outputs": [
    {
     "data": {
      "text/html": [
       "<div>\n",
       "<style scoped>\n",
       "    .dataframe tbody tr th:only-of-type {\n",
       "        vertical-align: middle;\n",
       "    }\n",
       "\n",
       "    .dataframe tbody tr th {\n",
       "        vertical-align: top;\n",
       "    }\n",
       "\n",
       "    .dataframe thead th {\n",
       "        text-align: right;\n",
       "    }\n",
       "</style>\n",
       "<table border=\"1\" class=\"dataframe\">\n",
       "  <thead>\n",
       "    <tr style=\"text-align: right;\">\n",
       "      <th>Caracteristicas</th>\n",
       "      <th>Animal</th>\n",
       "      <th>Clasificación</th>\n",
       "      <th>Habitat</th>\n",
       "    </tr>\n",
       "    <tr>\n",
       "      <th>N°</th>\n",
       "      <th></th>\n",
       "      <th></th>\n",
       "      <th></th>\n",
       "    </tr>\n",
       "  </thead>\n",
       "  <tbody>\n",
       "    <tr>\n",
       "      <th>0</th>\n",
       "      <td>Perro</td>\n",
       "      <td>Mamifero</td>\n",
       "      <td>Domestico</td>\n",
       "    </tr>\n",
       "    <tr>\n",
       "      <th>1</th>\n",
       "      <td>Gato</td>\n",
       "      <td>Mamifero</td>\n",
       "      <td>Domestico</td>\n",
       "    </tr>\n",
       "    <tr>\n",
       "      <th>2</th>\n",
       "      <td>Raton</td>\n",
       "      <td>Mamifero</td>\n",
       "      <td>Calle</td>\n",
       "    </tr>\n",
       "    <tr>\n",
       "      <th>3</th>\n",
       "      <td>Loro</td>\n",
       "      <td>Ave</td>\n",
       "      <td>Salvaje</td>\n",
       "    </tr>\n",
       "    <tr>\n",
       "      <th>4</th>\n",
       "      <td>Tortuga</td>\n",
       "      <td>Reptil</td>\n",
       "      <td>Salvaje</td>\n",
       "    </tr>\n",
       "  </tbody>\n",
       "</table>\n",
       "</div>"
      ],
      "text/plain": [
       "Caracteristicas   Animal Clasificación    Habitat\n",
       "N°                                               \n",
       "0                  Perro      Mamifero  Domestico\n",
       "1                   Gato      Mamifero  Domestico\n",
       "2                  Raton      Mamifero      Calle\n",
       "3                   Loro           Ave    Salvaje\n",
       "4                Tortuga        Reptil    Salvaje"
      ]
     },
     "execution_count": 94,
     "metadata": {},
     "output_type": "execute_result"
    }
   ],
   "source": [
    "frame.index.name = 'N°'\n",
    "frame.columns.name = 'Caracteristicas'\n",
    "frame"
   ]
  },
  {
   "cell_type": "markdown",
   "id": "e3cefee8-e4df-4e97-a342-4c5b45e8d1a2",
   "metadata": {},
   "source": [
    "Dataframes son flexibles para agregar o quitar columnas"
   ]
  },
  {
   "cell_type": "code",
   "execution_count": 96,
   "id": "d8572628-7f61-4c13-9f83-2b12796a1fc5",
   "metadata": {},
   "outputs": [
    {
     "data": {
      "text/html": [
       "<div>\n",
       "<style scoped>\n",
       "    .dataframe tbody tr th:only-of-type {\n",
       "        vertical-align: middle;\n",
       "    }\n",
       "\n",
       "    .dataframe tbody tr th {\n",
       "        vertical-align: top;\n",
       "    }\n",
       "\n",
       "    .dataframe thead th {\n",
       "        text-align: right;\n",
       "    }\n",
       "</style>\n",
       "<table border=\"1\" class=\"dataframe\">\n",
       "  <thead>\n",
       "    <tr style=\"text-align: right;\">\n",
       "      <th>Caracteristicas</th>\n",
       "      <th>Animal</th>\n",
       "      <th>Clasificación</th>\n",
       "      <th>Habitat</th>\n",
       "      <th>Vertebrado</th>\n",
       "    </tr>\n",
       "    <tr>\n",
       "      <th>N°</th>\n",
       "      <th></th>\n",
       "      <th></th>\n",
       "      <th></th>\n",
       "      <th></th>\n",
       "    </tr>\n",
       "  </thead>\n",
       "  <tbody>\n",
       "    <tr>\n",
       "      <th>0</th>\n",
       "      <td>Perro</td>\n",
       "      <td>Mamifero</td>\n",
       "      <td>Domestico</td>\n",
       "      <td>True</td>\n",
       "    </tr>\n",
       "    <tr>\n",
       "      <th>1</th>\n",
       "      <td>Gato</td>\n",
       "      <td>Mamifero</td>\n",
       "      <td>Domestico</td>\n",
       "      <td>True</td>\n",
       "    </tr>\n",
       "    <tr>\n",
       "      <th>2</th>\n",
       "      <td>Raton</td>\n",
       "      <td>Mamifero</td>\n",
       "      <td>Calle</td>\n",
       "      <td>True</td>\n",
       "    </tr>\n",
       "    <tr>\n",
       "      <th>3</th>\n",
       "      <td>Loro</td>\n",
       "      <td>Ave</td>\n",
       "      <td>Salvaje</td>\n",
       "      <td>True</td>\n",
       "    </tr>\n",
       "    <tr>\n",
       "      <th>4</th>\n",
       "      <td>Tortuga</td>\n",
       "      <td>Reptil</td>\n",
       "      <td>Salvaje</td>\n",
       "      <td>True</td>\n",
       "    </tr>\n",
       "  </tbody>\n",
       "</table>\n",
       "</div>"
      ],
      "text/plain": [
       "Caracteristicas   Animal Clasificación    Habitat  Vertebrado\n",
       "N°                                                           \n",
       "0                  Perro      Mamifero  Domestico        True\n",
       "1                   Gato      Mamifero  Domestico        True\n",
       "2                  Raton      Mamifero      Calle        True\n",
       "3                   Loro           Ave    Salvaje        True\n",
       "4                Tortuga        Reptil    Salvaje        True"
      ]
     },
     "execution_count": 96,
     "metadata": {},
     "output_type": "execute_result"
    }
   ],
   "source": [
    "# Agregar una columna\n",
    "frame['Vertebrado'] = True\n",
    "frame"
   ]
  },
  {
   "cell_type": "code",
   "execution_count": 97,
   "id": "d5ec4273-a492-4e3a-a06c-ccce5c6f068e",
   "metadata": {},
   "outputs": [
    {
     "data": {
      "text/html": [
       "<div>\n",
       "<style scoped>\n",
       "    .dataframe tbody tr th:only-of-type {\n",
       "        vertical-align: middle;\n",
       "    }\n",
       "\n",
       "    .dataframe tbody tr th {\n",
       "        vertical-align: top;\n",
       "    }\n",
       "\n",
       "    .dataframe thead th {\n",
       "        text-align: right;\n",
       "    }\n",
       "</style>\n",
       "<table border=\"1\" class=\"dataframe\">\n",
       "  <thead>\n",
       "    <tr style=\"text-align: right;\">\n",
       "      <th></th>\n",
       "      <th>Animal</th>\n",
       "      <th>Clasificación</th>\n",
       "      <th>Habitat</th>\n",
       "    </tr>\n",
       "  </thead>\n",
       "  <tbody>\n",
       "    <tr>\n",
       "      <th>Uno</th>\n",
       "      <td>Perro</td>\n",
       "      <td>Mamifero</td>\n",
       "      <td>Domestico</td>\n",
       "    </tr>\n",
       "    <tr>\n",
       "      <th>Dos</th>\n",
       "      <td>Gato</td>\n",
       "      <td>Mamifero</td>\n",
       "      <td>Domestico</td>\n",
       "    </tr>\n",
       "    <tr>\n",
       "      <th>Tres</th>\n",
       "      <td>Raton</td>\n",
       "      <td>Mamifero</td>\n",
       "      <td>Calle</td>\n",
       "    </tr>\n",
       "    <tr>\n",
       "      <th>Cuatro</th>\n",
       "      <td>Loro</td>\n",
       "      <td>Ave</td>\n",
       "      <td>Salvaje</td>\n",
       "    </tr>\n",
       "    <tr>\n",
       "      <th>Cinco</th>\n",
       "      <td>Tortuga</td>\n",
       "      <td>Reptil</td>\n",
       "      <td>Salvaje</td>\n",
       "    </tr>\n",
       "  </tbody>\n",
       "</table>\n",
       "</div>"
      ],
      "text/plain": [
       "         Animal Clasificación    Habitat\n",
       "Uno       Perro      Mamifero  Domestico\n",
       "Dos        Gato      Mamifero  Domestico\n",
       "Tres      Raton      Mamifero      Calle\n",
       "Cuatro     Loro           Ave    Salvaje\n",
       "Cinco   Tortuga        Reptil    Salvaje"
      ]
     },
     "execution_count": 97,
     "metadata": {},
     "output_type": "execute_result"
    }
   ],
   "source": [
    "frame2"
   ]
  },
  {
   "cell_type": "code",
   "execution_count": 98,
   "id": "754fb9b2-1dd3-4e21-82be-dabcee64d906",
   "metadata": {},
   "outputs": [
    {
     "data": {
      "text/html": [
       "<div>\n",
       "<style scoped>\n",
       "    .dataframe tbody tr th:only-of-type {\n",
       "        vertical-align: middle;\n",
       "    }\n",
       "\n",
       "    .dataframe tbody tr th {\n",
       "        vertical-align: top;\n",
       "    }\n",
       "\n",
       "    .dataframe thead th {\n",
       "        text-align: right;\n",
       "    }\n",
       "</style>\n",
       "<table border=\"1\" class=\"dataframe\">\n",
       "  <thead>\n",
       "    <tr style=\"text-align: right;\">\n",
       "      <th>Caracteristicas</th>\n",
       "      <th>Animal</th>\n",
       "      <th>Clasificación</th>\n",
       "      <th>Habitat</th>\n",
       "    </tr>\n",
       "    <tr>\n",
       "      <th>N°</th>\n",
       "      <th></th>\n",
       "      <th></th>\n",
       "      <th></th>\n",
       "    </tr>\n",
       "  </thead>\n",
       "  <tbody>\n",
       "    <tr>\n",
       "      <th>0</th>\n",
       "      <td>Perro</td>\n",
       "      <td>Mamifero</td>\n",
       "      <td>Domestico</td>\n",
       "    </tr>\n",
       "    <tr>\n",
       "      <th>1</th>\n",
       "      <td>Gato</td>\n",
       "      <td>Mamifero</td>\n",
       "      <td>Domestico</td>\n",
       "    </tr>\n",
       "    <tr>\n",
       "      <th>2</th>\n",
       "      <td>Raton</td>\n",
       "      <td>Mamifero</td>\n",
       "      <td>Calle</td>\n",
       "    </tr>\n",
       "    <tr>\n",
       "      <th>3</th>\n",
       "      <td>Loro</td>\n",
       "      <td>Ave</td>\n",
       "      <td>Salvaje</td>\n",
       "    </tr>\n",
       "    <tr>\n",
       "      <th>4</th>\n",
       "      <td>Tortuga</td>\n",
       "      <td>Reptil</td>\n",
       "      <td>Salvaje</td>\n",
       "    </tr>\n",
       "  </tbody>\n",
       "</table>\n",
       "</div>"
      ],
      "text/plain": [
       "Caracteristicas   Animal Clasificación    Habitat\n",
       "N°                                               \n",
       "0                  Perro      Mamifero  Domestico\n",
       "1                   Gato      Mamifero  Domestico\n",
       "2                  Raton      Mamifero      Calle\n",
       "3                   Loro           Ave    Salvaje\n",
       "4                Tortuga        Reptil    Salvaje"
      ]
     },
     "execution_count": 98,
     "metadata": {},
     "output_type": "execute_result"
    }
   ],
   "source": [
    "# borrar una columna\n",
    "del frame['Vertebrado']\n",
    "frame"
   ]
  },
  {
   "cell_type": "code",
   "execution_count": 99,
   "id": "1d34597c-a0e5-4e60-bf60-9dddda7313e6",
   "metadata": {},
   "outputs": [
    {
     "data": {
      "text/html": [
       "<div>\n",
       "<style scoped>\n",
       "    .dataframe tbody tr th:only-of-type {\n",
       "        vertical-align: middle;\n",
       "    }\n",
       "\n",
       "    .dataframe tbody tr th {\n",
       "        vertical-align: top;\n",
       "    }\n",
       "\n",
       "    .dataframe thead th {\n",
       "        text-align: right;\n",
       "    }\n",
       "</style>\n",
       "<table border=\"1\" class=\"dataframe\">\n",
       "  <thead>\n",
       "    <tr style=\"text-align: right;\">\n",
       "      <th>Caracteristicas</th>\n",
       "      <th>Animal</th>\n",
       "      <th>Clasificación</th>\n",
       "      <th>Habitat</th>\n",
       "    </tr>\n",
       "    <tr>\n",
       "      <th>N°</th>\n",
       "      <th></th>\n",
       "      <th></th>\n",
       "      <th></th>\n",
       "    </tr>\n",
       "  </thead>\n",
       "  <tbody>\n",
       "    <tr>\n",
       "      <th>0</th>\n",
       "      <td>True</td>\n",
       "      <td>False</td>\n",
       "      <td>False</td>\n",
       "    </tr>\n",
       "    <tr>\n",
       "      <th>1</th>\n",
       "      <td>False</td>\n",
       "      <td>False</td>\n",
       "      <td>False</td>\n",
       "    </tr>\n",
       "    <tr>\n",
       "      <th>2</th>\n",
       "      <td>False</td>\n",
       "      <td>False</td>\n",
       "      <td>False</td>\n",
       "    </tr>\n",
       "    <tr>\n",
       "      <th>3</th>\n",
       "      <td>False</td>\n",
       "      <td>False</td>\n",
       "      <td>True</td>\n",
       "    </tr>\n",
       "    <tr>\n",
       "      <th>4</th>\n",
       "      <td>False</td>\n",
       "      <td>False</td>\n",
       "      <td>True</td>\n",
       "    </tr>\n",
       "  </tbody>\n",
       "</table>\n",
       "</div>"
      ],
      "text/plain": [
       "Caracteristicas  Animal  Clasificación  Habitat\n",
       "N°                                             \n",
       "0                  True          False    False\n",
       "1                 False          False    False\n",
       "2                 False          False    False\n",
       "3                 False          False     True\n",
       "4                 False          False     True"
      ]
     },
     "execution_count": 99,
     "metadata": {},
     "output_type": "execute_result"
    }
   ],
   "source": [
    "# funcion isin\n",
    "frame.isin(['Salvaje','Perro'])"
   ]
  },
  {
   "cell_type": "code",
   "execution_count": 102,
   "id": "4e958993-f554-49e8-babf-ebdddc796643",
   "metadata": {},
   "outputs": [
    {
     "data": {
      "text/html": [
       "<div>\n",
       "<style scoped>\n",
       "    .dataframe tbody tr th:only-of-type {\n",
       "        vertical-align: middle;\n",
       "    }\n",
       "\n",
       "    .dataframe tbody tr th {\n",
       "        vertical-align: top;\n",
       "    }\n",
       "\n",
       "    .dataframe thead th {\n",
       "        text-align: right;\n",
       "    }\n",
       "</style>\n",
       "<table border=\"1\" class=\"dataframe\">\n",
       "  <thead>\n",
       "    <tr style=\"text-align: right;\">\n",
       "      <th>Caracteristicas</th>\n",
       "      <th>Animal</th>\n",
       "      <th>Clasificación</th>\n",
       "      <th>Habitat</th>\n",
       "    </tr>\n",
       "    <tr>\n",
       "      <th>N°</th>\n",
       "      <th></th>\n",
       "      <th></th>\n",
       "      <th></th>\n",
       "    </tr>\n",
       "  </thead>\n",
       "  <tbody>\n",
       "    <tr>\n",
       "      <th>3</th>\n",
       "      <td>Loro</td>\n",
       "      <td>Ave</td>\n",
       "      <td>Salvaje</td>\n",
       "    </tr>\n",
       "  </tbody>\n",
       "</table>\n",
       "</div>"
      ],
      "text/plain": [
       "Caracteristicas Animal Clasificación  Habitat\n",
       "N°                                           \n",
       "3                 Loro           Ave  Salvaje"
      ]
     },
     "execution_count": 102,
     "metadata": {},
     "output_type": "execute_result"
    }
   ],
   "source": [
    "frame[frame.Clasificación == 'Ave']"
   ]
  },
  {
   "cell_type": "code",
   "execution_count": 103,
   "id": "52b51c65-0895-4ddb-b522-c46ac2642681",
   "metadata": {},
   "outputs": [
    {
     "data": {
      "text/html": [
       "<div>\n",
       "<style scoped>\n",
       "    .dataframe tbody tr th:only-of-type {\n",
       "        vertical-align: middle;\n",
       "    }\n",
       "\n",
       "    .dataframe tbody tr th {\n",
       "        vertical-align: top;\n",
       "    }\n",
       "\n",
       "    .dataframe thead th {\n",
       "        text-align: right;\n",
       "    }\n",
       "</style>\n",
       "<table border=\"1\" class=\"dataframe\">\n",
       "  <thead>\n",
       "    <tr style=\"text-align: right;\">\n",
       "      <th>Caracteristicas</th>\n",
       "      <th>Animal</th>\n",
       "      <th>Clasificación</th>\n",
       "      <th>Habitat</th>\n",
       "    </tr>\n",
       "    <tr>\n",
       "      <th>N°</th>\n",
       "      <th></th>\n",
       "      <th></th>\n",
       "      <th></th>\n",
       "    </tr>\n",
       "  </thead>\n",
       "  <tbody>\n",
       "    <tr>\n",
       "      <th>3</th>\n",
       "      <td>Loro</td>\n",
       "      <td>Ave</td>\n",
       "      <td>Salvaje</td>\n",
       "    </tr>\n",
       "    <tr>\n",
       "      <th>4</th>\n",
       "      <td>Tortuga</td>\n",
       "      <td>Reptil</td>\n",
       "      <td>Salvaje</td>\n",
       "    </tr>\n",
       "  </tbody>\n",
       "</table>\n",
       "</div>"
      ],
      "text/plain": [
       "Caracteristicas   Animal Clasificación  Habitat\n",
       "N°                                             \n",
       "3                   Loro           Ave  Salvaje\n",
       "4                Tortuga        Reptil  Salvaje"
      ]
     },
     "execution_count": 103,
     "metadata": {},
     "output_type": "execute_result"
    }
   ],
   "source": [
    "frame[(frame.Clasificación == 'Ave') | (frame.Clasificación=='Reptil')]"
   ]
  },
  {
   "cell_type": "code",
   "execution_count": 104,
   "id": "b272e6e8-cca4-4cf5-9a7a-4e88e9f1ffc7",
   "metadata": {},
   "outputs": [
    {
     "data": {
      "text/html": [
       "<div>\n",
       "<style scoped>\n",
       "    .dataframe tbody tr th:only-of-type {\n",
       "        vertical-align: middle;\n",
       "    }\n",
       "\n",
       "    .dataframe tbody tr th {\n",
       "        vertical-align: top;\n",
       "    }\n",
       "\n",
       "    .dataframe thead th {\n",
       "        text-align: right;\n",
       "    }\n",
       "</style>\n",
       "<table border=\"1\" class=\"dataframe\">\n",
       "  <thead>\n",
       "    <tr style=\"text-align: right;\">\n",
       "      <th>N°</th>\n",
       "      <th>0</th>\n",
       "      <th>1</th>\n",
       "      <th>2</th>\n",
       "      <th>3</th>\n",
       "      <th>4</th>\n",
       "    </tr>\n",
       "    <tr>\n",
       "      <th>Caracteristicas</th>\n",
       "      <th></th>\n",
       "      <th></th>\n",
       "      <th></th>\n",
       "      <th></th>\n",
       "      <th></th>\n",
       "    </tr>\n",
       "  </thead>\n",
       "  <tbody>\n",
       "    <tr>\n",
       "      <th>Animal</th>\n",
       "      <td>Perro</td>\n",
       "      <td>Gato</td>\n",
       "      <td>Raton</td>\n",
       "      <td>Loro</td>\n",
       "      <td>Tortuga</td>\n",
       "    </tr>\n",
       "    <tr>\n",
       "      <th>Clasificación</th>\n",
       "      <td>Mamifero</td>\n",
       "      <td>Mamifero</td>\n",
       "      <td>Mamifero</td>\n",
       "      <td>Ave</td>\n",
       "      <td>Reptil</td>\n",
       "    </tr>\n",
       "    <tr>\n",
       "      <th>Habitat</th>\n",
       "      <td>Domestico</td>\n",
       "      <td>Domestico</td>\n",
       "      <td>Calle</td>\n",
       "      <td>Salvaje</td>\n",
       "      <td>Salvaje</td>\n",
       "    </tr>\n",
       "  </tbody>\n",
       "</table>\n",
       "</div>"
      ],
      "text/plain": [
       "N°                       0          1         2        3        4\n",
       "Caracteristicas                                                  \n",
       "Animal               Perro       Gato     Raton     Loro  Tortuga\n",
       "Clasificación     Mamifero   Mamifero  Mamifero      Ave   Reptil\n",
       "Habitat          Domestico  Domestico     Calle  Salvaje  Salvaje"
      ]
     },
     "execution_count": 104,
     "metadata": {},
     "output_type": "execute_result"
    }
   ],
   "source": [
    "# Transposición de un dataframe, filas se convierten en columnas\n",
    "frame.T"
   ]
  },
  {
   "cell_type": "code",
   "execution_count": 105,
   "id": "7262eff0-d4e2-46b1-b5e4-085b65f1f1bf",
   "metadata": {},
   "outputs": [
    {
     "data": {
      "text/html": [
       "<div>\n",
       "<style scoped>\n",
       "    .dataframe tbody tr th:only-of-type {\n",
       "        vertical-align: middle;\n",
       "    }\n",
       "\n",
       "    .dataframe tbody tr th {\n",
       "        vertical-align: top;\n",
       "    }\n",
       "\n",
       "    .dataframe thead th {\n",
       "        text-align: right;\n",
       "    }\n",
       "</style>\n",
       "<table border=\"1\" class=\"dataframe\">\n",
       "  <thead>\n",
       "    <tr style=\"text-align: right;\">\n",
       "      <th>Caracteristicas</th>\n",
       "      <th>Animal</th>\n",
       "      <th>Clasificación</th>\n",
       "      <th>Habitat</th>\n",
       "    </tr>\n",
       "    <tr>\n",
       "      <th>N°</th>\n",
       "      <th></th>\n",
       "      <th></th>\n",
       "      <th></th>\n",
       "    </tr>\n",
       "  </thead>\n",
       "  <tbody>\n",
       "    <tr>\n",
       "      <th>0</th>\n",
       "      <td>Perro</td>\n",
       "      <td>Mamifero</td>\n",
       "      <td>Domestico</td>\n",
       "    </tr>\n",
       "    <tr>\n",
       "      <th>2</th>\n",
       "      <td>Raton</td>\n",
       "      <td>Mamifero</td>\n",
       "      <td>Calle</td>\n",
       "    </tr>\n",
       "    <tr>\n",
       "      <th>4</th>\n",
       "      <td>Tortuga</td>\n",
       "      <td>Reptil</td>\n",
       "      <td>Salvaje</td>\n",
       "    </tr>\n",
       "  </tbody>\n",
       "</table>\n",
       "</div>"
      ],
      "text/plain": [
       "Caracteristicas   Animal Clasificación    Habitat\n",
       "N°                                               \n",
       "0                  Perro      Mamifero  Domestico\n",
       "2                  Raton      Mamifero      Calle\n",
       "4                Tortuga        Reptil    Salvaje"
      ]
     },
     "execution_count": 105,
     "metadata": {},
     "output_type": "execute_result"
    }
   ],
   "source": [
    "# Remover filas\n",
    "frame3 = frame.drop([1,3])\n",
    "frame3"
   ]
  },
  {
   "cell_type": "code",
   "execution_count": 106,
   "id": "86e530d0-4b72-41a7-a35c-740afec46155",
   "metadata": {},
   "outputs": [
    {
     "data": {
      "text/html": [
       "<div>\n",
       "<style scoped>\n",
       "    .dataframe tbody tr th:only-of-type {\n",
       "        vertical-align: middle;\n",
       "    }\n",
       "\n",
       "    .dataframe tbody tr th {\n",
       "        vertical-align: top;\n",
       "    }\n",
       "\n",
       "    .dataframe thead th {\n",
       "        text-align: right;\n",
       "    }\n",
       "</style>\n",
       "<table border=\"1\" class=\"dataframe\">\n",
       "  <thead>\n",
       "    <tr style=\"text-align: right;\">\n",
       "      <th>Caracteristicas</th>\n",
       "      <th>Animal</th>\n",
       "      <th>Clasificación</th>\n",
       "      <th>Habitat</th>\n",
       "    </tr>\n",
       "    <tr>\n",
       "      <th>N°</th>\n",
       "      <th></th>\n",
       "      <th></th>\n",
       "      <th></th>\n",
       "    </tr>\n",
       "  </thead>\n",
       "  <tbody>\n",
       "    <tr>\n",
       "      <th>0</th>\n",
       "      <td>Perro</td>\n",
       "      <td>Mamifero</td>\n",
       "      <td>Domestico</td>\n",
       "    </tr>\n",
       "    <tr>\n",
       "      <th>1</th>\n",
       "      <td>Gato</td>\n",
       "      <td>Mamifero</td>\n",
       "      <td>Domestico</td>\n",
       "    </tr>\n",
       "    <tr>\n",
       "      <th>2</th>\n",
       "      <td>Raton</td>\n",
       "      <td>Mamifero</td>\n",
       "      <td>Calle</td>\n",
       "    </tr>\n",
       "    <tr>\n",
       "      <th>3</th>\n",
       "      <td>Loro</td>\n",
       "      <td>Ave</td>\n",
       "      <td>Salvaje</td>\n",
       "    </tr>\n",
       "    <tr>\n",
       "      <th>4</th>\n",
       "      <td>Tortuga</td>\n",
       "      <td>Reptil</td>\n",
       "      <td>Salvaje</td>\n",
       "    </tr>\n",
       "  </tbody>\n",
       "</table>\n",
       "</div>"
      ],
      "text/plain": [
       "Caracteristicas   Animal Clasificación    Habitat\n",
       "N°                                               \n",
       "0                  Perro      Mamifero  Domestico\n",
       "1                   Gato      Mamifero  Domestico\n",
       "2                  Raton      Mamifero      Calle\n",
       "3                   Loro           Ave    Salvaje\n",
       "4                Tortuga        Reptil    Salvaje"
      ]
     },
     "execution_count": 106,
     "metadata": {},
     "output_type": "execute_result"
    }
   ],
   "source": [
    "frame"
   ]
  },
  {
   "cell_type": "code",
   "execution_count": 107,
   "id": "3ab563eb-d9b0-4930-b801-3d8f011a8943",
   "metadata": {},
   "outputs": [
    {
     "data": {
      "text/plain": [
       "Caracteristicas\n",
       "Animal           Tortuga\n",
       "Clasificación     Reptil\n",
       "Habitat          Salvaje\n",
       "dtype: object"
      ]
     },
     "execution_count": 107,
     "metadata": {},
     "output_type": "execute_result"
    }
   ],
   "source": [
    "frame.max()"
   ]
  },
  {
   "cell_type": "code",
   "execution_count": 108,
   "id": "7abb5f6a-d00c-46c5-b910-bf01163277ba",
   "metadata": {},
   "outputs": [
    {
     "data": {
      "text/plain": [
       "Caracteristicas\n",
       "Animal            Gato\n",
       "Clasificación      Ave\n",
       "Habitat          Calle\n",
       "dtype: object"
      ]
     },
     "execution_count": 108,
     "metadata": {},
     "output_type": "execute_result"
    }
   ],
   "source": [
    "frame.min()"
   ]
  },
  {
   "cell_type": "code",
   "execution_count": 112,
   "id": "d85ee8ef-6a00-4c0a-bd15-fc80b632388f",
   "metadata": {},
   "outputs": [
    {
     "data": {
      "text/plain": [
       "Caracteristicas\n",
       "Animal                       PerroGatoRatonLoroTortuga\n",
       "Clasificación        MamiferoMamiferoMamiferoAveReptil\n",
       "Habitat          DomesticoDomesticoCalleSalvajeSalvaje\n",
       "dtype: object"
      ]
     },
     "execution_count": 112,
     "metadata": {},
     "output_type": "execute_result"
    }
   ],
   "source": [
    "frame.sum()"
   ]
  },
  {
   "cell_type": "code",
   "execution_count": 116,
   "id": "459d90c6-c95c-4fb0-ad5b-423f9a289756",
   "metadata": {},
   "outputs": [
    {
     "data": {
      "text/html": [
       "<div>\n",
       "<style scoped>\n",
       "    .dataframe tbody tr th:only-of-type {\n",
       "        vertical-align: middle;\n",
       "    }\n",
       "\n",
       "    .dataframe tbody tr th {\n",
       "        vertical-align: top;\n",
       "    }\n",
       "\n",
       "    .dataframe thead th {\n",
       "        text-align: right;\n",
       "    }\n",
       "</style>\n",
       "<table border=\"1\" class=\"dataframe\">\n",
       "  <thead>\n",
       "    <tr style=\"text-align: right;\">\n",
       "      <th>Caracteristicas</th>\n",
       "      <th>Animal</th>\n",
       "      <th>Clasificación</th>\n",
       "      <th>Habitat</th>\n",
       "      <th>Edad</th>\n",
       "    </tr>\n",
       "    <tr>\n",
       "      <th>N°</th>\n",
       "      <th></th>\n",
       "      <th></th>\n",
       "      <th></th>\n",
       "      <th></th>\n",
       "    </tr>\n",
       "  </thead>\n",
       "  <tbody>\n",
       "    <tr>\n",
       "      <th>0</th>\n",
       "      <td>Perro</td>\n",
       "      <td>Mamifero</td>\n",
       "      <td>Domestico</td>\n",
       "      <td>2</td>\n",
       "    </tr>\n",
       "    <tr>\n",
       "      <th>1</th>\n",
       "      <td>Gato</td>\n",
       "      <td>Mamifero</td>\n",
       "      <td>Domestico</td>\n",
       "      <td>7</td>\n",
       "    </tr>\n",
       "    <tr>\n",
       "      <th>2</th>\n",
       "      <td>Raton</td>\n",
       "      <td>Mamifero</td>\n",
       "      <td>Calle</td>\n",
       "      <td>8</td>\n",
       "    </tr>\n",
       "    <tr>\n",
       "      <th>3</th>\n",
       "      <td>Loro</td>\n",
       "      <td>Ave</td>\n",
       "      <td>Salvaje</td>\n",
       "      <td>6</td>\n",
       "    </tr>\n",
       "    <tr>\n",
       "      <th>4</th>\n",
       "      <td>Tortuga</td>\n",
       "      <td>Reptil</td>\n",
       "      <td>Salvaje</td>\n",
       "      <td>3</td>\n",
       "    </tr>\n",
       "  </tbody>\n",
       "</table>\n",
       "</div>"
      ],
      "text/plain": [
       "Caracteristicas   Animal Clasificación    Habitat  Edad\n",
       "N°                                                     \n",
       "0                  Perro      Mamifero  Domestico     2\n",
       "1                   Gato      Mamifero  Domestico     7\n",
       "2                  Raton      Mamifero      Calle     8\n",
       "3                   Loro           Ave    Salvaje     6\n",
       "4                Tortuga        Reptil    Salvaje     3"
      ]
     },
     "execution_count": 116,
     "metadata": {},
     "output_type": "execute_result"
    }
   ],
   "source": [
    "frame['Edad'] = [2,7,8,6,3]\n",
    "frame"
   ]
  },
  {
   "cell_type": "code",
   "execution_count": 117,
   "id": "d961a576-70db-41e8-adda-d564ea6cef8e",
   "metadata": {},
   "outputs": [
    {
     "data": {
      "text/plain": [
       "26"
      ]
     },
     "execution_count": 117,
     "metadata": {},
     "output_type": "execute_result"
    }
   ],
   "source": [
    "frame['Edad'].sum()"
   ]
  },
  {
   "cell_type": "code",
   "execution_count": 118,
   "id": "034e5aba-9e5f-4334-91fb-bd50ee26982d",
   "metadata": {},
   "outputs": [
    {
     "data": {
      "text/plain": [
       "5.2"
      ]
     },
     "execution_count": 118,
     "metadata": {},
     "output_type": "execute_result"
    }
   ],
   "source": [
    "# Calculo de la media\n",
    "frame['Edad'].mean()"
   ]
  },
  {
   "cell_type": "code",
   "execution_count": 120,
   "id": "f73ccaa1-192c-420d-8c7c-10402cfa60c4",
   "metadata": {},
   "outputs": [
    {
     "data": {
      "text/html": [
       "<div>\n",
       "<style scoped>\n",
       "    .dataframe tbody tr th:only-of-type {\n",
       "        vertical-align: middle;\n",
       "    }\n",
       "\n",
       "    .dataframe tbody tr th {\n",
       "        vertical-align: top;\n",
       "    }\n",
       "\n",
       "    .dataframe thead th {\n",
       "        text-align: right;\n",
       "    }\n",
       "</style>\n",
       "<table border=\"1\" class=\"dataframe\">\n",
       "  <thead>\n",
       "    <tr style=\"text-align: right;\">\n",
       "      <th>Caracteristicas</th>\n",
       "      <th>Edad</th>\n",
       "    </tr>\n",
       "  </thead>\n",
       "  <tbody>\n",
       "    <tr>\n",
       "      <th>count</th>\n",
       "      <td>5.000000</td>\n",
       "    </tr>\n",
       "    <tr>\n",
       "      <th>mean</th>\n",
       "      <td>5.200000</td>\n",
       "    </tr>\n",
       "    <tr>\n",
       "      <th>std</th>\n",
       "      <td>2.588436</td>\n",
       "    </tr>\n",
       "    <tr>\n",
       "      <th>min</th>\n",
       "      <td>2.000000</td>\n",
       "    </tr>\n",
       "    <tr>\n",
       "      <th>25%</th>\n",
       "      <td>3.000000</td>\n",
       "    </tr>\n",
       "    <tr>\n",
       "      <th>50%</th>\n",
       "      <td>6.000000</td>\n",
       "    </tr>\n",
       "    <tr>\n",
       "      <th>75%</th>\n",
       "      <td>7.000000</td>\n",
       "    </tr>\n",
       "    <tr>\n",
       "      <th>max</th>\n",
       "      <td>8.000000</td>\n",
       "    </tr>\n",
       "  </tbody>\n",
       "</table>\n",
       "</div>"
      ],
      "text/plain": [
       "Caracteristicas      Edad\n",
       "count            5.000000\n",
       "mean             5.200000\n",
       "std              2.588436\n",
       "min              2.000000\n",
       "25%              3.000000\n",
       "50%              6.000000\n",
       "75%              7.000000\n",
       "max              8.000000"
      ]
     },
     "execution_count": 120,
     "metadata": {},
     "output_type": "execute_result"
    }
   ],
   "source": [
    "frame.describe()"
   ]
  },
  {
   "cell_type": "markdown",
   "id": "ff1b7e54-c124-4658-a863-32016e767174",
   "metadata": {},
   "source": [
    "### Orderar por valor un dataframe"
   ]
  },
  {
   "cell_type": "code",
   "execution_count": 121,
   "id": "8e595bf4-a387-44ce-ab1b-6003e1dbd6ec",
   "metadata": {},
   "outputs": [
    {
     "data": {
      "text/html": [
       "<div>\n",
       "<style scoped>\n",
       "    .dataframe tbody tr th:only-of-type {\n",
       "        vertical-align: middle;\n",
       "    }\n",
       "\n",
       "    .dataframe tbody tr th {\n",
       "        vertical-align: top;\n",
       "    }\n",
       "\n",
       "    .dataframe thead th {\n",
       "        text-align: right;\n",
       "    }\n",
       "</style>\n",
       "<table border=\"1\" class=\"dataframe\">\n",
       "  <thead>\n",
       "    <tr style=\"text-align: right;\">\n",
       "      <th>Caracteristicas</th>\n",
       "      <th>Animal</th>\n",
       "      <th>Clasificación</th>\n",
       "      <th>Habitat</th>\n",
       "      <th>Edad</th>\n",
       "    </tr>\n",
       "    <tr>\n",
       "      <th>N°</th>\n",
       "      <th></th>\n",
       "      <th></th>\n",
       "      <th></th>\n",
       "      <th></th>\n",
       "    </tr>\n",
       "  </thead>\n",
       "  <tbody>\n",
       "    <tr>\n",
       "      <th>0</th>\n",
       "      <td>Perro</td>\n",
       "      <td>Mamifero</td>\n",
       "      <td>Domestico</td>\n",
       "      <td>2</td>\n",
       "    </tr>\n",
       "    <tr>\n",
       "      <th>1</th>\n",
       "      <td>Gato</td>\n",
       "      <td>Mamifero</td>\n",
       "      <td>Domestico</td>\n",
       "      <td>7</td>\n",
       "    </tr>\n",
       "    <tr>\n",
       "      <th>2</th>\n",
       "      <td>Raton</td>\n",
       "      <td>Mamifero</td>\n",
       "      <td>Calle</td>\n",
       "      <td>8</td>\n",
       "    </tr>\n",
       "    <tr>\n",
       "      <th>3</th>\n",
       "      <td>Loro</td>\n",
       "      <td>Ave</td>\n",
       "      <td>Salvaje</td>\n",
       "      <td>6</td>\n",
       "    </tr>\n",
       "    <tr>\n",
       "      <th>4</th>\n",
       "      <td>Tortuga</td>\n",
       "      <td>Reptil</td>\n",
       "      <td>Salvaje</td>\n",
       "      <td>3</td>\n",
       "    </tr>\n",
       "  </tbody>\n",
       "</table>\n",
       "</div>"
      ],
      "text/plain": [
       "Caracteristicas   Animal Clasificación    Habitat  Edad\n",
       "N°                                                     \n",
       "0                  Perro      Mamifero  Domestico     2\n",
       "1                   Gato      Mamifero  Domestico     7\n",
       "2                  Raton      Mamifero      Calle     8\n",
       "3                   Loro           Ave    Salvaje     6\n",
       "4                Tortuga        Reptil    Salvaje     3"
      ]
     },
     "execution_count": 121,
     "metadata": {},
     "output_type": "execute_result"
    }
   ],
   "source": [
    "frame.sort_index()"
   ]
  },
  {
   "cell_type": "code",
   "execution_count": 122,
   "id": "c8a6e65b-a663-4d0f-90dd-0006de4a7940",
   "metadata": {},
   "outputs": [
    {
     "data": {
      "text/html": [
       "<div>\n",
       "<style scoped>\n",
       "    .dataframe tbody tr th:only-of-type {\n",
       "        vertical-align: middle;\n",
       "    }\n",
       "\n",
       "    .dataframe tbody tr th {\n",
       "        vertical-align: top;\n",
       "    }\n",
       "\n",
       "    .dataframe thead th {\n",
       "        text-align: right;\n",
       "    }\n",
       "</style>\n",
       "<table border=\"1\" class=\"dataframe\">\n",
       "  <thead>\n",
       "    <tr style=\"text-align: right;\">\n",
       "      <th>Caracteristicas</th>\n",
       "      <th>Animal</th>\n",
       "      <th>Clasificación</th>\n",
       "      <th>Habitat</th>\n",
       "      <th>Edad</th>\n",
       "    </tr>\n",
       "    <tr>\n",
       "      <th>N°</th>\n",
       "      <th></th>\n",
       "      <th></th>\n",
       "      <th></th>\n",
       "      <th></th>\n",
       "    </tr>\n",
       "  </thead>\n",
       "  <tbody>\n",
       "    <tr>\n",
       "      <th>3</th>\n",
       "      <td>Loro</td>\n",
       "      <td>Ave</td>\n",
       "      <td>Salvaje</td>\n",
       "      <td>6</td>\n",
       "    </tr>\n",
       "    <tr>\n",
       "      <th>0</th>\n",
       "      <td>Perro</td>\n",
       "      <td>Mamifero</td>\n",
       "      <td>Domestico</td>\n",
       "      <td>2</td>\n",
       "    </tr>\n",
       "    <tr>\n",
       "      <th>1</th>\n",
       "      <td>Gato</td>\n",
       "      <td>Mamifero</td>\n",
       "      <td>Domestico</td>\n",
       "      <td>7</td>\n",
       "    </tr>\n",
       "    <tr>\n",
       "      <th>2</th>\n",
       "      <td>Raton</td>\n",
       "      <td>Mamifero</td>\n",
       "      <td>Calle</td>\n",
       "      <td>8</td>\n",
       "    </tr>\n",
       "    <tr>\n",
       "      <th>4</th>\n",
       "      <td>Tortuga</td>\n",
       "      <td>Reptil</td>\n",
       "      <td>Salvaje</td>\n",
       "      <td>3</td>\n",
       "    </tr>\n",
       "  </tbody>\n",
       "</table>\n",
       "</div>"
      ],
      "text/plain": [
       "Caracteristicas   Animal Clasificación    Habitat  Edad\n",
       "N°                                                     \n",
       "3                   Loro           Ave    Salvaje     6\n",
       "0                  Perro      Mamifero  Domestico     2\n",
       "1                   Gato      Mamifero  Domestico     7\n",
       "2                  Raton      Mamifero      Calle     8\n",
       "4                Tortuga        Reptil    Salvaje     3"
      ]
     },
     "execution_count": 122,
     "metadata": {},
     "output_type": "execute_result"
    }
   ],
   "source": [
    "frame.sort_values(by='Clasificación')"
   ]
  },
  {
   "cell_type": "code",
   "execution_count": 123,
   "id": "0f850b0e-7d91-4ae7-9c96-a6763710f3a5",
   "metadata": {},
   "outputs": [
    {
     "data": {
      "text/html": [
       "<div>\n",
       "<style scoped>\n",
       "    .dataframe tbody tr th:only-of-type {\n",
       "        vertical-align: middle;\n",
       "    }\n",
       "\n",
       "    .dataframe tbody tr th {\n",
       "        vertical-align: top;\n",
       "    }\n",
       "\n",
       "    .dataframe thead th {\n",
       "        text-align: right;\n",
       "    }\n",
       "</style>\n",
       "<table border=\"1\" class=\"dataframe\">\n",
       "  <thead>\n",
       "    <tr style=\"text-align: right;\">\n",
       "      <th>Caracteristicas</th>\n",
       "      <th>Animal</th>\n",
       "      <th>Clasificación</th>\n",
       "      <th>Habitat</th>\n",
       "      <th>Edad</th>\n",
       "    </tr>\n",
       "    <tr>\n",
       "      <th>N°</th>\n",
       "      <th></th>\n",
       "      <th></th>\n",
       "      <th></th>\n",
       "      <th></th>\n",
       "    </tr>\n",
       "  </thead>\n",
       "  <tbody>\n",
       "    <tr>\n",
       "      <th>0</th>\n",
       "      <td>Perro</td>\n",
       "      <td>Mamifero</td>\n",
       "      <td>Domestico</td>\n",
       "      <td>2</td>\n",
       "    </tr>\n",
       "    <tr>\n",
       "      <th>4</th>\n",
       "      <td>Tortuga</td>\n",
       "      <td>Reptil</td>\n",
       "      <td>Salvaje</td>\n",
       "      <td>3</td>\n",
       "    </tr>\n",
       "    <tr>\n",
       "      <th>3</th>\n",
       "      <td>Loro</td>\n",
       "      <td>Ave</td>\n",
       "      <td>Salvaje</td>\n",
       "      <td>6</td>\n",
       "    </tr>\n",
       "    <tr>\n",
       "      <th>1</th>\n",
       "      <td>Gato</td>\n",
       "      <td>Mamifero</td>\n",
       "      <td>Domestico</td>\n",
       "      <td>7</td>\n",
       "    </tr>\n",
       "    <tr>\n",
       "      <th>2</th>\n",
       "      <td>Raton</td>\n",
       "      <td>Mamifero</td>\n",
       "      <td>Calle</td>\n",
       "      <td>8</td>\n",
       "    </tr>\n",
       "  </tbody>\n",
       "</table>\n",
       "</div>"
      ],
      "text/plain": [
       "Caracteristicas   Animal Clasificación    Habitat  Edad\n",
       "N°                                                     \n",
       "0                  Perro      Mamifero  Domestico     2\n",
       "4                Tortuga        Reptil    Salvaje     3\n",
       "3                   Loro           Ave    Salvaje     6\n",
       "1                   Gato      Mamifero  Domestico     7\n",
       "2                  Raton      Mamifero      Calle     8"
      ]
     },
     "execution_count": 123,
     "metadata": {},
     "output_type": "execute_result"
    }
   ],
   "source": [
    "frame.sort_values(by='Edad')"
   ]
  },
  {
   "cell_type": "code",
   "execution_count": 124,
   "id": "7d3b2c69-c1a1-4e5d-8f77-9f1c513ed00a",
   "metadata": {},
   "outputs": [
    {
     "data": {
      "text/html": [
       "<div>\n",
       "<style scoped>\n",
       "    .dataframe tbody tr th:only-of-type {\n",
       "        vertical-align: middle;\n",
       "    }\n",
       "\n",
       "    .dataframe tbody tr th {\n",
       "        vertical-align: top;\n",
       "    }\n",
       "\n",
       "    .dataframe thead th {\n",
       "        text-align: right;\n",
       "    }\n",
       "</style>\n",
       "<table border=\"1\" class=\"dataframe\">\n",
       "  <thead>\n",
       "    <tr style=\"text-align: right;\">\n",
       "      <th>Caracteristicas</th>\n",
       "      <th>Animal</th>\n",
       "      <th>Clasificación</th>\n",
       "      <th>Habitat</th>\n",
       "      <th>Edad</th>\n",
       "    </tr>\n",
       "    <tr>\n",
       "      <th>N°</th>\n",
       "      <th></th>\n",
       "      <th></th>\n",
       "      <th></th>\n",
       "      <th></th>\n",
       "    </tr>\n",
       "  </thead>\n",
       "  <tbody>\n",
       "    <tr>\n",
       "      <th>3</th>\n",
       "      <td>Loro</td>\n",
       "      <td>Ave</td>\n",
       "      <td>Salvaje</td>\n",
       "      <td>6</td>\n",
       "    </tr>\n",
       "    <tr>\n",
       "      <th>0</th>\n",
       "      <td>Perro</td>\n",
       "      <td>Mamifero</td>\n",
       "      <td>Domestico</td>\n",
       "      <td>2</td>\n",
       "    </tr>\n",
       "    <tr>\n",
       "      <th>1</th>\n",
       "      <td>Gato</td>\n",
       "      <td>Mamifero</td>\n",
       "      <td>Domestico</td>\n",
       "      <td>7</td>\n",
       "    </tr>\n",
       "    <tr>\n",
       "      <th>2</th>\n",
       "      <td>Raton</td>\n",
       "      <td>Mamifero</td>\n",
       "      <td>Calle</td>\n",
       "      <td>8</td>\n",
       "    </tr>\n",
       "    <tr>\n",
       "      <th>4</th>\n",
       "      <td>Tortuga</td>\n",
       "      <td>Reptil</td>\n",
       "      <td>Salvaje</td>\n",
       "      <td>3</td>\n",
       "    </tr>\n",
       "  </tbody>\n",
       "</table>\n",
       "</div>"
      ],
      "text/plain": [
       "Caracteristicas   Animal Clasificación    Habitat  Edad\n",
       "N°                                                     \n",
       "3                   Loro           Ave    Salvaje     6\n",
       "0                  Perro      Mamifero  Domestico     2\n",
       "1                   Gato      Mamifero  Domestico     7\n",
       "2                  Raton      Mamifero      Calle     8\n",
       "4                Tortuga        Reptil    Salvaje     3"
      ]
     },
     "execution_count": 124,
     "metadata": {},
     "output_type": "execute_result"
    }
   ],
   "source": [
    "frame.sort_values(by=['Clasificación','Edad'])"
   ]
  },
  {
   "cell_type": "markdown",
   "id": "edd0af61-21ca-4979-a617-6a0f560018b1",
   "metadata": {},
   "source": [
    "### Manejo de NaN"
   ]
  },
  {
   "cell_type": "code",
   "execution_count": 125,
   "id": "8f2cbfc5-8c8d-4e7f-95d3-9793aad7a2fb",
   "metadata": {},
   "outputs": [
    {
     "data": {
      "text/plain": [
       "uno       0.0\n",
       "dos       1.0\n",
       "tres      2.0\n",
       "cuatro    3.0\n",
       "cinco     NaN\n",
       "seis      4.0\n",
       "siete     5.0\n",
       "ocho      6.0\n",
       "dtype: float64"
      ]
     },
     "execution_count": 125,
     "metadata": {},
     "output_type": "execute_result"
    }
   ],
   "source": [
    "SerieNA = pd.Series([0,1,2,3,np.NaN,4,5,6], index=['uno','dos','tres','cuatro','cinco','seis','siete','ocho'])\n",
    "SerieNA"
   ]
  },
  {
   "cell_type": "code",
   "execution_count": 126,
   "id": "ec4106b5-5377-4347-b47e-9b9ded5ce602",
   "metadata": {},
   "outputs": [
    {
     "data": {
      "text/plain": [
       "uno       0.0\n",
       "dos       1.0\n",
       "tres      2.0\n",
       "cuatro    3.0\n",
       "seis      4.0\n",
       "siete     5.0\n",
       "ocho      6.0\n",
       "dtype: float64"
      ]
     },
     "execution_count": 126,
     "metadata": {},
     "output_type": "execute_result"
    }
   ],
   "source": [
    "SerieNA.dropna()"
   ]
  },
  {
   "cell_type": "markdown",
   "id": "2288332e-6fa0-4d16-b7ba-6af7216147d7",
   "metadata": {},
   "source": [
    "En un dataframe, **si es un solo valor NaN se eliminara toda la fila o columna**, lo cual puede afectar el resto del modelo."
   ]
  },
  {
   "cell_type": "code",
   "execution_count": 127,
   "id": "3b40928d-dff4-4fe7-a287-b74a404331e1",
   "metadata": {},
   "outputs": [
    {
     "name": "stderr",
     "output_type": "stream",
     "text": [
      "C:\\Users\\Angelo Ortiz\\AppData\\Local\\Temp\\ipykernel_2628\\272623014.py:2: FutureWarning: ChainedAssignmentError: behaviour will change in pandas 3.0!\n",
      "You are setting values through chained assignment. Currently this works in certain cases, but when using Copy-on-Write (which will become the default behaviour in pandas 3.0) this will never work to update the original DataFrame or Series, because the intermediate object on which we are setting values will behave as a copy.\n",
      "A typical example is when you are setting values in a column of a DataFrame, like:\n",
      "\n",
      "df[\"col\"][row_indexer] = value\n",
      "\n",
      "Use `df.loc[row_indexer, \"col\"] = values` instead, to perform the assignment in a single step and ensure this keeps updating the original `df`.\n",
      "\n",
      "See the caveats in the documentation: https://pandas.pydata.org/pandas-docs/stable/user_guide/indexing.html#returning-a-view-versus-a-copy\n",
      "\n",
      "  frameNA['Edad'][2] = np.NaN\n",
      "C:\\Users\\Angelo Ortiz\\AppData\\Local\\Temp\\ipykernel_2628\\272623014.py:2: SettingWithCopyWarning: \n",
      "A value is trying to be set on a copy of a slice from a DataFrame\n",
      "\n",
      "See the caveats in the documentation: https://pandas.pydata.org/pandas-docs/stable/user_guide/indexing.html#returning-a-view-versus-a-copy\n",
      "  frameNA['Edad'][2] = np.NaN\n"
     ]
    },
    {
     "data": {
      "text/html": [
       "<div>\n",
       "<style scoped>\n",
       "    .dataframe tbody tr th:only-of-type {\n",
       "        vertical-align: middle;\n",
       "    }\n",
       "\n",
       "    .dataframe tbody tr th {\n",
       "        vertical-align: top;\n",
       "    }\n",
       "\n",
       "    .dataframe thead th {\n",
       "        text-align: right;\n",
       "    }\n",
       "</style>\n",
       "<table border=\"1\" class=\"dataframe\">\n",
       "  <thead>\n",
       "    <tr style=\"text-align: right;\">\n",
       "      <th>Caracteristicas</th>\n",
       "      <th>Animal</th>\n",
       "      <th>Clasificación</th>\n",
       "      <th>Habitat</th>\n",
       "      <th>Edad</th>\n",
       "    </tr>\n",
       "    <tr>\n",
       "      <th>N°</th>\n",
       "      <th></th>\n",
       "      <th></th>\n",
       "      <th></th>\n",
       "      <th></th>\n",
       "    </tr>\n",
       "  </thead>\n",
       "  <tbody>\n",
       "    <tr>\n",
       "      <th>0</th>\n",
       "      <td>Perro</td>\n",
       "      <td>Mamifero</td>\n",
       "      <td>Domestico</td>\n",
       "      <td>2.0</td>\n",
       "    </tr>\n",
       "    <tr>\n",
       "      <th>1</th>\n",
       "      <td>Gato</td>\n",
       "      <td>Mamifero</td>\n",
       "      <td>Domestico</td>\n",
       "      <td>7.0</td>\n",
       "    </tr>\n",
       "    <tr>\n",
       "      <th>2</th>\n",
       "      <td>Raton</td>\n",
       "      <td>Mamifero</td>\n",
       "      <td>Calle</td>\n",
       "      <td>NaN</td>\n",
       "    </tr>\n",
       "    <tr>\n",
       "      <th>3</th>\n",
       "      <td>Loro</td>\n",
       "      <td>Ave</td>\n",
       "      <td>Salvaje</td>\n",
       "      <td>6.0</td>\n",
       "    </tr>\n",
       "    <tr>\n",
       "      <th>4</th>\n",
       "      <td>Tortuga</td>\n",
       "      <td>Reptil</td>\n",
       "      <td>Salvaje</td>\n",
       "      <td>3.0</td>\n",
       "    </tr>\n",
       "  </tbody>\n",
       "</table>\n",
       "</div>"
      ],
      "text/plain": [
       "Caracteristicas   Animal Clasificación    Habitat  Edad\n",
       "N°                                                     \n",
       "0                  Perro      Mamifero  Domestico   2.0\n",
       "1                   Gato      Mamifero  Domestico   7.0\n",
       "2                  Raton      Mamifero      Calle   NaN\n",
       "3                   Loro           Ave    Salvaje   6.0\n",
       "4                Tortuga        Reptil    Salvaje   3.0"
      ]
     },
     "execution_count": 127,
     "metadata": {},
     "output_type": "execute_result"
    }
   ],
   "source": [
    "frameNA = frame\n",
    "frameNA['Edad'][2] = np.NaN\n",
    "frameNA"
   ]
  },
  {
   "cell_type": "code",
   "execution_count": 128,
   "id": "9c7cf071-20fa-4652-a606-5fd148445e39",
   "metadata": {},
   "outputs": [
    {
     "data": {
      "text/html": [
       "<div>\n",
       "<style scoped>\n",
       "    .dataframe tbody tr th:only-of-type {\n",
       "        vertical-align: middle;\n",
       "    }\n",
       "\n",
       "    .dataframe tbody tr th {\n",
       "        vertical-align: top;\n",
       "    }\n",
       "\n",
       "    .dataframe thead th {\n",
       "        text-align: right;\n",
       "    }\n",
       "</style>\n",
       "<table border=\"1\" class=\"dataframe\">\n",
       "  <thead>\n",
       "    <tr style=\"text-align: right;\">\n",
       "      <th>Caracteristicas</th>\n",
       "      <th>Animal</th>\n",
       "      <th>Clasificación</th>\n",
       "      <th>Habitat</th>\n",
       "      <th>Edad</th>\n",
       "    </tr>\n",
       "    <tr>\n",
       "      <th>N°</th>\n",
       "      <th></th>\n",
       "      <th></th>\n",
       "      <th></th>\n",
       "      <th></th>\n",
       "    </tr>\n",
       "  </thead>\n",
       "  <tbody>\n",
       "    <tr>\n",
       "      <th>0</th>\n",
       "      <td>Perro</td>\n",
       "      <td>Mamifero</td>\n",
       "      <td>Domestico</td>\n",
       "      <td>2.0</td>\n",
       "    </tr>\n",
       "    <tr>\n",
       "      <th>1</th>\n",
       "      <td>Gato</td>\n",
       "      <td>Mamifero</td>\n",
       "      <td>Domestico</td>\n",
       "      <td>7.0</td>\n",
       "    </tr>\n",
       "    <tr>\n",
       "      <th>3</th>\n",
       "      <td>Loro</td>\n",
       "      <td>Ave</td>\n",
       "      <td>Salvaje</td>\n",
       "      <td>6.0</td>\n",
       "    </tr>\n",
       "    <tr>\n",
       "      <th>4</th>\n",
       "      <td>Tortuga</td>\n",
       "      <td>Reptil</td>\n",
       "      <td>Salvaje</td>\n",
       "      <td>3.0</td>\n",
       "    </tr>\n",
       "  </tbody>\n",
       "</table>\n",
       "</div>"
      ],
      "text/plain": [
       "Caracteristicas   Animal Clasificación    Habitat  Edad\n",
       "N°                                                     \n",
       "0                  Perro      Mamifero  Domestico   2.0\n",
       "1                   Gato      Mamifero  Domestico   7.0\n",
       "3                   Loro           Ave    Salvaje   6.0\n",
       "4                Tortuga        Reptil    Salvaje   3.0"
      ]
     },
     "execution_count": 128,
     "metadata": {},
     "output_type": "execute_result"
    }
   ],
   "source": [
    "# Remover la fila\n",
    "frameNA.dropna()"
   ]
  },
  {
   "cell_type": "code",
   "execution_count": 129,
   "id": "41a4a455-99e3-446f-82d3-77284c406094",
   "metadata": {},
   "outputs": [
    {
     "data": {
      "text/html": [
       "<div>\n",
       "<style scoped>\n",
       "    .dataframe tbody tr th:only-of-type {\n",
       "        vertical-align: middle;\n",
       "    }\n",
       "\n",
       "    .dataframe tbody tr th {\n",
       "        vertical-align: top;\n",
       "    }\n",
       "\n",
       "    .dataframe thead th {\n",
       "        text-align: right;\n",
       "    }\n",
       "</style>\n",
       "<table border=\"1\" class=\"dataframe\">\n",
       "  <thead>\n",
       "    <tr style=\"text-align: right;\">\n",
       "      <th>Caracteristicas</th>\n",
       "      <th>Animal</th>\n",
       "      <th>Clasificación</th>\n",
       "      <th>Habitat</th>\n",
       "      <th>Edad</th>\n",
       "    </tr>\n",
       "    <tr>\n",
       "      <th>N°</th>\n",
       "      <th></th>\n",
       "      <th></th>\n",
       "      <th></th>\n",
       "      <th></th>\n",
       "    </tr>\n",
       "  </thead>\n",
       "  <tbody>\n",
       "    <tr>\n",
       "      <th>0</th>\n",
       "      <td>Perro</td>\n",
       "      <td>Mamifero</td>\n",
       "      <td>Domestico</td>\n",
       "      <td>2.0</td>\n",
       "    </tr>\n",
       "    <tr>\n",
       "      <th>1</th>\n",
       "      <td>Gato</td>\n",
       "      <td>Mamifero</td>\n",
       "      <td>Domestico</td>\n",
       "      <td>7.0</td>\n",
       "    </tr>\n",
       "    <tr>\n",
       "      <th>2</th>\n",
       "      <td>Raton</td>\n",
       "      <td>Mamifero</td>\n",
       "      <td>Calle</td>\n",
       "      <td>0.0</td>\n",
       "    </tr>\n",
       "    <tr>\n",
       "      <th>3</th>\n",
       "      <td>Loro</td>\n",
       "      <td>Ave</td>\n",
       "      <td>Salvaje</td>\n",
       "      <td>6.0</td>\n",
       "    </tr>\n",
       "    <tr>\n",
       "      <th>4</th>\n",
       "      <td>Tortuga</td>\n",
       "      <td>Reptil</td>\n",
       "      <td>Salvaje</td>\n",
       "      <td>3.0</td>\n",
       "    </tr>\n",
       "  </tbody>\n",
       "</table>\n",
       "</div>"
      ],
      "text/plain": [
       "Caracteristicas   Animal Clasificación    Habitat  Edad\n",
       "N°                                                     \n",
       "0                  Perro      Mamifero  Domestico   2.0\n",
       "1                   Gato      Mamifero  Domestico   7.0\n",
       "2                  Raton      Mamifero      Calle   0.0\n",
       "3                   Loro           Ave    Salvaje   6.0\n",
       "4                Tortuga        Reptil    Salvaje   3.0"
      ]
     },
     "execution_count": 129,
     "metadata": {},
     "output_type": "execute_result"
    }
   ],
   "source": [
    "# Sustituir el valor NaN por el valor de cero\n",
    "frameNA.fillna(0)"
   ]
  },
  {
   "cell_type": "markdown",
   "id": "c9743734-2cf2-4b37-913b-697af606e24f",
   "metadata": {},
   "source": [
    "## Exportar e Importar archivos a .csv"
   ]
  },
  {
   "cell_type": "code",
   "execution_count": 130,
   "id": "5dd1145b-5132-4693-9f53-bb73ab078658",
   "metadata": {},
   "outputs": [],
   "source": [
    "# Para guardar el dataframe en un archivo .csv usamos to_csv\n",
    "frameNA.to_csv('ejemplo.csv')"
   ]
  },
  {
   "cell_type": "code",
   "execution_count": 131,
   "id": "a7af44ea-a486-4bc6-bd35-8e6dace458b4",
   "metadata": {},
   "outputs": [],
   "source": [
    "frameNA.to_csv('ejemplo1.csv',sep=';')"
   ]
  },
  {
   "cell_type": "code",
   "execution_count": 132,
   "id": "7ddbdf99-6c12-4343-9cf8-68822aebdeb4",
   "metadata": {},
   "outputs": [],
   "source": [
    "frameNA.to_csv('ejemplo2.csv', index=False, header=False)"
   ]
  },
  {
   "cell_type": "markdown",
   "id": "da2cfa3b-2fa9-48b0-aa0d-2a4e12be7164",
   "metadata": {},
   "source": [
    "**Para mayor información de los diferentes parámetros de la función to_csv ver documentación en https://pandas.pydata.org/docs/reference/api/pandas.DataFrame.to_csv.html**"
   ]
  },
  {
   "cell_type": "code",
   "execution_count": 133,
   "id": "f9280f98-3e14-4eaf-9243-622a285259e7",
   "metadata": {},
   "outputs": [],
   "source": [
    "# Para leer un archivo csv lo hacemos con la función read_csv() de Pandas\n",
    "frameFromCSV = pd.read_csv('ejemplo2.csv')"
   ]
  },
  {
   "cell_type": "code",
   "execution_count": 134,
   "id": "2622f08e-1ef9-4e1f-9e12-64d259decdf9",
   "metadata": {},
   "outputs": [],
   "source": [
    "# Para leer un archivo csv lo hacemos con la función read_csv() de Pandas\n",
    "frameFromCSV2 = pd.read_csv('ejemplo1.csv', sep=';')"
   ]
  },
  {
   "cell_type": "code",
   "execution_count": 136,
   "id": "815aaafe-a53d-4bce-9d63-abb8b2fc0d57",
   "metadata": {},
   "outputs": [
    {
     "data": {
      "text/html": [
       "<div>\n",
       "<style scoped>\n",
       "    .dataframe tbody tr th:only-of-type {\n",
       "        vertical-align: middle;\n",
       "    }\n",
       "\n",
       "    .dataframe tbody tr th {\n",
       "        vertical-align: top;\n",
       "    }\n",
       "\n",
       "    .dataframe thead th {\n",
       "        text-align: right;\n",
       "    }\n",
       "</style>\n",
       "<table border=\"1\" class=\"dataframe\">\n",
       "  <thead>\n",
       "    <tr style=\"text-align: right;\">\n",
       "      <th></th>\n",
       "      <th>Perro</th>\n",
       "      <th>Mamifero</th>\n",
       "      <th>Domestico</th>\n",
       "      <th>2.0</th>\n",
       "    </tr>\n",
       "  </thead>\n",
       "  <tbody>\n",
       "    <tr>\n",
       "      <th>0</th>\n",
       "      <td>Gato</td>\n",
       "      <td>Mamifero</td>\n",
       "      <td>Domestico</td>\n",
       "      <td>7.0</td>\n",
       "    </tr>\n",
       "    <tr>\n",
       "      <th>1</th>\n",
       "      <td>Raton</td>\n",
       "      <td>Mamifero</td>\n",
       "      <td>Calle</td>\n",
       "      <td>NaN</td>\n",
       "    </tr>\n",
       "    <tr>\n",
       "      <th>2</th>\n",
       "      <td>Loro</td>\n",
       "      <td>Ave</td>\n",
       "      <td>Salvaje</td>\n",
       "      <td>6.0</td>\n",
       "    </tr>\n",
       "    <tr>\n",
       "      <th>3</th>\n",
       "      <td>Tortuga</td>\n",
       "      <td>Reptil</td>\n",
       "      <td>Salvaje</td>\n",
       "      <td>3.0</td>\n",
       "    </tr>\n",
       "  </tbody>\n",
       "</table>\n",
       "</div>"
      ],
      "text/plain": [
       "     Perro  Mamifero  Domestico  2.0\n",
       "0     Gato  Mamifero  Domestico  7.0\n",
       "1    Raton  Mamifero      Calle  NaN\n",
       "2     Loro       Ave    Salvaje  6.0\n",
       "3  Tortuga    Reptil    Salvaje  3.0"
      ]
     },
     "execution_count": 136,
     "metadata": {},
     "output_type": "execute_result"
    }
   ],
   "source": [
    "frameFromCSV"
   ]
  },
  {
   "cell_type": "code",
   "execution_count": 135,
   "id": "15a5d68b-448e-4a25-857d-2d5138b47c21",
   "metadata": {},
   "outputs": [
    {
     "data": {
      "text/html": [
       "<div>\n",
       "<style scoped>\n",
       "    .dataframe tbody tr th:only-of-type {\n",
       "        vertical-align: middle;\n",
       "    }\n",
       "\n",
       "    .dataframe tbody tr th {\n",
       "        vertical-align: top;\n",
       "    }\n",
       "\n",
       "    .dataframe thead th {\n",
       "        text-align: right;\n",
       "    }\n",
       "</style>\n",
       "<table border=\"1\" class=\"dataframe\">\n",
       "  <thead>\n",
       "    <tr style=\"text-align: right;\">\n",
       "      <th></th>\n",
       "      <th>N°</th>\n",
       "      <th>Animal</th>\n",
       "      <th>Clasificación</th>\n",
       "      <th>Habitat</th>\n",
       "      <th>Edad</th>\n",
       "    </tr>\n",
       "  </thead>\n",
       "  <tbody>\n",
       "    <tr>\n",
       "      <th>0</th>\n",
       "      <td>0</td>\n",
       "      <td>Perro</td>\n",
       "      <td>Mamifero</td>\n",
       "      <td>Domestico</td>\n",
       "      <td>2.0</td>\n",
       "    </tr>\n",
       "    <tr>\n",
       "      <th>1</th>\n",
       "      <td>1</td>\n",
       "      <td>Gato</td>\n",
       "      <td>Mamifero</td>\n",
       "      <td>Domestico</td>\n",
       "      <td>7.0</td>\n",
       "    </tr>\n",
       "    <tr>\n",
       "      <th>2</th>\n",
       "      <td>2</td>\n",
       "      <td>Raton</td>\n",
       "      <td>Mamifero</td>\n",
       "      <td>Calle</td>\n",
       "      <td>NaN</td>\n",
       "    </tr>\n",
       "    <tr>\n",
       "      <th>3</th>\n",
       "      <td>3</td>\n",
       "      <td>Loro</td>\n",
       "      <td>Ave</td>\n",
       "      <td>Salvaje</td>\n",
       "      <td>6.0</td>\n",
       "    </tr>\n",
       "    <tr>\n",
       "      <th>4</th>\n",
       "      <td>4</td>\n",
       "      <td>Tortuga</td>\n",
       "      <td>Reptil</td>\n",
       "      <td>Salvaje</td>\n",
       "      <td>3.0</td>\n",
       "    </tr>\n",
       "  </tbody>\n",
       "</table>\n",
       "</div>"
      ],
      "text/plain": [
       "   N°   Animal Clasificación    Habitat  Edad\n",
       "0   0    Perro      Mamifero  Domestico   2.0\n",
       "1   1     Gato      Mamifero  Domestico   7.0\n",
       "2   2    Raton      Mamifero      Calle   NaN\n",
       "3   3     Loro           Ave    Salvaje   6.0\n",
       "4   4  Tortuga        Reptil    Salvaje   3.0"
      ]
     },
     "execution_count": 135,
     "metadata": {},
     "output_type": "execute_result"
    }
   ],
   "source": [
    "frameFromCSV2"
   ]
  },
  {
   "cell_type": "markdown",
   "id": "7bc8c5ae-9ab7-4849-9f00-add4682c7c61",
   "metadata": {},
   "source": [
    "### Exportar e importar archivos en .txt"
   ]
  },
  {
   "cell_type": "markdown",
   "id": "7ba1c13c-742f-46d1-b282-ffe593c6656f",
   "metadata": {},
   "source": [
    "\n",
    "Se trabaja de manera similar que con los archivos .csv. En el momento de leer o escribir se debe tener en cuenta el caracter separador.\n",
    "\n",
    "Entre los más comunes tenemos:\n",
    "\n",
    ".  --> Caracter simple pero no una linea nueva (, ; . -)\n",
    "\n",
    "\\d --> Un digito\n",
    "\n",
    "\\s --> Espacio en blanco\n",
    "\n",
    "\\n --> Nueva linea de caracteres\n",
    "\n",
    "\\t --> tabulación\n",
    "\n",
    "\\uxxxx --> Caracter Unicode con su valor xxxx en Hexadecimal"
   ]
  },
  {
   "cell_type": "code",
   "execution_count": 137,
   "id": "3ad0ac0c-f40f-4576-9008-744fc6383cac",
   "metadata": {},
   "outputs": [],
   "source": [
    "# Escritura con la función to_csv()\n",
    "frameFromCSV.to_csv('archivoEnTXT.txt', header=True, index=False, sep='\\t', mode='a')"
   ]
  },
  {
   "cell_type": "code",
   "execution_count": 138,
   "id": "a4779738-2ba1-46c7-9ee2-fa45dd5b3386",
   "metadata": {},
   "outputs": [
    {
     "data": {
      "text/html": [
       "<div>\n",
       "<style scoped>\n",
       "    .dataframe tbody tr th:only-of-type {\n",
       "        vertical-align: middle;\n",
       "    }\n",
       "\n",
       "    .dataframe tbody tr th {\n",
       "        vertical-align: top;\n",
       "    }\n",
       "\n",
       "    .dataframe thead th {\n",
       "        text-align: right;\n",
       "    }\n",
       "</style>\n",
       "<table border=\"1\" class=\"dataframe\">\n",
       "  <thead>\n",
       "    <tr style=\"text-align: right;\">\n",
       "      <th></th>\n",
       "      <th>Perro</th>\n",
       "      <th>Mamifero</th>\n",
       "      <th>Domestico</th>\n",
       "      <th>2.0</th>\n",
       "    </tr>\n",
       "  </thead>\n",
       "  <tbody>\n",
       "    <tr>\n",
       "      <th>0</th>\n",
       "      <td>Gato</td>\n",
       "      <td>Mamifero</td>\n",
       "      <td>Domestico</td>\n",
       "      <td>7.0</td>\n",
       "    </tr>\n",
       "    <tr>\n",
       "      <th>1</th>\n",
       "      <td>Raton</td>\n",
       "      <td>Mamifero</td>\n",
       "      <td>Calle</td>\n",
       "      <td>NaN</td>\n",
       "    </tr>\n",
       "    <tr>\n",
       "      <th>2</th>\n",
       "      <td>Loro</td>\n",
       "      <td>Ave</td>\n",
       "      <td>Salvaje</td>\n",
       "      <td>6.0</td>\n",
       "    </tr>\n",
       "    <tr>\n",
       "      <th>3</th>\n",
       "      <td>Tortuga</td>\n",
       "      <td>Reptil</td>\n",
       "      <td>Salvaje</td>\n",
       "      <td>3.0</td>\n",
       "    </tr>\n",
       "  </tbody>\n",
       "</table>\n",
       "</div>"
      ],
      "text/plain": [
       "     Perro  Mamifero  Domestico  2.0\n",
       "0     Gato  Mamifero  Domestico  7.0\n",
       "1    Raton  Mamifero      Calle  NaN\n",
       "2     Loro       Ave    Salvaje  6.0\n",
       "3  Tortuga    Reptil    Salvaje  3.0"
      ]
     },
     "execution_count": 138,
     "metadata": {},
     "output_type": "execute_result"
    }
   ],
   "source": [
    "# Lectura \n",
    "frameFromTXT = pd.read_csv('archivoEnTXT.txt', sep='\\t')\n",
    "frameFromTXT"
   ]
  },
  {
   "cell_type": "code",
   "execution_count": 139,
   "id": "39f0a063-d101-4451-a223-02f595b2b76c",
   "metadata": {},
   "outputs": [
    {
     "data": {
      "text/html": [
       "<div>\n",
       "<style scoped>\n",
       "    .dataframe tbody tr th:only-of-type {\n",
       "        vertical-align: middle;\n",
       "    }\n",
       "\n",
       "    .dataframe tbody tr th {\n",
       "        vertical-align: top;\n",
       "    }\n",
       "\n",
       "    .dataframe thead th {\n",
       "        text-align: right;\n",
       "    }\n",
       "</style>\n",
       "<table border=\"1\" class=\"dataframe\">\n",
       "  <thead>\n",
       "    <tr style=\"text-align: right;\">\n",
       "      <th></th>\n",
       "      <th>Perro</th>\n",
       "      <th>Mamifero</th>\n",
       "      <th>Domestico</th>\n",
       "      <th>2.0</th>\n",
       "    </tr>\n",
       "  </thead>\n",
       "  <tbody>\n",
       "    <tr>\n",
       "      <th>0</th>\n",
       "      <td>Gato</td>\n",
       "      <td>Mamifero</td>\n",
       "      <td>Domestico</td>\n",
       "      <td>7.0</td>\n",
       "    </tr>\n",
       "    <tr>\n",
       "      <th>1</th>\n",
       "      <td>Raton</td>\n",
       "      <td>Mamifero</td>\n",
       "      <td>Calle</td>\n",
       "      <td>NaN</td>\n",
       "    </tr>\n",
       "    <tr>\n",
       "      <th>2</th>\n",
       "      <td>Loro</td>\n",
       "      <td>Ave</td>\n",
       "      <td>Salvaje</td>\n",
       "      <td>6.0</td>\n",
       "    </tr>\n",
       "    <tr>\n",
       "      <th>3</th>\n",
       "      <td>Tortuga</td>\n",
       "      <td>Reptil</td>\n",
       "      <td>Salvaje</td>\n",
       "      <td>3.0</td>\n",
       "    </tr>\n",
       "  </tbody>\n",
       "</table>\n",
       "</div>"
      ],
      "text/plain": [
       "     Perro  Mamifero  Domestico  2.0\n",
       "0     Gato  Mamifero  Domestico  7.0\n",
       "1    Raton  Mamifero      Calle  NaN\n",
       "2     Loro       Ave    Salvaje  6.0\n",
       "3  Tortuga    Reptil    Salvaje  3.0"
      ]
     },
     "execution_count": 139,
     "metadata": {},
     "output_type": "execute_result"
    }
   ],
   "source": [
    "# Otra forma\n",
    "pd.read_table('archivoEnTXT.txt', sep='\\t', engine='python')"
   ]
  },
  {
   "cell_type": "markdown",
   "id": "0714d0d3-02c8-4f5c-b58a-5d328d2b63fc",
   "metadata": {},
   "source": [
    "## Tarea Moral\n",
    "\n",
    "1. Buscar en Internet fuentes de datos estucturados similares a una tabla de un tema de su interes (libre).\r\n",
    "\r\n",
    "2. Tome estos datos, descarguelos en txt o csv y carguelos en un datafram\r\n",
    "\r\n",
    "\r\n",
    "3. Aplique la función describe() para conocer los datos estadisticos de las columnas que apque.\r\n",
    "\r\n",
    "\r\n",
    "4. Revise los datos, verifique si existen datos de tipo NaN y transformelos sustituyendolos por un var de 0.\r\n",
    "\r\n",
    "\r\n",
    "5. Realice minimo 3 filtros cada uno con 3 condiciones minimas sobre alguna columna especifica de su interes. (función AND -> &, Funcn OR -> |)\r\n",
    "\r\n",
    "\r\n",
    "6. Guarde los resultados anteriores en diferentes dataframes. Exporte en excel, txt y csv los resultos obtenidos.\r\n",
    "\r\n",
    "\r\n",
    "7. Adicional va guardar los resultados en formato json (pista: revisar función to_json) y luego los va a cargar de nuevo en un el formato json que viene. Conviertalo en un diccionartio (dict) y comprenda la relación llave:valor existente. Para este punto es necesario que investigue como se carga json, como se pasa a un diccionario (puede usar json_normalize() por ejemplo) y que libreas se requieren.\r\n",
    "\r\n",
    "\r\n",
    "8. Entregar los resultados en un Notebook con todos los pasos ejecutados. Indicar de donde se tomo el datasource e incluir el link. El minimo de columnas a trabajar seran 10 y máximo 20, el numero de filas no tiene restricción pero se aconseja que sea grande para ver las funcionalidades que tiene Pandas.\r\n",
    "\r\n",
    "\r\n",
    "Algunos links posibe- s para el datasource:\r\n",
    "\r\n",
    "\r\n",
    "http\n",
    "- //www.kaggle.com/datasets\r\n",
    "\r\n",
    "https://registry.opendata.aws/#h\n",
    "- p://aws.amazon.com/datasets\n",
    "- \r\n",
    "https://www.healthdata.gov/\r\n",
    "\r\n",
    "https://www.pro-football-reference.com/years/2020/draft.htm"
   ]
  },
  {
   "cell_type": "code",
   "execution_count": null,
   "id": "a6747beb-5456-4fdf-bd82-109240087a75",
   "metadata": {},
   "outputs": [],
   "source": []
  },
  {
   "cell_type": "code",
   "execution_count": null,
   "id": "4440e430-8652-4e2e-ba19-708a7254743f",
   "metadata": {},
   "outputs": [],
   "source": []
  }
 ],
 "metadata": {
  "kernelspec": {
   "display_name": "Python 3 (ipykernel)",
   "language": "python",
   "name": "python3"
  },
  "language_info": {
   "codemirror_mode": {
    "name": "ipython",
    "version": 3
   },
   "file_extension": ".py",
   "mimetype": "text/x-python",
   "name": "python",
   "nbconvert_exporter": "python",
   "pygments_lexer": "ipython3",
   "version": "3.12.4"
  }
 },
 "nbformat": 4,
 "nbformat_minor": 5
}
