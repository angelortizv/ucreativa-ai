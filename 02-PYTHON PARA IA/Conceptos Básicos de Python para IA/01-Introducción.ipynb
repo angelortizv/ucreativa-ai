{
 "cells": [
  {
   "cell_type": "markdown",
   "metadata": {},
   "source": [
    "<br />\n",
    "<div align=\"center\">\n",
    "  <a>\n",
    "    <img src=\"https://biblioteca.aurens.com/universidades/colleges/logos/LaUdelFuturo.png\" alt=\"Logo\" width=\"30%\">\n",
    "  </a>\n",
    "</div>\n",
    "\n",
    "\n",
    "## 🐍 Conceptos Básicos de Python para IA\n",
    "\n",
    "- 📌 Curso: **Python para Inteligencia Artificial - Universidad Creativa**\n",
    "- 👨‍🏫 Profesor: **Angelo Ortiz Vega**\n",
    "- 📖 Descripción: *Este curso está diseñado para proporcionar una base sólida en Python con un enfoque en aplicaciones de Inteligencia Artificial (IA). Aprenderemos desde los fundamentos del lenguaje hasta estructuras avanzadas que facilitan el desarrollo de modelos de IA.*\n",
    "\n",
    "### 🎯 Objetivos del Curso\n",
    "\n",
    "- Comprender los fundamentos de Python (sintaxis, estructuras de datos, funciones).\n",
    "- Aprender a manipular datos con bibliotecas clave como NumPy y Pandas.\n",
    "- Explorar conceptos básicos de IA y Machine Learning en Python.\n",
    "- Implementar pequeños proyectos prácticos para reforzar el aprendizaje.\n",
    "  \n",
    "### 📂 Contenido\n",
    "\n",
    "- Introducción a Python: Variables, tipos de datos, operadores.\n",
    "- Estructuras de Control: Condiciones (if), bucles (for, while).\n",
    "- Funciones y Módulos: Creación y reutilización de código.\n",
    "- Manejo de Datos: Listas, diccionarios, NumPy, Pandas.\n",
    "- Programación Orientada a Objetos (POO): Clases y objetos en Python.\n",
    "- Introducción a IA: Primeros pasos con Scikit-learn.\n",
    "\n",
    "### 🛠 Requisitos\n",
    "\n",
    "- Conocimientos básicos de programación (deseable).\n",
    "- Instalación de Python 3.x y Jupyter Notebook.\n",
    "- Bibliotecas recomendadas: numpy, pandas, matplotlib, scikit-learn.\n",
    "\n",
    "Repositorio Completo: [ucreativa-ai/Conceptos Básicos de Python para IA](https://github.com/angelortizv/ucreativa-ai/tree/main/02-PYTHON%20PARA%20IA)"
   ]
  },
  {
   "cell_type": "markdown",
   "metadata": {},
   "source": [
    "<h1>Python - ¡Escribiendo Tu Primer Código en Python!</h1>"
   ]
  },
  {
   "cell_type": "markdown",
   "metadata": {},
   "source": [
    "<p><strong>¡Bienvenido!</strong> Este cuaderno te va a mostrar lo esencial del lenguaje de programación Python. Aunque la información que presentamos aquí es bastante elemental, es una base importante que te ayudará a leer y escribir código Python. Al finalizar este cuaderno habrás aprendido los fundamentos de Python, incluyendo cómo escribir comandos sencillos, comprendiendo algunos tipos básicos y sabiendo cómo realizar operaciones simples sobre ellos.</p> "
   ]
  },
  {
   "cell_type": "markdown",
   "metadata": {},
   "source": [
    "<h2 id=\"hello\">Dile \"Hola\" al mundo en Python</h2>"
   ]
  },
  {
   "cell_type": "markdown",
   "metadata": {},
   "source": [
    "Cuando se aprende un nuevo lenguaje de programación, se acostumbra a empezar con un ejemplo de \"hola mundo\". A pesar de lo simple que es, esta línea de código asegurará que sepamos cómo escribir una cadena de texto en la salida y cómo ejecutar el código de las celdas de un cuaderno."
   ]
  },
  {
   "cell_type": "markdown",
   "metadata": {},
   "source": [
    "<hr/>\n",
    "<div class=\"alert alert-success alertsuccess\" style=\"margin-top: 20px\">\n",
    "[Idea]: Para ejecutar el código Python de la celda de código de debajo, haz clic en la celda para seleccionarla y pulsa <kbd>Mayúsculas</kbd> + <kbd>Enter</kbd>.\n",
    "</div>\n",
    "<hr/>"
   ]
  },
  {
   "cell_type": "code",
   "execution_count": 1,
   "metadata": {},
   "outputs": [
    {
     "name": "stdout",
     "output_type": "stream",
     "text": [
      "¡Hola Python!\n"
     ]
    }
   ],
   "source": [
    "# Intenta tu primer mensaje en Python\n",
    "\n",
    "print('¡Hola Python!')"
   ]
  },
  {
   "cell_type": "markdown",
   "metadata": {},
   "source": [
    "Tras ejecutar la celda de arriba, deberías ver que Python imprime <code>¡Hola Python!</code>. ¡Enhorabuena por ejecutar tu primer código en Python!"
   ]
  },
  {
   "cell_type": "markdown",
   "metadata": {},
   "source": [
    "<hr/>\n",
    "<div class=\"alert alert-success alertsuccess\" style=\"margin-top: 20px\">\n",
    "    [Idea:] <code>print()</code> es una función. Pasaste la cadena <code>'¡Hola Python!'</code> como argumento para indicar a Python lo que debía imprimir.\n",
    "</div>\n",
    "<hr/>"
   ]
  },
  {
   "cell_type": "markdown",
   "metadata": {},
   "source": [
    "<h3 id=\"version\">¿Qué versión de Python estamos utilizando?</h3>"
   ]
  },
  {
   "cell_type": "markdown",
   "metadata": {},
   "source": [
    "<p>\n",
    "    Hoy en día existen dos versiones comunes en uso del lenguaje de programación Python: Python 2 y Python 3. La comunidad de Python ha decidido pasar de Python 2 a Python 3, y muchas bibliotecas populares han anunciado que ya no ofrecerán soporte para Python 2.\n",
    "</p>\n",
    "<p>\n",
    "    Como Python 3 es el futuro, en este curso lo vamos a utilizar de forma exclusiva. ¿Cómo sabemos que nuestro cuaderno se ejecuta bajo un tiempo de ejecución (runtime) de Python 3? Podemos mirar en la esquina superior derecha de este cuaderno y ver \"Python 3\".\n",
    "</p>\n",
    "<p>\n",
    "    También podemos preguntar directamente a Python y obtener una respuesta detallada. Intenta ejecutar el siguiente código:\n",
    "</p>"
   ]
  },
  {
   "cell_type": "code",
   "execution_count": 2,
   "metadata": {},
   "outputs": [
    {
     "name": "stdout",
     "output_type": "stream",
     "text": [
      "3.10.5 (tags/v3.10.5:f377153, Jun  6 2022, 16:14:13) [MSC v.1929 64 bit (AMD64)]\n"
     ]
    }
   ],
   "source": [
    "# Comprobar la Versión de Python\n",
    "\n",
    "import sys\n",
    "print(sys.version)"
   ]
  },
  {
   "cell_type": "markdown",
   "metadata": {},
   "source": [
    "<hr/>\n",
    "<div class=\"alert alert-success alertsuccess\" style=\"margin-top: 20px\">\n",
    "    [Idea:] <code>sys</code> es un módulo integrado que contiene muchos parámetros y funciones específicas del sistema, incluyendo la versión de Python en uso. Antes de utilizarlo, debemos importarlo (<code>import</code>) explícitamente.\n",
    "</div>\n",
    "<hr/>"
   ]
  },
  {
   "cell_type": "markdown",
   "metadata": {},
   "source": [
    "<h3 id=\"comments\">Escribir comentarios en Python</h3>"
   ]
  },
  {
   "cell_type": "markdown",
   "metadata": {},
   "source": [
    "<p>\n",
    "    Además de escribir código, ten en cuenta que siempre es una buena idea incluir comentarios en el. Ayudará a que los demás entiendan lo que intentabas lograr (la razón por la que escribiste un determinado fragmento de código). Esto no sólo sirve para que <strong>otras personas</strong> entiendan tu código, sino que también puede servir de recordatorio <strong>para ti</strong> cuando vuelvas a él semanas o meses después.</p>\n",
    "\n",
    "<p>\n",
    "    Para escribir comentarios en Python, usa el símbolo de almohadilla <code>#</code> antes de escribir el comentario. Cuando ejecutes el código, Python ignorará todo lo que vaya detrás de <code>#</code> en una determinada línea.\n",
    "</p>"
   ]
  },
  {
   "cell_type": "code",
   "execution_count": 3,
   "metadata": {},
   "outputs": [
    {
     "name": "stdout",
     "output_type": "stream",
     "text": [
      "¡Hola Python!\n"
     ]
    }
   ],
   "source": [
    "# Práctica de escritura de comentarios\n",
    "\n",
    "print('¡Hola Python!') # Esta línea imprime una cadena de texto\n",
    "# print('Hola')"
   ]
  },
  {
   "cell_type": "markdown",
   "metadata": {},
   "source": [
    "<p>\n",
    "    Tras ejecutar la celda de arriba, deberías observar que <code>Esta línea imprime una cadena de texto</code> no apareció en el resultado, porque era un comentario (y por lo tanto, ignorado por Python).\n",
    "</p>\n",
    "<p>\n",
    "    La segunda línea tampoco se ejecutó porque <code>print('Hola')</code> ¡también estaba precedida por el símbolo de almohadilla (<code>#</code>)! Como esto no es un comentario aclaratorio del programador, sino una línea de código real, podríamos decir que el programador <em>comentó</em> esa segunda línea de código.\n",
    "</p>"
   ]
  },
  {
   "cell_type": "markdown",
   "metadata": {},
   "source": [
    "<h3 id=\"errors\">Errores en Python</h3>"
   ]
  },
  {
   "cell_type": "markdown",
   "metadata": {},
   "source": [
    "<p>Todo el mundo comete errores. Para muchos tipos de errores, Python te dirá que has cometido una equivocación dándote un mensaje de error. Es importante leer los mensajes de error con cuidado para entender realmente dónde has cometido el error y cómo puedes corregirlo.</p>\n",
    "<p>Por ejemplo, si escribes <code>print</code> como <code>frint</code>, Python mostrará un mensaje de error. Pruébalo:</p>"
   ]
  },
  {
   "cell_type": "code",
   "execution_count": 4,
   "metadata": {},
   "outputs": [
    {
     "ename": "NameError",
     "evalue": "name 'frint' is not defined",
     "output_type": "error",
     "traceback": [
      "\u001b[1;31m---------------------------------------------------------------------------\u001b[0m",
      "\u001b[1;31mNameError\u001b[0m                                 Traceback (most recent call last)",
      "Cell \u001b[1;32mIn[4], line 3\u001b[0m\n\u001b[0;32m      1\u001b[0m \u001b[38;5;66;03m# Imprimir cadena como mensaje de error\u001b[39;00m\n\u001b[1;32m----> 3\u001b[0m \u001b[43mfrint\u001b[49m(\u001b[38;5;124m\"\u001b[39m\u001b[38;5;124m¡Hola Python!\u001b[39m\u001b[38;5;124m\"\u001b[39m)\n",
      "\u001b[1;31mNameError\u001b[0m: name 'frint' is not defined"
     ]
    }
   ],
   "source": [
    "# Imprimir cadena como mensaje de error\n",
    "\n",
    "frint(\"¡Hola Python!\")"
   ]
  },
  {
   "cell_type": "markdown",
   "metadata": {},
   "source": [
    "<p>El mensaje de error te dice: \n",
    "<ol>\n",
    "    <li>dónde se produjo el error (más útil en celdas de cuadernos o scripts de gran tamaño), y</li> \n",
    "    <li>qué tipo de error era (NameError)</li> \n",
    "</ol>\n",
    "<p>Aquí, Python intentó ejecutar la función <code>frint</code>, pero no pudo determinar qué es <code>frint</code> ya que no es una función integrada y tampoco la hemos definido previamente nosotros.</p>"
   ]
  },
  {
   "cell_type": "markdown",
   "metadata": {},
   "source": [
    "<p>\n",
    "    Observarás que si cometemos un tipo de error diferente, olvidándonos de cerrar la cadena, obtendremos un error diferente (es decir, un <code>SyntaxError</code> (Error de Sintaxis)). Pruébalo aquí debajo:\n",
    "</p>"
   ]
  },
  {
   "cell_type": "code",
   "execution_count": 5,
   "metadata": {},
   "outputs": [
    {
     "ename": "SyntaxError",
     "evalue": "unterminated string literal (detected at line 3) (1786335092.py, line 3)",
     "output_type": "error",
     "traceback": [
      "\u001b[1;36m  Cell \u001b[1;32mIn[5], line 3\u001b[1;36m\u001b[0m\n\u001b[1;33m    print(\"¡Hola Python!)\u001b[0m\n\u001b[1;37m          ^\u001b[0m\n\u001b[1;31mSyntaxError\u001b[0m\u001b[1;31m:\u001b[0m unterminated string literal (detected at line 3)\n"
     ]
    }
   ],
   "source": [
    "# Prueba a ver el mensaje de error\n",
    "\n",
    "print(\"¡Hola Python!)"
   ]
  },
  {
   "cell_type": "markdown",
   "metadata": {},
   "source": [
    "<h3 id=\"python_error\">¿Ve Python tu error antes de ejecutar el código?</h3>"
   ]
  },
  {
   "cell_type": "markdown",
   "metadata": {},
   "source": [
    "Python es lo que se llama un <em>lenguaje interpretado</em>. Los lenguajes compilados examinan todo el programa en tiempo de compilación, y son capaces de advertirte sobre todo un conjunto de errores antes de la ejecución. Por contra, Python interpreta el script línea por línea mientras lo ejecuta. Python dejará de ejecutar el programa entero en cuanto encuentre un error (a menos que el error sea esperado y lo gestione el programador, un tema más avanzado que cubriremos más adelante en este curso)."
   ]
  },
  {
   "cell_type": "markdown",
   "metadata": {},
   "source": [
    "Prueba a ejecutar el código de la celda de debajo y mira lo que pasa:"
   ]
  },
  {
   "cell_type": "code",
   "execution_count": 6,
   "metadata": {
    "scrolled": true
   },
   "outputs": [
    {
     "name": "stdout",
     "output_type": "stream",
     "text": [
      "Esto se imprimirá\n"
     ]
    },
    {
     "ename": "NameError",
     "evalue": "name 'frint' is not defined",
     "output_type": "error",
     "traceback": [
      "\u001b[1;31m---------------------------------------------------------------------------\u001b[0m",
      "\u001b[1;31mNameError\u001b[0m                                 Traceback (most recent call last)",
      "Cell \u001b[1;32mIn[6], line 4\u001b[0m\n\u001b[0;32m      1\u001b[0m \u001b[38;5;66;03m# Impresión de cadena y error para ver el orden de ejecución\u001b[39;00m\n\u001b[0;32m      3\u001b[0m \u001b[38;5;28mprint\u001b[39m(\u001b[38;5;124m\"\u001b[39m\u001b[38;5;124mEsto se imprimirá\u001b[39m\u001b[38;5;124m\"\u001b[39m)\n\u001b[1;32m----> 4\u001b[0m \u001b[43mfrint\u001b[49m(\u001b[38;5;124m\"\u001b[39m\u001b[38;5;124mEsto provocará un error\u001b[39m\u001b[38;5;124m\"\u001b[39m)\n\u001b[0;32m      5\u001b[0m \u001b[38;5;28mprint\u001b[39m(\u001b[38;5;124m\"\u001b[39m\u001b[38;5;124mEsto NO se imprimirá\u001b[39m\u001b[38;5;124m\"\u001b[39m)\n",
      "\u001b[1;31mNameError\u001b[0m: name 'frint' is not defined"
     ]
    }
   ],
   "source": [
    "# Impresión de cadena y error para ver el orden de ejecución\n",
    "\n",
    "print(\"Esto se imprimirá\")\n",
    "frint(\"Esto provocará un error\")\n",
    "print(\"Esto NO se imprimirá\")"
   ]
  },
  {
   "cell_type": "markdown",
   "metadata": {},
   "source": [
    "<h3 id=\"exercise\">Ejercicio: Tu Primer Programa</h3>"
   ]
  },
  {
   "cell_type": "markdown",
   "metadata": {},
   "source": [
    "<p>Generaciones de programadores han comenzado sus carreras en la programación simplemente imprimiendo \"¡Hola mundo!\". Tú también seguirás sus pasos.</p>\n",
    "<p>En la celda de código de debajo, usa la función <code>print()</code> para imprimir la frase: <code>¡Hola mundo!</code></p>"
   ]
  },
  {
   "cell_type": "code",
   "execution_count": 7,
   "metadata": {},
   "outputs": [
    {
     "name": "stdout",
     "output_type": "stream",
     "text": [
      "¡Hola mundo!\n"
     ]
    }
   ],
   "source": [
    "# Escribe tu código a continuación y presiona Mayúsculas+Intro para ejecutar \n",
    "\n",
    "print(\"¡Hola mundo!\")"
   ]
  },
  {
   "cell_type": "markdown",
   "metadata": {},
   "source": [
    "Haz doble clic en __aquí__ para ver la solución.\n",
    "\n",
    "<!-- Tu respuesta está a continuación:\n",
    "\n",
    "print(\"¡Hola mundo!\")\n",
    "\n",
    "-->"
   ]
  },
  {
   "cell_type": "markdown",
   "metadata": {},
   "source": [
    "<p>Ahora, vamos a mejorar el código con un comentario. En la celda de código de debajo, imprime la frase: <code>¡Hola mundo!</code> y coméntala con la frase <code>Imprime el tradicional hola mundo</code> todo en una línea de código.</p>"
   ]
  },
  {
   "cell_type": "code",
   "execution_count": 8,
   "metadata": {},
   "outputs": [
    {
     "name": "stdout",
     "output_type": "stream",
     "text": [
      "¡Hola mundo!\n"
     ]
    }
   ],
   "source": [
    "# Escribe tu código a continuación y presiona Mayúsculas+Intro para ejecutar \n",
    "\n",
    "print(\"¡Hola mundo!\") # Imprime el tradicional hola mundo"
   ]
  },
  {
   "cell_type": "markdown",
   "metadata": {},
   "source": [
    "Haz doble clic en __aquí__ para ver la solución.\n",
    "\n",
    "<!-- Tu respuesta está a continuación:\n",
    "\n",
    "print(\"¡Hola mundo!\") # Imprime el tradicional hola mundo\n",
    "\n",
    "-->\n"
   ]
  },
  {
   "cell_type": "markdown",
   "metadata": {},
   "source": [
    "<hr>"
   ]
  },
  {
   "cell_type": "markdown",
   "metadata": {},
   "source": [
    "<h2 id=\"types_objects\" align=\"center\">Tipos de objetos en Python</h2>"
   ]
  },
  {
   "cell_type": "markdown",
   "metadata": {},
   "source": [
    "<p>Python es un lenguaje orientado a objetos. Hay muchos tipos diferentes de objetos en Python. Comencemos con los tipos de objetos más comunes: <i>cadenas</i>, <i>enteros</i> y <i>punto flotante</i>. Cada vez que escribes palabras (texto) en Python, estás usando <i>cadenas de caracteres</i> (cadenas para abreviar). Los números más comunes, por otra parte, son los <i>enteros</i> (por ejemplo -1, 0, 100) y los de <i>punto flotante</i>, que representan números reales (por ejemplo 3.14, -42.0).</p>"
   ]
  },
  {
   "cell_type": "markdown",
   "metadata": {},
   "source": [
    "<a align=\"center\">\n",
    "    <img src=\"https://s3-api.us-geo.objectstorage.softlayer.net/cf-courses-data/CognitiveClass/PY0101EN/Chapter%201/Images/TypesObjects.png\" width=\"600\">\n",
    "</a>"
   ]
  },
  {
   "cell_type": "markdown",
   "metadata": {},
   "source": [
    "<p>Las siguientes celdas de código presentan algunos ejemplos.</p>"
   ]
  },
  {
   "cell_type": "code",
   "execution_count": 9,
   "metadata": {},
   "outputs": [
    {
     "data": {
      "text/plain": [
       "11"
      ]
     },
     "execution_count": 9,
     "metadata": {},
     "output_type": "execute_result"
    }
   ],
   "source": [
    "# Entero\n",
    "\n",
    "11"
   ]
  },
  {
   "cell_type": "code",
   "execution_count": 10,
   "metadata": {},
   "outputs": [
    {
     "data": {
      "text/plain": [
       "2.14"
      ]
     },
     "execution_count": 10,
     "metadata": {},
     "output_type": "execute_result"
    }
   ],
   "source": [
    "# Punto flotante\n",
    "\n",
    "2.14"
   ]
  },
  {
   "cell_type": "code",
   "execution_count": 11,
   "metadata": {},
   "outputs": [
    {
     "data": {
      "text/plain": [
       "'¡Hola, Python 101!'"
      ]
     },
     "execution_count": 11,
     "metadata": {},
     "output_type": "execute_result"
    }
   ],
   "source": [
    "# Cadena\n",
    "\n",
    "\"¡Hola, Python 101!\""
   ]
  },
  {
   "cell_type": "markdown",
   "metadata": {},
   "source": [
    "<p>Puedes hacer que Python te diga el tipo de una expresión mediante la función integrada <code>type()</code>. Observarás que Python se refiere a los enteros como <code>int</code>, a los números de punto flotante como <code>float</code>, y a las cadenas de caracteres como <code>str</code>.</p>"
   ]
  },
  {
   "cell_type": "code",
   "execution_count": 12,
   "metadata": {},
   "outputs": [
    {
     "data": {
      "text/plain": [
       "int"
      ]
     },
     "execution_count": 12,
     "metadata": {},
     "output_type": "execute_result"
    }
   ],
   "source": [
    "# Tipo de 12\n",
    "\n",
    "type(12)"
   ]
  },
  {
   "cell_type": "code",
   "execution_count": 13,
   "metadata": {},
   "outputs": [
    {
     "data": {
      "text/plain": [
       "float"
      ]
     },
     "execution_count": 13,
     "metadata": {},
     "output_type": "execute_result"
    }
   ],
   "source": [
    "# Tipo de 2.14\n",
    "\n",
    "type(2.14)"
   ]
  },
  {
   "cell_type": "code",
   "execution_count": 14,
   "metadata": {},
   "outputs": [
    {
     "data": {
      "text/plain": [
       "str"
      ]
     },
     "execution_count": 14,
     "metadata": {},
     "output_type": "execute_result"
    }
   ],
   "source": [
    "# Tipo de \"¡Hola, Python 101!\"\n",
    "\n",
    "type(\"¡Hola, Python 101!\")"
   ]
  },
  {
   "cell_type": "markdown",
   "metadata": {},
   "source": [
    "<p>En la celda de código de debajo, utiliza la función <code>type()</code> para comprobar el tipo de objeto de <code>12.0</code>."
   ]
  },
  {
   "cell_type": "code",
   "execution_count": 15,
   "metadata": {},
   "outputs": [
    {
     "data": {
      "text/plain": [
       "float"
      ]
     },
     "execution_count": 15,
     "metadata": {},
     "output_type": "execute_result"
    }
   ],
   "source": [
    "# Introduce el código a continuación. No te olvides de pulsar Mayúsculas+Intro para ejecutar la celda\n",
    "\n",
    "type(12.0)"
   ]
  },
  {
   "cell_type": "markdown",
   "metadata": {},
   "source": [
    "Haz doble clic en __aquí__ para ver la solución.\n",
    "\n",
    "<!-- Tu respuesta está a continuación:\n",
    "\n",
    "type(12.0)\n",
    "\n",
    "-->"
   ]
  },
  {
   "cell_type": "markdown",
   "metadata": {},
   "source": [
    "<h3 id=\"int\">Enteros</h3>"
   ]
  },
  {
   "cell_type": "markdown",
   "metadata": {},
   "source": [
    "<p>Aquí hay algunos ejemplos de números enteros. Los números enteros pueden ser números negativos o positivos:</p>"
   ]
  },
  {
   "cell_type": "markdown",
   "metadata": {},
   "source": [
    "<a align=\"center\">\n",
    "    <img src=\"https://s3-api.us-geo.objectstorage.softlayer.net/cf-courses-data/CognitiveClass/PY0101EN/Chapter%201/Images/TypesInt.png\" width=\"600\">\n",
    "</a>"
   ]
  },
  {
   "cell_type": "markdown",
   "metadata": {},
   "source": [
    "<p>Podemos verificar que este es el caso mediante el uso, lo has adivinado, de la función <code>type()</code>:"
   ]
  },
  {
   "cell_type": "code",
   "execution_count": 16,
   "metadata": {},
   "outputs": [
    {
     "data": {
      "text/plain": [
       "int"
      ]
     },
     "execution_count": 16,
     "metadata": {},
     "output_type": "execute_result"
    }
   ],
   "source": [
    "# Imprime el tipo de -1\n",
    "\n",
    "type(-1)"
   ]
  },
  {
   "cell_type": "code",
   "execution_count": 17,
   "metadata": {},
   "outputs": [
    {
     "data": {
      "text/plain": [
       "int"
      ]
     },
     "execution_count": 17,
     "metadata": {},
     "output_type": "execute_result"
    }
   ],
   "source": [
    "# Imprime el tipo de 4\n",
    "\n",
    "type(4)"
   ]
  },
  {
   "cell_type": "code",
   "execution_count": 18,
   "metadata": {},
   "outputs": [
    {
     "data": {
      "text/plain": [
       "int"
      ]
     },
     "execution_count": 18,
     "metadata": {},
     "output_type": "execute_result"
    }
   ],
   "source": [
    "# Imprime el tipo de 0\n",
    "\n",
    "type(0)"
   ]
  },
  {
   "cell_type": "markdown",
   "metadata": {},
   "source": [
    "<h3 id=\"float\">Punto Flotante</h3> "
   ]
  },
  {
   "cell_type": "markdown",
   "metadata": {},
   "source": [
    "<p>Los números de punto flotante representan números reales; son un superconjunto de números enteros pero también incluyen \"números con decimales\". Existen algunas limitaciones cuando se trata de que las máquinas representen números reales, pero los números de punto flotante son una buena representación para la mayoría de los casos. Puedes obtener más información sobre las características específicas de los números de punto flotante en tu entorno de ejecución, comprobando el valor de <code>sys.float_info</code>. Esto también te dirá cuál es el número más grande y más pequeño que se puede representar con ellos.</p>\n",
    "\n",
    "<p>Una vez más, puedes probar algunos ejemplos con la función  <code>type()</code>:"
   ]
  },
  {
   "cell_type": "code",
   "execution_count": 19,
   "metadata": {},
   "outputs": [
    {
     "data": {
      "text/plain": [
       "float"
      ]
     },
     "execution_count": 19,
     "metadata": {},
     "output_type": "execute_result"
    }
   ],
   "source": [
    "# Imprime el tipo de 1.0\n",
    "\n",
    "type(1.0) # Observa que 1 es un int, y 1.0 es un float"
   ]
  },
  {
   "cell_type": "code",
   "execution_count": 20,
   "metadata": {},
   "outputs": [
    {
     "data": {
      "text/plain": [
       "float"
      ]
     },
     "execution_count": 20,
     "metadata": {},
     "output_type": "execute_result"
    }
   ],
   "source": [
    "# Imprime el tipo de 0.5\n",
    "\n",
    "type(0.5)"
   ]
  },
  {
   "cell_type": "code",
   "execution_count": 21,
   "metadata": {},
   "outputs": [
    {
     "data": {
      "text/plain": [
       "float"
      ]
     },
     "execution_count": 21,
     "metadata": {},
     "output_type": "execute_result"
    }
   ],
   "source": [
    "# Imprime el tipo de 0.56\n",
    "\n",
    "type(0.56)"
   ]
  },
  {
   "cell_type": "code",
   "execution_count": 22,
   "metadata": {},
   "outputs": [
    {
     "data": {
      "text/plain": [
       "sys.float_info(max=1.7976931348623157e+308, max_exp=1024, max_10_exp=308, min=2.2250738585072014e-308, min_exp=-1021, min_10_exp=-307, dig=15, mant_dig=53, epsilon=2.220446049250313e-16, radix=2, rounds=1)"
      ]
     },
     "execution_count": 22,
     "metadata": {},
     "output_type": "execute_result"
    }
   ],
   "source": [
    "# Ajustes del sistema para el tipo float\n",
    "\n",
    "sys.float_info"
   ]
  },
  {
   "cell_type": "markdown",
   "metadata": {},
   "source": [
    "<h3 id=\"convert\">Convertir de un tipo de objeto a otro tipo de objeto diferente</h3>"
   ]
  },
  {
   "cell_type": "markdown",
   "metadata": {},
   "source": [
    "<p>Puedes cambiar el tipo del objeto en Python; esto se llama conversión de tipos, o typecasting. Por ejemplo, puedes convertir un <i>entero</i> en un <i>punto flotante</i> (por ejemplo 2 a 2.0).</p>\n",
    "<p>Vamos a probarlo:</p>"
   ]
  },
  {
   "cell_type": "code",
   "execution_count": 23,
   "metadata": {},
   "outputs": [
    {
     "data": {
      "text/plain": [
       "int"
      ]
     },
     "execution_count": 23,
     "metadata": {},
     "output_type": "execute_result"
    }
   ],
   "source": [
    "# Verifica que esto es un entero\n",
    "\n",
    "type(2)"
   ]
  },
  {
   "cell_type": "markdown",
   "metadata": {},
   "source": [
    "<h4>Convertir enteros en punto flotante</h4>\n",
    "<p>Vamos a convertir el entero 2 en punto flotante:</p>"
   ]
  },
  {
   "cell_type": "code",
   "execution_count": 24,
   "metadata": {},
   "outputs": [
    {
     "data": {
      "text/plain": [
       "2.0"
      ]
     },
     "execution_count": 24,
     "metadata": {},
     "output_type": "execute_result"
    }
   ],
   "source": [
    "# Convierte 2 a punto flotante\n",
    "\n",
    "float(2)"
   ]
  },
  {
   "cell_type": "code",
   "execution_count": 25,
   "metadata": {},
   "outputs": [
    {
     "data": {
      "text/plain": [
       "float"
      ]
     },
     "execution_count": 25,
     "metadata": {},
     "output_type": "execute_result"
    }
   ],
   "source": [
    "# Convierte el entero 2 a punto flotante y comprobar su tipo\n",
    "\n",
    "type(float(2))"
   ]
  },
  {
   "cell_type": "markdown",
   "metadata": {},
   "source": [
    "<p>Cuando convertimos un entero en un punto flotante, no cambiamos realmente el valor (es decir, el significante) del número. Sin embargo, si convertimos un punto flotante en un entero, potencialmente podríamos perder algo de información. Por ejemplo, si convertimos el punto flotante 1.1 en un entero, obtenemos 1 y perdemos la información decimal (es decir, 0.1):</p>"
   ]
  },
  {
   "cell_type": "code",
   "execution_count": 26,
   "metadata": {},
   "outputs": [
    {
     "data": {
      "text/plain": [
       "1"
      ]
     },
     "execution_count": 26,
     "metadata": {},
     "output_type": "execute_result"
    }
   ],
   "source": [
    "# Convertir 1.1 a entero resultará en una pérdida de información\n",
    "\n",
    "int(1.1)"
   ]
  },
  {
   "cell_type": "markdown",
   "metadata": {},
   "source": [
    "<h4>Convertir cadenas a enteros o punto flotante</h4>"
   ]
  },
  {
   "cell_type": "markdown",
   "metadata": {},
   "source": [
    "<p>A veces, podemos tener una cadena que contiene un número dentro de ella. Si este es el caso, podemos convertir esa cadena que representa un número en un número entero mediante <code>int()</code>:</p>"
   ]
  },
  {
   "cell_type": "code",
   "execution_count": 27,
   "metadata": {},
   "outputs": [
    {
     "data": {
      "text/plain": [
       "1"
      ]
     },
     "execution_count": 27,
     "metadata": {},
     "output_type": "execute_result"
    }
   ],
   "source": [
    "# Convierte una cadena en un entero\n",
    "\n",
    "int('1')"
   ]
  },
  {
   "cell_type": "markdown",
   "metadata": {},
   "source": [
    "<p>Pero si intentas hacerlo con una cadena que no coincide perfectamente con un número, recibirás un error. Prueba lo siguiente:</p>"
   ]
  },
  {
   "cell_type": "code",
   "execution_count": 28,
   "metadata": {},
   "outputs": [
    {
     "ename": "ValueError",
     "evalue": "invalid literal for int() with base 10: '1 o 2 personas'",
     "output_type": "error",
     "traceback": [
      "\u001b[1;31m---------------------------------------------------------------------------\u001b[0m",
      "\u001b[1;31mValueError\u001b[0m                                Traceback (most recent call last)",
      "Cell \u001b[1;32mIn[28], line 3\u001b[0m\n\u001b[0;32m      1\u001b[0m \u001b[38;5;66;03m# Convierte una cadena en un entero con error\u001b[39;00m\n\u001b[1;32m----> 3\u001b[0m \u001b[38;5;28;43mint\u001b[39;49m\u001b[43m(\u001b[49m\u001b[38;5;124;43m'\u001b[39;49m\u001b[38;5;124;43m1 o 2 personas\u001b[39;49m\u001b[38;5;124;43m'\u001b[39;49m\u001b[43m)\u001b[49m\n",
      "\u001b[1;31mValueError\u001b[0m: invalid literal for int() with base 10: '1 o 2 personas'"
     ]
    }
   ],
   "source": [
    "# Convierte una cadena en un entero con error\n",
    "\n",
    "int('1 o 2 personas')"
   ]
  },
  {
   "cell_type": "markdown",
   "metadata": {},
   "source": [
    "<p>También puedes convertir cadenas que contienen números de punto flotante en objetos de <i>punto flotante</i>:</p>"
   ]
  },
  {
   "cell_type": "code",
   "execution_count": 29,
   "metadata": {},
   "outputs": [
    {
     "data": {
      "text/plain": [
       "1.2"
      ]
     },
     "execution_count": 29,
     "metadata": {},
     "output_type": "execute_result"
    }
   ],
   "source": [
    "# Convierte la cadena \"1.2\" en un punto flotante\n",
    "\n",
    "float('1.2')"
   ]
  },
  {
   "cell_type": "markdown",
   "metadata": {},
   "source": [
    "<hr/>\n",
    "<div class=\"alert alert-success alertsuccess\" style=\"margin-top: 20px\">\n",
    "    [Idea:] Observa que las cadenas pueden representarse con comillas simples (<code>'1.2'</code>) o dobles (<code>\"1.2\"</code>), pero no puedes mezclar ambas (por ejemplo, <code>\"1.2'</code>).\n",
    "</div>\n",
    "<hr/>"
   ]
  },
  {
   "cell_type": "markdown",
   "metadata": {},
   "source": [
    "<h4>Convertir números en cadenas</h4>"
   ]
  },
  {
   "cell_type": "markdown",
   "metadata": {},
   "source": [
    "<p>Si podemos convertir las cadenas en números, es lógico suponer que podemos convertir los números en cadenas, ¿verdad?  </p>"
   ]
  },
  {
   "cell_type": "code",
   "execution_count": 30,
   "metadata": {},
   "outputs": [
    {
     "data": {
      "text/plain": [
       "'1'"
      ]
     },
     "execution_count": 30,
     "metadata": {},
     "output_type": "execute_result"
    }
   ],
   "source": [
    "# Convierte un entero en una cadena\n",
    "\n",
    "str(1)"
   ]
  },
  {
   "cell_type": "markdown",
   "metadata": {},
   "source": [
    "<p>Y no hay razón por la que no podamos convertir los números de punto flotante también en cadenas:</p> "
   ]
  },
  {
   "cell_type": "code",
   "execution_count": 31,
   "metadata": {},
   "outputs": [
    {
     "data": {
      "text/plain": [
       "'1.2'"
      ]
     },
     "execution_count": 31,
     "metadata": {},
     "output_type": "execute_result"
    }
   ],
   "source": [
    "# Convierte un punto flotante en una cadena\n",
    "\n",
    "str(1.2)"
   ]
  },
  {
   "cell_type": "markdown",
   "metadata": {},
   "source": [
    "<h3 id=\"bool\">Tipo de datos booleano</h3>"
   ]
  },
  {
   "cell_type": "markdown",
   "metadata": {},
   "source": [
    "<p>El <i>Booleano</i> es otro tipo importante en Python. Un objeto de tipo <i>Booleano</i> puede tener uno de entre dos valores: <code>True</code> (verdadero) o <code>False</code> (falso):</p>"
   ]
  },
  {
   "cell_type": "code",
   "execution_count": 32,
   "metadata": {},
   "outputs": [
    {
     "data": {
      "text/plain": [
       "True"
      ]
     },
     "execution_count": 32,
     "metadata": {},
     "output_type": "execute_result"
    }
   ],
   "source": [
    "# Valor verdadero\n",
    "\n",
    "True"
   ]
  },
  {
   "cell_type": "markdown",
   "metadata": {},
   "source": [
    "<p>Observa que el valor <code>True</code> tiene una \"T\" mayúscula. Lo mismo ocurre con <code>False</code> (es decir, debes usar una \"F\" mayúscula).</p>"
   ]
  },
  {
   "cell_type": "code",
   "execution_count": 33,
   "metadata": {},
   "outputs": [
    {
     "data": {
      "text/plain": [
       "False"
      ]
     },
     "execution_count": 33,
     "metadata": {},
     "output_type": "execute_result"
    }
   ],
   "source": [
    "# Valor falso\n",
    "\n",
    "False"
   ]
  },
  {
   "cell_type": "markdown",
   "metadata": {},
   "source": [
    "<p>Cuando le pides a Python que muestre el tipo de un objeto booleano, mostrará <code>bool</code> que significa <i>booleano</i>:</p> "
   ]
  },
  {
   "cell_type": "code",
   "execution_count": 34,
   "metadata": {},
   "outputs": [
    {
     "data": {
      "text/plain": [
       "bool"
      ]
     },
     "execution_count": 34,
     "metadata": {},
     "output_type": "execute_result"
    }
   ],
   "source": [
    "# Tipo de True\n",
    "\n",
    "type(True)"
   ]
  },
  {
   "cell_type": "code",
   "execution_count": 35,
   "metadata": {},
   "outputs": [
    {
     "data": {
      "text/plain": [
       "bool"
      ]
     },
     "execution_count": 35,
     "metadata": {},
     "output_type": "execute_result"
    }
   ],
   "source": [
    "# Tipo de False\n",
    "\n",
    "type(False)"
   ]
  },
  {
   "cell_type": "markdown",
   "metadata": {},
   "source": [
    "<p>Podemos convertir objetos booleanos en otros tipos de datos. Si convertimos un booleano con un valor de <code>True</code> a un entero o punto flotante obtendremos un uno. Si convertimos un booleano con un valor de <code>False</code> en un entero o en un punto flotante, obtendremos un cero. Del mismo modo, si convertimos un 1 en Booleano, obtendremos <code>True</code>. Y si convertimos un 0 a Booleano, obtendremos <code>False</code>. Vamos a probarlo:</p> "
   ]
  },
  {
   "cell_type": "code",
   "execution_count": 36,
   "metadata": {},
   "outputs": [
    {
     "data": {
      "text/plain": [
       "1"
      ]
     },
     "execution_count": 36,
     "metadata": {},
     "output_type": "execute_result"
    }
   ],
   "source": [
    "# Convierte True a int\n",
    "\n",
    "int(True)"
   ]
  },
  {
   "cell_type": "code",
   "execution_count": 37,
   "metadata": {},
   "outputs": [
    {
     "data": {
      "text/plain": [
       "True"
      ]
     },
     "execution_count": 37,
     "metadata": {},
     "output_type": "execute_result"
    }
   ],
   "source": [
    "# Convierte 1 a booleano\n",
    "\n",
    "bool(1)"
   ]
  },
  {
   "cell_type": "code",
   "execution_count": 38,
   "metadata": {},
   "outputs": [
    {
     "data": {
      "text/plain": [
       "False"
      ]
     },
     "execution_count": 38,
     "metadata": {},
     "output_type": "execute_result"
    }
   ],
   "source": [
    "# Convierte 0 a booleano\n",
    "\n",
    "bool(0)"
   ]
  },
  {
   "cell_type": "code",
   "execution_count": 39,
   "metadata": {},
   "outputs": [
    {
     "data": {
      "text/plain": [
       "1.0"
      ]
     },
     "execution_count": 39,
     "metadata": {},
     "output_type": "execute_result"
    }
   ],
   "source": [
    "# Convierte True a punto flotante\n",
    "\n",
    "float(True)"
   ]
  },
  {
   "cell_type": "markdown",
   "metadata": {},
   "source": [
    "<h3 id=\"exer_type\">Ejercicio: Tipos</h3>"
   ]
  },
  {
   "cell_type": "markdown",
   "metadata": {},
   "source": [
    "<p>¿Cuál es el tipo de dato del resultado de: <code>6 / 2</code>?</p>"
   ]
  },
  {
   "cell_type": "code",
   "execution_count": 40,
   "metadata": {},
   "outputs": [
    {
     "data": {
      "text/plain": [
       "float"
      ]
     },
     "execution_count": 40,
     "metadata": {},
     "output_type": "execute_result"
    }
   ],
   "source": [
    "# Introduce el código a continuación. No te olvides de pulsar Mayúsculas+Intro para ejecutar la celda\n",
    "\n",
    "type(6/2)"
   ]
  },
  {
   "cell_type": "markdown",
   "metadata": {},
   "source": [
    "Haz doble clic en __aquí__ para ver la solución.\n",
    "\n",
    "<!-- Tu respuesta está a continuación:\n",
    "type(6/2) # float\n",
    "-->"
   ]
  },
  {
   "cell_type": "markdown",
   "metadata": {},
   "source": [
    "<p>¿Cuál es el tipo del resultado de: <code>6 // 2</code>? (Observa la doble barra inclinada <code>//</code>.)</p>"
   ]
  },
  {
   "cell_type": "code",
   "execution_count": 41,
   "metadata": {},
   "outputs": [
    {
     "data": {
      "text/plain": [
       "int"
      ]
     },
     "execution_count": 41,
     "metadata": {},
     "output_type": "execute_result"
    }
   ],
   "source": [
    "# Introduce el código a continuación. No te olvides de pulsar Mayúsculas+Intro para ejecutar la celda\n",
    "6//2\n",
    "type(6 // 2)"
   ]
  },
  {
   "cell_type": "markdown",
   "metadata": {},
   "source": [
    "Haz doble clic en __aquí__ para ver la solución.\n",
    "\n",
    "<!-- Tu respuesta está a continuación:\n",
    "type(6//2) # int, ya que las barras dobles representan la división entera \n",
    "-->"
   ]
  },
  {
   "cell_type": "markdown",
   "metadata": {},
   "source": [
    "<hr>"
   ]
  },
  {
   "cell_type": "markdown",
   "metadata": {},
   "source": [
    "<h2 id=\"expressions\">Expresiones y Variables</h2>"
   ]
  },
  {
   "cell_type": "markdown",
   "metadata": {},
   "source": [
    "<h3 id=\"exp\">Expresiones</h3>"
   ]
  },
  {
   "cell_type": "markdown",
   "metadata": {},
   "source": [
    "<p>Las expresiones en Python pueden incluir operaciones entre tipos compatibles (por ejemplo, números enteros y de punto flotante). Por ejemplo, operaciones aritméticas básicas como sumar varios números:</p>"
   ]
  },
  {
   "cell_type": "code",
   "execution_count": 42,
   "metadata": {},
   "outputs": [
    {
     "data": {
      "text/plain": [
       "160"
      ]
     },
     "execution_count": 42,
     "metadata": {},
     "output_type": "execute_result"
    }
   ],
   "source": [
    "# Expresión de operación de suma\n",
    "\n",
    "43 + 60 + 16 + 41"
   ]
  },
  {
   "cell_type": "markdown",
   "metadata": {},
   "source": [
    "<p>Podemos realizar operaciones de resta utilizando el operador menos. En este caso el resultado es un número negativo:</p>"
   ]
  },
  {
   "cell_type": "code",
   "execution_count": 43,
   "metadata": {},
   "outputs": [
    {
     "data": {
      "text/plain": [
       "-10"
      ]
     },
     "execution_count": 43,
     "metadata": {},
     "output_type": "execute_result"
    }
   ],
   "source": [
    "# Expresión de operación de resta\n",
    "\n",
    "50 - 60"
   ]
  },
  {
   "cell_type": "markdown",
   "metadata": {},
   "source": [
    "<p>Podemos multiplicar utilizando un asterisco:</p>"
   ]
  },
  {
   "cell_type": "code",
   "execution_count": 44,
   "metadata": {},
   "outputs": [
    {
     "data": {
      "text/plain": [
       "25"
      ]
     },
     "execution_count": 44,
     "metadata": {},
     "output_type": "execute_result"
    }
   ],
   "source": [
    "# Expresión de operación de multiplicación\n",
    "\n",
    "5 * 5"
   ]
  },
  {
   "cell_type": "markdown",
   "metadata": {},
   "source": [
    "<p>También podemos realizar la división con la barra inclinada:"
   ]
  },
  {
   "cell_type": "code",
   "execution_count": 45,
   "metadata": {},
   "outputs": [
    {
     "data": {
      "text/plain": [
       "5.0"
      ]
     },
     "execution_count": 45,
     "metadata": {},
     "output_type": "execute_result"
    }
   ],
   "source": [
    "# Expresión de operación de división\n",
    "\n",
    "25 / 5"
   ]
  },
  {
   "cell_type": "code",
   "execution_count": 46,
   "metadata": {},
   "outputs": [
    {
     "data": {
      "text/plain": [
       "4.166666666666667"
      ]
     },
     "execution_count": 46,
     "metadata": {},
     "output_type": "execute_result"
    }
   ],
   "source": [
    "# Expresión de operación de división\n",
    "\n",
    "25 / 6"
   ]
  },
  {
   "cell_type": "markdown",
   "metadata": {},
   "source": [
    "<p>Como se ve en el cuestionario anterior, podemos usar la doble barra inclinada para la división entera, donde el resultado se redondea al entero más cercano:"
   ]
  },
  {
   "cell_type": "code",
   "execution_count": 47,
   "metadata": {},
   "outputs": [
    {
     "data": {
      "text/plain": [
       "5"
      ]
     },
     "execution_count": 47,
     "metadata": {},
     "output_type": "execute_result"
    }
   ],
   "source": [
    "# Expresión de operación de división entera\n",
    "\n",
    "25 // 5"
   ]
  },
  {
   "cell_type": "code",
   "execution_count": 48,
   "metadata": {},
   "outputs": [
    {
     "data": {
      "text/plain": [
       "4"
      ]
     },
     "execution_count": 48,
     "metadata": {},
     "output_type": "execute_result"
    }
   ],
   "source": [
    "# Expresión de operación de división entera\n",
    "\n",
    "25 // 6"
   ]
  },
  {
   "cell_type": "markdown",
   "metadata": {},
   "source": [
    "<h3 id=\"exer_exp\">Ejercicio: Expresión</h3>"
   ]
  },
  {
   "cell_type": "markdown",
   "metadata": {},
   "source": [
    "<p>Escribamos una expresión que calcule cuántas horas hay en 160 minutos:"
   ]
  },
  {
   "cell_type": "code",
   "execution_count": 49,
   "metadata": {},
   "outputs": [
    {
     "data": {
      "text/plain": [
       "2.6666666666666665"
      ]
     },
     "execution_count": 49,
     "metadata": {},
     "output_type": "execute_result"
    }
   ],
   "source": [
    "# Introduce el código a continuación. No te olvides de pulsar Mayúsculas+Intro para ejecutar la celda\n",
    "160/60"
   ]
  },
  {
   "cell_type": "markdown",
   "metadata": {},
   "source": [
    "Haz doble clic en __aquí__ para ver la solución.\n",
    "\n",
    "<!-- Tu respuesta está a continuación:\n",
    "160/60 \n",
    "# O \n",
    "160//60\n",
    "-->"
   ]
  },
  {
   "cell_type": "markdown",
   "metadata": {},
   "source": [
    "<p>Python sigue las convenciones matemáticas ampliamente aceptadas al evaluar las expresiones matemáticas. En el siguiente ejemplo, Python suma 30 al resultado de la multiplicación (es decir, 120)."
   ]
  },
  {
   "cell_type": "code",
   "execution_count": 50,
   "metadata": {},
   "outputs": [
    {
     "data": {
      "text/plain": [
       "150"
      ]
     },
     "execution_count": 50,
     "metadata": {},
     "output_type": "execute_result"
    }
   ],
   "source": [
    "# Expresión matemática\n",
    "\n",
    "30 + 2 * 60"
   ]
  },
  {
   "cell_type": "markdown",
   "metadata": {},
   "source": [
    "<p>Y al igual que en las matemáticas, las expresiones entre paréntesis tienen prioridad. Así que lo siguiente multiplica 32 por 60."
   ]
  },
  {
   "cell_type": "code",
   "execution_count": 51,
   "metadata": {},
   "outputs": [
    {
     "data": {
      "text/plain": [
       "1920"
      ]
     },
     "execution_count": 51,
     "metadata": {},
     "output_type": "execute_result"
    }
   ],
   "source": [
    "# Expresión matemática\n",
    "\n",
    "(30 + 2) * 60"
   ]
  },
  {
   "cell_type": "markdown",
   "metadata": {},
   "source": [
    "<h3 id=\"var\">Variables</h3>"
   ]
  },
  {
   "cell_type": "markdown",
   "metadata": {},
   "source": [
    "<p>Como con la mayoría de los lenguajes de programación, podemos almacenar valores en <i>variables</i>para poder usarlos más tarde. Por ejemplo:</p>"
   ]
  },
  {
   "cell_type": "code",
   "execution_count": 52,
   "metadata": {},
   "outputs": [],
   "source": [
    "# Almacena el valor en una variable\n",
    "\n",
    "x = 43 + 60 + 16 + 41"
   ]
  },
  {
   "cell_type": "markdown",
   "metadata": {},
   "source": [
    "<p>Para ver el valor de <code>x</code> en un Cuaderno, podemos simplemente colocarlo en la última línea de una celda:</p>"
   ]
  },
  {
   "cell_type": "code",
   "execution_count": 53,
   "metadata": {},
   "outputs": [
    {
     "data": {
      "text/plain": [
       "160"
      ]
     },
     "execution_count": 53,
     "metadata": {},
     "output_type": "execute_result"
    }
   ],
   "source": [
    "# Imprime el valor de la variable\n",
    "\n",
    "x"
   ]
  },
  {
   "cell_type": "markdown",
   "metadata": {},
   "source": [
    "<p>También podemos realizar operaciones sobre <code>x</code> y guardar el resultado en una nueva variable:</p>"
   ]
  },
  {
   "cell_type": "code",
   "execution_count": 54,
   "metadata": {},
   "outputs": [
    {
     "data": {
      "text/plain": [
       "2.6666666666666665"
      ]
     },
     "execution_count": 54,
     "metadata": {},
     "output_type": "execute_result"
    }
   ],
   "source": [
    "# Utiliza otra variable para almacenar el resultado de la operación entre variable y valor\n",
    "\n",
    "y = x / 60\n",
    "y"
   ]
  },
  {
   "cell_type": "markdown",
   "metadata": {},
   "source": [
    "<p>Si guardamos un valor en una variable ya existente, el nuevo valor sobrescribirá el valor anterior:</p>"
   ]
  },
  {
   "cell_type": "code",
   "execution_count": 55,
   "metadata": {},
   "outputs": [
    {
     "data": {
      "text/plain": [
       "2.6666666666666665"
      ]
     },
     "execution_count": 55,
     "metadata": {},
     "output_type": "execute_result"
    }
   ],
   "source": [
    "# Sobrescribe la variable con un nuevo valor\n",
    "\n",
    "x = x / 60\n",
    "x"
   ]
  },
  {
   "cell_type": "markdown",
   "metadata": {},
   "source": [
    "<p>Es una buena práctica utilizar nombres de variables con significado, para que tanto tú como los demás puedan leer el código y entenderlo más fácilmente:</p>"
   ]
  },
  {
   "cell_type": "code",
   "execution_count": 56,
   "metadata": {},
   "outputs": [
    {
     "data": {
      "text/plain": [
       "142"
      ]
     },
     "execution_count": 56,
     "metadata": {},
     "output_type": "execute_result"
    }
   ],
   "source": [
    "# Da un nombre a las variables que tenga un significado\n",
    "\n",
    "total_min = 43 + 42 + 57 # Duración total de los álbumes en minutos\n",
    "total_min"
   ]
  },
  {
   "cell_type": "code",
   "execution_count": 57,
   "metadata": {},
   "outputs": [
    {
     "data": {
      "text/plain": [
       "2.3666666666666667"
      ]
     },
     "execution_count": 57,
     "metadata": {},
     "output_type": "execute_result"
    }
   ],
   "source": [
    "# Da un nombre a las variables que tenga un significado\n",
    "\n",
    "total_horas = total_min / 60 # Duración total de los álbumes en horas \n",
    "total_horas"
   ]
  },
  {
   "cell_type": "markdown",
   "metadata": {},
   "source": [
    "<p>En las celdas de arriba hemos sumado la duración de tres álbumes en minutos y lo hemos almacenado en <code>total_min</code>. Luego lo dividimos entre 60 para calcular la duración total <code>total_horas</code> en horas. También puedes hacerlo todo de una vez en una sola expresión, siempre y cuando uses paréntesis para sumar la duración de los álbumes antes de dividir, como se muestra a continuación.</p>"
   ]
  },
  {
   "cell_type": "code",
   "execution_count": 58,
   "metadata": {},
   "outputs": [
    {
     "data": {
      "text/plain": [
       "2.3666666666666667"
      ]
     },
     "execution_count": 58,
     "metadata": {},
     "output_type": "execute_result"
    }
   ],
   "source": [
    "# Expresión compleja\n",
    "\n",
    "total_horas = (43 + 42 + 57) / 60  # Total de horas en una sola expresión\n",
    "total_horas"
   ]
  },
  {
   "cell_type": "markdown",
   "metadata": {},
   "source": [
    "<p>Si prefieres tener el total de horas como un número entero, puedes, por supuesto, reemplazar la división en punto flotante por la división entera (es decir, <code>//</code>).</p>"
   ]
  },
  {
   "cell_type": "markdown",
   "metadata": {},
   "source": [
    "<h3 id=\"exer_exp_var\">Ejercicio: Expresión y Variables en Python</h3>"
   ]
  },
  {
   "cell_type": "markdown",
   "metadata": {},
   "source": [
    "<p>¿Cuál es el valor de <code>x</code>, donde <code>x = 3 + 2 * 2</code>?</p>"
   ]
  },
  {
   "cell_type": "code",
   "execution_count": 59,
   "metadata": {},
   "outputs": [
    {
     "data": {
      "text/plain": [
       "7"
      ]
     },
     "execution_count": 59,
     "metadata": {},
     "output_type": "execute_result"
    }
   ],
   "source": [
    "# Introduce el código a continuación. No te olvides de pulsar Mayúsculas+Intro para ejecutar la celda\n",
    "\n",
    "x = 3 + 2 * 2\n",
    "x"
   ]
  },
  {
   "cell_type": "markdown",
   "metadata": {},
   "source": [
    "Haz doble clic en __aquí__ para ver la solución.\n",
    "\n",
    "<!-- Tu respuesta está a continuación:\n",
    "7\n",
    "-->\n"
   ]
  },
  {
   "cell_type": "markdown",
   "metadata": {},
   "source": [
    "<p>¿Cuál es el valor de <code>y</code>, donde <code>y = (3 + 2) * 2</code>?</p>"
   ]
  },
  {
   "cell_type": "code",
   "execution_count": 60,
   "metadata": {},
   "outputs": [
    {
     "data": {
      "text/plain": [
       "10"
      ]
     },
     "execution_count": 60,
     "metadata": {},
     "output_type": "execute_result"
    }
   ],
   "source": [
    "# Introduce el código a continuación. No te olvides de pulsar Mayúsculas+Intro para ejecutar la celda\n",
    "y = (3 + 2) * 2\n",
    "y"
   ]
  },
  {
   "cell_type": "markdown",
   "metadata": {},
   "source": [
    "Haz doble clic en __aquí__ para ver la solución.\n",
    "\n",
    "<!-- Tu respuesta está a continuación:\n",
    "10\n",
    "-->"
   ]
  },
  {
   "cell_type": "markdown",
   "metadata": {},
   "source": [
    "<p>¿Cuál es el valor de <code>z</code>, donde <code>z = x + y</code>?</p>"
   ]
  },
  {
   "cell_type": "code",
   "execution_count": 61,
   "metadata": {},
   "outputs": [
    {
     "data": {
      "text/plain": [
       "17"
      ]
     },
     "execution_count": 61,
     "metadata": {},
     "output_type": "execute_result"
    }
   ],
   "source": [
    "# Introduce el código a continuación. No te olvides de pulsar Mayúsculas+Intro para ejecutar la celda\n",
    "z = x + y #\n",
    "z"
   ]
  },
  {
   "cell_type": "markdown",
   "metadata": {},
   "source": [
    "Haz doble clic en __aquí__ para ver la solución.\n",
    "\n",
    "<!-- Tu respuesta está a continuación:\n",
    "17\n",
    "-->"
   ]
  },
  {
   "cell_type": "code",
   "execution_count": null,
   "metadata": {},
   "outputs": [],
   "source": []
  }
 ],
 "metadata": {
  "kernelspec": {
   "display_name": "Python 3 (ipykernel)",
   "language": "python",
   "name": "python3"
  },
  "language_info": {
   "codemirror_mode": {
    "name": "ipython",
    "version": 3
   },
   "file_extension": ".py",
   "mimetype": "text/x-python",
   "name": "python",
   "nbconvert_exporter": "python",
   "pygments_lexer": "ipython3",
   "version": "3.10.5"
  }
 },
 "nbformat": 4,
 "nbformat_minor": 4
}
