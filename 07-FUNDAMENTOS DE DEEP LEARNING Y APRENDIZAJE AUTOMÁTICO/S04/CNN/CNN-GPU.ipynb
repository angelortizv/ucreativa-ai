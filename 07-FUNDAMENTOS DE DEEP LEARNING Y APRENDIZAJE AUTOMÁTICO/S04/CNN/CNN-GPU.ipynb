{
 "cells": [
  {
   "cell_type": "markdown",
   "metadata": {},
   "source": [
    "# Intro a CNNs"
   ]
  },
  {
   "cell_type": "markdown",
   "metadata": {},
   "source": [
    "Este código define y entrena una red neuronal convolucional (CNN) para clasificar imágenes del conjunto de datos CIFAR-10. El modelo utiliza capas convolucionales, pooling, dropout y capas completamente conectadas para extraer características y realizar la predicción. CIFAR-10 contiene 60,000 imágenes divididas en 10 categorías, como autos, aves y gatos. El entrenamiento se realiza con PyTorch, aprovechando una GPU si está disponible."
   ]
  },
  {
   "cell_type": "markdown",
   "metadata": {},
   "source": [
    "## Imports"
   ]
  },
  {
   "cell_type": "code",
   "execution_count": 1,
   "metadata": {
    "metadata": {}
   },
   "outputs": [],
   "source": [
    "import torch\n",
    "import torch.nn as nn\n",
    "import torch.optim as optim\n",
    "import torchvision\n",
    "import torchvision.transforms as transforms\n",
    "import numpy as np"
   ]
  },
  {
   "cell_type": "markdown",
   "metadata": {},
   "source": [
    "## Definición de la arquitectura de la CNN"
   ]
  },
  {
   "cell_type": "markdown",
   "metadata": {},
   "source": [
    "En este bloque se define la clase CNN, que representa la red neuronal. Consiste en tres capas convolucionales para extraer características visuales, seguidas de capas totalmente conectadas para clasificar las imágenes en 10 categorías. También se incluyen capas de dropout para reducir el sobreajuste.\n",
    "\n",
    "- **Capas convolucionales**: Detectan patrones como bordes o texturas.\n",
    "- **Max Pooling**: Reduce las dimensiones de las imágenes manteniendo características relevantes.\n",
    "- **Dropout**: Reduce el riesgo de sobreajuste durante el entrenamiento.\n",
    "- **Capas totalmente conectadas**: Combinan las características extraídas para clasificar las imágenes."
   ]
  },
  {
   "cell_type": "code",
   "execution_count": 2,
   "metadata": {
    "metadata": {}
   },
   "outputs": [],
   "source": [
    "# Definir la arquitectura de la CNN\n",
    "class CNN(nn.Module):\n",
    "    def __init__(self):\n",
    "        super(CNN, self).__init__()\n",
    "        #Canales de entrada, Canales de salida, Tamaño de Kernel, Stride y Padding\n",
    "        self.conv1 = nn.Conv2d(3, 16, 3, 1, 1)\n",
    "        self.conv2 = nn.Conv2d(16, 64, 3, 1, 1) \n",
    "        self.conv3 = nn.Conv2d(64, 128, 3, 1, 1)\n",
    "        self.dropout = nn.Dropout(0.2)\n",
    "        self.fc1 = nn.Linear(128 * 4 * 4, 512) \n",
    "        self.fc2 = nn.Linear(512, 256)\n",
    "        self.fc3 = nn.Linear(256, 10)\n",
    "\n",
    "    def forward(self, x):\n",
    "        #Entrada (batch, channels, ancho, largo)\n",
    "        # (64, 3, 32, 32)\n",
    "        x = torch.relu(self.conv1(x))\n",
    "        x = torch.max_pool2d(x, 2, 2) # No es una capa aprendible. (feature_maps, stride, padding)\n",
    "        # (64, 16, 16, 16)\n",
    "        x = torch.relu(self.conv2(x))\n",
    "        x = torch.max_pool2d(x, 2, 2)\n",
    "        # (64, 64, 8, 8)\n",
    "        x = torch.relu(self.conv3(x))\n",
    "        x = self.dropout(x)\n",
    "        x = torch.max_pool2d(x, 2, 2)\n",
    "        # (64, 128, 4, 4)\n",
    "        x = x.view(-1, 128 * 4 * 4)\n",
    "        # (64, 2048)\n",
    "        x = torch.relu(self.fc1(x))\n",
    "        x = torch.relu(self.fc2(x))\n",
    "        x = self.fc3(x)\n",
    "        return x"
   ]
  },
  {
   "cell_type": "markdown",
   "metadata": {},
   "source": [
    "## Preparación del dataset"
   ]
  },
  {
   "cell_type": "markdown",
   "metadata": {},
   "source": [
    "Se utiliza el dataset CIFAR-10, que contiene imágenes en color (32x32 píxeles). Antes de entrenar el modelo, las imágenes son transformadas con:\n",
    "- Conversión a tensores: Para que PyTorch pueda procesarlas.\n",
    "- Rotación aleatoria: Aumenta los datos simulando nuevas imágenes.\n",
    "- Normalización: Escala los valores de los píxeles para estabilizar el entrenamiento.\n",
    "\n",
    "Luego, se organizan en loaders para iterar sobre las imágenes en lotes durante el entrenamiento y la evaluación."
   ]
  },
  {
   "cell_type": "code",
   "execution_count": 3,
   "metadata": {
    "metadata": {}
   },
   "outputs": [
    {
     "name": "stdout",
     "output_type": "stream",
     "text": [
      "Files already downloaded and verified\n",
      "Files already downloaded and verified\n"
     ]
    }
   ],
   "source": [
    "# Descargar y cargar el conjunto de datos CIFAR-10\n",
    "transform = transforms.Compose([\n",
    "    transforms.ToTensor(),\n",
    "    transforms.RandomRotation(45),\n",
    "    transforms.Normalize((0.5, 0.5, 0.5), (0.5, 0.5, 0.5))\n",
    "])\n",
    "\n",
    "trainset = torchvision.datasets.CIFAR10(root='./data', train=True, download=True, transform=transform)\n",
    "#Iterable del dataset\n",
    "trainloader = torch.utils.data.DataLoader(trainset, batch_size=64, shuffle=True)\n",
    "\n",
    "testset = torchvision.datasets.CIFAR10(root='./data', train=False, download=True, transform=transform)\n",
    "#Iterable del dataset\n",
    "testloader = torch.utils.data.DataLoader(testset, batch_size=64, shuffle=False)"
   ]
  },
  {
   "cell_type": "markdown",
   "metadata": {},
   "source": [
    "## Configuración del dispositivo"
   ]
  },
  {
   "cell_type": "code",
   "execution_count": 4,
   "metadata": {
    "metadata": {}
   },
   "outputs": [
    {
     "name": "stdout",
     "output_type": "stream",
     "text": [
      "Is Torch Cuda Available? True\n"
     ]
    }
   ],
   "source": [
    "device = torch.device(\"cuda\" if torch.cuda.is_available() else \"cpu\")\n",
    "print(\"Is Torch Cuda Available? \" + str(torch.cuda.is_available()))"
   ]
  },
  {
   "cell_type": "markdown",
   "metadata": {},
   "source": [
    "## Entrenamiento del modelo"
   ]
  },
  {
   "cell_type": "markdown",
   "metadata": {},
   "source": [
    "El modelo se entrena durante 25 épocas, iterando sobre los datos de entrenamiento en lotes de 64 imágenes:\n",
    "\n",
    "- Los datos son enviados al dispositivo (CPU/GPU).\n",
    "- Se calculan las predicciones del modelo.\n",
    " Se mide la pérdida entre las predicciones y las etiquetas reales.\n",
    "- Se calculan y aplican gradientes para ajustar los pesos del modelo.\n",
    "\n",
    "La pérdida acumulada se imprime cada 200 iteraciones para monitorear el progreso."
   ]
  },
  {
   "cell_type": "code",
   "execution_count": 5,
   "metadata": {},
   "outputs": [
    {
     "name": "stdout",
     "output_type": "stream",
     "text": [
      "[1,   200] loss: 1.959\n",
      "[1,   400] loss: 1.677\n",
      "[1,   600] loss: 1.549\n",
      "[2,   200] loss: 1.433\n",
      "[2,   400] loss: 1.392\n",
      "[2,   600] loss: 1.346\n",
      "[3,   200] loss: 1.262\n",
      "[3,   400] loss: 1.238\n",
      "[3,   600] loss: 1.211\n",
      "[4,   200] loss: 1.171\n",
      "[4,   400] loss: 1.119\n",
      "[4,   600] loss: 1.126\n",
      "[5,   200] loss: 1.056\n",
      "[5,   400] loss: 1.059\n",
      "[5,   600] loss: 1.045\n",
      "[6,   200] loss: 0.982\n",
      "[6,   400] loss: 1.004\n",
      "[6,   600] loss: 0.979\n",
      "[7,   200] loss: 0.923\n",
      "[7,   400] loss: 0.935\n",
      "[7,   600] loss: 0.937\n",
      "[8,   200] loss: 0.886\n",
      "[8,   400] loss: 0.870\n",
      "[8,   600] loss: 0.880\n",
      "[9,   200] loss: 0.859\n",
      "[9,   400] loss: 0.837\n",
      "[9,   600] loss: 0.837\n",
      "[10,   200] loss: 0.800\n",
      "[10,   400] loss: 0.808\n",
      "[10,   600] loss: 0.832\n",
      "[11,   200] loss: 0.782\n",
      "[11,   400] loss: 0.780\n",
      "[11,   600] loss: 0.789\n",
      "[12,   200] loss: 0.740\n",
      "[12,   400] loss: 0.752\n",
      "[12,   600] loss: 0.754\n",
      "[13,   200] loss: 0.722\n",
      "[13,   400] loss: 0.723\n",
      "[13,   600] loss: 0.718\n",
      "[14,   200] loss: 0.696\n",
      "[14,   400] loss: 0.693\n",
      "[14,   600] loss: 0.714\n",
      "[15,   200] loss: 0.671\n",
      "[15,   400] loss: 0.672\n",
      "[15,   600] loss: 0.686\n",
      "[16,   200] loss: 0.652\n",
      "[16,   400] loss: 0.659\n",
      "[16,   600] loss: 0.648\n",
      "[17,   200] loss: 0.626\n",
      "[17,   400] loss: 0.638\n",
      "[17,   600] loss: 0.645\n",
      "[18,   200] loss: 0.603\n",
      "[18,   400] loss: 0.626\n",
      "[18,   600] loss: 0.616\n",
      "[19,   200] loss: 0.595\n",
      "[19,   400] loss: 0.593\n",
      "[19,   600] loss: 0.601\n",
      "[20,   200] loss: 0.569\n",
      "[20,   400] loss: 0.586\n",
      "[20,   600] loss: 0.582\n",
      "[21,   200] loss: 0.556\n",
      "[21,   400] loss: 0.567\n",
      "[21,   600] loss: 0.568\n",
      "[22,   200] loss: 0.533\n",
      "[22,   400] loss: 0.558\n",
      "[22,   600] loss: 0.552\n",
      "[23,   200] loss: 0.525\n",
      "[23,   400] loss: 0.547\n",
      "[23,   600] loss: 0.529\n",
      "[24,   200] loss: 0.504\n",
      "[24,   400] loss: 0.523\n",
      "[24,   600] loss: 0.525\n",
      "[25,   200] loss: 0.504\n",
      "[25,   400] loss: 0.499\n",
      "[25,   600] loss: 0.513\n",
      "Finished Training\n"
     ]
    }
   ],
   "source": [
    "# Inicializar el modelo, la función de pérdida y el optimizador\n",
    "model = CNN()\n",
    "model.to(device)\n",
    "criterion = nn.CrossEntropyLoss()\n",
    "optimizer = optim.Adam(model.parameters(), lr=0.0005)\n",
    "\n",
    "# Entrenamiento del modelo\n",
    "num_epochs = 25\n",
    "for epoch in range(num_epochs):\n",
    "    running_loss = 0.0\n",
    "    for i, data in enumerate(trainloader, 0):\n",
    "        inputs, labels = data\n",
    "        inputs = inputs.to(device)\n",
    "        labels = labels.to(device)\n",
    "        optimizer.zero_grad()\n",
    "        outputs = model(inputs)\n",
    "        loss = criterion(outputs, labels)\n",
    "        loss.backward()\n",
    "        optimizer.step()\n",
    "        running_loss += loss.item()\n",
    "        if i % 200 == 199:\n",
    "            print('[%d, %5d] loss: %.3f' % (epoch + 1, i + 1, running_loss / 200))\n",
    "            running_loss = 0.0\n",
    "\n",
    "print('Finished Training')\n",
    "\n"
   ]
  },
  {
   "cell_type": "markdown",
   "metadata": {},
   "source": [
    "## Evaluación del modelo"
   ]
  },
  {
   "cell_type": "markdown",
   "metadata": {},
   "source": [
    "El modelo se evalúa con el conjunto de prueba sin calcular gradientes (modo de evaluación). Se calcula la precisión dividiendo el número de predicciones correctas entre el total de imágenes.\n",
    "\n",
    "**Resultados Esperados**: Al finalizar, el modelo debería alcanzar una precisión decente (60%-80%) en el conjunto de prueba, dependiendo de los hiperparámetros y transformaciones utilizadas. Esta arquitectura básica de CNN es adecuada para comprender los fundamentos del aprendizaje profundo en visión por computadora."
   ]
  },
  {
   "cell_type": "code",
   "execution_count": 6,
   "metadata": {},
   "outputs": [
    {
     "name": "stdout",
     "output_type": "stream",
     "text": [
      "Accuracy on the test images: 72 %\n"
     ]
    }
   ],
   "source": [
    "# Evaluación del modelo\n",
    "correct = 0\n",
    "total = 0\n",
    "with torch.no_grad():\n",
    "    for i, data in enumerate(testloader, 0):\n",
    "        images, labels = data\n",
    "        images = images.to(device)\n",
    "        labels = labels.to(device)\n",
    "        outputs = model(images)\n",
    "        _, predicted = torch.max(outputs.data, 1)\n",
    "        total += labels.size(0)\n",
    "        correct += (predicted == labels).sum().item()\n",
    "\n",
    "print('Accuracy on the test images: %d %%' % (100 * correct / total))"
   ]
  },
  {
   "cell_type": "code",
   "execution_count": 7,
   "metadata": {},
   "outputs": [
    {
     "data": {
      "image/png": "[encoded data removed]",
      "text/plain": [
       "<Figure size 1000x600 with 1 Axes>"
      ]
     },
     "metadata": {},
     "output_type": "display_data"
    }
   ],
   "source": [
    "import matplotlib.pyplot as plt\n",
    "from matplotlib.patches import FancyBboxPatch, FancyArrowPatch\n",
    "\n",
    "# Crear una figura\n",
    "fig, ax = plt.subplots(figsize=(10, 6))\n",
    "\n",
    "def add_box(ax, text, xy, width=2.5, height=0.8, color=\"skyblue\"):\n",
    "    box = FancyBboxPatch(\n",
    "        xy,\n",
    "        width,\n",
    "        height,\n",
    "        boxstyle=\"round,pad=0.3\",\n",
    "        edgecolor=\"black\",\n",
    "        facecolor=color,\n",
    "        alpha=0.9,\n",
    "    )\n",
    "    ax.add_patch(box)\n",
    "    ax.text(\n",
    "        xy[0] + width / 2,\n",
    "        xy[1] + height / 2,\n",
    "        text,\n",
    "        ha=\"center\",\n",
    "        va=\"center\",\n",
    "        fontsize=10,\n",
    "        color=\"black\",\n",
    "    )\n",
    "\n",
    "def add_arrow(ax, xy_start, xy_end, color=\"black\"):\n",
    "    arrow = FancyArrowPatch(\n",
    "        xy_start, xy_end, arrowstyle=\"->\", color=color, mutation_scale=15\n",
    "    )\n",
    "    ax.add_patch(arrow)\n",
    "\n",
    "add_box(ax, \"Load Dataset\\n(CIFAR-10)\", (0, 3))\n",
    "add_arrow(ax, (2.5, 3.4), (3.5, 3.4))\n",
    "add_box(ax, \"Apply Transforms\\n(ToTensor, Normalize)\", (4, 3))\n",
    "add_arrow(ax, (6.5, 3.4), (7.5, 3.4))\n",
    "add_box(ax, \"Create Dataloaders\\n(Train/Test)\", (8, 3))\n",
    "\n",
    "add_arrow(ax, (4.5, 2.6), (4.5, 1.6), color=\"blue\")\n",
    "add_box(ax, \"Define Model\\n(CNN)\", (3, 1))\n",
    "add_arrow(ax, (4.5, 0.8), (4.5, -0.2), color=\"blue\")\n",
    "add_box(ax, \"Training Loop\\n(Forward, Loss,\\nBackpropagation)\", (3, -1))\n",
    "add_arrow(ax, (5.5, -0.2), (6.5, -0.2))\n",
    "add_box(ax, \"Evaluation Loop\\n(Accuracy)\", (7, -1))\n",
    "\n",
    "ax.set_xlim(-1, 10)\n",
    "ax.set_ylim(-3, 5)\n",
    "ax.axis(\"off\")  # Ocultar ejes\n",
    "\n",
    "plt.tight_layout()\n",
    "plt.show()\n"
   ]
  },
  {
   "cell_type": "code",
   "execution_count": null,
   "metadata": {},
   "outputs": [],
   "source": []
  }
 ],
 "metadata": {
  "kernelspec": {
   "display_name": "Python 3 (ipykernel)",
   "language": "python",
   "name": "python3"
  },
  "language_info": {
   "codemirror_mode": {
    "name": "ipython",
    "version": 3
   },
   "file_extension": ".py",
   "mimetype": "text/x-python",
   "name": "python",
   "nbconvert_exporter": "python",
   "pygments_lexer": "ipython3",
   "version": "3.10.5"
  }
 },
 "nbformat": 4,
 "nbformat_minor": 4
}
