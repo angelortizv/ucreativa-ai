{
 "cells": [
  {
   "cell_type": "markdown",
   "metadata": {},
   "source": [
    "# Redes neuronales - PyTorch\n"
   ]
  },
  {
   "cell_type": "markdown",
   "metadata": {},
   "source": [
    "Este código implementa, entrena y evalúa una red neuronal totalmente conectada (fully connected) para clasificar imágenes del conjunto de datos MNIST, que contiene imágenes de dígitos manuscritos. Se entrena el modelo utilizando PyTorch, se mide el rendimiento en términos de pérdida y precisión, y se guarda el modelo para su reutilización futura."
   ]
  },
  {
   "cell_type": "code",
   "execution_count": 1,
   "metadata": {},
   "outputs": [],
   "source": [
    "import torch\n",
    "# Base class for all neural network modules.\n",
    "import torch.nn as nn\n",
    "import torch.optim as optim\n",
    "from torchvision import datasets, transforms\n",
    "from torch.utils.data import DataLoader\n",
    "import matplotlib.pyplot as plt\n"
   ]
  },
  {
   "cell_type": "markdown",
   "metadata": {},
   "source": [
    "## Modelo"
   ]
  },
  {
   "cell_type": "markdown",
   "metadata": {},
   "source": [
    "Este bloque define una red neuronal totalmente conectada con tres capas densas (fc1, fc2, fc3) y funciones de activación ReLU entre ellas. Las imágenes de entrada se aplanan con nn.Flatten, lo que permite que las capas lineales procesen vectores de características. El modelo está diseñado para recibir imágenes de tamaño 28x28 y clasificar en 10 categorías (dígitos del 0 al 9)."
   ]
  },
  {
   "cell_type": "code",
   "execution_count": 2,
   "metadata": {},
   "outputs": [],
   "source": [
    "class FullyConnectedNN(nn.Module):\n",
    "    def __init__(self, input_size):\n",
    "        super(FullyConnectedNN, self).__init__()\n",
    "        #Defino las capas que voy a utilizar en mi modulo.\n",
    "        self.flatten = nn.Flatten()\n",
    "        self.fc1 = nn.Linear(input_size[0]*input_size[1], 128) # Input size: 28*28, Output Size: 128\n",
    "        self.relu = nn.ReLU() # Activation Function!!! \n",
    "        self.fc2 = nn.Linear(self.fc1.out_features, 64) #Input Size: 128, Output Size: 64\n",
    "        self.fc3 = nn.Linear(self.fc2.out_features, 10) #Input size: 64, Output Size: 10 (Clases de MNIST)\n",
    "\n",
    "    def forward(self, x):\n",
    "        x = self.flatten(x)\n",
    "        x = self.fc1(x)\n",
    "        x = self.relu(x)\n",
    "        x = self.fc2(x)\n",
    "        x = self.relu(x)\n",
    "        x = self.fc3(x)\n",
    "        return x"
   ]
  },
  {
   "cell_type": "markdown",
   "metadata": {},
   "source": [
    "## Hyper-parameters"
   ]
  },
  {
   "cell_type": "code",
   "execution_count": 3,
   "metadata": {},
   "outputs": [],
   "source": [
    "# Define training parameters\n",
    "batch_size = 64\n",
    "learning_rate = 0.001\n",
    "num_epochs = 10"
   ]
  },
  {
   "cell_type": "markdown",
   "metadata": {},
   "source": [
    "## Download dataset"
   ]
  },
  {
   "cell_type": "markdown",
   "metadata": {},
   "source": [
    "Aquí se descarga el conjunto de datos MNIST, transformando las imágenes en tensores normalizados a un rango de [-1, 1]. Los DataLoader preparan el conjunto de entrenamiento y prueba para que el modelo procese datos por lotes de tamaño batch_size."
   ]
  },
  {
   "cell_type": "code",
   "execution_count": 4,
   "metadata": {},
   "outputs": [
    {
     "name": "stdout",
     "output_type": "stream",
     "text": [
      "Downloading http://yann.lecun.com/exdb/mnist/train-images-idx3-ubyte.gz\n",
      "Failed to download (trying next):\n",
      "HTTP Error 404: Not Found\n",
      "\n",
      "Downloading https://ossci-datasets.s3.amazonaws.com/mnist/train-images-idx3-ubyte.gz\n",
      "Downloading https://ossci-datasets.s3.amazonaws.com/mnist/train-images-idx3-ubyte.gz to ./data\\MNIST\\raw\\train-images-idx3-ubyte.gz\n"
     ]
    },
    {
     "name": "stderr",
     "output_type": "stream",
     "text": [
      "100%|█████████████████████████████████████████████████████████████████████████████| 9.91M/9.91M [00:05<00:00, 1.67MB/s]\n"
     ]
    },
    {
     "name": "stdout",
     "output_type": "stream",
     "text": [
      "Extracting ./data\\MNIST\\raw\\train-images-idx3-ubyte.gz to ./data\\MNIST\\raw\n",
      "\n",
      "Downloading http://yann.lecun.com/exdb/mnist/train-labels-idx1-ubyte.gz\n",
      "Failed to download (trying next):\n",
      "HTTP Error 404: Not Found\n",
      "\n",
      "Downloading https://ossci-datasets.s3.amazonaws.com/mnist/train-labels-idx1-ubyte.gz\n",
      "Downloading https://ossci-datasets.s3.amazonaws.com/mnist/train-labels-idx1-ubyte.gz to ./data\\MNIST\\raw\\train-labels-idx1-ubyte.gz\n"
     ]
    },
    {
     "name": "stderr",
     "output_type": "stream",
     "text": [
      "100%|██████████████████████████████████████████████████████████████████████████████| 28.9k/28.9k [00:00<00:00, 359kB/s]\n"
     ]
    },
    {
     "name": "stdout",
     "output_type": "stream",
     "text": [
      "Extracting ./data\\MNIST\\raw\\train-labels-idx1-ubyte.gz to ./data\\MNIST\\raw\n",
      "\n",
      "Downloading http://yann.lecun.com/exdb/mnist/t10k-images-idx3-ubyte.gz\n",
      "Failed to download (trying next):\n",
      "HTTP Error 404: Not Found\n",
      "\n",
      "Downloading https://ossci-datasets.s3.amazonaws.com/mnist/t10k-images-idx3-ubyte.gz\n",
      "Downloading https://ossci-datasets.s3.amazonaws.com/mnist/t10k-images-idx3-ubyte.gz to ./data\\MNIST\\raw\\t10k-images-idx3-ubyte.gz\n"
     ]
    },
    {
     "name": "stderr",
     "output_type": "stream",
     "text": [
      "100%|█████████████████████████████████████████████████████████████████████████████| 1.65M/1.65M [00:00<00:00, 2.52MB/s]\n"
     ]
    },
    {
     "name": "stdout",
     "output_type": "stream",
     "text": [
      "Extracting ./data\\MNIST\\raw\\t10k-images-idx3-ubyte.gz to ./data\\MNIST\\raw\n",
      "\n",
      "Downloading http://yann.lecun.com/exdb/mnist/t10k-labels-idx1-ubyte.gz\n",
      "Failed to download (trying next):\n",
      "HTTP Error 404: Not Found\n",
      "\n",
      "Downloading https://ossci-datasets.s3.amazonaws.com/mnist/t10k-labels-idx1-ubyte.gz\n",
      "Downloading https://ossci-datasets.s3.amazonaws.com/mnist/t10k-labels-idx1-ubyte.gz to ./data\\MNIST\\raw\\t10k-labels-idx1-ubyte.gz\n"
     ]
    },
    {
     "name": "stderr",
     "output_type": "stream",
     "text": [
      "100%|█████████████████████████████████████████████████████████████████████████████| 4.54k/4.54k [00:00<00:00, 3.41MB/s]"
     ]
    },
    {
     "name": "stdout",
     "output_type": "stream",
     "text": [
      "Extracting ./data\\MNIST\\raw\\t10k-labels-idx1-ubyte.gz to ./data\\MNIST\\raw\n",
      "\n"
     ]
    },
    {
     "name": "stderr",
     "output_type": "stream",
     "text": [
      "\n"
     ]
    }
   ],
   "source": [
    "# Download and load the MNIST dataset\n",
    "transform = transforms.Compose([\n",
    "    transforms.ToTensor(),\n",
    "    transforms.Normalize((0.5,), (0.5,))\n",
    "])\n",
    "\n",
    "train_dataset = datasets.MNIST(root='./data', train=True, transform=transform, download=True)\n",
    "# Data loader. Combines a dataset and a sampler, and provides an iterable over\n",
    "# the given dataset.\n",
    "train_loader = DataLoader(dataset=train_dataset, batch_size=batch_size, shuffle=True)\n",
    "\n",
    "test_dataset = datasets.MNIST(root='./data', train=False, transform=transform, download=True)\n",
    "# Data loader. Combines a dataset and a sampler, and provides an iterable over\n",
    "# the given dataset.\n",
    "test_loader = DataLoader(dataset=test_dataset, batch_size=batch_size, shuffle=True)\n"
   ]
  },
  {
   "cell_type": "code",
   "execution_count": 5,
   "metadata": {},
   "outputs": [
    {
     "data": {
      "image/png": "[encoded data removed]",
      "text/plain": [
       "<Figure size 1000x500 with 5 Axes>"
      ]
     },
     "metadata": {},
     "output_type": "display_data"
    },
    {
     "data": {
      "image/png": "[encoded data removed]",
      "text/plain": [
       "<Figure size 1000x500 with 5 Axes>"
      ]
     },
     "metadata": {},
     "output_type": "display_data"
    }
   ],
   "source": [
    "def show_raw_images(data_loader, title=\"Dataset\"):\n",
    "    data_iter = iter(data_loader)\n",
    "    images, labels = next(data_iter)\n",
    "\n",
    "    fig, axes = plt.subplots(1, 5, figsize=(10, 5))\n",
    "    for i in range(5):\n",
    "        ax = axes[i]\n",
    "        ax.imshow(images[i].numpy().squeeze(), cmap='gray') \n",
    "        ax.set_title(f'Label: {labels[i].item()}')\n",
    "        ax.axis('off')  \n",
    "\n",
    "    plt.suptitle(title)\n",
    "    plt.show()\n",
    "\n",
    "show_raw_images(train_loader, \"Train Dataset\")\n",
    "show_raw_images(test_loader, \"Test Dataset\")"
   ]
  },
  {
   "cell_type": "markdown",
   "metadata": {},
   "source": [
    "## Initialize Model"
   ]
  },
  {
   "cell_type": "markdown",
   "metadata": {},
   "source": [
    "Se crea una instancia del modelo, definiendo:\n",
    "\n",
    "- criterion: Función de pérdida utilizada para medir el error (CrossEntropy para clasificación multiclase).\n",
    "- optimizer: Algoritmo de optimización (Adam) que ajusta los parámetros del modelo."
   ]
  },
  {
   "cell_type": "code",
   "execution_count": 6,
   "metadata": {},
   "outputs": [
    {
     "name": "stdout",
     "output_type": "stream",
     "text": [
      "Layer: fc1.weight | Size: torch.Size([128, 784]) | Values : tensor([[-0.0083,  0.0219,  0.0042,  ...,  0.0187, -0.0050,  0.0016],\n",
      "        [ 0.0291, -0.0350, -0.0180,  ...,  0.0164, -0.0265,  0.0206]],\n",
      "       grad_fn=<SliceBackward0>)\n",
      "Layer: fc1.bias | Size: torch.Size([128]) | Values : tensor([-0.0305, -0.0059], grad_fn=<SliceBackward0>)\n",
      "Layer: fc2.weight | Size: torch.Size([64, 128]) | Values : tensor([[ 7.8280e-02, -6.2282e-02, -4.9971e-02,  3.1402e-02,  3.2019e-02,\n",
      "         -4.6774e-02,  4.3701e-02,  2.3671e-02, -4.8764e-02,  8.1437e-02,\n",
      "          6.4326e-02,  7.6314e-02, -4.6079e-02, -3.1833e-02,  6.6895e-02,\n",
      "          2.7607e-02,  8.9559e-03,  5.7407e-02,  5.4070e-02, -3.5713e-02,\n",
      "         -5.9750e-02, -7.1763e-03, -1.6431e-02, -7.2929e-02, -4.6714e-03,\n",
      "          4.0419e-02,  6.9012e-02,  7.9497e-02,  1.7481e-02,  5.3847e-02,\n",
      "          7.7964e-03,  3.8565e-03, -8.5555e-02,  3.4108e-02,  5.3193e-02,\n",
      "          2.7552e-02, -3.5033e-02,  3.5301e-02, -8.6187e-02,  8.6658e-02,\n",
      "          1.2644e-02, -5.1932e-02, -5.3982e-02,  8.8524e-03,  2.4041e-02,\n",
      "          4.6065e-02,  4.2445e-02,  2.6089e-02, -3.6655e-02,  7.9682e-02,\n",
      "          1.9880e-02,  8.1724e-02, -8.0253e-02,  6.8759e-02,  7.5683e-02,\n",
      "         -5.4299e-02, -6.7025e-02, -5.5505e-02, -5.2352e-03, -8.6213e-02,\n",
      "          6.7086e-02, -6.8514e-02,  3.6227e-02,  1.4307e-02, -9.6287e-03,\n",
      "         -1.1001e-02,  6.6000e-02, -4.2792e-02, -8.0663e-02, -8.1890e-02,\n",
      "          4.0411e-02,  4.2196e-02, -7.9147e-02,  4.8231e-02, -4.2787e-02,\n",
      "          8.5159e-02,  6.7354e-02,  8.4311e-02,  6.6664e-02, -8.5868e-02,\n",
      "         -2.2442e-02,  2.9557e-02, -5.7088e-02,  6.6500e-02,  4.7979e-02,\n",
      "          6.1182e-02, -8.7883e-02, -6.2608e-02,  7.2238e-02,  1.5404e-02,\n",
      "          7.1859e-02, -3.3983e-02,  3.8569e-02, -1.7244e-02, -1.6423e-02,\n",
      "         -8.5641e-03,  2.4564e-02, -2.0564e-02,  5.7337e-02,  2.0703e-02,\n",
      "         -2.7734e-02, -5.2249e-02, -1.4065e-02, -1.9642e-02,  4.7298e-02,\n",
      "          5.1374e-03, -2.4378e-02,  4.6961e-02,  7.9938e-03, -2.4440e-02,\n",
      "         -5.5760e-02, -6.3943e-02, -6.1850e-02, -4.5689e-03,  5.8617e-02,\n",
      "         -3.8601e-02, -6.6186e-02,  4.3108e-02,  3.1440e-02, -3.2387e-02,\n",
      "         -2.8089e-02,  1.5546e-02,  3.5008e-03, -7.9538e-02, -8.6028e-03,\n",
      "          8.5930e-02, -8.4992e-02,  5.8763e-02],\n",
      "        [-1.9650e-03, -6.9187e-02, -4.1976e-02, -2.6178e-02,  6.2288e-02,\n",
      "         -3.1839e-02,  4.1154e-02, -4.0840e-02,  2.9319e-02,  5.0665e-02,\n",
      "         -2.2844e-02,  5.9414e-02, -7.8798e-02, -1.7947e-02,  2.2737e-02,\n",
      "          5.7233e-03,  5.8615e-02, -5.0627e-02, -7.4169e-02, -4.0525e-02,\n",
      "         -3.7405e-02, -8.1225e-02, -7.4268e-02, -3.1994e-02,  1.4433e-02,\n",
      "          8.5487e-02,  1.1307e-02, -7.1285e-02, -8.0167e-03, -4.5141e-03,\n",
      "         -7.2263e-02, -4.5483e-02,  6.5578e-02, -6.5672e-03,  5.9019e-02,\n",
      "         -1.8358e-02,  2.6053e-02, -7.9682e-02,  3.8140e-02,  5.9089e-02,\n",
      "         -8.6459e-03, -7.2790e-02, -2.7852e-02, -5.3358e-02, -4.3603e-02,\n",
      "          4.5811e-02,  5.5868e-03,  3.0673e-02,  6.4661e-02, -8.6609e-02,\n",
      "         -8.6232e-02, -1.0024e-02,  7.3466e-02, -2.2026e-03,  2.1485e-02,\n",
      "          4.7656e-02, -5.2608e-02, -3.9636e-02, -2.2660e-02, -4.2856e-03,\n",
      "         -7.8039e-02, -5.4563e-03, -2.1811e-02,  3.6687e-02,  5.8435e-02,\n",
      "          2.5942e-02,  1.9742e-02, -1.9023e-03,  6.0782e-02, -8.5043e-03,\n",
      "          7.6691e-02, -2.1101e-02,  4.8445e-02, -8.5502e-02,  1.8966e-02,\n",
      "         -1.5679e-02,  1.0770e-02, -4.8503e-03, -9.4974e-04, -2.2957e-02,\n",
      "          5.6430e-02,  6.1083e-02, -2.8660e-02, -4.2951e-02, -6.6160e-02,\n",
      "          5.2425e-02, -7.2791e-03, -1.2507e-02, -1.8977e-02,  7.7637e-02,\n",
      "         -1.3749e-02,  7.2934e-05, -1.0550e-02, -7.9842e-03,  1.9038e-02,\n",
      "          7.4014e-02,  6.4687e-02, -8.5770e-02, -7.7075e-02, -3.2885e-02,\n",
      "          5.5018e-02,  3.7272e-02, -6.2065e-02, -5.6043e-02,  4.4511e-02,\n",
      "         -2.0321e-02, -5.1420e-02, -4.1434e-02,  6.9136e-02, -5.2343e-02,\n",
      "         -3.4165e-02,  5.1636e-03, -9.6565e-03,  3.8586e-02, -8.7214e-02,\n",
      "          3.4346e-03, -1.6834e-02, -6.0101e-02,  7.3457e-02,  8.8128e-03,\n",
      "          2.4931e-02,  7.3142e-02, -1.8502e-03, -5.7941e-02,  8.2637e-02,\n",
      "         -3.7484e-02, -6.6952e-02,  2.6203e-02]], grad_fn=<SliceBackward0>)\n",
      "Layer: fc2.bias | Size: torch.Size([64]) | Values : tensor([-0.0391, -0.0742], grad_fn=<SliceBackward0>)\n",
      "Layer: fc3.weight | Size: torch.Size([10, 64]) | Values : tensor([[ 0.0629, -0.1039,  0.0413, -0.0985,  0.0623, -0.0718,  0.0508,  0.1079,\n",
      "         -0.0759, -0.0803, -0.1180, -0.0972, -0.0098,  0.1230,  0.0354, -0.0843,\n",
      "          0.0573,  0.0570,  0.0622, -0.0326,  0.0933, -0.0673,  0.0345,  0.1045,\n",
      "          0.0883, -0.0818,  0.1120,  0.0661,  0.1112, -0.0130, -0.0248,  0.0164,\n",
      "          0.0683,  0.0136, -0.0453,  0.0473,  0.0707, -0.1215, -0.0056, -0.0305,\n",
      "          0.0431,  0.0432, -0.0544,  0.0232, -0.0268,  0.0258,  0.0234, -0.1049,\n",
      "          0.0067,  0.0284,  0.0944, -0.1019,  0.1232,  0.0887, -0.0494,  0.0973,\n",
      "         -0.0418, -0.1197, -0.1075,  0.0754, -0.0945,  0.1054, -0.0941, -0.0764],\n",
      "        [-0.0328, -0.0999, -0.0042,  0.0872,  0.0190, -0.1177,  0.0448, -0.0899,\n",
      "          0.0070,  0.0959, -0.0431, -0.1185,  0.1033, -0.0070,  0.1203, -0.0708,\n",
      "         -0.0566, -0.0583, -0.0347,  0.0163, -0.0543,  0.1111, -0.0727,  0.1037,\n",
      "         -0.0584,  0.1105, -0.0466, -0.0870,  0.1170, -0.0383,  0.0583,  0.0883,\n",
      "          0.1001,  0.0619,  0.0622, -0.1107, -0.0045,  0.0250, -0.0826,  0.0853,\n",
      "          0.0901,  0.1161,  0.0586, -0.1101, -0.0628, -0.0957,  0.0892, -0.0480,\n",
      "         -0.0976, -0.0275,  0.0953, -0.0150,  0.1046,  0.0458,  0.0445,  0.0576,\n",
      "         -0.0386, -0.0535,  0.0518, -0.0970,  0.0252, -0.0585,  0.0678,  0.0952]],\n",
      "       grad_fn=<SliceBackward0>)\n",
      "Layer: fc3.bias | Size: torch.Size([10]) | Values : tensor([0.0281, 0.0662], grad_fn=<SliceBackward0>)\n"
     ]
    }
   ],
   "source": [
    "# Initialize the model, loss function, and optimizer\n",
    "model = FullyConnectedNN(input_size=(28, 28))\n",
    "\n",
    "# Print the parameters of the model\n",
    "for name, param in model.named_parameters():\n",
    "    print(f\"Layer: {name} | Size: {param.size()} | Values : {param[:2]}\")\n",
    "\n",
    "criterion = nn.CrossEntropyLoss()\n",
    "optimizer = optim.Adam(model.parameters(), lr=learning_rate)\n"
   ]
  },
  {
   "cell_type": "code",
   "execution_count": 7,
   "metadata": {},
   "outputs": [],
   "source": [
    "def imshow(img, label, predicted_label):\n",
    "    img = img / 2 + 0.5 \n",
    "    np_img = img.numpy()  \n",
    "    plt.imshow(np_img[0], cmap='gray')\n",
    "    plt.title(f'Label: {label}, Predicted: {predicted_label}')\n",
    "    plt.show()\n"
   ]
  },
  {
   "cell_type": "markdown",
   "metadata": {},
   "source": [
    "Este bucle entrena el modelo iterando por num_epochs. Se realiza un pase hacia adelante para calcular la pérdida, seguido de un retropropagado (loss.backward()) para ajustar los parámetros. Durante el entrenamiento, se imprime el progreso en intervalos regulares."
   ]
  },
  {
   "cell_type": "code",
   "execution_count": 8,
   "metadata": {},
   "outputs": [
    {
     "name": "stdout",
     "output_type": "stream",
     "text": [
      "Epoch [1/10], Step [1/938], Loss: 2.3044\n",
      "Epoch [1/10], Step [101/938], Loss: 0.4207\n",
      "Epoch [1/10], Step [201/938], Loss: 0.3141\n",
      "Epoch [1/10], Step [301/938], Loss: 0.2927\n",
      "Epoch [1/10], Step [401/938], Loss: 0.2981\n",
      "Epoch [1/10], Step [501/938], Loss: 0.3314\n",
      "Epoch [1/10], Step [601/938], Loss: 0.2379\n",
      "Epoch [1/10], Step [701/938], Loss: 0.3116\n",
      "Epoch [1/10], Step [801/938], Loss: 0.4767\n",
      "Epoch [1/10], Step [901/938], Loss: 0.1375\n",
      "Epoch [1/10], Train Loss: 0.4003, Test Loss: 2.3089, Accuracy: 7.71%\n",
      "Epoch [2/10], Step [1/938], Loss: 0.1121\n",
      "Epoch [2/10], Step [101/938], Loss: 0.0973\n",
      "Epoch [2/10], Step [201/938], Loss: 0.1677\n",
      "Epoch [2/10], Step [301/938], Loss: 0.1930\n",
      "Epoch [2/10], Step [401/938], Loss: 0.2268\n",
      "Epoch [2/10], Step [501/938], Loss: 0.2782\n",
      "Epoch [2/10], Step [601/938], Loss: 0.2792\n",
      "Epoch [2/10], Step [701/938], Loss: 0.0957\n",
      "Epoch [2/10], Step [801/938], Loss: 0.2621\n",
      "Epoch [2/10], Step [901/938], Loss: 0.2355\n",
      "Epoch [2/10], Train Loss: 0.1913, Test Loss: 0.2233, Accuracy: 93.45%\n",
      "Epoch [3/10], Step [1/938], Loss: 0.1256\n",
      "Epoch [3/10], Step [101/938], Loss: 0.2172\n",
      "Epoch [3/10], Step [201/938], Loss: 0.1114\n",
      "Epoch [3/10], Step [301/938], Loss: 0.1211\n",
      "Epoch [3/10], Step [401/938], Loss: 0.0770\n",
      "Epoch [3/10], Step [501/938], Loss: 0.1990\n",
      "Epoch [3/10], Step [601/938], Loss: 0.3814\n",
      "Epoch [3/10], Step [701/938], Loss: 0.2259\n",
      "Epoch [3/10], Step [801/938], Loss: 0.2298\n",
      "Epoch [3/10], Step [901/938], Loss: 0.1031\n",
      "Epoch [3/10], Train Loss: 0.1397, Test Loss: 0.1642, Accuracy: 95.04%\n",
      "Epoch [4/10], Step [1/938], Loss: 0.0439\n",
      "Epoch [4/10], Step [101/938], Loss: 0.0721\n",
      "Epoch [4/10], Step [201/938], Loss: 0.1786\n",
      "Epoch [4/10], Step [301/938], Loss: 0.1346\n",
      "Epoch [4/10], Step [401/938], Loss: 0.1748\n",
      "Epoch [4/10], Step [501/938], Loss: 0.0966\n",
      "Epoch [4/10], Step [601/938], Loss: 0.0283\n",
      "Epoch [4/10], Step [701/938], Loss: 0.0292\n",
      "Epoch [4/10], Step [801/938], Loss: 0.1551\n",
      "Epoch [4/10], Step [901/938], Loss: 0.1405\n",
      "Epoch [4/10], Train Loss: 0.1127, Test Loss: 0.1194, Accuracy: 96.29%\n",
      "Epoch [5/10], Step [1/938], Loss: 0.0698\n",
      "Epoch [5/10], Step [101/938], Loss: 0.0169\n",
      "Epoch [5/10], Step [201/938], Loss: 0.0535\n",
      "Epoch [5/10], Step [301/938], Loss: 0.0629\n",
      "Epoch [5/10], Step [401/938], Loss: 0.0518\n",
      "Epoch [5/10], Step [501/938], Loss: 0.0721\n",
      "Epoch [5/10], Step [601/938], Loss: 0.0609\n",
      "Epoch [5/10], Step [701/938], Loss: 0.0641\n",
      "Epoch [5/10], Step [801/938], Loss: 0.1023\n",
      "Epoch [5/10], Step [901/938], Loss: 0.0206\n",
      "Epoch [5/10], Train Loss: 0.0938, Test Loss: 0.1136, Accuracy: 96.66%\n",
      "Epoch [6/10], Step [1/938], Loss: 0.0169\n",
      "Epoch [6/10], Step [101/938], Loss: 0.0257\n",
      "Epoch [6/10], Step [201/938], Loss: 0.1658\n",
      "Epoch [6/10], Step [301/938], Loss: 0.1095\n",
      "Epoch [6/10], Step [401/938], Loss: 0.0352\n",
      "Epoch [6/10], Step [501/938], Loss: 0.0410\n",
      "Epoch [6/10], Step [601/938], Loss: 0.0606\n",
      "Epoch [6/10], Step [701/938], Loss: 0.1626\n",
      "Epoch [6/10], Step [801/938], Loss: 0.2055\n",
      "Epoch [6/10], Step [901/938], Loss: 0.0755\n",
      "Epoch [6/10], Train Loss: 0.0831, Test Loss: 0.1127, Accuracy: 96.61%\n",
      "Epoch [7/10], Step [1/938], Loss: 0.2016\n",
      "Epoch [7/10], Step [101/938], Loss: 0.0475\n",
      "Epoch [7/10], Step [201/938], Loss: 0.0480\n",
      "Epoch [7/10], Step [301/938], Loss: 0.0668\n",
      "Epoch [7/10], Step [401/938], Loss: 0.0287\n",
      "Epoch [7/10], Step [501/938], Loss: 0.0541\n",
      "Epoch [7/10], Step [601/938], Loss: 0.0903\n",
      "Epoch [7/10], Step [701/938], Loss: 0.0682\n",
      "Epoch [7/10], Step [801/938], Loss: 0.1320\n",
      "Epoch [7/10], Step [901/938], Loss: 0.0620\n",
      "Epoch [7/10], Train Loss: 0.0767, Test Loss: 0.1228, Accuracy: 96.08%\n",
      "Epoch [8/10], Step [1/938], Loss: 0.0537\n",
      "Epoch [8/10], Step [101/938], Loss: 0.0505\n",
      "Epoch [8/10], Step [201/938], Loss: 0.0839\n",
      "Epoch [8/10], Step [301/938], Loss: 0.0869\n",
      "Epoch [8/10], Step [401/938], Loss: 0.1202\n",
      "Epoch [8/10], Step [501/938], Loss: 0.1944\n",
      "Epoch [8/10], Step [601/938], Loss: 0.2567\n",
      "Epoch [8/10], Step [701/938], Loss: 0.0536\n",
      "Epoch [8/10], Step [801/938], Loss: 0.1000\n",
      "Epoch [8/10], Step [901/938], Loss: 0.4369\n",
      "Epoch [8/10], Train Loss: 0.0684, Test Loss: 0.1162, Accuracy: 96.52%\n",
      "Epoch [9/10], Step [1/938], Loss: 0.0189\n",
      "Epoch [9/10], Step [101/938], Loss: 0.1286\n",
      "Epoch [9/10], Step [201/938], Loss: 0.1121\n",
      "Epoch [9/10], Step [301/938], Loss: 0.0470\n",
      "Epoch [9/10], Step [401/938], Loss: 0.0621\n",
      "Epoch [9/10], Step [501/938], Loss: 0.0411\n",
      "Epoch [9/10], Step [601/938], Loss: 0.0800\n",
      "Epoch [9/10], Step [701/938], Loss: 0.0989\n",
      "Epoch [9/10], Step [801/938], Loss: 0.0386\n",
      "Epoch [9/10], Step [901/938], Loss: 0.0358\n",
      "Epoch [9/10], Train Loss: 0.0610, Test Loss: 0.0988, Accuracy: 97.00%\n",
      "Epoch [10/10], Step [1/938], Loss: 0.0716\n",
      "Epoch [10/10], Step [101/938], Loss: 0.0130\n",
      "Epoch [10/10], Step [201/938], Loss: 0.0215\n",
      "Epoch [10/10], Step [301/938], Loss: 0.0540\n",
      "Epoch [10/10], Step [401/938], Loss: 0.1599\n",
      "Epoch [10/10], Step [501/938], Loss: 0.0280\n",
      "Epoch [10/10], Step [601/938], Loss: 0.0078\n",
      "Epoch [10/10], Step [701/938], Loss: 0.1038\n",
      "Epoch [10/10], Step [801/938], Loss: 0.0373\n",
      "Epoch [10/10], Step [901/938], Loss: 0.0024\n",
      "Epoch [10/10], Train Loss: 0.0583, Test Loss: 0.1020, Accuracy: 96.76%\n"
     ]
    }
   ],
   "source": [
    "\n",
    "# Lists to store training and validation losses\n",
    "train_losses = []\n",
    "test_losses = []\n",
    "# Training loop\n",
    "for epoch in range(num_epochs):\n",
    "    model.eval()  \n",
    "    test_loss = 0.0\n",
    "    correct = 0\n",
    "    total = 0\n",
    "    # No es necesario calcular gradientes\n",
    "    with torch.no_grad():\n",
    "        for batch_idx, (data, targets) in enumerate(test_loader):\n",
    "            outputs = model(data)\n",
    "            loss = criterion(outputs, targets)\n",
    "            test_loss += loss.item()\n",
    "            \n",
    "            _, predicted = torch.max(outputs, 1)\n",
    "            total += targets.size(0)\n",
    "            correct += (predicted == targets).sum().item()\n",
    "\n",
    "    avg_test_loss = test_loss / len(test_loader)\n",
    "    accuracy = correct / total\n",
    "    test_losses.append(avg_test_loss)\n",
    "    model.train()  # Set model to training mode\n",
    "    train_loss = 0\n",
    "    for batch_idx, (data, targets) in enumerate(train_loader):\n",
    "        # Forward pass\n",
    "        outputs = model(data)\n",
    "        loss = criterion(outputs, targets)\n",
    "\n",
    "\n",
    "        #if batch_idx == 0: \n",
    "        #    predicted = torch.argmax(outputs, 1)\n",
    "        #    imshow(data[0], targets[0].item(), predicted[0].item())\n",
    "\n",
    "        # Coloca el gradiente del optimizador en zero\n",
    "        # Calcula las derivadas parciales (gradientes) de cada parametro a optimizar\n",
    "        # Finalmente hace la actualización de parametros.\n",
    "        optimizer.zero_grad()\n",
    "        loss.backward()\n",
    "        optimizer.step()\n",
    "        \n",
    "        train_loss += loss.item()\n",
    "        \n",
    "        if batch_idx % 100 == 0:\n",
    "            print(f'Epoch [{epoch+1}/{num_epochs}], Step [{batch_idx+1}/{len(train_loader)}], Loss: {loss.item():.4f}')\n",
    "    \n",
    "    train_losses.append(train_loss / len(train_loader))\n",
    "\n",
    "    print(f'Epoch [{epoch+1}/{num_epochs}], Train Loss: {train_losses[-1]:.4f}, Test Loss: {avg_test_loss:.4f}, Accuracy: {accuracy:.2%}')\n"
   ]
  },
  {
   "cell_type": "code",
   "execution_count": 9,
   "metadata": {},
   "outputs": [
    {
     "name": "stdout",
     "output_type": "stream",
     "text": [
      "train:  [0.4002706395672646, 0.19129432719756864, 0.13971347748430998, 0.11269019215580212, 0.09375718994232923, 0.08307248332909048, 0.07669180936327995, 0.06838051888293453, 0.06097069488508679, 0.05828319456880547]\n",
      "test:  [2.308854889717831, 0.22328415664897602, 0.1642372714248812, 0.11941940425212975, 0.11362934360506048, 0.11273250505802737, 0.12280773156719982, 0.11622616444613523, 0.0987577966427739, 0.1019596389708388]\n"
     ]
    }
   ],
   "source": [
    "print(\"train: \", train_losses)\n",
    "print(\"test: \", test_losses)"
   ]
  },
  {
   "cell_type": "code",
   "execution_count": 11,
   "metadata": {},
   "outputs": [
    {
     "data": {
      "image/png": "[encoded data removed]",
      "text/plain": [
       "<Figure size 1000x500 with 1 Axes>"
      ]
     },
     "metadata": {},
     "output_type": "display_data"
    },
    {
     "name": "stdout",
     "output_type": "stream",
     "text": [
      "Training finished!\n"
     ]
    }
   ],
   "source": [
    "plt.figure(figsize=(10, 5))\n",
    "plt.plot(range(1, num_epochs+1), train_losses, label='Train Loss')\n",
    "plt.plot(range(1, num_epochs+1), test_losses, label='Test Loss')\n",
    "plt.xlabel('Epoch')\n",
    "plt.ylabel('Loss')\n",
    "plt.title('Training and Validation Losses')\n",
    "plt.legend()\n",
    "plt.show()\n",
    "\n",
    "print('Training finished!')"
   ]
  },
  {
   "cell_type": "code",
   "execution_count": 12,
   "metadata": {},
   "outputs": [],
   "source": [
    "# Save model state\n",
    "torch.save({\n",
    "    'epoch': epoch,\n",
    "    'model_state_dict': model.state_dict(),\n",
    "    'optimizer_state_dict': optimizer.state_dict(),\n",
    "    'loss': loss,\n",
    "}, 'model_checkpoint.pth')"
   ]
  },
  {
   "cell_type": "markdown",
   "metadata": {},
   "source": [
    "Se evalúa el modelo en el conjunto de prueba sin calcular gradientes, midiendo la pérdida promedio (test_loss) y la precisión (accuracy), es decir, el porcentaje de predicciones correctas.\n",
    "\n"
   ]
  },
  {
   "cell_type": "code",
   "execution_count": 13,
   "metadata": {},
   "outputs": [
    {
     "name": "stdout",
     "output_type": "stream",
     "text": [
      "Accuracy: 0.0984\n"
     ]
    }
   ],
   "source": [
    "model = FullyConnectedNN(input_size=(28, 28))\n",
    "model.eval()  \n",
    "test_loss = 0.0\n",
    "correct = 0\n",
    "total = 0\n",
    "# No es necesario calcular gradientes\n",
    "with torch.no_grad():\n",
    "    for batch_idx, (data, targets) in enumerate(test_loader):\n",
    "        outputs = model(data)\n",
    "        loss = criterion(outputs, targets)\n",
    "        test_loss += loss.item()\n",
    "        \n",
    "        _, predicted = torch.max(outputs, 1)\n",
    "        total += targets.size(0)\n",
    "        correct += (predicted == targets).sum().item()\n",
    "\n",
    "avg_test_loss = test_loss / len(test_loader)\n",
    "accuracy = correct / total\n",
    "print(f\"Accuracy: {accuracy}\")"
   ]
  },
  {
   "cell_type": "markdown",
   "metadata": {},
   "source": [
    "Se guarda el estado del modelo, el optimizador y otros datos clave en un archivo para su reutilización."
   ]
  },
  {
   "cell_type": "code",
   "execution_count": 14,
   "metadata": {},
   "outputs": [
    {
     "name": "stderr",
     "output_type": "stream",
     "text": [
      "C:\\Users\\PC MASTER\\AppData\\Local\\Temp\\ipykernel_27032\\3239434223.py:2: FutureWarning: You are using `torch.load` with `weights_only=False` (the current default value), which uses the default pickle module implicitly. It is possible to construct malicious pickle data which will execute arbitrary code during unpickling (See https://github.com/pytorch/pytorch/blob/main/SECURITY.md#untrusted-models for more details). In a future release, the default value for `weights_only` will be flipped to `True`. This limits the functions that could be executed during unpickling. Arbitrary objects will no longer be allowed to be loaded via this mode unless they are explicitly allowlisted by the user via `torch.serialization.add_safe_globals`. We recommend you start setting `weights_only=True` for any use case where you don't have full control of the loaded file. Please open an issue on GitHub for any issues related to this experimental feature.\n",
      "  checkpoint = torch.load('model_checkpoint.pth')\n"
     ]
    }
   ],
   "source": [
    "# Load saved model parameters\n",
    "checkpoint = torch.load('model_checkpoint.pth')\n",
    "model.load_state_dict(checkpoint['model_state_dict'])\n",
    "optimizer.load_state_dict(checkpoint['optimizer_state_dict'])\n",
    "epoch = checkpoint['epoch']\n",
    "loss = checkpoint['loss']"
   ]
  },
  {
   "cell_type": "code",
   "execution_count": 15,
   "metadata": {},
   "outputs": [
    {
     "name": "stdout",
     "output_type": "stream",
     "text": [
      "Accuracy: 0.9725\n"
     ]
    }
   ],
   "source": [
    "model.eval()  \n",
    "test_loss = 0.0\n",
    "correct = 0\n",
    "total = 0\n",
    "# No es necesario calcular gradientes\n",
    "with torch.no_grad():\n",
    "    for batch_idx, (data, targets) in enumerate(test_loader):\n",
    "        outputs = model(data)\n",
    "        loss = criterion(outputs, targets)\n",
    "        test_loss += loss.item()\n",
    "        \n",
    "        _, predicted = torch.max(outputs, 1)\n",
    "        total += targets.size(0)\n",
    "        correct += (predicted == targets).sum().item()\n",
    "\n",
    "avg_test_loss = test_loss / len(test_loader)\n",
    "accuracy = correct / total\n",
    "print(f\"Accuracy: {accuracy}\")"
   ]
  },
  {
   "cell_type": "code",
   "execution_count": null,
   "metadata": {},
   "outputs": [],
   "source": []
  }
 ],
 "metadata": {
  "kernelspec": {
   "display_name": "Python 3 (ipykernel)",
   "language": "python",
   "name": "python3"
  },
  "language_info": {
   "codemirror_mode": {
    "name": "ipython",
    "version": 3
   },
   "file_extension": ".py",
   "mimetype": "text/x-python",
   "name": "python",
   "nbconvert_exporter": "python",
   "pygments_lexer": "ipython3",
   "version": "3.10.5"
  }
 },
 "nbformat": 4,
 "nbformat_minor": 4
}
