{
 "cells": [
  {
   "cell_type": "markdown",
   "id": "6de20412",
   "metadata": {},
   "source": [
    "# 🎓 Tutorial: wandb + Entrenamiento por Epochs\n",
    "\n",
    "Este notebook registra `accuracy` y `log loss` durante múltiples épocas (simuladas) para visualizar mejor el rendimiento del modelo usando [wandb](https://wandb.ai/)."
   ]
  },
  {
   "cell_type": "code",
   "execution_count": 1,
   "id": "f20158d6",
   "metadata": {},
   "outputs": [],
   "source": [
    "# 📦 Importar librerías\n",
    "import wandb\n",
    "import numpy as np\n",
    "from sklearn.datasets import load_iris\n",
    "from sklearn.linear_model import LogisticRegression\n",
    "from sklearn.metrics import accuracy_score, log_loss\n",
    "from sklearn.model_selection import train_test_split"
   ]
  },
  {
   "cell_type": "markdown",
   "id": "185e1bd6",
   "metadata": {},
   "source": [
    "## 🛠️ Configuración\n",
    "Configuración manual con `dict` plano."
   ]
  },
  {
   "cell_type": "code",
   "execution_count": 7,
   "id": "553d439b",
   "metadata": {},
   "outputs": [],
   "source": [
    "cfg = {\n",
    "    'project': {\n",
    "        'name': 'wandb_epochs_example',\n",
    "        'run_name': 'run_epochs_logistic'\n",
    "    },\n",
    "    'model': {\n",
    "        'C': 1.0,\n",
    "        'max_iter': 200\n",
    "    },\n",
    "    'train': {\n",
    "        'epochs': 100\n",
    "    }\n",
    "}"
   ]
  },
  {
   "cell_type": "markdown",
   "id": "2923363e",
   "metadata": {},
   "source": [
    "## 🚀 Inicializar wandb"
   ]
  },
  {
   "cell_type": "code",
   "execution_count": 8,
   "id": "87845e4c",
   "metadata": {},
   "outputs": [
    {
     "data": {
      "text/html": [
       "Tracking run with wandb version 0.18.5"
      ],
      "text/plain": [
       "<IPython.core.display.HTML object>"
      ]
     },
     "metadata": {},
     "output_type": "display_data"
    },
    {
     "data": {
      "text/html": [
       "Run data is saved locally in <code>C:\\Users\\PC MASTER\\desktop\\ucreativa-ai\\07-FUNDAMENTOS DE DEEP LEARNING Y APRENDIZAJE AUTOMÁTICO\\S02\\hydra_wandb\\wandb\\run-20250407_101642-ie2ggjot</code>"
      ],
      "text/plain": [
       "<IPython.core.display.HTML object>"
      ]
     },
     "metadata": {},
     "output_type": "display_data"
    },
    {
     "data": {
      "text/html": [
       "Syncing run <strong><a href='https://wandb.ai/angelortizv-tecnologico-de-costa-rica/wandb_epochs_example/runs/ie2ggjot' target=\"_blank\">run_epochs_logistic</a></strong> to <a href='https://wandb.ai/angelortizv-tecnologico-de-costa-rica/wandb_epochs_example' target=\"_blank\">Weights & Biases</a> (<a href='https://wandb.me/run' target=\"_blank\">docs</a>)<br/>"
      ],
      "text/plain": [
       "<IPython.core.display.HTML object>"
      ]
     },
     "metadata": {},
     "output_type": "display_data"
    },
    {
     "data": {
      "text/html": [
       " View project at <a href='https://wandb.ai/angelortizv-tecnologico-de-costa-rica/wandb_epochs_example' target=\"_blank\">https://wandb.ai/angelortizv-tecnologico-de-costa-rica/wandb_epochs_example</a>"
      ],
      "text/plain": [
       "<IPython.core.display.HTML object>"
      ]
     },
     "metadata": {},
     "output_type": "display_data"
    },
    {
     "data": {
      "text/html": [
       " View run at <a href='https://wandb.ai/angelortizv-tecnologico-de-costa-rica/wandb_epochs_example/runs/ie2ggjot' target=\"_blank\">https://wandb.ai/angelortizv-tecnologico-de-costa-rica/wandb_epochs_example/runs/ie2ggjot</a>"
      ],
      "text/plain": [
       "<IPython.core.display.HTML object>"
      ]
     },
     "metadata": {},
     "output_type": "display_data"
    },
    {
     "data": {
      "text/html": [
       "<button onClick=\"this.nextSibling.style.display='block';this.style.display='none';\">Display W&B run</button><iframe src='https://wandb.ai/angelortizv-tecnologico-de-costa-rica/wandb_epochs_example/runs/ie2ggjot?jupyter=true' style='border:none;width:100%;height:420px;display:none;'></iframe>"
      ],
      "text/plain": [
       "<wandb.sdk.wandb_run.Run at 0x19edd611db0>"
      ]
     },
     "execution_count": 8,
     "metadata": {},
     "output_type": "execute_result"
    }
   ],
   "source": [
    "wandb.init(\n",
    "    project=cfg['project']['name'],\n",
    "    name=cfg['project']['run_name'],\n",
    "    config=cfg\n",
    ")"
   ]
  },
  {
   "cell_type": "markdown",
   "id": "c6c29713",
   "metadata": {},
   "source": [
    "## 📊 Cargar datos"
   ]
  },
  {
   "cell_type": "code",
   "execution_count": 9,
   "id": "76c79cc0",
   "metadata": {},
   "outputs": [],
   "source": [
    "X, y = load_iris(return_X_y=True)\n",
    "X_train, X_test, y_train, y_test = train_test_split(X, y, test_size=0.2, random_state=42)"
   ]
  },
  {
   "cell_type": "markdown",
   "id": "8806ef73",
   "metadata": {},
   "source": [
    "## 🔁 Entrenar modelo simulando múltiples epochs\n",
    "\n",
    "El modelo se reentrena desde cero en cada epoch con ruido para simular un entrenamiento progresivo."
   ]
  },
  {
   "cell_type": "code",
   "execution_count": 10,
   "id": "a452a38f",
   "metadata": {},
   "outputs": [
    {
     "name": "stdout",
     "output_type": "stream",
     "text": [
      "Epoch 1: Accuracy = 1.0000, Log Loss = 0.1113\n",
      "Epoch 2: Accuracy = 1.0000, Log Loss = 0.1115\n",
      "Epoch 3: Accuracy = 1.0000, Log Loss = 0.1108\n",
      "Epoch 4: Accuracy = 1.0000, Log Loss = 0.1117\n",
      "Epoch 5: Accuracy = 1.0000, Log Loss = 0.1109\n",
      "Epoch 6: Accuracy = 1.0000, Log Loss = 0.1112\n",
      "Epoch 7: Accuracy = 1.0000, Log Loss = 0.1119\n",
      "Epoch 8: Accuracy = 1.0000, Log Loss = 0.1113\n",
      "Epoch 9: Accuracy = 1.0000, Log Loss = 0.1111\n",
      "Epoch 10: Accuracy = 1.0000, Log Loss = 0.1110\n",
      "Epoch 11: Accuracy = 1.0000, Log Loss = 0.1115\n",
      "Epoch 12: Accuracy = 1.0000, Log Loss = 0.1112\n",
      "Epoch 13: Accuracy = 1.0000, Log Loss = 0.1105\n",
      "Epoch 14: Accuracy = 1.0000, Log Loss = 0.1111\n",
      "Epoch 15: Accuracy = 1.0000, Log Loss = 0.1118\n",
      "Epoch 16: Accuracy = 1.0000, Log Loss = 0.1108\n",
      "Epoch 17: Accuracy = 1.0000, Log Loss = 0.1112\n",
      "Epoch 18: Accuracy = 1.0000, Log Loss = 0.1104\n",
      "Epoch 19: Accuracy = 1.0000, Log Loss = 0.1105\n",
      "Epoch 20: Accuracy = 1.0000, Log Loss = 0.1114\n",
      "Epoch 21: Accuracy = 1.0000, Log Loss = 0.1110\n",
      "Epoch 22: Accuracy = 1.0000, Log Loss = 0.1112\n",
      "Epoch 23: Accuracy = 1.0000, Log Loss = 0.1108\n",
      "Epoch 24: Accuracy = 1.0000, Log Loss = 0.1115\n",
      "Epoch 25: Accuracy = 1.0000, Log Loss = 0.1115\n",
      "Epoch 26: Accuracy = 1.0000, Log Loss = 0.1110\n",
      "Epoch 27: Accuracy = 1.0000, Log Loss = 0.1108\n",
      "Epoch 28: Accuracy = 1.0000, Log Loss = 0.1117\n",
      "Epoch 29: Accuracy = 1.0000, Log Loss = 0.1110\n",
      "Epoch 30: Accuracy = 1.0000, Log Loss = 0.1112\n",
      "Epoch 31: Accuracy = 1.0000, Log Loss = 0.1107\n",
      "Epoch 32: Accuracy = 1.0000, Log Loss = 0.1114\n",
      "Epoch 33: Accuracy = 1.0000, Log Loss = 0.1115\n",
      "Epoch 34: Accuracy = 1.0000, Log Loss = 0.1116\n",
      "Epoch 35: Accuracy = 1.0000, Log Loss = 0.1112\n",
      "Epoch 36: Accuracy = 1.0000, Log Loss = 0.1108\n",
      "Epoch 37: Accuracy = 1.0000, Log Loss = 0.1119\n",
      "Epoch 38: Accuracy = 1.0000, Log Loss = 0.1111\n",
      "Epoch 39: Accuracy = 1.0000, Log Loss = 0.1109\n",
      "Epoch 40: Accuracy = 1.0000, Log Loss = 0.1104\n",
      "Epoch 41: Accuracy = 1.0000, Log Loss = 0.1112\n",
      "Epoch 42: Accuracy = 1.0000, Log Loss = 0.1119\n",
      "Epoch 43: Accuracy = 1.0000, Log Loss = 0.1113\n",
      "Epoch 44: Accuracy = 1.0000, Log Loss = 0.1110\n",
      "Epoch 45: Accuracy = 1.0000, Log Loss = 0.1113\n",
      "Epoch 46: Accuracy = 1.0000, Log Loss = 0.1117\n",
      "Epoch 47: Accuracy = 1.0000, Log Loss = 0.1110\n",
      "Epoch 48: Accuracy = 1.0000, Log Loss = 0.1115\n",
      "Epoch 49: Accuracy = 1.0000, Log Loss = 0.1114\n",
      "Epoch 50: Accuracy = 1.0000, Log Loss = 0.1113\n",
      "Epoch 51: Accuracy = 1.0000, Log Loss = 0.1104\n",
      "Epoch 52: Accuracy = 1.0000, Log Loss = 0.1111\n",
      "Epoch 53: Accuracy = 1.0000, Log Loss = 0.1113\n",
      "Epoch 54: Accuracy = 1.0000, Log Loss = 0.1114\n",
      "Epoch 55: Accuracy = 1.0000, Log Loss = 0.1121\n",
      "Epoch 56: Accuracy = 1.0000, Log Loss = 0.1112\n",
      "Epoch 57: Accuracy = 1.0000, Log Loss = 0.1117\n",
      "Epoch 58: Accuracy = 1.0000, Log Loss = 0.1118\n",
      "Epoch 59: Accuracy = 1.0000, Log Loss = 0.1106\n",
      "Epoch 60: Accuracy = 1.0000, Log Loss = 0.1104\n",
      "Epoch 61: Accuracy = 1.0000, Log Loss = 0.1112\n",
      "Epoch 62: Accuracy = 1.0000, Log Loss = 0.1118\n",
      "Epoch 63: Accuracy = 1.0000, Log Loss = 0.1114\n",
      "Epoch 64: Accuracy = 1.0000, Log Loss = 0.1118\n",
      "Epoch 65: Accuracy = 1.0000, Log Loss = 0.1116\n",
      "Epoch 66: Accuracy = 1.0000, Log Loss = 0.1107\n",
      "Epoch 67: Accuracy = 1.0000, Log Loss = 0.1109\n",
      "Epoch 68: Accuracy = 1.0000, Log Loss = 0.1112\n",
      "Epoch 69: Accuracy = 1.0000, Log Loss = 0.1109\n",
      "Epoch 70: Accuracy = 1.0000, Log Loss = 0.1113\n",
      "Epoch 71: Accuracy = 1.0000, Log Loss = 0.1114\n",
      "Epoch 72: Accuracy = 1.0000, Log Loss = 0.1111\n",
      "Epoch 73: Accuracy = 1.0000, Log Loss = 0.1121\n",
      "Epoch 74: Accuracy = 1.0000, Log Loss = 0.1121\n",
      "Epoch 75: Accuracy = 1.0000, Log Loss = 0.1109\n",
      "Epoch 76: Accuracy = 1.0000, Log Loss = 0.1116\n",
      "Epoch 77: Accuracy = 1.0000, Log Loss = 0.1113\n",
      "Epoch 78: Accuracy = 1.0000, Log Loss = 0.1110\n",
      "Epoch 79: Accuracy = 1.0000, Log Loss = 0.1110\n",
      "Epoch 80: Accuracy = 1.0000, Log Loss = 0.1117\n",
      "Epoch 81: Accuracy = 1.0000, Log Loss = 0.1116\n",
      "Epoch 82: Accuracy = 1.0000, Log Loss = 0.1113\n",
      "Epoch 83: Accuracy = 1.0000, Log Loss = 0.1112\n",
      "Epoch 84: Accuracy = 1.0000, Log Loss = 0.1117\n",
      "Epoch 85: Accuracy = 1.0000, Log Loss = 0.1109\n",
      "Epoch 86: Accuracy = 1.0000, Log Loss = 0.1109\n",
      "Epoch 87: Accuracy = 1.0000, Log Loss = 0.1112\n",
      "Epoch 88: Accuracy = 1.0000, Log Loss = 0.1108\n",
      "Epoch 89: Accuracy = 1.0000, Log Loss = 0.1115\n",
      "Epoch 90: Accuracy = 1.0000, Log Loss = 0.1118\n",
      "Epoch 91: Accuracy = 1.0000, Log Loss = 0.1113\n",
      "Epoch 92: Accuracy = 1.0000, Log Loss = 0.1111\n",
      "Epoch 93: Accuracy = 1.0000, Log Loss = 0.1118\n",
      "Epoch 94: Accuracy = 1.0000, Log Loss = 0.1108\n",
      "Epoch 95: Accuracy = 1.0000, Log Loss = 0.1121\n",
      "Epoch 96: Accuracy = 1.0000, Log Loss = 0.1116\n",
      "Epoch 97: Accuracy = 1.0000, Log Loss = 0.1115\n",
      "Epoch 98: Accuracy = 1.0000, Log Loss = 0.1112\n",
      "Epoch 99: Accuracy = 1.0000, Log Loss = 0.1112\n",
      "Epoch 100: Accuracy = 1.0000, Log Loss = 0.1117\n"
     ]
    }
   ],
   "source": [
    "# Entrenamiento por \"epochs\" (simulado)\n",
    "for epoch in range(cfg['train']['epochs']):\n",
    "    # Simular cambio entrenando con ruido en los datos\n",
    "    noise = np.random.normal(0, 0.01, X_train.shape)\n",
    "    X_train_noisy = X_train + noise\n",
    "\n",
    "    model = LogisticRegression(C=cfg['model']['C'], max_iter=cfg['model']['max_iter'])\n",
    "    model.fit(X_train_noisy, y_train)\n",
    "\n",
    "    y_pred = model.predict(X_test)\n",
    "    y_proba = model.predict_proba(X_test)\n",
    "\n",
    "    acc = accuracy_score(y_test, y_pred)\n",
    "    loss = log_loss(y_test, y_proba)\n",
    "\n",
    "    print(f\"Epoch {epoch+1}: Accuracy = {acc:.4f}, Log Loss = {loss:.4f}\")\n",
    "\n",
    "    # Loggear a wandb\n",
    "    wandb.log({\"epoch\": epoch + 1, \"accuracy\": acc, \"log_loss\": loss})"
   ]
  },
  {
   "cell_type": "code",
   "execution_count": 11,
   "id": "992eeab9",
   "metadata": {},
   "outputs": [
    {
     "data": {
      "text/html": [
       "<style>\n",
       "    table.wandb td:nth-child(1) { padding: 0 10px; text-align: left ; width: auto;} td:nth-child(2) {text-align: left ; width: 100%}\n",
       "    .wandb-row { display: flex; flex-direction: row; flex-wrap: wrap; justify-content: flex-start; width: 100% }\n",
       "    .wandb-col { display: flex; flex-direction: column; flex-basis: 100%; flex: 1; padding: 10px; }\n",
       "    </style>\n",
       "<div class=\"wandb-row\"><div class=\"wandb-col\"><h3>Run history:</h3><br/><table class=\"wandb\"><tr><td>accuracy</td><td>▁▁▁▁▁▁▁▁▁▁▁▁▁▁▁▁▁▁▁▁▁▁▁▁▁▁▁▁▁▁▁▁▁▁▁▁▁▁▁▁</td></tr><tr><td>epoch</td><td>▁▁▂▂▂▂▂▂▂▃▃▃▃▃▃▄▄▄▄▄▅▅▅▅▅▆▆▆▆▇▇▇▇▇▇█████</td></tr><tr><td>log_loss</td><td>▅▅▃▆▄▁▄▆▂▅▅▃▃▄▄▄▇▁▇▅▅▄▅▆▂▂▃▅█▃▃▄▆▆▃▃▇▄▅▄</td></tr></table><br/></div><div class=\"wandb-col\"><h3>Run summary:</h3><br/><table class=\"wandb\"><tr><td>accuracy</td><td>1</td></tr><tr><td>epoch</td><td>100</td></tr><tr><td>log_loss</td><td>0.11169</td></tr></table><br/></div></div>"
      ],
      "text/plain": [
       "<IPython.core.display.HTML object>"
      ]
     },
     "metadata": {},
     "output_type": "display_data"
    },
    {
     "data": {
      "text/html": [
       " View run <strong style=\"color:#cdcd00\">run_epochs_logistic</strong> at: <a href='https://wandb.ai/angelortizv-tecnologico-de-costa-rica/wandb_epochs_example/runs/ie2ggjot' target=\"_blank\">https://wandb.ai/angelortizv-tecnologico-de-costa-rica/wandb_epochs_example/runs/ie2ggjot</a><br/> View project at: <a href='https://wandb.ai/angelortizv-tecnologico-de-costa-rica/wandb_epochs_example' target=\"_blank\">https://wandb.ai/angelortizv-tecnologico-de-costa-rica/wandb_epochs_example</a><br/>Synced 5 W&B file(s), 0 media file(s), 0 artifact file(s) and 0 other file(s)"
      ],
      "text/plain": [
       "<IPython.core.display.HTML object>"
      ]
     },
     "metadata": {},
     "output_type": "display_data"
    },
    {
     "data": {
      "text/html": [
       "Find logs at: <code>.\\wandb\\run-20250407_101642-ie2ggjot\\logs</code>"
      ],
      "text/plain": [
       "<IPython.core.display.HTML object>"
      ]
     },
     "metadata": {},
     "output_type": "display_data"
    }
   ],
   "source": [
    "# Finalizar wandb\n",
    "wandb.finish()"
   ]
  },
  {
   "cell_type": "code",
   "execution_count": null,
   "id": "3e9fdb86-2583-45ff-96af-e300c2509ffa",
   "metadata": {},
   "outputs": [],
   "source": []
  }
 ],
 "metadata": {
  "kernelspec": {
   "display_name": "Python 3 (ipykernel)",
   "language": "python",
   "name": "python3"
  },
  "language_info": {
   "codemirror_mode": {
    "name": "ipython",
    "version": 3
   },
   "file_extension": ".py",
   "mimetype": "text/x-python",
   "name": "python",
   "nbconvert_exporter": "python",
   "pygments_lexer": "ipython3",
   "version": "3.10.5"
  }
 },
 "nbformat": 4,
 "nbformat_minor": 5
}
