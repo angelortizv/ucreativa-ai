{
 "cells": [
  {
   "cell_type": "code",
   "execution_count": 1,
   "id": "c9ed66ae",
   "metadata": {},
   "outputs": [],
   "source": [
    "# Paso 0: Instalación (si estás en un entorno local)\n",
    "# !pip install torch torchvision"
   ]
  },
  {
   "cell_type": "markdown",
   "id": "150d8fcd",
   "metadata": {},
   "source": [
    "### 📌 Paso 1: Importar PyTorch\n",
    "Importamos los módulos principales de PyTorch. `torch` para tensores y cálculo, `nn` para redes neuronales, `optim` para los optimizadores y `datasets`/`transforms` para manejar datos de entrenamiento."
   ]
  },
  {
   "cell_type": "code",
   "execution_count": 2,
   "id": "abfdea0d",
   "metadata": {},
   "outputs": [],
   "source": [
    "import torch\n",
    "import torch.nn as nn\n",
    "import torch.optim as optim\n",
    "from torchvision import datasets, transforms"
   ]
  },
  {
   "cell_type": "markdown",
   "id": "25b23ceb",
   "metadata": {},
   "source": [
    "### 🔍 Paso 2: Tensores — La base de PyTorch\n",
    "Los tensores son como arrays de NumPy, pero pueden ejecutarse en GPU. Aquí mostramos cómo crearlos, realizar operaciones, y cambiar su tipo."
   ]
  },
  {
   "cell_type": "code",
   "execution_count": 3,
   "id": "476d1b13",
   "metadata": {},
   "outputs": [
    {
     "name": "stdout",
     "output_type": "stream",
     "text": [
      "Tensor a: tensor([1, 2, 3])\n",
      "Tensor b: tensor([[1., 2.],\n",
      "        [3., 4.]])\n",
      "Suma: tensor([4, 4, 4])\n",
      "Multiplicación: tensor([[2., 4.],\n",
      "        [6., 8.]])\n",
      "Convertir a float: tensor([1., 2., 3.])\n"
     ]
    }
   ],
   "source": [
    "a = torch.tensor([1, 2, 3])\n",
    "b = torch.tensor([[1.0, 2.0], [3.0, 4.0]])\n",
    "print(\"Tensor a:\", a)\n",
    "print(\"Tensor b:\", b)\n",
    "print(\"Suma:\", a + torch.tensor([3, 2, 1]))\n",
    "print(\"Multiplicación:\", b * 2)\n",
    "print(\"Convertir a float:\", a.float())"
   ]
  },
  {
   "cell_type": "markdown",
   "id": "40897811",
   "metadata": {},
   "source": [
    "### 🧮 Paso 3: Requiere gradiente para entrenamiento\n",
    "Si un tensor tiene `requires_grad=True`, PyTorch calculará automáticamente los gradientes necesarios para entrenamiento de modelos."
   ]
  },
  {
   "cell_type": "code",
   "execution_count": 4,
   "id": "db057b3c",
   "metadata": {},
   "outputs": [
    {
     "name": "stdout",
     "output_type": "stream",
     "text": [
      "Gradiente dy/dx: tensor(7.)\n"
     ]
    }
   ],
   "source": [
    "x = torch.tensor(2.0, requires_grad=True)\n",
    "y = x**2 + 3*x + 1\n",
    "y.backward()\n",
    "print(\"Gradiente dy/dx:\", x.grad)"
   ]
  },
  {
   "cell_type": "markdown",
   "id": "44c44878",
   "metadata": {},
   "source": [
    "### 📚 Paso 4: Dataset y DataLoader\n",
    "Se usa `datasets.MNIST` para obtener datos de imágenes escritas a mano, y `DataLoader` para cargar los datos en lotes."
   ]
  },
  {
   "cell_type": "code",
   "execution_count": 5,
   "id": "05ffc8ff",
   "metadata": {},
   "outputs": [
    {
     "name": "stdout",
     "output_type": "stream",
     "text": [
      "Downloading http://yann.lecun.com/exdb/mnist/train-images-idx3-ubyte.gz\n",
      "Failed to download (trying next):\n",
      "HTTP Error 404: Not Found\n",
      "\n",
      "Downloading https://ossci-datasets.s3.amazonaws.com/mnist/train-images-idx3-ubyte.gz\n",
      "Downloading https://ossci-datasets.s3.amazonaws.com/mnist/train-images-idx3-ubyte.gz to ./data\\MNIST\\raw\\train-images-idx3-ubyte.gz\n"
     ]
    },
    {
     "name": "stderr",
     "output_type": "stream",
     "text": [
      "100%|██████████████████████████████████████████████████████████████████████████████| 9.91M/9.91M [00:12<00:00, 813kB/s]\n"
     ]
    },
    {
     "name": "stdout",
     "output_type": "stream",
     "text": [
      "Extracting ./data\\MNIST\\raw\\train-images-idx3-ubyte.gz to ./data\\MNIST\\raw\n",
      "\n",
      "Downloading http://yann.lecun.com/exdb/mnist/train-labels-idx1-ubyte.gz\n",
      "Failed to download (trying next):\n",
      "HTTP Error 404: Not Found\n",
      "\n",
      "Downloading https://ossci-datasets.s3.amazonaws.com/mnist/train-labels-idx1-ubyte.gz\n",
      "Downloading https://ossci-datasets.s3.amazonaws.com/mnist/train-labels-idx1-ubyte.gz to ./data\\MNIST\\raw\\train-labels-idx1-ubyte.gz\n"
     ]
    },
    {
     "name": "stderr",
     "output_type": "stream",
     "text": [
      "100%|██████████████████████████████████████████████████████████████████████████████| 28.9k/28.9k [00:00<00:00, 356kB/s]\n"
     ]
    },
    {
     "name": "stdout",
     "output_type": "stream",
     "text": [
      "Extracting ./data\\MNIST\\raw\\train-labels-idx1-ubyte.gz to ./data\\MNIST\\raw\n",
      "\n",
      "Downloading http://yann.lecun.com/exdb/mnist/t10k-images-idx3-ubyte.gz\n",
      "Failed to download (trying next):\n",
      "HTTP Error 404: Not Found\n",
      "\n",
      "Downloading https://ossci-datasets.s3.amazonaws.com/mnist/t10k-images-idx3-ubyte.gz\n",
      "Downloading https://ossci-datasets.s3.amazonaws.com/mnist/t10k-images-idx3-ubyte.gz to ./data\\MNIST\\raw\\t10k-images-idx3-ubyte.gz\n"
     ]
    },
    {
     "name": "stderr",
     "output_type": "stream",
     "text": [
      "100%|█████████████████████████████████████████████████████████████████████████████| 1.65M/1.65M [00:00<00:00, 2.51MB/s]\n"
     ]
    },
    {
     "name": "stdout",
     "output_type": "stream",
     "text": [
      "Extracting ./data\\MNIST\\raw\\t10k-images-idx3-ubyte.gz to ./data\\MNIST\\raw\n",
      "\n",
      "Downloading http://yann.lecun.com/exdb/mnist/t10k-labels-idx1-ubyte.gz\n",
      "Failed to download (trying next):\n",
      "HTTP Error 404: Not Found\n",
      "\n",
      "Downloading https://ossci-datasets.s3.amazonaws.com/mnist/t10k-labels-idx1-ubyte.gz\n",
      "Downloading https://ossci-datasets.s3.amazonaws.com/mnist/t10k-labels-idx1-ubyte.gz to ./data\\MNIST\\raw\\t10k-labels-idx1-ubyte.gz\n"
     ]
    },
    {
     "name": "stderr",
     "output_type": "stream",
     "text": [
      "100%|█████████████████████████████████████████████████████████████████████████████| 4.54k/4.54k [00:00<00:00, 4.52MB/s]"
     ]
    },
    {
     "name": "stdout",
     "output_type": "stream",
     "text": [
      "Extracting ./data\\MNIST\\raw\\t10k-labels-idx1-ubyte.gz to ./data\\MNIST\\raw\n",
      "\n",
      "Shape del lote: torch.Size([64, 1, 28, 28])\n"
     ]
    },
    {
     "name": "stderr",
     "output_type": "stream",
     "text": [
      "\n"
     ]
    }
   ],
   "source": [
    "transform = transforms.ToTensor()\n",
    "train_dataset = datasets.MNIST(root='./data', train=True, download=True, transform=transform)\n",
    "train_loader = torch.utils.data.DataLoader(dataset=train_dataset, batch_size=64, shuffle=True)\n",
    "examples = enumerate(train_loader)\n",
    "batch_idx, (example_data, example_targets) = next(examples)\n",
    "print(\"Shape del lote:\", example_data.shape)"
   ]
  },
  {
   "cell_type": "markdown",
   "id": "490940f0",
   "metadata": {},
   "source": [
    "### 🧠 Paso 5: Definir un modelo simple (MLP)\n",
    "Creamos una red neuronal simple con una capa oculta. Usamos `nn.Module` como base."
   ]
  },
  {
   "cell_type": "code",
   "execution_count": 6,
   "id": "6137d554",
   "metadata": {},
   "outputs": [],
   "source": [
    "class NeuralNet(nn.Module):\n",
    "    def __init__(self):\n",
    "        super(NeuralNet, self).__init__()\n",
    "        self.fc1 = nn.Linear(28*28, 128)\n",
    "        self.relu = nn.ReLU()\n",
    "        self.fc2 = nn.Linear(128, 10)\n",
    "\n",
    "    def forward(self, x):\n",
    "        x = x.view(-1, 28*28)  # Aplanar\n",
    "        x = self.relu(self.fc1(x))\n",
    "        x = self.fc2(x)\n",
    "        return x\n",
    "\n",
    "model = NeuralNet()"
   ]
  },
  {
   "cell_type": "markdown",
   "id": "8425c2a8",
   "metadata": {},
   "source": [
    "### ⚙️ Paso 6: Función de pérdida y optimizador\n",
    "La función de pérdida mide cuán mal está el modelo. El optimizador actualiza los pesos."
   ]
  },
  {
   "cell_type": "code",
   "execution_count": 7,
   "id": "e27891b0",
   "metadata": {},
   "outputs": [],
   "source": [
    "criterion = nn.CrossEntropyLoss()\n",
    "optimizer = optim.Adam(model.parameters(), lr=0.001)"
   ]
  },
  {
   "cell_type": "markdown",
   "id": "c968e105",
   "metadata": {},
   "source": [
    "### 🔁 Paso 7: Entrenar el modelo\n",
    "Por cada época, el modelo hace predicciones, calcula el error, propaga el gradiente hacia atrás y actualiza los pesos."
   ]
  },
  {
   "cell_type": "code",
   "execution_count": 8,
   "id": "a461f808",
   "metadata": {},
   "outputs": [
    {
     "name": "stdout",
     "output_type": "stream",
     "text": [
      "Epoch [1/1], Loss: 0.3153\n"
     ]
    }
   ],
   "source": [
    "num_epochs = 1\n",
    "for epoch in range(num_epochs):\n",
    "    for images, labels in train_loader:\n",
    "        outputs = model(images)\n",
    "        loss = criterion(outputs, labels)\n",
    "        optimizer.zero_grad()\n",
    "        loss.backward()\n",
    "        optimizer.step()\n",
    "    print(f\"Epoch [{epoch+1}/{num_epochs}], Loss: {loss.item():.4f}\")"
   ]
  },
  {
   "cell_type": "markdown",
   "id": "4cb3f23d",
   "metadata": {},
   "source": [
    "### 🧪 Paso 8: Evaluar el modelo\n",
    "Se evalúa el modelo sin calcular gradientes, para medir su precisión."
   ]
  },
  {
   "cell_type": "code",
   "execution_count": 9,
   "id": "383777f0",
   "metadata": {},
   "outputs": [
    {
     "name": "stdout",
     "output_type": "stream",
     "text": [
      "Precisión del modelo: 95.01%\n"
     ]
    }
   ],
   "source": [
    "correct = 0\n",
    "total = 0\n",
    "with torch.no_grad():\n",
    "    for images, labels in train_loader:\n",
    "        outputs = model(images)\n",
    "        _, predicted = torch.max(outputs.data, 1)\n",
    "        total += labels.size(0)\n",
    "        correct += (predicted == labels).sum().item()\n",
    "print(f'Precisión del modelo: {100 * correct / total:.2f}%')"
   ]
  },
  {
   "cell_type": "markdown",
   "id": "3bc8f84e",
   "metadata": {},
   "source": [
    "### 💾 Paso 9: Guardar y cargar el modelo\n",
    "Para usar el modelo en el futuro, lo guardamos y mostramos cómo cargarlo."
   ]
  },
  {
   "cell_type": "code",
   "execution_count": 10,
   "id": "f5d7e3f9",
   "metadata": {},
   "outputs": [
    {
     "name": "stderr",
     "output_type": "stream",
     "text": [
      "C:\\Users\\PC MASTER\\AppData\\Local\\Temp\\ipykernel_25428\\249456814.py:3: FutureWarning: You are using `torch.load` with `weights_only=False` (the current default value), which uses the default pickle module implicitly. It is possible to construct malicious pickle data which will execute arbitrary code during unpickling (See https://github.com/pytorch/pytorch/blob/main/SECURITY.md#untrusted-models for more details). In a future release, the default value for `weights_only` will be flipped to `True`. This limits the functions that could be executed during unpickling. Arbitrary objects will no longer be allowed to be loaded via this mode unless they are explicitly allowlisted by the user via `torch.serialization.add_safe_globals`. We recommend you start setting `weights_only=True` for any use case where you don't have full control of the loaded file. Please open an issue on GitHub for any issues related to this experimental feature.\n",
      "  modelo_cargado.load_state_dict(torch.load(\"modelo_mnist.pth\"))\n"
     ]
    },
    {
     "data": {
      "text/plain": [
       "NeuralNet(\n",
       "  (fc1): Linear(in_features=784, out_features=128, bias=True)\n",
       "  (relu): ReLU()\n",
       "  (fc2): Linear(in_features=128, out_features=10, bias=True)\n",
       ")"
      ]
     },
     "execution_count": 10,
     "metadata": {},
     "output_type": "execute_result"
    }
   ],
   "source": [
    "torch.save(model.state_dict(), \"modelo_mnist.pth\")\n",
    "modelo_cargado = NeuralNet()\n",
    "modelo_cargado.load_state_dict(torch.load(\"modelo_mnist.pth\"))\n",
    "modelo_cargado.eval()"
   ]
  },
  {
   "cell_type": "code",
   "execution_count": null,
   "id": "4f3a25da-e5e1-4ca5-ad0d-fc2a15c74c3a",
   "metadata": {},
   "outputs": [],
   "source": []
  }
 ],
 "metadata": {
  "kernelspec": {
   "display_name": "Python 3 (ipykernel)",
   "language": "python",
   "name": "python3"
  },
  "language_info": {
   "codemirror_mode": {
    "name": "ipython",
    "version": 3
   },
   "file_extension": ".py",
   "mimetype": "text/x-python",
   "name": "python",
   "nbconvert_exporter": "python",
   "pygments_lexer": "ipython3",
   "version": "3.10.5"
  }
 },
 "nbformat": 4,
 "nbformat_minor": 5
}
